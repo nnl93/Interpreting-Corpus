{
 "cells": [
  {
   "cell_type": "markdown",
   "metadata": {},
   "source": [
    "I'm plotting the bar charts of bigrams of a keyword, which means the words that are most likely to co-occur with this keyword. The words are called collocates and I have their likeklihood ratio. These are compared across three subcorpora, OC (original Chinese), IE (interpreted English), and NE (native English). I have a perfect set of codes that give me exactly the plot I need, but it works only with IE, and gives weird x and y axes with OC and NE.  "
   ]
  },
  {
   "cell_type": "code",
   "execution_count": 1,
   "metadata": {},
   "outputs": [
    {
     "data": {
      "text/html": [
       "<div>\n",
       "<style scoped>\n",
       "    .dataframe tbody tr th:only-of-type {\n",
       "        vertical-align: middle;\n",
       "    }\n",
       "\n",
       "    .dataframe tbody tr th {\n",
       "        vertical-align: top;\n",
       "    }\n",
       "\n",
       "    .dataframe thead th {\n",
       "        text-align: right;\n",
       "    }\n",
       "</style>\n",
       "<table border=\"1\" class=\"dataframe\">\n",
       "  <thead>\n",
       "    <tr style=\"text-align: right;\">\n",
       "      <th></th>\n",
       "      <th>Collocate</th>\n",
       "      <th>Likelihood ratio</th>\n",
       "    </tr>\n",
       "  </thead>\n",
       "  <tbody>\n",
       "    <tr>\n",
       "      <th>0</th>\n",
       "      <td>will</td>\n",
       "      <td>370.091488</td>\n",
       "    </tr>\n",
       "    <tr>\n",
       "      <th>1</th>\n",
       "      <td>need</td>\n",
       "      <td>364.965062</td>\n",
       "    </tr>\n",
       "    <tr>\n",
       "      <th>2</th>\n",
       "      <td>have</td>\n",
       "      <td>205.393920</td>\n",
       "    </tr>\n",
       "    <tr>\n",
       "      <th>3</th>\n",
       "      <td>should</td>\n",
       "      <td>120.703426</td>\n",
       "    </tr>\n",
       "    <tr>\n",
       "      <th>4</th>\n",
       "      <td>must</td>\n",
       "      <td>114.352169</td>\n",
       "    </tr>\n",
       "    <tr>\n",
       "      <th>5</th>\n",
       "      <td>hope</td>\n",
       "      <td>79.113054</td>\n",
       "    </tr>\n",
       "    <tr>\n",
       "      <th>6</th>\n",
       "      <td>can</td>\n",
       "      <td>77.336718</td>\n",
       "    </tr>\n",
       "    <tr>\n",
       "      <th>7</th>\n",
       "      <td>go</td>\n",
       "      <td>65.070969</td>\n",
       "    </tr>\n",
       "    <tr>\n",
       "      <th>8</th>\n",
       "      <td>also</td>\n",
       "      <td>61.346181</td>\n",
       "    </tr>\n",
       "    <tr>\n",
       "      <th>9</th>\n",
       "      <td>,</td>\n",
       "      <td>58.310639</td>\n",
       "    </tr>\n",
       "  </tbody>\n",
       "</table>\n",
       "</div>"
      ],
      "text/plain": [
       "  Collocate  Likelihood ratio\n",
       "0      will        370.091488\n",
       "1      need        364.965062\n",
       "2      have        205.393920\n",
       "3    should        120.703426\n",
       "4      must        114.352169\n",
       "5      hope         79.113054\n",
       "6       can         77.336718\n",
       "7        go         65.070969\n",
       "8      also         61.346181\n",
       "9         ,         58.310639"
      ]
     },
     "execution_count": 1,
     "metadata": {},
     "output_type": "execute_result"
    }
   ],
   "source": [
    "#IE plot \n",
    "\n",
    "top10=[('will', 370.0914879997655), ('need', 364.96506168943534), \n",
    "       ('have', 205.3939199220533), ('should', 120.70342590760687), \n",
    "       ('must', 114.35216881612158), ('hope', 79.11305382913017), \n",
    "       ('can', 77.33671803109837), ('go', 65.07096945667772), \n",
    "       ('also', 61.34618093780993), (',', 58.31063898763714)]\n",
    "\n",
    "import pandas as pd\n",
    "df=pd.DataFrame(top10, columns=['Collocate', 'Likelihood ratio'])\n",
    "df"
   ]
  },
  {
   "cell_type": "code",
   "execution_count": 3,
   "metadata": {},
   "outputs": [],
   "source": [
    "#round the likelihood ratio values\n",
    "lr=df['Likelihood ratio'].values\n",
    "lr_ie = [ '%.2f' % elem for elem in lr]"
   ]
  },
  {
   "cell_type": "code",
   "execution_count": 4,
   "metadata": {},
   "outputs": [],
   "source": [
    "c_ie=df['Collocate'].values\n",
    "Collocate = list(df['Collocate'])\n",
    "Likelihood=list(df['Likelihood ratio'])\n",
    "index=df.index"
   ]
  },
  {
   "cell_type": "code",
   "execution_count": 7,
   "metadata": {},
   "outputs": [
    {
     "data": {
      "image/png": "[encoded data removed]",
      "text/plain": [
       "<Figure size 432x288 with 1 Axes>"
      ]
     },
     "metadata": {},
     "output_type": "display_data"
    }
   ],
   "source": [
    "#this is the perfect plot.\n",
    "#The y axis is the index of the collocates, \n",
    "#and the size of the bar is the likelihood ratio of each word \n",
    "#and the values of each collocates are inside the bar. \n",
    "\n",
    "import matplotlib.pyplot as plt\n",
    "import numpy as np\n",
    "plt.rcParams[\"font.family\"] = \"Times New Roman\"\n",
    "\n",
    "y_pos = np.arange(len(Likelihood))\n",
    "#y_axis=y_pos[::-1]\n",
    " \n",
    "plt.barh(y_pos, Likelihood, align='center')\n",
    "\n",
    "for i, (index, collocate) in enumerate(zip(df.index, df['Collocate'])):\n",
    "    plt.text(s=collocate, x=1, y=i, color='w', verticalalignment='center', size=18)\n",
    "\n",
    "#plt.xticks()\n",
    "plt.yticks([])\n",
    "#plt.yticks(y_axis, Collocate)\n",
    "plt.xlabel('Likelihood ratio')\n",
    "plt.title('IE')\n",
    "\n",
    "#plt.savefig('/users/nannanliu/Python/SCIPPC/interpreted_English/IE_bigrams.png', dpi=100)\n",
    "plt.show()\n"
   ]
  },
  {
   "cell_type": "markdown",
   "metadata": {},
   "source": [
    "But when it works on the other two sets of data, the x axes and y axes order are messed up."
   ]
  },
  {
   "cell_type": "code",
   "execution_count": 11,
   "metadata": {},
   "outputs": [
    {
     "data": {
      "text/html": [
       "<div>\n",
       "<style scoped>\n",
       "    .dataframe tbody tr th:only-of-type {\n",
       "        vertical-align: middle;\n",
       "    }\n",
       "\n",
       "    .dataframe tbody tr th {\n",
       "        vertical-align: top;\n",
       "    }\n",
       "\n",
       "    .dataframe thead th {\n",
       "        text-align: right;\n",
       "    }\n",
       "</style>\n",
       "<table border=\"1\" class=\"dataframe\">\n",
       "  <thead>\n",
       "    <tr style=\"text-align: right;\">\n",
       "      <th></th>\n",
       "      <th>c_ne</th>\n",
       "      <th>lr_ne</th>\n",
       "    </tr>\n",
       "  </thead>\n",
       "  <tbody>\n",
       "    <tr>\n",
       "      <th>0</th>\n",
       "      <td>must</td>\n",
       "      <td>251.25</td>\n",
       "    </tr>\n",
       "    <tr>\n",
       "      <th>1</th>\n",
       "      <td>can</td>\n",
       "      <td>248.80</td>\n",
       "    </tr>\n",
       "    <tr>\n",
       "      <th>2</th>\n",
       "      <td>will</td>\n",
       "      <td>162.71</td>\n",
       "    </tr>\n",
       "    <tr>\n",
       "      <th>3</th>\n",
       "      <td>have</td>\n",
       "      <td>145.63</td>\n",
       "    </tr>\n",
       "    <tr>\n",
       "      <th>4</th>\n",
       "      <td>should</td>\n",
       "      <td>74.77</td>\n",
       "    </tr>\n",
       "    <tr>\n",
       "      <th>5</th>\n",
       "      <td>need</td>\n",
       "      <td>72.44</td>\n",
       "    </tr>\n",
       "    <tr>\n",
       "      <th>6</th>\n",
       "      <td>,</td>\n",
       "      <td>69.28</td>\n",
       "    </tr>\n",
       "    <tr>\n",
       "      <th>7</th>\n",
       "      <td>.</td>\n",
       "      <td>58.58</td>\n",
       "    </tr>\n",
       "    <tr>\n",
       "      <th>8</th>\n",
       "      <td>know</td>\n",
       "      <td>57.86</td>\n",
       "    </tr>\n",
       "    <tr>\n",
       "      <th>9</th>\n",
       "      <td>also</td>\n",
       "      <td>43.45</td>\n",
       "    </tr>\n",
       "  </tbody>\n",
       "</table>\n",
       "</div>"
      ],
      "text/plain": [
       "     c_ne   lr_ne\n",
       "0    must  251.25\n",
       "1     can  248.80\n",
       "2    will  162.71\n",
       "3    have  145.63\n",
       "4  should   74.77\n",
       "5    need   72.44\n",
       "6       ,   69.28\n",
       "7       .   58.58\n",
       "8    know   57.86\n",
       "9    also   43.45"
      ]
     },
     "execution_count": 11,
     "metadata": {},
     "output_type": "execute_result"
    }
   ],
   "source": [
    "#NE plot\n",
    "\n",
    "import pandas as pd\n",
    "\n",
    "d={'c_ne': ['must', 'can', 'will', 'have', 'should', 'need', ',', '.', 'know',\n",
    "       'also'], 'lr_ne': ['251.25', '248.80', '162.71', '145.63', '74.77', '72.44', '69.28', '58.58', '57.86', '43.45']}\n",
    "df_ne=pd.DataFrame(data=d)\n",
    "df_ne"
   ]
  },
  {
   "cell_type": "code",
   "execution_count": 12,
   "metadata": {},
   "outputs": [],
   "source": [
    "c_ne=list(df_ne['c_ne'])\n",
    "lr_ne=list(df_ne['lr_ne'])\n",
    "index=df_ne.index"
   ]
  },
  {
   "cell_type": "code",
   "execution_count": 21,
   "metadata": {},
   "outputs": [
    {
     "data": {
      "image/png": "[encoded data removed]",
      "text/plain": [
       "<Figure size 432x288 with 1 Axes>"
      ]
     },
     "metadata": {},
     "output_type": "display_data"
    }
   ],
   "source": [
    "import matplotlib.pyplot as plt\n",
    "import numpy as np\n",
    "\n",
    "plt.rcParams[\"font.family\"] = \"Times New Roman\"\n",
    "\n",
    "y_pos = np.arange(len(lr_ne))\n",
    "#y_axis=y_pos[::-1]\n",
    " \n",
    "plt.barh(y_pos, lr_ne, align='center')\n",
    "\n",
    "for i, (index, collocate) in enumerate(zip(df_ne.index, df_ne['c_ne'])):\n",
    "    plt.text(s=collocate, x=1, y=i, color='w', verticalalignment='center', size=18)\n",
    "\n",
    "#plt.xticks()\n",
    "plt.yticks([])\n",
    "#plt.yticks(y_axis, c_sotu)\n",
    "plt.xlabel('Likelihood ratio')\n",
    "plt.title('NE')\n",
    " \n",
    "plt.show()"
   ]
  },
  {
   "cell_type": "markdown",
   "metadata": {},
   "source": [
    "The problem is in the bar char above, the x axis should be a continuous scale from 0 to roughly 260 based on the likelihood ratio, like the IE plot, instead of the values of the collocates. I also wonder why there is a space between the values of collocates and the x axis. "
   ]
  },
  {
   "cell_type": "code",
   "execution_count": 20,
   "metadata": {},
   "outputs": [
    {
     "data": {
      "image/png": "[encoded data removed]",
      "text/plain": [
       "<IPython.core.display.Image object>"
      ]
     },
     "execution_count": 20,
     "metadata": {},
     "output_type": "execute_result"
    }
   ],
   "source": [
    "from IPython.display import Image\n",
    "img = '/users/nannanliu/NE_bigrams.png'\n",
    "Image(filename=img)"
   ]
  },
  {
   "cell_type": "markdown",
   "metadata": {},
   "source": [
    "Help pleaseeee ( ཀ ʖ̯ ཀ)"
   ]
  }
 ],
 "metadata": {
  "kernelspec": {
   "display_name": "Python 3",
   "language": "python",
   "name": "python3"
  },
  "language_info": {
   "codemirror_mode": {
    "name": "ipython",
    "version": 3
   },
   "file_extension": ".py",
   "mimetype": "text/x-python",
   "name": "python",
   "nbconvert_exporter": "python",
   "pygments_lexer": "ipython3",
   "version": "3.6.3"
  }
 },
 "nbformat": 4,
 "nbformat_minor": 2
}
