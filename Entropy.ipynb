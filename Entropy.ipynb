{
 "cells": [
  {
   "cell_type": "code",
   "execution_count": 2,
   "metadata": {},
   "outputs": [
    {
     "data": {
      "text/plain": [
       "['good', 'morn', 'ladi', 'gentleman', ',', 'we', ...]"
      ]
     },
     "execution_count": 2,
     "metadata": {},
     "output_type": "execute_result"
    }
   ],
   "source": [
    "import os\n",
    "import nltk \n",
    "from nltk.corpus import CategorizedPlaintextCorpusReader\n",
    "corpus = CategorizedPlaintextCorpusReader(\n",
    "    '/users/nannanliu/Python/SCIPPC/interpreted_English/processed',\n",
    "    r'(?!\\.).*\\.txt',\n",
    "    cat_pattern=os.path.join(r'(neg|pos)', '.*',),\n",
    "    encoding='utf-8')\n",
    "corpus.words()"
   ]
  },
  {
   "cell_type": "code",
   "execution_count": 3,
   "metadata": {},
   "outputs": [
    {
     "name": "stdout",
     "output_type": "stream",
     "text": [
      "2003_IE_processed.txt\n",
      "2004_IE_processed.txt\n",
      "2005_IE_processed.txt\n",
      "2013_IE_processed.txt\n",
      "2014_IE_processed.txt\n",
      "2015_IE_processed.txt\n",
      "IE_total_processed.txt\n"
     ]
    }
   ],
   "source": [
    "#check if fileids are correct\n",
    "files=corpus.fileids()\n",
    "for f in files: \n",
    "    print (f)"
   ]
  },
  {
   "cell_type": "code",
   "execution_count": 4,
   "metadata": {},
   "outputs": [],
   "source": [
    "text_ie=corpus.raw('IE_total_processed.txt')"
   ]
  },
  {
   "cell_type": "code",
   "execution_count": 5,
   "metadata": {},
   "outputs": [],
   "source": [
    "from nltk.tokenize import RegexpTokenizer\n",
    "\n",
    "tokenizer = RegexpTokenizer(r'\\w+')\n",
    "token_ie=tokenizer.tokenize(text_ie)"
   ]
  },
  {
   "cell_type": "code",
   "execution_count": 7,
   "metadata": {
    "scrolled": false
   },
   "outputs": [
    {
     "name": "stdout",
     "output_type": "stream",
     "text": [
      "the number of unigrams is:  2833 \n",
      "the number of bigrams is:  16076 \n",
      "the number of trigrams is:  20554 \n",
      "the number of fourgrams is:  21695 \n",
      "the number of fivegrams is:  21986\n"
     ]
    }
   ],
   "source": [
    "from nltk import ngrams\n",
    "from collections import Counter\n",
    "\n",
    "unigrams = ngrams(token_ie, 1)\n",
    "bigrams = ngrams(token_ie,2)\n",
    "trigrams = ngrams(token_ie,3)\n",
    "fourgrams = ngrams(token_ie,4)\n",
    "fivegrams = ngrams(token_ie,5)\n",
    "\n",
    "#Counter(bigrams)\n",
    "print ('the number of unigrams is: ', len(Counter(unigrams)),'\\n'\n",
    "      'the number of bigrams is: ', len(Counter(bigrams)),'\\n'\n",
    "      'the number of trigrams is: ', len(Counter(trigrams)),'\\n'\n",
    "      'the number of fourgrams is: ', len(Counter(fourgrams)),'\\n'\n",
    "      'the number of fivegrams is: ', len(Counter(fivegrams)))\n",
    "#for grams in unigrams:\n",
    "  #print (grams)"
   ]
  },
  {
   "cell_type": "code",
   "execution_count": 8,
   "metadata": {},
   "outputs": [],
   "source": [
    "import numpy as np\n",
    "from math import log, e\n",
    "\n",
    "def entropy(labels, base=None):\n",
    "  \"\"\" Computes entropy of word distribution. \"\"\"\n",
    "\n",
    "  n_labels = len(labels)\n",
    "\n",
    "  if n_labels <= 1:\n",
    "    return 0\n",
    "\n",
    "  value,counts = np.unique(labels, return_counts=True)\n",
    "  probs = counts / n_labels\n",
    "  n_classes = np.count_nonzero(probs)\n",
    "\n",
    "  if n_classes <= 1:\n",
    "    return 0\n",
    "\n",
    "  ent = 0.\n",
    "\n",
    "  # Compute entropy\n",
    "  base = e if base is None else base\n",
    "  for i in probs:\n",
    "    ent -= i * log(i, base)\n",
    "\n",
    "  return ent"
   ]
  },
  {
   "cell_type": "code",
   "execution_count": 9,
   "metadata": {},
   "outputs": [
    {
     "name": "stdout",
     "output_type": "stream",
     "text": [
      "6.736957240358509\n"
     ]
    }
   ],
   "source": [
    "print (entropy(token_ie))"
   ]
  },
  {
   "cell_type": "code",
   "execution_count": 10,
   "metadata": {},
   "outputs": [
    {
     "data": {
      "text/plain": [
       "['女士', '们', '，', '先生', '们', '，', '上午', '好', '。', '我们', ...]"
      ]
     },
     "execution_count": 10,
     "metadata": {},
     "output_type": "execute_result"
    }
   ],
   "source": [
    "import os\n",
    "import nltk \n",
    "from nltk.corpus import CategorizedPlaintextCorpusReader\n",
    "corpus = CategorizedPlaintextCorpusReader(\n",
    "    '/users/nannanliu/Python/SCIPPC/original_Chinese/processed',\n",
    "    r'(?!\\.).*\\.txt',\n",
    "    cat_pattern=os.path.join(r'(neg|pos)', '.*',),\n",
    "    encoding='utf-8')\n",
    "corpus.words()"
   ]
  },
  {
   "cell_type": "code",
   "execution_count": 11,
   "metadata": {},
   "outputs": [
    {
     "name": "stdout",
     "output_type": "stream",
     "text": [
      "2003_OC_filtered.txt\n",
      "2003_OC_processed.txt\n",
      "2004_OC_filtered.txt\n",
      "2004_OC_processed.txt\n",
      "2005_OC_filtered.txt\n",
      "2005_OC_processed.txt\n",
      "2013_OC_filtered.txt\n",
      "2013_OC_processed.txt\n",
      "2014_OC_filtered.txt\n",
      "2014_OC_processed.txt\n",
      "2015_OC_filtered.txt\n",
      "2015_OC_processed.txt\n",
      "OC_total_processed.txt\n",
      "OC_total_unfiltered.txt\n"
     ]
    }
   ],
   "source": [
    "#check if fileids are correct\n",
    "files=corpus.fileids()\n",
    "for f in files: \n",
    "    print (f)"
   ]
  },
  {
   "cell_type": "code",
   "execution_count": 12,
   "metadata": {},
   "outputs": [],
   "source": [
    "text_oc=corpus.raw('OC_total_processed.txt')"
   ]
  },
  {
   "cell_type": "code",
   "execution_count": 13,
   "metadata": {},
   "outputs": [],
   "source": [
    "from nltk.tokenize import RegexpTokenizer\n",
    "\n",
    "tokenizer = RegexpTokenizer(r'\\w+')\n",
    "token_oc=tokenizer.tokenize(text_oc)"
   ]
  },
  {
   "cell_type": "code",
   "execution_count": 14,
   "metadata": {},
   "outputs": [
    {
     "name": "stdout",
     "output_type": "stream",
     "text": [
      "6.433022631692789\n"
     ]
    }
   ],
   "source": [
    "print (entropy(token_oc))"
   ]
  },
  {
   "cell_type": "code",
   "execution_count": 15,
   "metadata": {},
   "outputs": [
    {
     "data": {
      "text/plain": [
       "['mr', '.', 'speaker', ',', 'vice', 'presid', 'cheney', ...]"
      ]
     },
     "execution_count": 15,
     "metadata": {},
     "output_type": "execute_result"
    }
   ],
   "source": [
    "import os\n",
    "import nltk \n",
    "from nltk.corpus import CategorizedPlaintextCorpusReader\n",
    "corpus = CategorizedPlaintextCorpusReader(\n",
    "    '/users/nannanliu/Python/SCIPPC/SOTUC/processed',\n",
    "    r'(?!\\.).*\\.txt',\n",
    "    cat_pattern=os.path.join(r'(neg|pos)', '.*',),\n",
    "    encoding='utf-8')\n",
    "corpus.words()"
   ]
  },
  {
   "cell_type": "code",
   "execution_count": 16,
   "metadata": {},
   "outputs": [
    {
     "name": "stdout",
     "output_type": "stream",
     "text": [
      "2003_NE_processed.txt\n",
      "2004_NE_processed.txt\n",
      "2005_NE_processed.txt\n",
      "2013_NE_processed.txt\n",
      "2014_NE_processed.txt\n",
      "2015_NE_processed.txt\n",
      "NE_total_processed.txt\n"
     ]
    }
   ],
   "source": [
    "#check if fileids are correct\n",
    "files=corpus.fileids()\n",
    "for f in files: \n",
    "    print (f)"
   ]
  },
  {
   "cell_type": "code",
   "execution_count": 17,
   "metadata": {},
   "outputs": [],
   "source": [
    "text_ne=corpus.raw('NE_total_processed.txt')"
   ]
  },
  {
   "cell_type": "code",
   "execution_count": 18,
   "metadata": {},
   "outputs": [],
   "source": [
    "from nltk.tokenize import RegexpTokenizer\n",
    "\n",
    "tokenizer = RegexpTokenizer(r'\\w+')\n",
    "token_ne=tokenizer.tokenize(text_ne)"
   ]
  },
  {
   "cell_type": "code",
   "execution_count": 19,
   "metadata": {},
   "outputs": [
    {
     "name": "stdout",
     "output_type": "stream",
     "text": [
      "6.870082654754041\n"
     ]
    }
   ],
   "source": [
    "print (entropy(token_ne))"
   ]
  },
  {
   "cell_type": "code",
   "execution_count": 20,
   "metadata": {},
   "outputs": [
    {
     "data": {
      "text/plain": [
       "27984"
      ]
     },
     "execution_count": 20,
     "metadata": {},
     "output_type": "execute_result"
    }
   ],
   "source": [
    "len(token_oc)"
   ]
  },
  {
   "cell_type": "code",
   "execution_count": 21,
   "metadata": {},
   "outputs": [],
   "source": [
    "n=[10, 20, 30, 50, 80, 100, 200, 300, 500, 800, 1000, 2000, 3000, 4000, 5000, 8000, 10000, 12000, 13000, 14000, 15000, 18000, 20000, 25000, len(token_oc)]\n",
    "l1=token_oc[:n[0]]\n",
    "l2=token_oc[:n[1]]\n",
    "l3=token_oc[:n[2]] \n",
    "l4=token_oc[:n[3]]\n",
    "l5=token_oc[:n[4]]\n",
    "l6=token_oc[:n[5]]\n",
    "l7=token_oc[:n[6]]\n",
    "l8=token_oc[:n[7]]\n",
    "l9=token_oc[:n[8]]\n",
    "l10=token_oc[:n[9]]\n",
    "l11=token_oc[:n[10]]\n",
    "l12=token_oc[:n[11]]\n",
    "l13=token_oc[:n[12]]\n",
    "l14=token_oc[:n[13]]\n",
    "l15=token_oc[:n[14]]\n",
    "l16=token_oc[:n[15]]\n",
    "l17=token_oc[:n[16]]\n",
    "l18=token_oc[:n[17]]\n",
    "l19=token_oc[:n[18]]\n",
    "l20=token_oc[:n[19]]\n",
    "l21=token_oc[:n[20]]\n",
    "l22=token_oc[:n[21]]\n",
    "l23=token_oc[:n[22]]\n",
    "l24=token_oc[:n[23]]\n",
    "l25=token_oc[:n[24]]"
   ]
  },
  {
   "cell_type": "code",
   "execution_count": 22,
   "metadata": {},
   "outputs": [],
   "source": [
    "l=[l1, l2, l3, l4, l5, l6, l7, l8, l9, l10, l11, l12, l13, l14, l15, l16, l17, l18, l19, l20, l21, l22, l23, l24, l25]"
   ]
  },
  {
   "cell_type": "code",
   "execution_count": 23,
   "metadata": {},
   "outputs": [],
   "source": [
    "x=[entropy(x) for x in l]"
   ]
  },
  {
   "cell_type": "code",
   "execution_count": 24,
   "metadata": {},
   "outputs": [
    {
     "name": "stdout",
     "output_type": "stream",
     "text": [
      "[2.1639556568820564, 2.9264175554979963, 3.216358133512836, 3.4647398084663044, 3.8186751625516973, 3.8435795527159, 4.322040239926316, 4.615769057389411, 4.92572826646985, 5.27245031425798, 5.373742056874942, 5.7113713949763865, 5.895983505435013, 5.99029717905999, 6.049355140034419, 6.144623004542855, 6.183810569375969, 6.189146115759987, 6.215848142393005, 6.243511246122266, 6.268134158924985, 6.3215935535132255, 6.358373823295545, 6.416020971915949, 6.433022631692789]\n"
     ]
    }
   ],
   "source": [
    "print (x)"
   ]
  },
  {
   "cell_type": "code",
   "execution_count": 26,
   "metadata": {},
   "outputs": [],
   "source": [
    "e_ie=[2.3025850929940455, 2.8571028374420018, 3.170148321475506, 3.435629491863068, 3.6287862191181857, 3.933263135487538, 4.8600907545817185, 5.12870125686985, 5.43674016747963, 5.748837753312545, 5.82467757343396, 6.1133657557958365, 6.346417263101404, 6.460887984479359, 6.5252457003215, 6.6233178686290115, 6.642843796497841, 6.662291313525721, 6.67898873854429, 6.690673997059089, 6.706502740279693, 6.7281271886234, 6.743619108155013, 6.736383905803445, 6.736957240358509]\n",
    "n_ie=[10, 20, 30, 50, 80, 100, 200, 300, 500, 800, 1000, 2000, 3000, 4000, 5000, 8000, 10000, 12000, 13000, 14000, 15000, 18000, 20000, 22000, len(token_ie)]"
   ]
  },
  {
   "cell_type": "code",
   "execution_count": 27,
   "metadata": {},
   "outputs": [],
   "source": [
    "e_ne=[2.3025850929940455, 2.9264175554979963, 3.2625679455501655, 3.6347641332041674, 4.008062818383437, 4.103306479925201, 4.576143345800802, 4.961981518611519, 5.304098488690242, 5.62755179999047, 5.793169278672037, 6.236372529835832, 6.460408389165653, 6.515128223533787, 6.591112854965981, 6.697833152272302, 6.73177351773771, 6.778099381717551, 6.780584765547288, 6.815693901690035, 6.82424295329515, 6.85690473472647, 6.859596812110759, 6.870696449735762, 6.870082654754041]\n",
    "n_ne=[10, 20, 30, 50, 80, 100, 200, 300, 500, 800, 1000, 2000, 3000, 4000, 5000, 8000, 10000, 12000, 13000, 14000, 15000, 18000, 20000, 21000, len(token_ne)]"
   ]
  },
  {
   "cell_type": "code",
   "execution_count": 28,
   "metadata": {},
   "outputs": [],
   "source": [
    "e_oc=[2.1639556568820564, 2.9264175554979963, 3.216358133512836, 3.4647398084663044, 3.8186751625516973, 3.8435795527159, 4.322040239926316, 4.615769057389411, 4.92572826646985, 5.27245031425798, 5.373742056874942, 5.7113713949763865, 5.895983505435013, 5.99029717905999, 6.049355140034419, 6.144623004542855, 6.183810569375969, 6.189146115759987, 6.215848142393005, 6.243511246122266, 6.268134158924985, 6.3215935535132255, 6.358373823295545, 6.416020971915949, 6.433022631692789]\n",
    "n_oc=[10, 20, 30, 50, 80, 100, 200, 300, 500, 800, 1000, 2000, 3000, 4000, 5000, 8000, 10000, 12000, 13000, 14000, 15000, 18000, 20000, 25000, len(token_oc)]"
   ]
  },
  {
   "cell_type": "code",
   "execution_count": null,
   "metadata": {},
   "outputs": [],
   "source": [
    "max(n_oc, n_ie, n_ne)"
   ]
  },
  {
   "cell_type": "code",
   "execution_count": 43,
   "metadata": {},
   "outputs": [
    {
     "data": {
      "image/png": "[encoded data removed]",
      "text/plain": [
       "<Figure size 432x288 with 1 Axes>"
      ]
     },
     "metadata": {},
     "output_type": "display_data"
    },
    {
     "data": {
      "text/plain": [
       "<Figure size 1152x864 with 0 Axes>"
      ]
     },
     "metadata": {},
     "output_type": "display_data"
    }
   ],
   "source": [
    "import matplotlib\n",
    "#matplotlib.use('TkAgg')\n",
    "import matplotlib.pyplot as plt\n",
    "import numpy as np\n",
    "plt.rcParams[\"font.family\"] = \"Times New Roman\"\n",
    "\n",
    "colors = ['#1F77B4', '#1B9E77', '#7570B3']\n",
    "labels = ['IE', 'NE', 'OC']\n",
    "\n",
    "\n",
    "x=max(n_oc, n_ie, n_ne)\n",
    "y=[e_ie, e_ne, e_oc]\n",
    "\n",
    "lines=[]\n",
    "for ix, i in enumerate(y):\n",
    "    line, = plt.plot(x, i, linewidth = 2.5, color=colors[ix], label=labels[ix])\n",
    "    lines.append(line)\n",
    "\n",
    "plt.legend()\n",
    "#plt.plot(n, x)\n",
    "\n",
    "plt.xlabel('Text length')\n",
    "plt.ylabel('Entropy')\n",
    "\n",
    "\n",
    "fig1 = plt.gcf()\n",
    "plt.show()\n",
    "#plt.savefig('/users/nannanliu/Research/Thesis/text_entropy.png', dpi=300)\n",
    "#plt.show()\n",
    "plt.figure(figsize=(16, 12), facecolor='w', edgecolor='k')\n",
    "fig1.savefig('/users/nannanliu/Research/Thesis/text_entropy.png', dpi=300)\n",
    "\n"
   ]
  },
  {
   "cell_type": "code",
   "execution_count": null,
   "metadata": {},
   "outputs": [],
   "source": []
  }
 ],
 "metadata": {
  "kernelspec": {
   "display_name": "Python 3",
   "language": "python",
   "name": "python3"
  },
  "language_info": {
   "codemirror_mode": {
    "name": "ipython",
    "version": 3
   },
   "file_extension": ".py",
   "mimetype": "text/x-python",
   "name": "python",
   "nbconvert_exporter": "python",
   "pygments_lexer": "ipython3",
   "version": "3.6.3"
  }
 },
 "nbformat": 4,
 "nbformat_minor": 2
}
