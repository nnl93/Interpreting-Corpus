{
 "cells": [
  {
   "cell_type": "code",
   "execution_count": 1,
   "metadata": {},
   "outputs": [],
   "source": [
    "#this is for OC\n",
    "sentences=[['inclusive'], ['inclusive'], ['inclusive'], ['guojia'], ['guojia'], ['people'], ['this', 'government'], ['this', 'government'], ['this', 'government'], ['this', 'government'], ['this', 'government'], ['this', 'government'], ['imagined', 'plural'], ['imagined', 'plural'], ['the', 'new', 'government'], ['guojia'], ['i'], ['i'], ['hk', 'people'], ['the', 'central', 'government'], ['the', 'central', 'government'], ['the', 'central', 'government'], ['exclusive'], ['the', 'government'], ['the', 'government'], ['the', 'government'], ['the', 'chinese', 'government'], ['i'], ['the', 'party', 'and', 'government'], ['the', 'party', 'and', 'government'], ['imagined', 'plural'], ['the', 'new', 'government'], ['the', 'new', 'government'], ['the', 'new', 'government'], ['the', 'government'], ['the', 'government'], ['the', 'chinese', 'government'], ['the', 'chinese', 'government'], ['exclusive'], ['exclusive'], ['imagined', 'plural'], ['china'], ['china'], ['china'], ['imagined', 'plural'], ['imagined', 'plural'], ['the', 'government'], ['the', 'government'], ['china'], ['china'], ['china'], ['china'], ['china'], ['china'], ['exclusive'], ['inclusive'], ['inclusive'], ['inclusive'], ['ordinary', 'people'], ['imagined', 'plural'], ['the', 'government'], ['the', 'government'], ['guojia'], ['i'], ['imagined', 'plural'], ['the', 'government'], ['imagined', 'plural'], ['imagined', 'plural'], ['i'], ['exclusive'], ['the', 'party', 'and', 'government'], ['the', 'government'], ['imagined', 'plural'], ['the', 'government'], ['hk'], ['the', 'central', 'government'], ['i'], ['the', 'central', 'government', 'leadership'], ['the', 'central', 'government'], ['the', 'central', 'government'], ['guojia'], ['party', 'and', 'guojia'], ['imagined', 'plural'], ['imagined', 'plural'], ['imagined', 'plural'], ['mainland', 'and', 'taiwan'], ['the', 'chinese', 'government', 'and', 'party', 'leadership', 'as', 'a', 'whole', 'including', 'deng', 'xiaoping'], ['the', 'chinese', 'government', 'and', 'party', 'leadership', 'as', 'a', 'whole', 'including', 'deng', 'xiaoping'], ['the', 'chinese', 'government'], ['the', 'chinese', 'government'], ['china', 'and', 'other', 'country'], ['china', 'and', 'other', 'country'], ['china', 'and', 'other', 'country'], ['china', 'and', 'other', 'country'], ['china', 'and', 'other', 'country'], ['china', 'and', 'other', 'country'], ['china', 'and', 'other', 'country'], ['the', 'entire', 'party'], ['party', 'and', 'guojia'], ['the', 'government'], ['the', 'government'], ['the', 'government'], ['i'], ['the', 'government'], ['china', 'and', 'other', 'country'], ['china'], ['china'], ['china'], ['the', 'central', 'leadership'], ['the', 'central', 'leadership'], ['the', 'central', 'leadership'], ['the', 'central', 'leadership'], ['the', 'central', 'leadership'], ['the', 'central', 'leadership'], ['the', 'central', 'leadership'], ['imagined', 'plural'], ['imagined', 'plural'], ['imagined', 'plural'], ['imagined', 'plural'], ['inclusive'], ['the', 'government'], ['imagined', 'plural'], ['nation'], ['guojia'], ['nation'], ['imagined', 'plural'], ['the', 'government'], ['imagined', 'plural'], ['imagined', 'plural'], ['imagined', 'plural'], ['imagined', 'plural'], ['imagined', 'plural'], ['the', 'government'], ['imagined', 'plural'], ['i'], ['i'], ['imagined', 'plural'], ['the', 'party', 'and', 'government'], ['the', 'party', 'and', 'government'], ['the', 'party', 'and', 'government'], ['china'], ['the', 'chinese', 'government'], ['the', 'chinese', 'government'], ['the', 'chinese', 'government'], ['china'], ['china'], ['the', 'chinese', 'government'], ['china', 'and', 'other', 'country'], ['i', 'and', 'russian', 'prime', 'minister'], ['china', 'and', 'other', 'country'], ['two', 'countries'], ['two', 'countries'], ['inclusive'], ['japanese'], ['i'], ['imagined', 'plural'], ['china'], ['imagined', 'plural'], ['peoples', 'daily'], ['imagined', 'plural'], ['the', 'government'], ['imagined', 'plural'], ['imagined', 'plural'], ['imagined', 'plural'], ['imagined', 'plural'], ['imagined', 'plural'], ['imagined', 'plural'], ['imagined', 'plural'], ['imagined', 'plural'], ['imagined', 'plural'], ['china', 'and', 'other', 'country'], ['china', 'and', 'other', 'country'], ['china', 'and', 'other', 'country'], ['china', 'and', 'other', 'country'], ['china', 'and', 'other', 'country'], ['china'], ['china'], ['imagined', 'plural'], ['people'], ['i'], ['the', 'government'], ['imagined', 'plural'], ['imagined', 'plural'], ['the', 'government'], ['inclusive'], ['exclusive'], ['exclusive'], ['the', 'new', 'government'], ['the', 'new', 'government'], ['i'], ['the', 'government'], ['imagined', 'plural'], ['imagined', 'plural'], ['imagined', 'plural'], ['the', 'government'], ['imagined', 'plural'], ['the', 'new', 'government'], ['imagined', 'plural'], ['imagined', 'plural'], ['i'], ['i'], ['the', 'government'], ['the', 'government'], ['the', 'government'], ['the', 'government'], ['the', 'government'], ['the', 'new', 'chinese', 'government'], ['china', 'and', 'other', 'country'], ['china', 'and', 'other', 'country'], ['inclusive'], ['people'], ['imagined', 'plural'], ['imagined', 'plural'], ['imagined', 'plural'], ['the', 'government'], ['the', 'government'], ['imagined', 'plural'], ['i'], ['two', 'sides', 'of', 'taiwan', 'strait'], ['the', 'mainland'], ['the', 'mainland'], ['imagined', 'plural'], ['the', 'government'], ['the', 'government'], ['this', 'government'], ['imagined', 'plural'], ['the', 'government'], ['i'], ['i'], ['china', 'and', 'other', 'country'], ['china', 'and', 'other', 'country'], ['china'], ['inclusive'], ['inclusive'], ['inclusive'], ['the', 'chinese', 'government', 'and', 'people'], ['the', 'chinese', 'government'], ['the', 'chinese', 'government'], ['the', 'chinese', 'government'], ['the', 'chinese', 'government'], ['the', 'chinese', 'government'], ['imagined', 'plural'], ['the', 'government'], ['the', 'government'], ['the', 'government'], ['the', 'government'], ['china'], ['the', 'government'], ['the', 'government'], ['the', 'government'], ['imagined', 'plural'], ['party', 'central', 'leadership'], ['imagined', 'plural'], ['the', 'government'], ['the', 'government'], ['china', 'and', 'neighbouring', 'countries'], ['china', 'and', 'neighbouring', 'countries'], ['chinese', 'government'], ['chinese', 'government'], ['the', 'government'], ['the', 'government'], ['the', 'government'], ['imagined', 'plural'], ['imagined', 'plural'], ['the', 'government'], ['exclusive'], ['i'], ['i'], ['central', 'government'], ['imagined', 'plural'], ['the', 'government'], ['the', 'government'], ['the', 'government'], ['the', 'government'], ['the', 'government'], ['the', 'government'], ['the', 'government'], ['the', 'government'], ['the', 'nation'], ['the', 'government'], ['the', 'government'], ['the', 'government'], ['the', 'government'], ['i'], ['the', 'government'], ['china', 'and', 'other', 'country'], ['china', 'and', 'other', 'country'], ['china', 'and', 'other', 'country'], ['the', 'party', 'and', 'government'], ['the', 'party', 'and', 'government'], ['imagined', 'plural'], ['the', 'party', 'and', 'government'], ['the', 'government'], ['the', 'government'], ['people'], ['the', 'government'], ['guojia'], ['the', 'government'], ['the', 'government'], ['i'], ['i'], ['i'], ['imagined', 'plural'], ['the', 'government'], ['the', 'government'], ['imagined', 'plural'], ['china'], ['china'], ['i'], ['china', 'and', 'other', 'region'], ['china', 'and', 'other', 'region'], ['china', 'and', 'other', 'region'], ['imagined', 'plural'], ['the', 'government'], ['china'], ['imagined', 'plural'], ['the', 'government'], ['the', 'government'], ['the', 'government'], ['the', 'government'], ['inclusive'], ['inclusive'], ['i'], ['china'], ['the', 'chinese', 'government'], ['the', 'central', 'government'], ['the', 'chinese', 'government'], ['i'], ['china'], ['this', 'government'], ['the', 'government'], ['the', 'government'], ['the', 'government'], ['chinese'], ['chinese', 'economy'], ['imagined', 'plural'], ['china'], ['the', 'government'], ['the', 'government'], ['the', 'government'], ['the', 'government'], ['i'], ['the', 'government'], ['the', 'government'], ['the', 'government'], ['the', 'government'], ['the', 'government'], ['the', 'government'], ['the', 'government'], ['guojia'], ['the', 'government'], ['the', 'government'], ['chinese', 'people'], ['chinese'], ['the', 'government'], ['the', 'government'], ['the', 'government'], ['the', 'government'], ['mainland', 'china'], ['mainland', 'china'], ['guojia'], ['china'], ['china'], ['china'], ['china'], ['i'], ['i'], ['china'], ['china'], ['china', 'and', 'other', 'country'], ['i'], ['inclusive'], ['inclusive'], ['inclusive'], ['china'], ['china'], ['china'], ['china'], ['people'], ['i'], ['inclusive'], ['guojia'], ['guojia'], ['society'], ['inclusive'], ['inclusive'], ['chinese', 'government']]"
   ]
  },
  {
   "cell_type": "code",
   "execution_count": 2,
   "metadata": {},
   "outputs": [],
   "source": [
    "from gensim.test.utils import get_tmpfile\n",
    "from gensim.models import Word2Vec"
   ]
  },
  {
   "cell_type": "code",
   "execution_count": 3,
   "metadata": {},
   "outputs": [],
   "source": [
    "path = get_tmpfile(\"/users/nannanliu/Python/SCIPPC/collective_personal_pronoun/oc_word2vec.model\")"
   ]
  },
  {
   "cell_type": "code",
   "execution_count": 4,
   "metadata": {},
   "outputs": [],
   "source": [
    "model = Word2Vec(sentences, min_count=0, size=5, window=5, workers=4, min_alpha=0.025)"
   ]
  },
  {
   "cell_type": "code",
   "execution_count": 5,
   "metadata": {},
   "outputs": [],
   "source": [
    "model.save(\"/users/nannanliu/Python/SCIPPC/collective_personal_pronoun/oc_word2vec.model\")"
   ]
  },
  {
   "cell_type": "code",
   "execution_count": 6,
   "metadata": {},
   "outputs": [],
   "source": [
    "model = Word2Vec.load(\"/users/nannanliu/Python/SCIPPC/collective_personal_pronoun/oc_word2vec.model\")"
   ]
  },
  {
   "cell_type": "code",
   "execution_count": 7,
   "metadata": {},
   "outputs": [
    {
     "data": {
      "text/plain": [
       "array([[-0.02938328, -0.03111204,  0.07892977, -0.02452356,  0.00763928],\n",
       "       [-0.09104987,  0.0469013 , -0.0626659 ,  0.07738256,  0.00689139]],\n",
       "      dtype=float32)"
      ]
     },
     "execution_count": 7,
     "metadata": {},
     "output_type": "execute_result"
    }
   ],
   "source": [
    "model.wv['inclusive', 'exclusive']"
   ]
  },
  {
   "cell_type": "code",
   "execution_count": 8,
   "metadata": {},
   "outputs": [
    {
     "data": {
      "text/plain": [
       "array([-0.09104987,  0.0469013 , -0.0626659 ,  0.07738256,  0.00689139],\n",
       "      dtype=float32)"
      ]
     },
     "execution_count": 8,
     "metadata": {},
     "output_type": "execute_result"
    }
   ],
   "source": [
    "model.wv['exclusive']"
   ]
  },
  {
   "cell_type": "code",
   "execution_count": 59,
   "metadata": {},
   "outputs": [
    {
     "name": "stderr",
     "output_type": "stream",
     "text": [
      "/Library/Frameworks/Python.framework/Versions/3.6/lib/python3.6/site-packages/ipykernel_launcher.py:2: DeprecationWarning: Call to deprecated `syn0norm` (Attribute will be removed in 4.0.0, use self.vectors_norm instead).\n",
      "  \n"
     ]
    }
   ],
   "source": [
    "#this is to get all the vector representations of the token words in the model\n",
    "Y=model.wv.syn0"
   ]
  },
  {
   "cell_type": "code",
   "execution_count": 58,
   "metadata": {},
   "outputs": [
    {
     "ename": "AttributeError",
     "evalue": "'NoneType' object has no attribute 'shape'",
     "output_type": "error",
     "traceback": [
      "\u001b[0;31m---------------------------------------------------------------------------\u001b[0m",
      "\u001b[0;31mAttributeError\u001b[0m                            Traceback (most recent call last)",
      "\u001b[0;32m<ipython-input-58-de29cf719ad1>\u001b[0m in \u001b[0;36m<module>\u001b[0;34m()\u001b[0m\n\u001b[0;32m----> 1\u001b[0;31m \u001b[0mY\u001b[0m\u001b[0;34m.\u001b[0m\u001b[0mshape\u001b[0m\u001b[0;34m\u001b[0m\u001b[0m\n\u001b[0m",
      "\u001b[0;31mAttributeError\u001b[0m: 'NoneType' object has no attribute 'shape'"
     ]
    }
   ],
   "source": [
    "Y.shape"
   ]
  },
  {
   "cell_type": "code",
   "execution_count": 9,
   "metadata": {},
   "outputs": [
    {
     "name": "stderr",
     "output_type": "stream",
     "text": [
      "/Library/Frameworks/Python.framework/Versions/3.6/lib/python3.6/site-packages/ipykernel_launcher.py:1: DeprecationWarning: Call to deprecated `similarity` (Method will be removed in 4.0.0, use self.wv.similarity() instead).\n",
      "  \"\"\"Entry point for launching an IPython kernel.\n"
     ]
    },
    {
     "data": {
      "text/plain": [
       "-0.0567"
      ]
     },
     "execution_count": 9,
     "metadata": {},
     "output_type": "execute_result"
    }
   ],
   "source": [
    "model.similarity('chinese', 'china')"
   ]
  },
  {
   "cell_type": "code",
   "execution_count": 10,
   "metadata": {},
   "outputs": [
    {
     "name": "stderr",
     "output_type": "stream",
     "text": [
      "/Library/Frameworks/Python.framework/Versions/3.6/lib/python3.6/site-packages/ipykernel_launcher.py:1: DeprecationWarning: Call to deprecated `similarity` (Method will be removed in 4.0.0, use self.wv.similarity() instead).\n",
      "  \"\"\"Entry point for launching an IPython kernel.\n"
     ]
    },
    {
     "data": {
      "text/plain": [
       "0.7658074"
      ]
     },
     "execution_count": 10,
     "metadata": {},
     "output_type": "execute_result"
    }
   ],
   "source": [
    "model.similarity('chinese', 'japanese')"
   ]
  },
  {
   "cell_type": "code",
   "execution_count": 11,
   "metadata": {},
   "outputs": [
    {
     "name": "stderr",
     "output_type": "stream",
     "text": [
      "/Library/Frameworks/Python.framework/Versions/3.6/lib/python3.6/site-packages/ipykernel_launcher.py:1: DeprecationWarning: Call to deprecated `similarity` (Method will be removed in 4.0.0, use self.wv.similarity() instead).\n",
      "  \"\"\"Entry point for launching an IPython kernel.\n"
     ]
    },
    {
     "data": {
      "text/plain": [
       "-0.5068329"
      ]
     },
     "execution_count": 11,
     "metadata": {},
     "output_type": "execute_result"
    }
   ],
   "source": [
    "model.similarity('china', 'neighbouring')"
   ]
  },
  {
   "cell_type": "code",
   "execution_count": 8,
   "metadata": {},
   "outputs": [
    {
     "data": {
      "text/plain": [
       "(5,)"
      ]
     },
     "execution_count": 8,
     "metadata": {},
     "output_type": "execute_result"
    }
   ],
   "source": [
    "vec.shape"
   ]
  },
  {
   "cell_type": "code",
   "execution_count": 12,
   "metadata": {},
   "outputs": [],
   "source": [
    "def uniq(lst):\n",
    "    last = object()\n",
    "    for item in lst:\n",
    "        if item == last:\n",
    "            continue\n",
    "        yield item\n",
    "        last = item\n",
    "\n",
    "def sort_and_deduplicate(l):\n",
    "    return list(uniq(sorted(l, reverse=True)))"
   ]
  },
  {
   "cell_type": "code",
   "execution_count": 13,
   "metadata": {},
   "outputs": [
    {
     "data": {
      "text/plain": [
       "list"
      ]
     },
     "execution_count": 13,
     "metadata": {},
     "output_type": "execute_result"
    }
   ],
   "source": [
    "sorted_data=sort_and_deduplicate(sentences)\n",
    "type(sorted_data)"
   ]
  },
  {
   "cell_type": "code",
   "execution_count": 14,
   "metadata": {},
   "outputs": [
    {
     "name": "stdout",
     "output_type": "stream",
     "text": [
      "[['two', 'sides', 'of', 'taiwan', 'strait'], ['two', 'countries'], ['this', 'government'], ['the', 'party', 'and', 'government'], ['the', 'new', 'government'], ['the', 'new', 'chinese', 'government'], ['the', 'nation'], ['the', 'mainland'], ['the', 'government'], ['the', 'entire', 'party'], ['the', 'chinese', 'government', 'and', 'people'], ['the', 'chinese', 'government', 'and', 'party', 'leadership', 'as', 'a', 'whole', 'including', 'deng', 'xiaoping'], ['the', 'chinese', 'government'], ['the', 'central', 'leadership'], ['the', 'central', 'government', 'leadership'], ['the', 'central', 'government'], ['society'], ['peoples', 'daily'], ['people'], ['party', 'central', 'leadership'], ['party', 'and', 'guojia'], ['ordinary', 'people'], ['nation'], ['mainland', 'china'], ['mainland', 'and', 'taiwan'], ['japanese'], ['inclusive'], ['imagined', 'plural'], ['i', 'and', 'russian', 'prime', 'minister'], ['i'], ['hk', 'people'], ['hk'], ['guojia'], ['exclusive'], ['chinese', 'people'], ['chinese', 'government'], ['chinese', 'economy'], ['chinese'], ['china', 'and', 'other', 'region'], ['china', 'and', 'other', 'country'], ['china', 'and', 'neighbouring', 'countries'], ['china'], ['central', 'government']]\n"
     ]
    }
   ],
   "source": [
    "print (sorted_data)"
   ]
  },
  {
   "cell_type": "code",
   "execution_count": 15,
   "metadata": {},
   "outputs": [],
   "source": [
    "v_1=model.wv['two', 'sides', 'of', 'taiwan', 'strait']"
   ]
  },
  {
   "cell_type": "code",
   "execution_count": 16,
   "metadata": {},
   "outputs": [],
   "source": [
    "v_1_s=[sum(x) for x in zip(*v_1)]"
   ]
  },
  {
   "cell_type": "code",
   "execution_count": 17,
   "metadata": {},
   "outputs": [
    {
     "name": "stdout",
     "output_type": "stream",
     "text": [
      "[-0.230910855345428, -0.26168877352029085, -0.18815577775239944, 0.2547303754836321, 0.16602546256035566]\n"
     ]
    }
   ],
   "source": [
    "print (v_1_s)"
   ]
  },
  {
   "cell_type": "code",
   "execution_count": 18,
   "metadata": {},
   "outputs": [],
   "source": [
    "d=[]\n",
    "for i in sorted_data: \n",
    "    d.append(model.wv[i]) \n",
    "    "
   ]
  },
  {
   "cell_type": "code",
   "execution_count": 19,
   "metadata": {},
   "outputs": [
    {
     "name": "stdout",
     "output_type": "stream",
     "text": [
      "[array([[-0.07798813, -0.08856006, -0.09138872,  0.02895188, -0.00812278],\n",
      "       [-0.03695469, -0.07379627, -0.05847524,  0.05654107,  0.03344404],\n",
      "       [ 0.01304554, -0.03048663, -0.04519341,  0.05503269,  0.07577749],\n",
      "       [-0.02364864, -0.07259426,  0.03834567,  0.02535121,  0.04725402],\n",
      "       [-0.10536493,  0.00374844, -0.03144407,  0.08885352,  0.0176727 ]],\n",
      "      dtype=float32), array([[-0.07798813, -0.08856006, -0.09138872,  0.02895188, -0.00812278],\n",
      "       [ 0.0574745 ,  0.00784008,  0.02468409,  0.00035862, -0.02697184]],\n",
      "      dtype=float32), array([[ 0.03579314, -0.06396705,  0.06225998,  0.03541606,  0.06768739],\n",
      "       [-0.08868314,  0.09271047, -0.09385327,  0.000996  ,  0.06419165]],\n",
      "      dtype=float32), array([[ 0.00585506,  0.00125941,  0.0540453 , -0.0779536 , -0.02925089],\n",
      "       [-0.07577667,  0.0337023 , -0.03313952,  0.04594525,  0.0499451 ],\n",
      "       [-0.06518019, -0.02604648, -0.00640966, -0.07878923, -0.07815695],\n",
      "       [-0.08868314,  0.09271047, -0.09385327,  0.000996  ,  0.06419165]],\n",
      "      dtype=float32), array([[ 0.00585506,  0.00125941,  0.0540453 , -0.0779536 , -0.02925089],\n",
      "       [-0.05261864, -0.02689168,  0.05844139,  0.0035575 , -0.01103294],\n",
      "       [-0.08868314,  0.09271047, -0.09385327,  0.000996  ,  0.06419165]],\n",
      "      dtype=float32), array([[ 0.00585506,  0.00125941,  0.0540453 , -0.0779536 , -0.02925089],\n",
      "       [-0.05261864, -0.02689168,  0.05844139,  0.0035575 , -0.01103294],\n",
      "       [-0.07237119,  0.04338704,  0.04797585,  0.0463776 ,  0.00638782],\n",
      "       [-0.08868314,  0.09271047, -0.09385327,  0.000996  ,  0.06419165]],\n",
      "      dtype=float32), array([[ 0.00585506,  0.00125941,  0.0540453 , -0.0779536 , -0.02925089],\n",
      "       [ 0.0340122 ,  0.0387664 ,  0.09823507, -0.04869268, -0.09925295]],\n",
      "      dtype=float32), array([[ 0.00585506,  0.00125941,  0.0540453 , -0.0779536 , -0.02925089],\n",
      "       [ 0.00417362,  0.03534368, -0.04425712, -0.09450739, -0.06489255]],\n",
      "      dtype=float32), array([[ 0.00585506,  0.00125941,  0.0540453 , -0.0779536 , -0.02925089],\n",
      "       [-0.08868314,  0.09271047, -0.09385327,  0.000996  ,  0.06419165]],\n",
      "      dtype=float32), array([[ 0.00585506,  0.00125941,  0.0540453 , -0.0779536 , -0.02925089],\n",
      "       [-0.07349572,  0.09113633,  0.05814901, -0.00642057, -0.00052767],\n",
      "       [-0.07577667,  0.0337023 , -0.03313952,  0.04594525,  0.0499451 ]],\n",
      "      dtype=float32), array([[ 0.00585506,  0.00125941,  0.0540453 , -0.0779536 , -0.02925089],\n",
      "       [-0.07237119,  0.04338704,  0.04797585,  0.0463776 ,  0.00638782],\n",
      "       [-0.08868314,  0.09271047, -0.09385327,  0.000996  ,  0.06419165],\n",
      "       [-0.06518019, -0.02604648, -0.00640966, -0.07878923, -0.07815695],\n",
      "       [ 0.00043966,  0.07743474,  0.01224005, -0.05179312, -0.05221437]],\n",
      "      dtype=float32), array([[ 0.00585506,  0.00125941,  0.0540453 , -0.0779536 , -0.02925089],\n",
      "       [-0.07237119,  0.04338704,  0.04797585,  0.0463776 ,  0.00638782],\n",
      "       [-0.08868314,  0.09271047, -0.09385327,  0.000996  ,  0.06419165],\n",
      "       [-0.06518019, -0.02604648, -0.00640966, -0.07878923, -0.07815695],\n",
      "       [-0.07577667,  0.0337023 , -0.03313952,  0.04594525,  0.0499451 ],\n",
      "       [ 0.05430273, -0.0680951 ,  0.09448748, -0.00151016,  0.05822476],\n",
      "       [ 0.00325122,  0.03586748,  0.09452905, -0.00583741,  0.00363181],\n",
      "       [ 0.03367848,  0.08443041,  0.04238109,  0.05463712,  0.09982086],\n",
      "       [ 0.05896448,  0.04527783,  0.10349269, -0.03310781,  0.08884888],\n",
      "       [ 0.03444223,  0.0943863 ,  0.09550038, -0.07679801, -0.0681233 ],\n",
      "       [-0.0047452 ,  0.01720238, -0.03627203, -0.1132746 ,  0.07717152],\n",
      "       [-0.0658236 ,  0.11336933,  0.01734299, -0.06119824,  0.07847946]],\n",
      "      dtype=float32), array([[ 0.00585506,  0.00125941,  0.0540453 , -0.0779536 , -0.02925089],\n",
      "       [-0.07237119,  0.04338704,  0.04797585,  0.0463776 ,  0.00638782],\n",
      "       [-0.08868314,  0.09271047, -0.09385327,  0.000996  ,  0.06419165]],\n",
      "      dtype=float32), array([[ 0.00585506,  0.00125941,  0.0540453 , -0.0779536 , -0.02925089],\n",
      "       [ 0.02380583, -0.06462399, -0.01117582, -0.09187418, -0.05289028],\n",
      "       [ 0.05430273, -0.0680951 ,  0.09448748, -0.00151016,  0.05822476]],\n",
      "      dtype=float32), array([[ 0.00585506,  0.00125941,  0.0540453 , -0.0779536 , -0.02925089],\n",
      "       [ 0.02380583, -0.06462399, -0.01117582, -0.09187418, -0.05289028],\n",
      "       [-0.08868314,  0.09271047, -0.09385327,  0.000996  ,  0.06419165],\n",
      "       [ 0.05430273, -0.0680951 ,  0.09448748, -0.00151016,  0.05822476]],\n",
      "      dtype=float32), array([[ 0.00585506,  0.00125941,  0.0540453 , -0.0779536 , -0.02925089],\n",
      "       [ 0.02380583, -0.06462399, -0.01117582, -0.09187418, -0.05289028],\n",
      "       [-0.08868314,  0.09271047, -0.09385327,  0.000996  ,  0.06419165]],\n",
      "      dtype=float32), array([[ 0.07446121,  0.05646458, -0.0795962 , -0.06955077,  0.00479955]],\n",
      "      dtype=float32), array([[-0.02054638,  0.09679069, -0.08893923,  0.04004961,  0.06732348],\n",
      "       [-0.04142797,  0.04677726,  0.04542971,  0.04747517,  0.08146352]],\n",
      "      dtype=float32), array([[ 0.00043966,  0.07743474,  0.01224005, -0.05179312, -0.05221437]],\n",
      "      dtype=float32), array([[-0.07577667,  0.0337023 , -0.03313952,  0.04594525,  0.0499451 ],\n",
      "       [ 0.02380583, -0.06462399, -0.01117582, -0.09187418, -0.05289028],\n",
      "       [ 0.05430273, -0.0680951 ,  0.09448748, -0.00151016,  0.05822476]],\n",
      "      dtype=float32), array([[-0.07577667,  0.0337023 , -0.03313952,  0.04594525,  0.0499451 ],\n",
      "       [-0.06518019, -0.02604648, -0.00640966, -0.07878923, -0.07815695],\n",
      "       [-0.03700633, -0.06643479,  0.08749553, -0.06571333,  0.04259   ]],\n",
      "      dtype=float32), array([[ 0.01615276, -0.00713549, -0.07764608, -0.03460342,  0.04300631],\n",
      "       [ 0.00043966,  0.07743474,  0.01224005, -0.05179312, -0.05221437]],\n",
      "      dtype=float32), array([[ 0.0340122 ,  0.0387664 ,  0.09823507, -0.04869268, -0.09925295]],\n",
      "      dtype=float32), array([[ 0.00417362,  0.03534368, -0.04425712, -0.09450739, -0.06489255],\n",
      "       [-0.00274907,  0.09269698, -0.03321425, -0.06985636, -0.02144437]],\n",
      "      dtype=float32), array([[ 0.00417362,  0.03534368, -0.04425712, -0.09450739, -0.06489255],\n",
      "       [-0.06518019, -0.02604648, -0.00640966, -0.07878923, -0.07815695],\n",
      "       [-0.02364864, -0.07259426,  0.03834567,  0.02535121,  0.04725402]],\n",
      "      dtype=float32), array([[-0.06273571,  0.09755678,  0.03864826,  0.05853102, -0.07667273]],\n",
      "      dtype=float32), array([[-0.02938328, -0.03111204,  0.07892977, -0.02452356,  0.00763928]],\n",
      "      dtype=float32), array([[-0.0076805 , -0.07187948,  0.04437193, -0.04824804, -0.00100511],\n",
      "       [ 0.04612607, -0.03571929, -0.07121816, -0.02064045,  0.07045412]],\n",
      "      dtype=float32), array([[ 0.00458885,  0.06630404,  0.0853325 , -0.00010261, -0.07974231],\n",
      "       [-0.06518019, -0.02604648, -0.00640966, -0.07878923, -0.07815695],\n",
      "       [-0.05564133,  0.09422979, -0.08409676, -0.02153791,  0.00361806],\n",
      "       [ 0.06846824,  0.08976735,  0.05844678, -0.07038692,  0.06620196],\n",
      "       [ 0.0285886 , -0.00953364,  0.03122714, -0.06513044, -0.00462752]],\n",
      "      dtype=float32), array([[ 0.00458885,  0.06630404,  0.0853325 , -0.00010261, -0.07974231]],\n",
      "      dtype=float32), array([[ 0.01778567,  0.0154733 ,  0.0906831 ,  0.02108759, -0.08256964],\n",
      "       [ 0.00043966,  0.07743474,  0.01224005, -0.05179312, -0.05221437]],\n",
      "      dtype=float32), array([[ 0.01778567,  0.0154733 ,  0.0906831 ,  0.02108759, -0.08256964]],\n",
      "      dtype=float32), array([[-0.03700633, -0.06643479,  0.08749553, -0.06571333,  0.04259   ]],\n",
      "      dtype=float32), array([[-0.09104987,  0.0469013 , -0.0626659 ,  0.07738256,  0.00689139]],\n",
      "      dtype=float32), array([[-0.07237119,  0.04338704,  0.04797585,  0.0463776 ,  0.00638782],\n",
      "       [ 0.00043966,  0.07743474,  0.01224005, -0.05179312, -0.05221437]],\n",
      "      dtype=float32), array([[-0.07237119,  0.04338704,  0.04797585,  0.0463776 ,  0.00638782],\n",
      "       [-0.08868314,  0.09271047, -0.09385327,  0.000996  ,  0.06419165]],\n",
      "      dtype=float32), array([[-0.07237119,  0.04338704,  0.04797585,  0.0463776 ,  0.00638782],\n",
      "       [ 0.04545621, -0.00628525,  0.06374411,  0.02766641, -0.05198251]],\n",
      "      dtype=float32), array([[-0.07237119,  0.04338704,  0.04797585,  0.0463776 ,  0.00638782]],\n",
      "      dtype=float32), array([[-0.00274907,  0.09269698, -0.03321425, -0.06985636, -0.02144437],\n",
      "       [-0.06518019, -0.02604648, -0.00640966, -0.07878923, -0.07815695],\n",
      "       [ 0.01205631,  0.03798014,  0.01566667,  0.01634356, -0.03692539],\n",
      "       [-0.02729408, -0.06024369, -0.0201121 ,  0.01604223, -0.05703912]],\n",
      "      dtype=float32), array([[-0.00274907,  0.09269698, -0.03321425, -0.06985636, -0.02144437],\n",
      "       [-0.06518019, -0.02604648, -0.00640966, -0.07878923, -0.07815695],\n",
      "       [ 0.01205631,  0.03798014,  0.01566667,  0.01634356, -0.03692539],\n",
      "       [-0.05043422, -0.07791622,  0.05097463, -0.07285146, -0.08339752]],\n",
      "      dtype=float32), array([[-0.00274907,  0.09269698, -0.03321425, -0.06985636, -0.02144437],\n",
      "       [-0.06518019, -0.02604648, -0.00640966, -0.07878923, -0.07815695],\n",
      "       [-0.05369784, -0.01785308, -0.01328776,  0.07305002, -0.01402001],\n",
      "       [ 0.0574745 ,  0.00784008,  0.02468409,  0.00035862, -0.02697184]],\n",
      "      dtype=float32), array([[-0.00274907,  0.09269698, -0.03321425, -0.06985636, -0.02144437]],\n",
      "      dtype=float32), array([[ 0.02380583, -0.06462399, -0.01117582, -0.09187418, -0.05289028],\n",
      "       [-0.08868314,  0.09271047, -0.09385327,  0.000996  ,  0.06419165]],\n",
      "      dtype=float32)]\n"
     ]
    }
   ],
   "source": [
    "print (d)"
   ]
  },
  {
   "cell_type": "code",
   "execution_count": 20,
   "metadata": {},
   "outputs": [
    {
     "data": {
      "text/plain": [
       "43"
      ]
     },
     "execution_count": 20,
     "metadata": {},
     "output_type": "execute_result"
    }
   ],
   "source": [
    "len(d)"
   ]
  },
  {
   "cell_type": "code",
   "execution_count": 58,
   "metadata": {},
   "outputs": [],
   "source": [
    "vs = [None] * 44\n",
    "vs[0]=0\n",
    "vs[1]=[sum(x) for x in zip(*d[0])]\n",
    "vs[2]=[sum(x) for x in zip(*d[1])]\n",
    "vs[3]=[sum(x) for x in zip(*d[2])]\n",
    "vs[4]=[sum(x) for x in zip(*d[3])]\n",
    "vs[5]=[sum(x) for x in zip(*d[4])]\n",
    "vs[6]=[sum(x) for x in zip(*d[5])]\n",
    "vs[7]=[sum(x) for x in zip(*d[6])]\n",
    "vs[8]=[sum(x) for x in zip(*d[7])]\n",
    "vs[9]=[sum(x) for x in zip(*d[8])]\n",
    "vs[10]=[sum(x) for x in zip(*d[9])]\n",
    "vs[11]=[sum(x) for x in zip(*d[10])]\n",
    "vs[12]=[sum(x) for x in zip(*d[11])]\n",
    "vs[13]=[sum(x) for x in zip(*d[12])]\n",
    "vs[14]=[sum(x) for x in zip(*d[13])]\n",
    "vs[15]=[sum(x) for x in zip(*d[14])]\n",
    "vs[17]=np.array(d[16]).tolist()\n",
    "#vs[17]=d[16]\n",
    "vs[16]=[sum(x) for x in zip(*d[15])]\n",
    "#vs[17]=[sum(x) for x in zip(*d[16])]\n",
    "#vs[19]=d[18]\n",
    "vs[18]=[sum(x) for x in zip(*d[17])]\n",
    "#vs[19]=[sum(x) for x in zip(*d[18])]\n",
    "vs[20]=[sum(x) for x in zip(*d[19])]\n",
    "vs[21]=[sum(x) for x in zip(*d[20])]\n",
    "#vs[23]=d[22]\n",
    "vs[22]=[sum(x) for x in zip(*d[21])]\n",
    "#vs[23]=[sum(x) for x in zip(*d[22])]\n",
    "vs[24]=[sum(x) for x in zip(*d[23])]\n",
    "vs[25]=[sum(x) for x in zip(*d[24])]\n",
    "#vs[26]=d[25]\n",
    "#vs[27]=d[26]\n",
    "#vs[26]=[sum(x) for x in zip(*d[25])]\n",
    "#vs[27]=[sum(x) for x in zip(*d[26])]\n",
    "vs[28]=[sum(x) for x in zip(*d[27])]\n",
    "vs[29]=[sum(x) for x in zip(*d[28])]\n",
    "#vs[30]=d[29]\n",
    "#vs[32]=d[31]\n",
    "#vs[33]=d[32]\n",
    "#vs[30]=[sum(x) for x in zip(*d[29])]\n",
    "vs[31]=[sum(x) for x in zip(*d[30])]\n",
    "#vs[32]=[sum(x) for x in zip(*d[31])]\n",
    "#vs[33]=[sum(x) for x in zip(*d[32])]\n",
    "#vs[34]=d[33]\n",
    "#vs[34]=[sum(x) for x in zip(*d[33])]\n",
    "vs[35]=[sum(x) for x in zip(*d[34])]\n",
    "vs[36]=[sum(x) for x in zip(*d[35])]\n",
    "vs[37]=[sum(x) for x in zip(*d[36])]\n",
    "#vs[38]=d[37]\n",
    "#vs[38]=[sum(x) for x in zip(*d[37])]\n",
    "vs[39]=[sum(x) for x in zip(*d[38])]\n",
    "vs[40]=[sum(x) for x in zip(*d[39])]\n",
    "vs[41]=[sum(x) for x in zip(*d[40])]\n",
    "#vs[42]=d[41]\n",
    "#vs[42]=[sum(x) for x in zip(*d[41])]\n",
    "vs[43]=[sum(x) for x in zip(*d[42])]"
   ]
  },
  {
   "cell_type": "code",
   "execution_count": 59,
   "metadata": {},
   "outputs": [],
   "source": [
    "vs[17]=np.array(d[16]).tolist()\n",
    "vs[19]=np.array(d[18]).tolist()\n",
    "vs[23]=np.array(d[22]).tolist()\n",
    "vs[26]=np.array(d[25]).tolist()\n",
    "vs[27]=np.array(d[26]).tolist()\n",
    "vs[30]=np.array(d[29]).tolist()\n",
    "vs[32]=np.array(d[31]).tolist()\n",
    "vs[33]=np.array(d[32]).tolist()\n",
    "vs[34]=np.array(d[33]).tolist()\n",
    "vs[38]=np.array(d[37]).tolist()\n",
    "vs[42]=np.array(d[41]).tolist()"
   ]
  },
  {
   "cell_type": "code",
   "execution_count": 61,
   "metadata": {},
   "outputs": [
    {
     "data": {
      "text/plain": [
       "0"
      ]
     },
     "execution_count": 61,
     "metadata": {},
     "output_type": "execute_result"
    }
   ],
   "source": [
    "vs.pop(0)"
   ]
  },
  {
   "cell_type": "code",
   "execution_count": 78,
   "metadata": {},
   "outputs": [],
   "source": [
    "vs_list=[[-0.230910855345428, -0.26168877352029085, -0.18815577775239944, 0.2547303754836321, 0.16602546256035566],\n",
    " [-0.020513635128736496, -0.08071998227387667, -0.06670463643968105, 0.0293105062446557, -0.03509461972862482],\n",
    " [-0.05288999527692795, 0.028743423521518707, -0.031593285501003265, 0.03641205723397434, 0.1318790391087532],\n",
    " [-0.22378493659198284, 0.1016257032752037, -0.07935714069753885, -0.10980158974416554, 0.006728909909725189],\n",
    " [-0.13544671423733234, 0.06707820668816566, 0.01863342896103859, -0.07340009999461472, 0.023907816037535667],\n",
    " [-0.20781790651381016, 0.11046525090932846, 0.06660928204655647, -0.027022500755265355, 0.03029563743621111],\n",
    " [0.03986726514995098, 0.04002580977976322, 0.15228037163615227, -0.1266462802886963, -0.12850383296608925],\n",
    " [0.010028680320829153, 0.03660309128463268, 0.009788177907466888, -0.17246098816394806, -0.09414343908429146],\n",
    " [-0.08282807283103466, 0.09396988712251186, -0.039807964116334915, -0.07695760135538876, 0.03494076058268547],\n",
    " [-0.14341732673346996, 0.1260980423539877, 0.07905479893088341, -0.03842891985550523, 0.02016654604813084],\n",
    " [-0.21993979573016986, 0.1887451894581318, 0.013998273760080338, -0.16116235707886517, -0.0890427315607667],\n",
    " [-0.18208578322082758, 0.4674513842910528, 0.3800803693011403, -0.3005131055833772, 0.3511707237921655],\n",
    " [-0.15519926510751247, 0.13735693134367466, 0.008167888969182968, -0.030580002116039395, 0.04132858198136091],\n",
    " [0.08396362699568272, -0.1314596701413393, 0.13735696487128735, -0.17133794247638434, -0.02391640841960907],\n",
    " [-0.004719508811831474, -0.038749197497963905, 0.04350369982421398, -0.17034194443840533, 0.04027523845434189],\n",
    " [-0.059022242203354836, 0.02934589795768261, -0.05098378099501133, -0.16883178357966244, -0.01794952154159546],\n",
    " [0.07446121424436569, 0.05646457523107529, -0.07959619909524918, -0.0695507675409317, 0.004799549002200365],\n",
    " [-0.06197435036301613, 0.14356794953346252, -0.04350952059030533, 0.08752477169036865, 0.1487869918346405],\n",
    " [0.0004396592848934233, 0.07743474096059799, 0.012240045703947544, -0.05179312080144882, -0.052214365452528],\n",
    " [0.0023318901658058167, -0.09901678562164307, 0.050172148272395134, -0.0474390973104164, 0.055279575288295746],\n",
    " [-0.17796319350600243, -0.05877896957099438, 0.04794635158032179, -0.09855731949210167, 0.014378145337104797],\n",
    " [0.016592419298831373, 0.07029924914240837, -0.06540603842586279, -0.08639654144644737, -0.009208057075738907],\n",
    " [0.03401220217347145, 0.038766395300626755, 0.09823507070541382, -0.04869268089532852, -0.09925294667482376],\n",
    " [0.0014245500788092613, 0.12804065644741058, -0.07747137546539307, -0.16436374932527542, -0.08633691817522049],\n",
    " [-0.08465521456673741, -0.06329706124961376, -0.012321115471422672, -0.14794541336596012, -0.09579548239707947],\n",
    " [-0.06273570656776428, 0.09755677729845047, 0.03864825516939163, 0.0585310161113739, -0.07667272537946701],\n",
    " [-0.029383279383182526, -0.03111203759908676, 0.07892977446317673, -0.02452356182038784, 0.007639279589056969],\n",
    " [0.03844557562842965, -0.10759876295924187, -0.026846222579479218, -0.06888848729431629, 0.06944901193492115],\n",
    " [-0.019175830762833357, 0.21472106222063303, 0.08450000453740358, -0.23594712537305895, -0.09270676271989942],\n",
    " [0.004588846582919359, 0.0663040429353714, 0.08533249795436859, -0.00010261383431497961, -0.07974231243133545],\n",
    " [0.018225329520646483, 0.09290803596377373, 0.1029231483116746, -0.03070552833378315, -0.1347840018570423],\n",
    " [0.01778567023575306, 0.015473295003175735, 0.09068310260772705, 0.021087592467665672, -0.08256963640451431],\n",
    " [-0.037006329745054245, -0.06643478572368622, 0.08749552816152573, -0.06571333110332489, 0.04258999601006508],\n",
    " [-0.09104987233877182, 0.04690130054950714, -0.0626659020781517, 0.07738256454467773, 0.00689138937741518],\n",
    " [-0.07193153299158439, 0.12082178518176079, 0.06021589878946543, -0.005415521562099457, -0.04582654405385256],\n",
    " [-0.161054328083992, 0.1360975168645382, -0.04587741196155548, 0.04737359727732837, 0.0705794682726264],\n",
    " [-0.02691498026251793, 0.03710179217159748, 0.11171996593475342, 0.07404401153326035, -0.045594689436256886],\n",
    " [-0.07237119227647781, 0.043387044221162796, 0.04797585308551788, 0.046377599239349365, 0.006387821398675442],\n",
    " [-0.08316703094169497, 0.04438694007694721, -0.044069341383874416, -0.11625980213284492, -0.19356582313776016],\n",
    " [-0.1063071764074266, 0.02671441249549389, 0.02701738942414522, -0.20515348762273788, -0.2199242264032364],\n",
    " [-0.06415259512141347, 0.05663749668747187, -0.02822758909314871, -0.07523694966221228, -0.14059316366910934],\n",
    " [-0.0027490672655403614, 0.09269697964191437, -0.033214252442121506, -0.06985636055469513, -0.02144436538219452],\n",
    " [-0.06487730517983437, 0.028086483478546143, -0.10502908192574978, -0.09087818418629467, 0.011301364749670029]]"
   ]
  },
  {
   "cell_type": "code",
   "execution_count": 79,
   "metadata": {},
   "outputs": [],
   "source": [
    "vs_array=np.array(vs_list)"
   ]
  },
  {
   "cell_type": "code",
   "execution_count": 80,
   "metadata": {},
   "outputs": [
    {
     "data": {
      "text/plain": [
       "(43, 5)"
      ]
     },
     "execution_count": 80,
     "metadata": {},
     "output_type": "execute_result"
    }
   ],
   "source": [
    "vs_array.shape"
   ]
  },
  {
   "cell_type": "code",
   "execution_count": 92,
   "metadata": {},
   "outputs": [
    {
     "data": {
      "text/plain": [
       "43"
      ]
     },
     "execution_count": 92,
     "metadata": {},
     "output_type": "execute_result"
    }
   ],
   "source": [
    "sorted_weight=[12,12,8,9,8,8,11,11,8,6,11,10,9,7,6,7,5,6,5,6,12,5,11,11,12,10,5,15,2,1,5,11,14,10,10,9,10,10,14,12,13,11,6]\n",
    "len(sorted_weight)"
   ]
  },
  {
   "cell_type": "code",
   "execution_count": 93,
   "metadata": {},
   "outputs": [],
   "source": [
    "for i in range (len(sorted_weight)): \n",
    "    updated_vectors=[a*b for a,b in zip(vs_array,sorted_weight)]"
   ]
  },
  {
   "cell_type": "code",
   "execution_count": 82,
   "metadata": {
    "scrolled": true
   },
   "outputs": [
    {
     "name": "stdout",
     "output_type": "stream",
     "text": [
      "[array([-2.77093026, -3.14026528, -2.25786933,  3.05676451,  1.99230555]), array([-0.24616362, -0.96863979, -0.80045564,  0.35172607, -0.42113544]), array([-0.42311996,  0.22994739, -0.25274628,  0.29129646,  1.05503231]), array([-2.01406443,  0.91463133, -0.71421427, -0.98821431,  0.06056019]), array([-1.08357371,  0.53662565,  0.14906743, -0.5872008 ,  0.19126253]), array([-1.66254325,  0.88372201,  0.53287426, -0.21618001,  0.2423651 ]), array([ 0.43853992,  0.44028391,  1.67508409, -1.39310908, -1.41354216]), array([ 0.11031548,  0.402634  ,  0.10766996, -1.89707087, -1.03557783]), array([-0.66262458,  0.7517591 , -0.31846371, -0.61566081,  0.27952608]), array([-0.86050396,  0.75658825,  0.47432879, -0.23057352,  0.12099928]), array([-2.41933775,  2.07619708,  0.15398101, -1.77278593, -0.97947005]), array([-1.82085783,  4.67451384,  3.80080369, -3.00513106,  3.51170724]), array([-1.39679339,  1.23621238,  0.073511  , -0.27522002,  0.37195724]), array([ 0.58774539, -0.92021769,  0.96149875, -1.1993656 , -0.16741486]), array([-0.02831705, -0.23249518,  0.2610222 , -1.02205167,  0.24165143]), array([-0.4131557 ,  0.20542129, -0.35688647, -1.18182249, -0.12564665]), array([ 0.37230607,  0.28232288, -0.397981  , -0.34775384,  0.02399775]), array([-0.3718461 ,  0.8614077 , -0.26105712,  0.52514863,  0.89272195]), array([ 0.0021983 ,  0.3871737 ,  0.06120023, -0.2589656 , -0.26107183]), array([ 0.01399134, -0.59410071,  0.30103289, -0.28463458,  0.33167745]), array([-2.13555832, -0.70534763,  0.57535622, -1.18268783,  0.17253774]), array([ 0.0829621 ,  0.35149625, -0.32703019, -0.43198271, -0.04604029]), array([ 0.37413422,  0.42643035,  1.08058578, -0.53561949, -1.09178241]), array([ 0.01567005,  1.40844722, -0.85218513, -1.80800124, -0.9497061 ]), array([-1.01586257, -0.75956473, -0.14785339, -1.77534496, -1.14954579]), array([-0.62735707,  0.97556777,  0.38648255,  0.58531016, -0.76672725]), array([-0.1469164 , -0.15556019,  0.39464887, -0.12261781,  0.0381964 ]), array([ 0.57668363, -1.61398144, -0.40269334, -1.03332731,  1.04173518]), array([-0.03835166,  0.42944212,  0.16900001, -0.47189425, -0.18541353]), array([ 0.00458885,  0.06630404,  0.0853325 , -0.00010261, -0.07974231]), array([ 0.09112665,  0.46454018,  0.51461574, -0.15352764, -0.67392001]), array([ 0.19564237,  0.17020625,  0.99751413,  0.23196352, -0.908266  ]), array([-0.51808862, -0.930087  ,  1.22493739, -0.91998664,  0.59625994]), array([-0.91049872,  0.46901301, -0.62665902,  0.77382565,  0.06891389]), array([-0.71931533,  1.20821785,  0.60215899, -0.05415522, -0.45826544]), array([-1.44948895,  1.22487765, -0.41289671,  0.42636238,  0.63521521]), array([-0.2691498 ,  0.37101792,  1.11719966,  0.74044012, -0.45594689]), array([-0.72371192,  0.43387044,  0.47975853,  0.46377599,  0.06387821]), array([-1.16433843,  0.62141716, -0.61697078, -1.62763723, -2.70992152]), array([-1.27568612,  0.32057295,  0.32420867, -2.46184185, -2.63909072]), array([-0.83398374,  0.73628746, -0.36695866, -0.97808035, -1.82771113]), array([-0.03023974,  1.01966678, -0.36535678, -0.76841997, -0.23588802]), array([-0.38926383,  0.1685189 , -0.63017449, -0.54526911,  0.06780819])]\n"
     ]
    }
   ],
   "source": [
    "print (updated_vectors)"
   ]
  },
  {
   "cell_type": "code",
   "execution_count": 85,
   "metadata": {},
   "outputs": [],
   "source": [
    "updated=np.array(updated_vectors)"
   ]
  },
  {
   "cell_type": "code",
   "execution_count": 86,
   "metadata": {},
   "outputs": [
    {
     "data": {
      "text/plain": [
       "(43, 5)"
      ]
     },
     "execution_count": 86,
     "metadata": {},
     "output_type": "execute_result"
    }
   ],
   "source": [
    "updated.shape"
   ]
  },
  {
   "cell_type": "code",
   "execution_count": 89,
   "metadata": {},
   "outputs": [],
   "source": [
    "updated_t=np.transpose(updated)"
   ]
  },
  {
   "cell_type": "code",
   "execution_count": 91,
   "metadata": {},
   "outputs": [
    {
     "data": {
      "image/png": "[encoded data removed]",
      "text/plain": [
       "<Figure size 1152x864 with 2 Axes>"
      ]
     },
     "metadata": {},
     "output_type": "display_data"
    }
   ],
   "source": [
    "import numpy as np\n",
    "import matplotlib\n",
    "import matplotlib.pyplot as plt\n",
    "\n",
    "plt.rcParams[\"font.family\"] = \"Times New Roman\"\n",
    "plt.rcParams.update({'font.size': 16})\n",
    "\n",
    "#categorical data\n",
    "#referents_sorted\n",
    "#sorted_weight\n",
    "#updated_vectors\n",
    "\n",
    "plt.figure(figsize=(16, 12))\n",
    "plt.imshow(updated_t)\n",
    "plt.colorbar(orientation='horizontal', fraction=0.15, pad=0.04)\n",
    "\n",
    "#cbar = ax.figure.colorbar(im, ax=ax)\n",
    "#cbar.ax.set_ylabel(cbarlabel, rotation=-90, va=\"bottom\")\n",
    "\n",
    "plt.yticks(np.arange(5))\n",
    "plt.xticks(np.arange(len(updated_vectors), step=5))\n",
    "\n",
    "\n",
    "plt.savefig('/users/nannanliu/Python/SCIPPC/collective_personal_pronoun/OC_map.png', dpi=100)\n",
    "plt.show()"
   ]
  }
 ],
 "metadata": {
  "kernelspec": {
   "display_name": "Python 3",
   "language": "python",
   "name": "python3"
  },
  "language_info": {
   "codemirror_mode": {
    "name": "ipython",
    "version": 3
   },
   "file_extension": ".py",
   "mimetype": "text/x-python",
   "name": "python",
   "nbconvert_exporter": "python",
   "pygments_lexer": "ipython3",
   "version": "3.6.3"
  }
 },
 "nbformat": 4,
 "nbformat_minor": 2
}
