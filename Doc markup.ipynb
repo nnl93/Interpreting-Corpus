{
 "cells": [
  {
   "cell_type": "code",
   "execution_count": 65,
   "metadata": {},
   "outputs": [
    {
     "name": "stdout",
     "output_type": "stream",
     "text": [
      "<reporter></reporter>英国《金融时报》记者\n",
      "\n"
     ]
    }
   ],
   "source": [
    "#revise记者\n",
    "with open('/users/nannanliu/Python/SCIPPC/2003_chinese_new.txt', 'r') as file:\n",
    "    # read a list of lines into data\n",
    "    lines = file.readlines()\n",
    "\n",
    "print (lines[924])\n",
    "\n"
   ]
  },
  {
   "cell_type": "code",
   "execution_count": 68,
   "metadata": {},
   "outputs": [
    {
     "name": "stdout",
     "output_type": "stream",
     "text": [
      "<reporter></reporter>\n",
      "\n"
     ]
    }
   ],
   "source": [
    "#revise记者\n",
    "lines[924]=\"<reporter></reporter>\\n\"\n",
    "print (lines[924])\n",
    "\n",
    "with open('/users/nannanliu/Python/SCIPPC/2003_chinese_new.txt', 'w') as file:\n",
    "    file.writelines(lines)"
   ]
  },
  {
   "cell_type": "code",
   "execution_count": 6,
   "metadata": {},
   "outputs": [],
   "source": [
    "#Add tags\n",
    "\n",
    "import re\n",
    "f=open('/users/nannanliu/Python/SCIPPC/2003_chinese_new.txt')\n",
    "#f=open('/users/nannanliu/2003_chinese_new.txt')\n",
    "lines=f.read()\n",
    "\n",
    "#newlines=lines.replace(\"/n<editor>nnl</editor>/n<title>2003 Premier Press Conference Edited Source Text</title>/n<date>18 March 2003</date>/n<time_length>109h51min</time_length>/n<source_chn>http://news.ifeng.com/mainland/special/wenjiabao10nian/detail_2012_03/13/13166762_0.shtml</source_chn>/n<participants>/n<moderator_name>Jiang Enzhu</moderator_name>/n<speaker_name>Wen Jiabao</speaker_name>/n<interpreter_name>Zhang Jianmin</interpreter_name>/n<MFA_spokesperson>un known</MFA_spokesperson>/n<NPC_spokesperson>not present</NPC_spokesperson>/n<vice_premier>Huang Ju, Wu Yi, Zeng Peiyan, Hui Liangyu</vice_premier>/n</participants>/n<p>/n<moderator></moderator>/n<text>女士们，先生们，上午好。我们非常荣幸和高兴的邀请新任国务院总理温家宝与大家见面，并回答记者的提问。我们还非常高兴地邀请副总理黄菊、吴仪、曾培炎、回良玉与大家见面。现在请温总理给大家先讲几句话。</text>/n<action>applause</action>/n</p>\", \"<p><moderator></moderator>女士们，先生们，上午好。我们非常荣幸和高兴的邀请新任国务院总理温家宝与大家见面，并回答记者的提问。我们还非常高兴地邀请副总理黄菊、吴仪、曾培炎、回良玉与大家见面。现在请温总理给大家先讲几句话。<action>applause</action></p>\")\n",
    "#newlines=lines.replace(\"</speaker>\", \"</speaker>\\n<text>\")\n",
    "#newlines=lines.replace(\"</moderator>\", \"</moderator>\\n<text>\")\n",
    "#newlines=lines.replace(\"</MFA_spokesperson>\", \"</MFA_spokesperson>\\n<text>\")\n",
    "#newlines=lines.replace(\"<text>\\n\", \"<text>\")\n",
    "#newlines=lines.replace(\"</moderator>\\n<text>\\n\", \"</moderator>\\n<text>\")\n",
    "#newlines=lines.replace(\"</p>\", \"\\n</p>\")\n",
    "#newlines=lines.replace(\"<action>\", \"\\n<action>\")\n",
    "#newlines=lines.replace(\"<comment>\", \"\\n<comment>\")\n",
    "\n",
    "#chn_comma=''.join(temp)\n",
    "#newlines=lines.replace(\"chn_comma\", \"chn_comma<\\text>\\n\")\n",
    "\n",
    "#newlines=re.sub(r'。\\n', '。</text>\\n', newlines, flags=re.DOTALL)\n",
    "#这个可以用但是有误，还没想好re怎么改\n",
    "#newlines=re.sub(r'(。\\n)', '(。<\\text>\\n)', newlines, flags=re.DOTALL)\n",
    "#newlines=re.sub(r'<\\text>', '<temp>', newlines, flags=re.DOTALL)\n",
    "#newlines=lines.replace(\"<\text>\", \"</text>\")\n",
    "#newlines=lines.replace(\"<htext>\", \"</text>\")\n",
    "#newlines=re.sub(r'。\\n', '。</text>\\n', newlines, flags=re.DOTALL)\n",
    "#newlines=lines.replace(\"］\", \"\\n<text>\")\n",
    "newlines=lines.replace(\"？\\n\", \"？</text>\\n\")\n",
    "\n",
    "with open('/users/nannanliu/Python/SCIPPC/2003_chinese_new.txt', 'w') as file:\n",
    "#with open('/users/nannanliu/2003_chinese_new.txt', 'w') as file:\n",
    "    file.writelines(newlines)"
   ]
  },
  {
   "cell_type": "code",
   "execution_count": 53,
   "metadata": {},
   "outputs": [
    {
     "name": "stdout",
     "output_type": "stream",
     "text": [
      "<text>尽管这些年啊，我们反腐败取得很大的成绩，但是应当承认，在我们社会还存在比较严重的腐败现象。随着经济经济的转轨，在某些领域尤为突出。 \n",
      "\n"
     ]
    }
   ],
   "source": [
    "#加上</text>\n",
    "with open('/users/nannanliu/Python/SCIPPC/2003_chinese_new.txt', 'r') as file:\n",
    "    # read a list of lines into data\n",
    "    lines = file.readlines()\n",
    "\n",
    "print (lines[446])"
   ]
  },
  {
   "cell_type": "code",
   "execution_count": 54,
   "metadata": {},
   "outputs": [
    {
     "name": "stdout",
     "output_type": "stream",
     "text": [
      "<text>尽管这些年啊，我们反腐败取得很大的成绩，但是应当承认，在我们社会还存在比较严重的腐败现象。随着经济经济的转轨，在某些领域尤为突出。</text>\n",
      "\n"
     ]
    }
   ],
   "source": [
    "#加上</text>\n",
    "lines [446]=\"<text>尽管这些年啊，我们反腐败取得很大的成绩，但是应当承认，在我们社会还存在比较严重的腐败现象。随着经济经济的转轨，在某些领域尤为突出。</text>\\n\"\n",
    "#lines[281]=\"<text>松紧适度啊，就是要使发展的速度、改革的力度和社会可承受的程度啊相适应。保持改革、发展和稳定的结合。</text>\\n\"\n",
    "print (lines[446])\n",
    "\n",
    "with open('/users/nannanliu/Python/SCIPPC/2003_chinese_new.txt', 'w') as file:\n",
    "    file.writelines(lines)"
   ]
  },
  {
   "cell_type": "code",
   "execution_count": 31,
   "metadata": {},
   "outputs": [
    {
     "name": "stdout",
     "output_type": "stream",
     "text": [
      "<comment>sic</comment>\n",
      "<text>临香港亲自为我们打打气，我相信香港市民一定会很欢迎的。谢谢。</text>\n"
     ]
    }
   ],
   "source": [
    "lines [292]=\"<comment>sic</comment>\\n<text>临香港亲自为我们打打气，我相信香港市民一定会很欢迎的。谢谢。</text>\"\n",
    "#lines[281]=\"<text>松紧适度啊，就是要使发展的速度、改革的力度和社会可承受的程度啊相适应。保持改革、发展和稳定的结合。</text>\\n\"\n",
    "print (lines[292])\n",
    "\n",
    "with open('/users/nannanliu/Python/SCIPPC/2003_chinese_new.txt', 'w') as file:\n",
    "    file.writelines(lines)"
   ]
  },
  {
   "cell_type": "code",
   "execution_count": null,
   "metadata": {},
   "outputs": [],
   "source": []
  },
  {
   "cell_type": "code",
   "execution_count": null,
   "metadata": {},
   "outputs": [],
   "source": [
    "#revise记者\n",
    "with open('/users/nannanliu/Python/SCIPPC/2003_chinese_new.txt', 'r') as file:\n",
    "    # read a list of lines into data\n",
    "    lines = file.readlines()\n",
    "\n",
    "print (lines[924])"
   ]
  },
  {
   "cell_type": "code",
   "execution_count": 69,
   "metadata": {},
   "outputs": [
    {
     "name": "stdout",
     "output_type": "stream",
     "text": [
      "<reporter></reporter>\n",
      "\n"
     ]
    }
   ],
   "source": [
    "#revise记者\n",
    "lines[924]=\"<reporter></reporter>\\n\"\n",
    "print (lines[924])\n",
    "\n",
    "with open('/users/nannanliu/Python/SCIPPC/2003_chinese_new.txt', 'w') as file:\n",
    "    file.writelines(lines)"
   ]
  },
  {
   "cell_type": "code",
   "execution_count": 86,
   "metadata": {},
   "outputs": [],
   "source": [
    "#Add tags\n",
    "\n",
    "import re\n",
    "f=open('/users/nannanliu/Python/SCIPPC/2003_english_new.txt')\n",
    "#f=open('/users/nannanliu/2003_chinese_new.txt')\n",
    "lines=f.read()\n",
    "\n",
    "#newlines=lines.replace(\"/n<editor>nnl</editor>/n<title>2003 Premier Press Conference Edited Source Text</title>/n<date>18 March 2003</date>/n<time_length>109h51min</time_length>/n<source_chn>http://news.ifeng.com/mainland/special/wenjiabao10nian/detail_2012_03/13/13166762_0.shtml</source_chn>/n<participants>/n<moderator_name>Jiang Enzhu</moderator_name>/n<speaker_name>Wen Jiabao</speaker_name>/n<interpreter_name>Zhang Jianmin</interpreter_name>/n<MFA_spokesperson>un known</MFA_spokesperson>/n<NPC_spokesperson>not present</NPC_spokesperson>/n<vice_premier>Huang Ju, Wu Yi, Zeng Peiyan, Hui Liangyu</vice_premier>/n</participants>/n<p>/n<moderator></moderator>/n<text>女士们，先生们，上午好。我们非常荣幸和高兴的邀请新任国务院总理温家宝与大家见面，并回答记者的提问。我们还非常高兴地邀请副总理黄菊、吴仪、曾培炎、回良玉与大家见面。现在请温总理给大家先讲几句话。</text>/n<action>applause</action>/n</p>\", \"<p><moderator></moderator>女士们，先生们，上午好。我们非常荣幸和高兴的邀请新任国务院总理温家宝与大家见面，并回答记者的提问。我们还非常高兴地邀请副总理黄菊、吴仪、曾培炎、回良玉与大家见面。现在请温总理给大家先讲几句话。<action>applause</action></p>\")\n",
    "#newlines=lines.replace(\"</interpreter>\", \"</interpreter>\\n<text>\")\n",
    "#newlines=lines.replace(\"</moderator>\", \"</moderator>\\n<text>\")\n",
    "#newlines=lines.replace(\"</MFA_spokesperson>\", \"</MFA_spokesperson>\\n<text>\")\n",
    "#newlines=lines.replace(\"<text>\\n\", \"<text>\")\n",
    "#newlines=lines.replace(\"</moderator>\\n<text>\\n\", \"</moderator>\\n<text>\")\n",
    "#newlines=lines.replace(\"</p>\", \"</p>\\n\")\n",
    "#newlines=lines.replace(\"<p>\", \"<p>\\n\")\n",
    "#newlines=lines.replace(\"\\n<time_lag>\", \"<time_lag>\")\n",
    "#newlines=lines.replace(\"</time_lag>\", \"</time_lag>\\n<text>\")\n",
    "#newlines=lines.replace(\"<text> \", \"<text>\")\n",
    "#newlines=lines.replace(\".  \\n\", \".</text>\\n\")\n",
    "#newlines=lines.replace(\"</comment>\", \"</comment>\\n<text>\")\n",
    "newlines=lines.replace(\"<action>\", \"</text>\\n<action>\")\n",
    "\n",
    "#chn_comma=''.join(temp)\n",
    "#newlines=lines.replace(\"chn_comma\", \"chn_comma<\\text>\\n\")\n",
    "\n",
    "#newlines=re.sub(r'<(/[a-z]+)>', '。</text>\\n', newlines, flags=re.DOTALL)\n",
    "#这个可以用但是有误，还没想好re怎么改\n",
    "#newlines=re.sub(r'(。\\n)', '(。<\\text>\\n)', newlines, flags=re.DOTALL)\n",
    "#newlines=re.sub(r'<\\text>', '<temp>', newlines, flags=re.DOTALL)\n",
    "#newlines=lines.replace(\"<\text>\", \"</text>\")\n",
    "#newlines=lines.replace(\"<htext>\", \"</text>\")\n",
    "#newlines=re.sub(r'。\\n', '。</text>\\n', newlines, flags=re.DOTALL)\n",
    "#newlines=lines.replace(\"］\", \"\\n<text>\")\n",
    "#newlines=lines.replace(\"？\\n\", \"？</text>\\n\")\n",
    "\n",
    "with open('/users/nannanliu/Python/SCIPPC/2003_english_new.txt', 'w') as file:\n",
    "#with open('/users/nannanliu/2003_chinese_new.txt', 'w') as file:\n",
    "    file.writelines(newlines)"
   ]
  },
  {
   "cell_type": "code",
   "execution_count": 1,
   "metadata": {},
   "outputs": [
    {
     "name": "stdout",
     "output_type": "stream",
     "text": [
      "<p>\n",
      "\n"
     ]
    }
   ],
   "source": [
    "#add root element\n",
    "with open('/users/nannanliu/Python/SCIPPC/2003_chinese_new.txt', 'r') as file:\n",
    "    # read a list of lines into data\n",
    "    lines = file.readlines()\n",
    "\n",
    "print (lines[0])"
   ]
  },
  {
   "cell_type": "code",
   "execution_count": 3,
   "metadata": {},
   "outputs": [
    {
     "name": "stdout",
     "output_type": "stream",
     "text": [
      "<root>\n",
      "<p>\n",
      "\n"
     ]
    }
   ],
   "source": [
    "#revise记者\n",
    "lines[0]=\"<root>\\n<p>\\n\"\n",
    "print (lines[0])\n",
    "\n",
    "with open('/users/nannanliu/Python/SCIPPC/2003_chinese_new.txt', 'w') as file:\n",
    "    file.writelines(lines)"
   ]
  },
  {
   "cell_type": "code",
   "execution_count": 4,
   "metadata": {},
   "outputs": [
    {
     "name": "stdout",
     "output_type": "stream",
     "text": [
      "797\n"
     ]
    }
   ],
   "source": [
    "with open('/users/nannanliu/Python/SCIPPC/2003_chinese_new.txt', 'r') as f:\n",
    "    lines_chn = f.readlines()\n",
    "    countlines_chn = len([l for l in lines_chn if l.strip(' \\n') != ''])\n",
    "    print (countlines_chn)"
   ]
  },
  {
   "cell_type": "code",
   "execution_count": 12,
   "metadata": {},
   "outputs": [
    {
     "name": "stdout",
     "output_type": "stream",
     "text": [
      "</p>\n",
      "\n"
     ]
    }
   ],
   "source": [
    "#add root element\n",
    "with open('/users/nannanliu/Python/SCIPPC/2003_chinese_new.txt', 'r') as file:\n",
    "    # read a list of lines into data\n",
    "    lines = file.readlines()\n",
    "\n",
    "print (lines[975])"
   ]
  },
  {
   "cell_type": "code",
   "execution_count": 14,
   "metadata": {},
   "outputs": [
    {
     "name": "stdout",
     "output_type": "stream",
     "text": [
      "</p>\n",
      "\n",
      "</root>\n"
     ]
    }
   ],
   "source": [
    "#add end root element\n",
    "lines[975]=\"</p>\\n\\n</root>\"\n",
    "print (lines[975])\n",
    "\n",
    "with open('/users/nannanliu/Python/SCIPPC/2003_chinese_new.txt', 'w') as file:\n",
    "    file.writelines(lines)"
   ]
  },
  {
   "cell_type": "code",
   "execution_count": 18,
   "metadata": {},
   "outputs": [
    {
     "name": "stdout",
     "output_type": "stream",
     "text": [
      "</p>\n"
     ]
    }
   ],
   "source": [
    "#add root element\n",
    "with open('/users/nannanliu/Python/SCIPPC/2003_english_new.txt', 'r') as file:\n",
    "    # read a list of lines into data\n",
    "    lines = file.readlines()\n",
    "\n",
    "print (lines[1148])"
   ]
  },
  {
   "cell_type": "code",
   "execution_count": 19,
   "metadata": {},
   "outputs": [
    {
     "name": "stdout",
     "output_type": "stream",
     "text": [
      "</p>\n",
      "\n",
      "</root>\n"
     ]
    }
   ],
   "source": [
    "#add end root element\n",
    "#lines[0]=\"<root>\\n<p>\\n\"\n",
    "#print (lines[0])\n",
    "lines[1148]=\"</p>\\n\\n</root>\"\n",
    "print (lines[1148])\n",
    "\n",
    "with open('/users/nannanliu/Python/SCIPPC/2003_english_new.txt', 'w') as file:\n",
    "    file.writelines(lines)"
   ]
  },
  {
   "cell_type": "code",
   "execution_count": null,
   "metadata": {},
   "outputs": [],
   "source": []
  }
 ],
 "metadata": {
  "kernelspec": {
   "display_name": "Python 3",
   "language": "python",
   "name": "python3"
  },
  "language_info": {
   "codemirror_mode": {
    "name": "ipython",
    "version": 3
   },
   "file_extension": ".py",
   "mimetype": "text/x-python",
   "name": "python",
   "nbconvert_exporter": "python",
   "pygments_lexer": "ipython3",
   "version": "3.6.3"
  }
 },
 "nbformat": 4,
 "nbformat_minor": 2
}
