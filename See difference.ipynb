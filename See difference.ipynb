{
 "cells": [
  {
   "cell_type": "code",
   "execution_count": 44,
   "metadata": {},
   "outputs": [
    {
     "data": {
      "text/plain": [
       "True"
      ]
     },
     "execution_count": 44,
     "metadata": {},
     "output_type": "execute_result"
    }
   ],
   "source": [
    "temp = orig[20]\n",
    "\n",
    "temp == '，'"
   ]
  },
  {
   "cell_type": "code",
   "execution_count": null,
   "metadata": {},
   "outputs": [],
   "source": []
  },
  {
   "cell_type": "code",
   "execution_count": 47,
   "metadata": {},
   "outputs": [
    {
     "name": "stdout",
     "output_type": "stream",
     "text": [
      "Delete \"正\" 3\n",
      "Add \"啊\" 4\n",
      "Add \"资\" 10\n",
      "Add \"本\" 11\n",
      "Add \"项\" 12\n",
      "Add \"下\" 13\n",
      "Add \"的\" 14\n",
      "Delete \"资\" 18\n",
      "Delete \"本\" 19\n",
      "Delete \"项\" 20\n",
      "Delete \"下\" 21\n",
      "Delete \"的\" 22\n",
      "Add \"啊\" 33\n",
      "Add \"听\" 49\n",
      "Add \"到\" 50\n",
      "Add \"呃\" 85\n",
      "Add \"呃\" 101\n",
      "Add \"还\" 120\n",
      "Delete \"达\" 136\n",
      "Delete \"到\" 137\n",
      "Add \"已\" 138\n",
      "Add \"经\" 139\n",
      "Add \"是\" 140\n",
      "Delete \"元\" 147\n",
      "Add \"金\" 148\n",
      "Add \"呢\" 153\n",
      "Add \"啊\" 157\n",
      "Delete \"既\" 188\n",
      "Add \"啊\" 196\n",
      "\n",
      "中国[[正]]{啊}逐步推进人{资}{本}{项}{下}{的}下的可[[兑]][[换]][[，]][[这]][[本]]身也表明在推进资本市{啊}的开放。但是你说有大量的中国人{听}{到}外购房，而且成了某些热点城市的最大购买者，这个可能还要做评估，我没有{呃}方面确切的消息。我所得到的是，{呃}国去年吸引外资是力度最大的一年。外资{还}入中国达到1200亿美元。同时[[，]][[我]]{已}{经}{是}意看到中国的[[企]]{金}“走出去{呢}，中国{啊}公民到国外去创业，当然，既要遵守中国有关法律的规定，也要遵守[[当]]地的法律。\n",
      "{啊}\n"
     ]
    }
   ],
   "source": [
    "orig = \"\"\"\n",
    "中国正在逐步推进人民币资本项下的可兑换，这本身也表明在推进资本市场的开放。但是你说有大量的中国人到海外购房，而且成了某些热点城市的最大购买者，这个可能还要做评估，我没有这方面确切的消息。我所得到的是，中国去年吸引外资是力度最大的一年。外资进入中国达到1200亿美元。同时，我们也愿意看到中国的企业“走出去”，中国的公民到国外去创业，当然，既要遵守中国有关法律的规定，也要遵守当地的法律。\n",
    "\"\"\"\n",
    "\n",
    "edit = \"\"\"\n",
    "中国啊在逐步推进资本项下的人民币可兑换，这本身也表明啊在推进资本市场的开放。但是你说听到有大量的中国人到海外购房，而且成了某些热点城市的最大购买者，这个可能呃还要做评估，我没有这方面确切的呃消息。我所得到的是，中国去年吸引外资还是力度最大的一年。外资进入中国已经是1200亿美金。同时呢我们也啊愿意看到中国的企业“走出去”，中国的公民到国外去创业，当然，要遵守中国有关啊法律的规定，也要遵守当地的法律。\n",
    "\"\"\"\n",
    "\n",
    "txt = list(orig)\n",
    "\n",
    "added = []\n",
    "deleted = []\n",
    "for i,s in enumerate(difflib.ndiff(orig, edit)):\n",
    "    # continue allows you to ignore certain characters\n",
    "    # This ignores spaces. You can add additional characters to the ignore list\n",
    "    if s[0]==' ': continue\n",
    "    elif s[-1] == '，': continue\n",
    "    # If its a deletion\n",
    "    elif s[0]=='-':\n",
    "        print(u'Delete \"{}\"'.format(s[-1]), i)\n",
    "        txt[i]= \"[[\" + orig[i] + \"]]\"\n",
    "        deleted.append(s[-1])\n",
    "    # If its an addition\n",
    "    elif s[0]=='+':\n",
    "        print(u'Add \"{}\"'.format(s[-1]), i)\n",
    "        if i > len(txt):\n",
    "            txt.append(\"{\"+ s[-1] + \"}\")\n",
    "        else:\n",
    "            txt[i]= \"{\"+ s[-1] + \"}\"\n",
    "        added.append(s[-1])\n",
    "\n",
    "txt = ''.join(txt)\n",
    "print(txt)"
   ]
  },
  {
   "cell_type": "code",
   "execution_count": 15,
   "metadata": {},
   "outputs": [
    {
     "data": {
      "text/plain": [
       "'正资本项下的达到元，既'"
      ]
     },
     "execution_count": 15,
     "metadata": {},
     "output_type": "execute_result"
    }
   ],
   "source": [
    "''.join(deleted)"
   ]
  },
  {
   "cell_type": "code",
   "execution_count": 16,
   "metadata": {},
   "outputs": [],
   "source": [
    "out_str = \"Added: \\n\" + ''.join(added) + '\\n Deleted: \\n' + ''.join(deleted) \n",
    "with open('added.txt', 'w') as f:\n",
    "    f.write(out_str)"
   ]
  },
  {
   "cell_type": "code",
   "execution_count": 1,
   "metadata": {},
   "outputs": [
    {
     "name": "stdout",
     "output_type": "stream",
     "text": [
      "afrykanerskojęzyczny => afrykanerskojęzycznym\n",
      "Add \"m\" to position 20\n",
      "\n",
      "afrykanerskojęzyczni => nieafrykanerskojęzyczni\n",
      "Add \"n\" to position 0\n",
      "Add \"i\" to position 1\n",
      "Add \"e\" to position 2\n",
      "\n",
      "afrykanerskojęzycznym => afrykanerskojęzyczny\n",
      "Delete \"m\" from position 20\n",
      "\n",
      "nieafrykanerskojęzyczni => afrykanerskojęzyczni\n",
      "Delete \"n\" from position 0\n",
      "Delete \"i\" from position 1\n",
      "Delete \"e\" from position 2\n",
      "\n",
      "nieafrynerskojęzyczni => afrykanerskojzyczni\n",
      "Delete \"n\" from position 0\n",
      "Delete \"i\" from position 1\n",
      "Delete \"e\" from position 2\n",
      "Add \"k\" to position 7\n",
      "Add \"a\" to position 8\n",
      "Delete \"ę\" from position 16\n",
      "\n",
      "abcdefg => xac\n",
      "Add \"x\" to position 0\n",
      "Delete \"b\" from position 2\n",
      "Delete \"d\" from position 4\n",
      "Delete \"e\" from position 5\n",
      "Delete \"f\" from position 6\n",
      "Delete \"g\" from position 7\n",
      "\n"
     ]
    }
   ],
   "source": [
    "import difflib\n",
    "\n",
    "paragraphs=[('afrykanerskojęzyczny', 'afrykanerskojęzycznym'),\n",
    "            ('afrykanerskojęzyczni', 'nieafrykanerskojęzyczni'),\n",
    "            ('afrykanerskojęzycznym', 'afrykanerskojęzyczny'),\n",
    "            ('nieafrykanerskojęzyczni', 'afrykanerskojęzyczni'),\n",
    "            ('nieafrynerskojęzyczni', 'afrykanerskojzyczni'),\n",
    "            ('abcdefg','xac')] \n",
    "\n",
    "for a,b in paragraphs:     \n",
    "    print('{} => {}'.format(a,b))  \n",
    "    for i,s in enumerate(difflib.ndiff(a, b)):\n",
    "        if s[0]==' ': continue\n",
    "        elif s[0]=='-':\n",
    "            print(u'Delete \"{}\" from position {}'.format(s[-1],i))\n",
    "        elif s[0]=='+':\n",
    "            print(u'Add \"{}\" to position {}'.format(s[-1],i))    \n",
    "    print()      "
   ]
  },
  {
   "cell_type": "code",
   "execution_count": 6,
   "metadata": {},
   "outputs": [
    {
     "name": "stdout",
     "output_type": "stream",
     "text": [
      "Good morning ladies and gentlemen, we are very honor and delighted, to have with us newly elected premier Wen Jiabo to meet with you and to take your questions. We are also very delighted to have with us the vice premiers, Huang Ju,Wu Yi,Zeng Peiyan and Hui Liangyu. Now I would like to first give the floor to Premier Wen.\n",
      "\n",
      "I would like to take the opportunity to first say a few words to the people across the country and thank you for the great trust you place on me. I am a very ordinary person. I come from a family of teachers in the countryside. My grandfather, my father and my mother were all teachers. My childhood was spent in the turmoil of war. Our home was literally burnt down by the flame of war and so was the primary school, which my grandfather built with his own hands. The untold suffering in the days of old China left an indelible imprint on my tender mind. \n",
      "\n",
      "{{{I}}}Good morning ladies and gentlemen, we are very honor and delighted, to have with us newly elected premier Wen Jiabo to meet with you and to take your questions. We are also very delighted to have with us the vice premiers, Huang Ju,Wu Yi,Zeng Peiyan and Hui Liangyu. Now I would like to first give the floor to Premier Wen.\n",
      "\n"
     ]
    },
    {
     "ename": "TypeError",
     "evalue": "'str' object does not support item assignment",
     "output_type": "error",
     "traceback": [
      "\u001b[0;31m---------------------------------------------------------------------------\u001b[0m",
      "\u001b[0;31mTypeError\u001b[0m                                 Traceback (most recent call last)",
      "\u001b[0;32m<ipython-input-6-e9c54df44501>\u001b[0m in \u001b[0;36m<module>\u001b[0;34m()\u001b[0m\n\u001b[1;32m     19\u001b[0m         \u001b[0;32mif\u001b[0m \u001b[0ms\u001b[0m\u001b[0;34m[\u001b[0m\u001b[0;36m0\u001b[0m\u001b[0;34m]\u001b[0m\u001b[0;34m==\u001b[0m\u001b[0;34m' '\u001b[0m\u001b[0;34m:\u001b[0m \u001b[0;32mcontinue\u001b[0m\u001b[0;34m\u001b[0m\u001b[0m\n\u001b[1;32m     20\u001b[0m         \u001b[0;32melif\u001b[0m \u001b[0ms\u001b[0m\u001b[0;34m[\u001b[0m\u001b[0;36m0\u001b[0m\u001b[0;34m]\u001b[0m\u001b[0;34m==\u001b[0m\u001b[0;34m'-'\u001b[0m\u001b[0;34m:\u001b[0m\u001b[0;34m\u001b[0m\u001b[0m\n\u001b[0;32m---> 21\u001b[0;31m             \u001b[0mtxt\u001b[0m\u001b[0;34m[\u001b[0m\u001b[0mi\u001b[0m\u001b[0;34m]\u001b[0m\u001b[0;34m=\u001b[0m\u001b[0;34m'[[['\u001b[0m \u001b[0;34m+\u001b[0m \u001b[0ms\u001b[0m\u001b[0;34m[\u001b[0m\u001b[0;34m-\u001b[0m\u001b[0;36m1\u001b[0m\u001b[0;34m]\u001b[0m \u001b[0;34m+\u001b[0m \u001b[0;34m']]]'\u001b[0m\u001b[0;34m\u001b[0m\u001b[0m\n\u001b[0m\u001b[1;32m     22\u001b[0m             \u001b[0mdeleted\u001b[0m\u001b[0;34m.\u001b[0m\u001b[0mappend\u001b[0m\u001b[0;34m(\u001b[0m\u001b[0ms\u001b[0m\u001b[0;34m[\u001b[0m\u001b[0;34m-\u001b[0m\u001b[0;36m1\u001b[0m\u001b[0;34m]\u001b[0m\u001b[0;34m)\u001b[0m\u001b[0;34m\u001b[0m\u001b[0m\n\u001b[1;32m     23\u001b[0m         \u001b[0;32melif\u001b[0m \u001b[0ms\u001b[0m\u001b[0;34m[\u001b[0m\u001b[0;36m0\u001b[0m\u001b[0;34m]\u001b[0m\u001b[0;34m==\u001b[0m\u001b[0;34m'+'\u001b[0m\u001b[0;34m:\u001b[0m\u001b[0;34m\u001b[0m\u001b[0m\n",
      "\u001b[0;31mTypeError\u001b[0m: 'str' object does not support item assignment"
     ]
    }
   ],
   "source": [
    "import difflib\n",
    "\n",
    "target_file=open (\"/users/nannanliu/Python/SCIPPC/2003_target_text.txt\", \"r\")\n",
    "target_official_file=open (\"/users/nannanliu/Python/SCIPPC/2003 target_official text.txt\", \"r\")\n",
    "\n",
    "for target, target_official in zip (target_file, target_official_file): \n",
    "    print (target)\n",
    "    print (target_official)\n",
    "    \n",
    "    txt=list(target)\n",
    "    added=[]\n",
    "    deleted=[]\n",
    "    count=0\n",
    "    \n",
    "    #x = 3 # assign 3 to the variable named 'x'\n",
    "    #if x == 3: # check if x is equal to 3\n",
    "    \n",
    "    for i, s in enumerate (difflib.ndiff(target, target_official)):\n",
    "        if s[0]==' ': continue \n",
    "        elif s[0]=='-': \n",
    "            txt[i]='[[[' + s[-1] + ']]]'\n",
    "            deleted.append(s[-1])\n",
    "        elif s[0]=='+':\n",
    "            txt.insert(i, '{{{' + s[-1] +'}}}')\n",
    "            added.append(s[-1])\n",
    "            \n",
    "        txt=''.join(txt)\n",
    "        txt=txt.replace('}}}{{{', '')\n",
    "        txt=txt.replace(']]][[[', '')\n",
    "        print (txt)\n",
    "        \n",
    "target_file.close()\n",
    "target_official_file.close()        "
   ]
  },
  {
   "cell_type": "code",
   "execution_count": null,
   "metadata": {},
   "outputs": [],
   "source": []
  }
 ],
 "metadata": {
  "kernelspec": {
   "display_name": "Python 3",
   "language": "python",
   "name": "python3"
  },
  "language_info": {
   "codemirror_mode": {
    "name": "ipython",
    "version": 3
   },
   "file_extension": ".py",
   "mimetype": "text/x-python",
   "name": "python",
   "nbconvert_exporter": "python",
   "pygments_lexer": "ipython3",
   "version": "3.6.3"
  }
 },
 "nbformat": 4,
 "nbformat_minor": 2
}
