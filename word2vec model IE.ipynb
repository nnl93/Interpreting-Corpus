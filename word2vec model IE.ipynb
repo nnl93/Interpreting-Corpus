{
 "cells": [
  {
   "cell_type": "markdown",
   "metadata": {},
   "source": [
    "这部分看的是topic会不会影响referent，referent是把词转换成向量word2vec得到的，下面先描述如何转换成向量。"
   ]
  },
  {
   "cell_type": "code",
   "execution_count": 1,
   "metadata": {},
   "outputs": [],
   "source": [
    "#这些是referent的词，以下到那张imshow格子图之前都是如何得出向量的过程\n",
    "sentences_ie=[['inclusive'], ['inclusive'], ['inclusive'], ['inclusive'], ['imagined', 'plural'], ['imagined', 'plural'], ['i'], ['i'], ['this', 'government'], ['this', 'government'], ['this', 'government'], ['this', 'government'], ['imagined', 'plural'], ['imagined', 'plural'], ['this', 'government'], ['this', 'government'], ['this', 'government'], ['this', 'government'], ['imagined', 'plural'], ['this', 'government'], ['the', 'government'], ['imagined', 'plural'], ['the', 'government'], ['imagined', 'plural'], ['i'], ['the', 'central', 'government'], ['the', 'government'], ['the', 'government'], ['the', 'government'], ['i'], ['the', 'party', 'and', 'government'], ['the', 'party', 'and', 'government'], ['this', 'government'], ['the', 'government'], ['imagined', 'plural'], ['the', 'government'], ['the', 'government'], ['i'], ['the', 'government'], ['the', 'government'], ['the', 'new', 'government'], ['the', 'new', 'government'], ['the', 'government'], ['the', 'government'], ['imagined', 'plural'], ['imagined', 'plural'], ['imagined', 'plural'], ['the', 'government'], ['the', 'chinese', 'government'], ['the', 'chinese', 'government'], ['i'], ['imagined', 'plural'], ['i'], ['i'], ['the', 'chinese', 'government'], ['the', 'chinese', 'government'], ['the', 'chinese', 'government'], ['the', 'chinese', 'government'], ['the', 'chinese', 'government'], ['the', 'chinese', 'government'], ['china'], ['china'], ['the', 'party', 'and', 'government'], ['the', 'party', 'and', 'government'], ['china'], ['china'], ['china'], ['the', 'government'], ['the', 'government'], ['the', 'government'], ['the', 'government'], ['china'], ['china'], ['china'], ['china'], ['china'], ['china'], ['china'], ['imagined', 'plural'], ['china'], ['china'], ['china'], ['peoples', 'republic', 'of', 'china'], ['peoples', 'republic', 'of', 'china'], ['peoples', 'republic', 'of', 'china'], ['peoples', 'republic', 'of', 'china'], ['china'], ['imagined', 'plural'], ['imagined', 'plural'], ['china'], ['imagined', 'plural'], ['the', 'government'], ['the', 'government'], ['the', 'government'], ['the', 'government'], ['the', 'government'], ['the', 'government'], ['the', 'government'], ['the', 'government'], ['the', 'government'], ['the', 'government'], ['the', 'government'], ['the', 'government'], ['the', 'government'], ['the', 'government'], ['the', 'government'], ['china'], ['china'], ['the', 'government'], ['china'], ['china'], ['china'], ['china'], ['imagined', 'plural'], ['the', 'central', 'government'], ['the', 'central', 'government'], ['the', 'central', 'government'], ['imagined', 'plural'], ['imagined', 'plural'], ['the', 'government'], ['the', 'government'], ['the', 'government'], ['the', 'government'], ['the', 'government'], ['the', 'government'], ['the', 'government'], ['the', 'government'], ['china', 'and', 'other', 'country'], ['china', 'and', 'other', 'country'], ['two', 'prime', 'ministers'], ['china', 'and', 'other', 'country'], ['our', 'two', 'countries'], ['the', 'government'], ['the', 'government'], ['the', 'government'], ['the', 'government'], ['the', 'government'], ['i'], ['the', 'government'], ['the', 'government'], ['inclusive'], ['our', 'two', 'countries'], ['two', 'prime', 'ministers'], ['our', 'two', 'countries'], ['our', 'two', 'countries'], ['our', 'two', 'countries'], ['the', 'central', 'government'], ['imagined', 'plural'], ['imagined', 'plural'], ['imagined', 'plural'], ['our', 'two', 'countries'], ['the', 'chinese', 'government'], ['the', 'chinese', 'government'], ['inclusive'], ['inclusive'], ['the', 'party', 'and', 'government'], ['the', 'party', 'and', 'government'], ['the', 'party', 'and', 'government'], ['imagined', 'plural'], ['imagined', 'plural'], ['imagined', 'plural'], ['chinese', 'nation'], ['inclusive'], ['inclusive'], ['inclusive'], ['imagined', 'plural'], ['imagined', 'plural'], ['our', 'nation'], ['the', 'government'], ['the', 'government'], ['i'], ['the', 'government'], ['the', 'government'], ['the', 'government'], ['the', 'government'], ['the', 'government'], ['the', 'government'], ['the', 'government'], ['the', 'government'], ['the', 'government'], ['the', 'government'], ['the', 'government'], ['the', 'government'], ['the', 'government'], ['the', 'government'], ['the', 'government'], ['the', 'government'], ['imagined', 'plural'], ['imagined', 'plural'], ['the', 'government'], ['the', 'government'], ['the', 'government'], ['the', 'government'], ['the', 'government'], ['imagined', 'plural'], ['imagined', 'plural'], ['china'], ['imagined', 'plural'], ['the', 'government'], ['the', 'government'], ['the', 'central', 'government'], ['i'], ['china', 'and', 'other', 'country'], ['china', 'and', 'other', 'country'], ['china', 'and', 'other', 'country'], ['china', 'and', 'other', 'country'], ['i'], ['china'], ['china'], ['chinese', 'people'], ['china', 'and', 'other', 'country'], ['imagined', 'plural'], ['imagined', 'plural'], ['imagined', 'plural'], ['imagined', 'plural'], ['the', 'party', 'and', 'government'], ['imagined', 'plural'], ['the', 'government'], ['imagined', 'plural'], ['the', 'government'], ['the', 'government'], ['imagined', 'plural'], ['the', 'party', 'and', 'government'], ['imagined', 'plural'], ['imagined', 'plural'], ['imagined', 'plural'], ['chinese', 'nation'], ['imagined', 'plural'], ['imagined', 'plural'], ['imagined', 'plural'], ['imagined', 'plural'], ['our', 'two', 'countries'], ['china', 'and', 'other', 'country'], ['imagined', 'plural'], ['imagined', 'plural'], ['china'], ['the', 'government'], ['imagined', 'plural'], ['imagined', 'plural'], ['the', 'government'], ['the', 'government'], ['the', 'government'], ['the', 'government'], ['the', 'government'], ['imagined', 'plural'], ['inclusive'], ['inclusive'], ['premiers'], ['the', 'new', 'government'], ['the', 'new', 'government'], ['the', 'new', 'government'], ['the', 'new', 'government'], ['imagined', 'plural'], ['the', 'government'], ['the', 'government'], ['the', 'government'], ['the', 'government'], ['the', 'government'], ['the', 'government'], ['the', 'government'], ['imagined', 'plural'], ['imagined', 'plural'], ['imagined', 'plural'], ['imagined', 'plural'], ['the', 'party', 'and', 'government'], ['china'], ['chinese', 'economy'], ['the', 'government'], ['the', 'government'], ['imagined', 'plural'], ['the', 'government'], ['the', 'government'], ['the', 'government'], ['the', 'government'], ['the', 'government'], ['the', 'government'], ['the', 'government'], ['the', 'government'], ['the', 'government'], ['the', 'government'], ['imagined', 'plural'], ['imagined', 'plural'], ['imagined', 'plural'], ['imagined', 'plural'], ['imagined', 'plural'], ['the', 'government'], ['the', 'new', 'government'], ['imagined', 'plural'], ['government', 'officials'], ['government', 'officials'], ['government', 'officials'], ['imagined', 'plural'], ['imagined', 'plural'], ['imagined', 'plural'], ['government', 'officials'], ['the', 'government'], ['my', 'government'], ['imagined', 'plural'], ['china', 'and', 'other', 'country'], ['china', 'and', 'other', 'country'], ['china', 'and', 'other', 'country'], ['china', 'and', 'other', 'country'], ['china', 'and', 'other', 'country'], ['china', 'and', 'other', 'country'], ['china'], ['china', 'and', 'other', 'country'], ['china'], ['inclusive'], ['imagined', 'plural'], ['the', 'government'], ['the', 'government'], ['my', 'government'], ['my', 'government'], ['my', 'government'], ['my', 'government'], ['my', 'government'], ['the', 'government'], ['the', 'government'], ['the', 'government'], ['the', 'government'], ['the', 'government'], ['the', 'government'], ['the', 'government'], ['the', 'government'], ['the', 'government'], ['the', 'government'], ['the', 'government'], ['the', 'government'], ['the', 'government'], ['the', 'government'], ['the', 'government'], ['the', 'government'], ['the', 'government'], ['the', 'government'], ['the', 'government'], ['the', 'government'], ['the', 'government'], ['the', 'government'], ['the', 'government'], ['the', 'government'], ['the', 'government'], ['the', 'government'], ['two', 'sides', 'of', 'taiwan', 'straits'], ['i'], ['two', 'sides', 'of', 'taiwan', 'straits'], ['two', 'sides', 'of', 'taiwan', 'straits'], ['mainland', 'and', 'taiwan'], ['folks'], ['the', 'government'], ['the', 'government'], ['the', 'government'], ['the', 'government'], ['imagined', 'plural'], ['this', 'government'], ['this', 'government'], ['the', 'government'], ['the', 'government'], ['imagined', 'plural'], ['the', 'government'], ['this', 'government'], ['this', 'government'], ['imagined', 'plural'], ['imagined', 'plural'], ['imagined', 'plural'], ['imagined', 'plural'], ['imagined', 'plural'], ['imagined', 'plural'], ['the', 'government'], ['imagined', 'plural'], ['imagined', 'plural'], ['imagined', 'plural'], ['the', 'government'], ['i'], ['the', 'mainland', 'and', 'hk'], ['our', 'generation'], ['inclusive'], ['inclusive'], ['china', 'and', 'other', 'country'], ['china', 'and', 'other', 'country'], ['china', 'and', 'other', 'country'], ['china', 'and', 'neighbouring', 'countries'], ['imagined', 'plural'], ['imagined', 'plural'], ['china'], ['china'], ['china'], ['imagined', 'plural'], ['inclusive'], ['the', 'chinese', 'government', 'and', 'chinese', 'people'], ['the', 'chinese', 'government'], ['the', 'chinese', 'government'], ['the', 'chinese', 'government'], ['the', 'chinese', 'government'], ['inclusive'], ['the', 'chinese', 'government'], ['the', 'chinese', 'government'], ['the', 'chinese', 'government'], ['the', 'chinese', 'government'], ['the', 'chinese', 'government'], ['the', 'government'], ['the', 'government'], ['the', 'government'], ['china'], ['china'], ['the', 'government'], ['imagined', 'plural'], ['the', 'party', 'and', 'government'], ['the', 'party', 'and', 'government'], ['the', 'government'], ['the', 'government'], ['the', 'government'], ['the', 'government'], ['the', 'government'], ['the', 'government'], ['inclusive'], ['china'], ['china', 'and', 'neighbouring', 'countries'], ['china', 'and', 'neighbouring', 'countries'], ['the', 'government'], ['the', 'government'], ['the', 'government'], ['the', 'government'], ['the', 'government'], ['the', 'government'], ['the', 'government'], ['the', 'government'], ['the', 'government'], ['the', 'government'], ['the', 'government'], ['the', 'government'], ['the', 'government'], ['the', 'government'], ['the', 'government'], ['the', 'government'], ['the', 'government'], ['i'], ['i'], ['i'], ['the', 'chinese', 'government'], ['the', 'government'], ['i'], ['the', 'chinese', 'government'], ['the', 'chinese', 'government'], ['the', 'chinese', 'government'], ['the', 'chinese', 'government'], ['the', 'government'], ['the', 'government'], ['the', 'government'], ['the', 'government'], ['the', 'government'], ['the', 'government'], ['the', 'government'], ['the', 'government'], ['imagined', 'plural'], ['the', 'government'], ['i'], ['the', 'government'], ['the', 'government'], ['two', 'sides', 'of', 'taiwan', 'straits'], ['two', 'sides', 'of', 'taiwan', 'straits'], ['imagined', 'plural'], ['villagers', 'and', 'i'], ['the', 'party', 'and', 'government'], ['the', 'party', 'and', 'government'], ['the', 'party', 'and', 'government'], ['the', 'party', 'and', 'government'], ['the', 'government'], ['the', 'government'], ['the', 'government'], ['the', 'government'], ['the', 'government'], ['the', 'government'], ['the', 'government'], ['the', 'party', 'and', 'government'], ['i'], ['i'], ['i'], ['the', 'government'], ['the', 'government'], ['the', 'government'], ['the', 'government'], ['the', 'government'], ['the', 'government'], ['the', 'government'], ['the', 'government'], ['the', 'government'], ['the', 'government'], ['the', 'government'], ['the', 'government'], ['the', 'government'], ['imagined', 'plural'], ['imagined', 'plural'], ['imagined', 'plural'], ['china'], ['imagined', 'plural'], ['i'], ['imagined', 'plural'], ['the', 'government'], ['the', 'government'], ['the', 'government'], ['the', 'government'], ['the', 'government'], ['the', 'government'], ['the', 'government'], ['the', 'government'], ['the', 'government'], ['the', 'government'], ['the', 'government'], ['the', 'government'], ['the', 'government'], ['the', 'government'], ['the', 'government'], ['the', 'government'], ['the', 'government'], ['inclusive'], ['inclusive'], ['the', 'government'], ['the', 'government'], ['imagined', 'plural'], ['the', 'government'], ['the', 'government'], ['the', 'government'], ['the', 'government'], ['the', 'government'], ['the', 'government'], ['the', 'government'], ['the', 'government'], ['the', 'government'], ['imagined', 'plural'], ['the', 'party', 'and', 'government'], ['the', 'party', 'and', 'government'], ['the', 'party', 'and', 'government'], ['the', 'party', 'and', 'government'], ['the', 'party', 'and', 'government'], ['the', 'party', 'and', 'government'], ['the', 'government'], ['the', 'government'], ['the', 'government'], ['the', 'government'], ['the', 'government'], ['the', 'government'], ['the', 'government'], ['the', 'government'], ['china'], ['the', 'government'], ['the', 'government'], ['the', 'government'], ['the', 'government'], ['the', 'government'], ['the', 'government'], ['the', 'government'], ['the', 'government'], ['the', 'government'], ['the', 'chinese', 'government'], ['the', 'chinese', 'government'], ['the', 'chinese', 'government'], ['the', 'chinese', 'government'], ['the', 'chinese', 'government'], ['the', 'chinese', 'government'], ['inclusive'], ['imagined', 'plural'], ['the', 'government'], ['the', 'government'], ['the', 'government'], ['i'], ['the', 'government'], ['the', 'central', 'government'], ['the', 'government'], ['the', 'government'], ['the', 'government'], ['the', 'government'], ['two', 'sides', 'of', 'taiwan', 'straits'], ['two', 'sides', 'of', 'taiwan', 'straits'], ['imagined', 'plural'], ['the', 'mainland'], ['the', 'mainland'], ['the', 'mainland'], ['imagined', 'plural'], ['china'], ['china'], ['china'], ['china'], ['imagined', 'plural'], ['china'], ['china'], ['imagined', 'plural'], ['the', 'central', 'government'], ['china'], ['china'], ['china'], ['china'], ['china'], ['people'], ['china']]"
   ]
  },
  {
   "cell_type": "code",
   "execution_count": 20,
   "metadata": {},
   "outputs": [
    {
     "data": {
      "text/plain": [
       "594"
      ]
     },
     "execution_count": 20,
     "metadata": {},
     "output_type": "execute_result"
    }
   ],
   "source": [
    "len(sentences_ie)"
   ]
  },
  {
   "cell_type": "code",
   "execution_count": 21,
   "metadata": {},
   "outputs": [],
   "source": [
    "from gensim.test.utils import get_tmpfile\n",
    "from gensim.models import Word2Vec"
   ]
  },
  {
   "cell_type": "code",
   "execution_count": 22,
   "metadata": {},
   "outputs": [],
   "source": [
    "path = get_tmpfile(\"/users/nannanliu/Python/SCIPPC/collective_personal_pronoun/ie_word2vec.model\")"
   ]
  },
  {
   "cell_type": "code",
   "execution_count": 23,
   "metadata": {},
   "outputs": [],
   "source": [
    "model = Word2Vec(sentences_ie, min_count=0, size=5, window=5, workers=4, min_alpha=0.025)"
   ]
  },
  {
   "cell_type": "code",
   "execution_count": 24,
   "metadata": {},
   "outputs": [],
   "source": [
    "model.save(\"/users/nannanliu/Python/SCIPPC/collective_personal_pronoun/ie_word2vec.model\")"
   ]
  },
  {
   "cell_type": "code",
   "execution_count": 25,
   "metadata": {},
   "outputs": [],
   "source": [
    "model = Word2Vec.load(\"/users/nannanliu/Python/SCIPPC/collective_personal_pronoun/ie_word2vec.model\")"
   ]
  },
  {
   "cell_type": "code",
   "execution_count": 26,
   "metadata": {},
   "outputs": [
    {
     "data": {
      "text/plain": [
       "array([ 0.08488024, -0.03490607,  0.07297006,  0.0705485 , -0.00183144],\n",
       "      dtype=float32)"
      ]
     },
     "execution_count": 26,
     "metadata": {},
     "output_type": "execute_result"
    }
   ],
   "source": [
    "model.wv['inclusive']"
   ]
  },
  {
   "cell_type": "code",
   "execution_count": 27,
   "metadata": {},
   "outputs": [
    {
     "name": "stderr",
     "output_type": "stream",
     "text": [
      "/Library/Frameworks/Python.framework/Versions/3.6/lib/python3.6/site-packages/ipykernel_launcher.py:2: DeprecationWarning: Call to deprecated `syn0` (Attribute will be removed in 4.0.0, use self.vectors instead).\n",
      "  \n"
     ]
    }
   ],
   "source": [
    "#this is to get all the vector representations of the token words in the model\n",
    "Y=model.wv.syn0"
   ]
  },
  {
   "cell_type": "code",
   "execution_count": 28,
   "metadata": {},
   "outputs": [
    {
     "data": {
      "text/plain": [
       "(38, 5)"
      ]
     },
     "execution_count": 28,
     "metadata": {},
     "output_type": "execute_result"
    }
   ],
   "source": [
    "Y.shape"
   ]
  },
  {
   "cell_type": "code",
   "execution_count": 10,
   "metadata": {},
   "outputs": [
    {
     "name": "stderr",
     "output_type": "stream",
     "text": [
      "/Library/Frameworks/Python.framework/Versions/3.6/lib/python3.6/site-packages/ipykernel_launcher.py:1: DeprecationWarning: Call to deprecated `similarity` (Method will be removed in 4.0.0, use self.wv.similarity() instead).\n",
      "  \"\"\"Entry point for launching an IPython kernel.\n"
     ]
    },
    {
     "data": {
      "text/plain": [
       "-0.36578864"
      ]
     },
     "execution_count": 10,
     "metadata": {},
     "output_type": "execute_result"
    }
   ],
   "source": [
    "model.similarity('chinese', 'china')"
   ]
  },
  {
   "cell_type": "code",
   "execution_count": 10,
   "metadata": {},
   "outputs": [
    {
     "name": "stderr",
     "output_type": "stream",
     "text": [
      "/Library/Frameworks/Python.framework/Versions/3.6/lib/python3.6/site-packages/ipykernel_launcher.py:1: DeprecationWarning: Call to deprecated `similarity` (Method will be removed in 4.0.0, use self.wv.similarity() instead).\n",
      "  \"\"\"Entry point for launching an IPython kernel.\n"
     ]
    },
    {
     "data": {
      "text/plain": [
       "0.7658074"
      ]
     },
     "execution_count": 10,
     "metadata": {},
     "output_type": "execute_result"
    }
   ],
   "source": [
    "model.similarity('chinese', 'japanese')"
   ]
  },
  {
   "cell_type": "code",
   "execution_count": 11,
   "metadata": {},
   "outputs": [
    {
     "name": "stderr",
     "output_type": "stream",
     "text": [
      "/Library/Frameworks/Python.framework/Versions/3.6/lib/python3.6/site-packages/ipykernel_launcher.py:1: DeprecationWarning: Call to deprecated `similarity` (Method will be removed in 4.0.0, use self.wv.similarity() instead).\n",
      "  \"\"\"Entry point for launching an IPython kernel.\n"
     ]
    },
    {
     "data": {
      "text/plain": [
       "-0.5068329"
      ]
     },
     "execution_count": 11,
     "metadata": {},
     "output_type": "execute_result"
    }
   ],
   "source": [
    "model.similarity('china', 'neighbouring')"
   ]
  },
  {
   "cell_type": "code",
   "execution_count": 6,
   "metadata": {},
   "outputs": [],
   "source": [
    "def uniq(lst):\n",
    "    last = object()\n",
    "    for item in lst:\n",
    "        if item == last:\n",
    "            continue\n",
    "        yield item\n",
    "        last = item\n",
    "\n",
    "def sort_and_deduplicate(l):\n",
    "    return list(uniq(sorted(l, reverse=True)))"
   ]
  },
  {
   "cell_type": "code",
   "execution_count": 32,
   "metadata": {},
   "outputs": [
    {
     "data": {
      "text/plain": [
       "list"
      ]
     },
     "execution_count": 32,
     "metadata": {},
     "output_type": "execute_result"
    }
   ],
   "source": [
    "sorted_data=sort_and_deduplicate(sentences_ie)\n",
    "type(sorted_data)"
   ]
  },
  {
   "cell_type": "code",
   "execution_count": 33,
   "metadata": {},
   "outputs": [
    {
     "name": "stdout",
     "output_type": "stream",
     "text": [
      "[['villagers', 'and', 'i'], ['two', 'sides', 'of', 'taiwan', 'straits'], ['two', 'prime', 'ministers'], ['this', 'government'], ['the', 'party', 'and', 'government'], ['the', 'new', 'government'], ['the', 'mainland', 'and', 'hk'], ['the', 'mainland'], ['the', 'government'], ['the', 'chinese', 'government', 'and', 'chinese', 'people'], ['the', 'chinese', 'government'], ['the', 'central', 'government'], ['premiers'], ['peoples', 'republic', 'of', 'china'], ['people'], ['our', 'two', 'countries'], ['our', 'nation'], ['our', 'generation'], ['my', 'government'], ['mainland', 'and', 'taiwan'], ['inclusive'], ['imagined', 'plural'], ['i'], ['government', 'officials'], ['folks'], ['chinese', 'people'], ['chinese', 'nation'], ['chinese', 'economy'], ['china', 'and', 'other', 'country'], ['china', 'and', 'neighbouring', 'countries'], ['china']]\n"
     ]
    }
   ],
   "source": [
    "print (sorted_data)"
   ]
  },
  {
   "cell_type": "code",
   "execution_count": 34,
   "metadata": {},
   "outputs": [
    {
     "data": {
      "text/plain": [
       "31"
      ]
     },
     "execution_count": 34,
     "metadata": {},
     "output_type": "execute_result"
    }
   ],
   "source": [
    "len(sorted_data)"
   ]
  },
  {
   "cell_type": "code",
   "execution_count": 22,
   "metadata": {},
   "outputs": [
    {
     "ename": "TypeError",
     "evalue": "sequence item 0: expected str instance, list found",
     "output_type": "error",
     "traceback": [
      "\u001b[0;31m---------------------------------------------------------------------------\u001b[0m",
      "\u001b[0;31mTypeError\u001b[0m                                 Traceback (most recent call last)",
      "\u001b[0;32m<ipython-input-22-e3be827089cc>\u001b[0m in \u001b[0;36m<module>\u001b[0;34m()\u001b[0m\n\u001b[0;32m----> 1\u001b[0;31m \u001b[0mprint\u001b[0m \u001b[0;34m(\u001b[0m\u001b[0;34m'\\n'\u001b[0m\u001b[0;34m.\u001b[0m\u001b[0mjoin\u001b[0m\u001b[0;34m(\u001b[0m\u001b[0msorted_data\u001b[0m\u001b[0;34m)\u001b[0m\u001b[0;34m+\u001b[0m\u001b[0;34m'\\n'\u001b[0m\u001b[0;34m)\u001b[0m\u001b[0;34m\u001b[0m\u001b[0m\n\u001b[0m",
      "\u001b[0;31mTypeError\u001b[0m: sequence item 0: expected str instance, list found"
     ]
    }
   ],
   "source": [
    "print ('\\n'.join(sorted_data)+'\\n')"
   ]
  },
  {
   "cell_type": "code",
   "execution_count": 35,
   "metadata": {},
   "outputs": [],
   "source": [
    "v_1=model.wv[['villagers', 'and', 'i']]"
   ]
  },
  {
   "cell_type": "code",
   "execution_count": 37,
   "metadata": {},
   "outputs": [],
   "source": [
    "v_1_s=[sum(x) for x in zip(*v_1)] "
   ]
  },
  {
   "cell_type": "code",
   "execution_count": 16,
   "metadata": {},
   "outputs": [
    {
     "name": "stdout",
     "output_type": "stream",
     "text": [
      "[0.027222471311688423, 0.046235259622335434, 0.1312973089516163, -0.13033158011967316, -0.1717162113636732]\n"
     ]
    }
   ],
   "source": [
    "print (v_1_s)"
   ]
  },
  {
   "cell_type": "code",
   "execution_count": 73,
   "metadata": {},
   "outputs": [],
   "source": [
    "d=[]\n",
    "for i in sorted_data: \n",
    "    d.append(model.wv[i]) "
   ]
  },
  {
   "cell_type": "code",
   "execution_count": 74,
   "metadata": {},
   "outputs": [
    {
     "name": "stdout",
     "output_type": "stream",
     "text": [
      "[array([[ 0.06095282, -0.02949066, -0.03952472, -0.08690415,  0.04614791],\n",
      "       [-0.0141413 , -0.14383835,  0.09121832,  0.0413249 ,  0.08179568],\n",
      "       [ 0.06175245,  0.01117237, -0.03376944, -0.0436885 , -0.069513  ]],\n",
      "      dtype=float32), array([[-0.03164971, -0.16323021, -0.03361652, -0.01364739, -0.04613922],\n",
      "       [-0.06127234, -0.11880355, -0.06915382, -0.02188236, -0.05695646],\n",
      "       [-0.01205088, -0.06308748,  0.07513761, -0.06834323,  0.07655568],\n",
      "       [-0.07731248, -0.16766073,  0.12913229, -0.06554996,  0.01731264],\n",
      "       [ 0.08698602, -0.03151008, -0.03860913, -0.08928259,  0.10369851]],\n",
      "      dtype=float32), array([[-0.03164971, -0.16323021, -0.03361652, -0.01364739, -0.04613922],\n",
      "       [-0.0768376 , -0.0423064 , -0.05418582,  0.10173757, -0.04686917],\n",
      "       [ 0.05869125, -0.03078631, -0.08091289, -0.03602393,  0.08635636]],\n",
      "      dtype=float32), array([[-0.02823322, -0.07607678,  0.02558197, -0.02064637, -0.01073214],\n",
      "       [ 0.07530839, -0.06366898,  0.04889238,  0.09254674, -0.04164704]],\n",
      "      dtype=float32), array([[ 0.06861865, -0.04744568,  0.07524864,  0.00689481, -0.07556359],\n",
      "       [ 0.08281232,  0.01396106, -0.07364452,  0.04585596, -0.06818449],\n",
      "       [-0.0141413 , -0.14383835,  0.09121832,  0.0413249 ,  0.08179568],\n",
      "       [ 0.07530839, -0.06366898,  0.04889238,  0.09254674, -0.04164704]],\n",
      "      dtype=float32), array([[ 0.06861865, -0.04744568,  0.07524864,  0.00689481, -0.07556359],\n",
      "       [ 0.01241531, -0.06307767, -0.07881723, -0.00708073,  0.02252655],\n",
      "       [ 0.07530839, -0.06366898,  0.04889238,  0.09254674, -0.04164704]],\n",
      "      dtype=float32), array([[ 0.06861865, -0.04744568,  0.07524864,  0.00689481, -0.07556359],\n",
      "       [-0.07358855, -0.01348261, -0.07021925,  0.02872305, -0.06435055],\n",
      "       [-0.0141413 , -0.14383835,  0.09121832,  0.0413249 ,  0.08179568],\n",
      "       [ 0.08490146, -0.08534489,  0.03842667,  0.04723308,  0.0007832 ]],\n",
      "      dtype=float32), array([[ 0.06861865, -0.04744568,  0.07524864,  0.00689481, -0.07556359],\n",
      "       [-0.07358855, -0.01348261, -0.07021925,  0.02872305, -0.06435055]],\n",
      "      dtype=float32), array([[ 0.06861865, -0.04744568,  0.07524864,  0.00689481, -0.07556359],\n",
      "       [ 0.07530839, -0.06366898,  0.04889238,  0.09254674, -0.04164704]],\n",
      "      dtype=float32), array([[ 0.06861865, -0.04744568,  0.07524864,  0.00689481, -0.07556359],\n",
      "       [-0.04093085,  0.01086595, -0.08398601,  0.08252124,  0.00670806],\n",
      "       [ 0.07530839, -0.06366898,  0.04889238,  0.09254674, -0.04164704],\n",
      "       [-0.0141413 , -0.14383835,  0.09121832,  0.0413249 ,  0.08179568],\n",
      "       [-0.04093085,  0.01086595, -0.08398601,  0.08252124,  0.00670806],\n",
      "       [ 0.0505155 , -0.07506421,  0.05169511,  0.00892984, -0.06988131]],\n",
      "      dtype=float32), array([[ 0.06861865, -0.04744568,  0.07524864,  0.00689481, -0.07556359],\n",
      "       [-0.04093085,  0.01086595, -0.08398601,  0.08252124,  0.00670806],\n",
      "       [ 0.07530839, -0.06366898,  0.04889238,  0.09254674, -0.04164704]],\n",
      "      dtype=float32), array([[ 0.06861865, -0.04744568,  0.07524864,  0.00689481, -0.07556359],\n",
      "       [ 0.09035374, -0.05759545, -0.05544896, -0.04239457, -0.01399825],\n",
      "       [ 0.07530839, -0.06366898,  0.04889238,  0.09254674, -0.04164704]],\n",
      "      dtype=float32), array([[-0.05265625, -0.09934989,  0.05846581,  0.07864218, -0.04230699]],\n",
      "      dtype=float32), array([[ 0.08982325, -0.10294221, -0.05469756, -0.04370964,  0.09351713],\n",
      "       [ 0.05534239, -0.11483717,  0.09176823,  0.0834667 , -0.09288786],\n",
      "       [-0.01205088, -0.06308748,  0.07513761, -0.06834323,  0.07655568],\n",
      "       [-0.09230395,  0.0122704 ,  0.07222606, -0.02213754,  0.06006557]],\n",
      "      dtype=float32), array([[ 0.0505155 , -0.07506421,  0.05169511,  0.00892984, -0.06988131]],\n",
      "      dtype=float32), array([[-0.03846897,  0.0569727 ,  0.04621974,  0.00844651,  0.03808799],\n",
      "       [-0.03164971, -0.16323021, -0.03361652, -0.01364739, -0.04613922],\n",
      "       [-0.0284066 , -0.04753741,  0.04342012,  0.05979294,  0.01041245]],\n",
      "      dtype=float32), array([[-0.03846897,  0.0569727 ,  0.04621974,  0.00844651,  0.03808799],\n",
      "       [-0.00219662,  0.04529269, -0.08893156,  0.0673955 ,  0.0401808 ]],\n",
      "      dtype=float32), array([[-0.03846897,  0.0569727 ,  0.04621974,  0.00844651,  0.03808799],\n",
      "       [ 0.02483024, -0.01412292,  0.10162091,  0.02997391, -0.09239912]],\n",
      "      dtype=float32), array([[-0.04634004, -0.04570417,  0.0006946 ,  0.03044912, -0.08104701],\n",
      "       [ 0.07530839, -0.06366898,  0.04889238,  0.09254674, -0.04164704]],\n",
      "      dtype=float32), array([[-0.07358855, -0.01348261, -0.07021925,  0.02872305, -0.06435055],\n",
      "       [-0.0141413 , -0.14383835,  0.09121832,  0.0413249 ,  0.08179568],\n",
      "       [-0.07731248, -0.16766073,  0.12913229, -0.06554996,  0.01731264]],\n",
      "      dtype=float32), array([[ 0.08488024, -0.03490607,  0.07297006,  0.0705485 , -0.00183144]],\n",
      "      dtype=float32), array([[-0.102825  , -0.08627638,  0.02819202, -0.06214035, -0.09408451],\n",
      "       [-0.0859873 , -0.08418857, -0.00085561,  0.01996059,  0.07178717]],\n",
      "      dtype=float32), array([[ 0.06175245,  0.01117237, -0.03376944, -0.0436885 , -0.069513  ]],\n",
      "      dtype=float32), array([[ 0.07530839, -0.06366898,  0.04889238,  0.09254674, -0.04164704],\n",
      "       [ 0.0127649 ,  0.0211478 ,  0.07943253, -0.04620723,  0.05465716]],\n",
      "      dtype=float32), array([[-0.02902177, -0.02553883,  0.01956357,  0.00811066,  0.03539652]],\n",
      "      dtype=float32), array([[-0.04093085,  0.01086595, -0.08398601,  0.08252124,  0.00670806],\n",
      "       [ 0.0505155 , -0.07506421,  0.05169511,  0.00892984, -0.06988131]],\n",
      "      dtype=float32), array([[-0.04093085,  0.01086595, -0.08398601,  0.08252124,  0.00670806],\n",
      "       [-0.00219662,  0.04529269, -0.08893156,  0.0673955 ,  0.0401808 ]],\n",
      "      dtype=float32), array([[-0.04093085,  0.01086595, -0.08398601,  0.08252124,  0.00670806],\n",
      "       [ 0.09805997, -0.09198133,  0.09928516,  0.02408041,  0.09405682]],\n",
      "      dtype=float32), array([[-0.09230395,  0.0122704 ,  0.07222606, -0.02213754,  0.06006557],\n",
      "       [-0.0141413 , -0.14383835,  0.09121832,  0.0413249 ,  0.08179568],\n",
      "       [ 0.0366722 , -0.02389084, -0.06026242,  0.01712569, -0.08250611],\n",
      "       [-0.00840123, -0.1096422 ,  0.04643308, -0.06978616,  0.0573488 ]],\n",
      "      dtype=float32), array([[-0.09230395,  0.0122704 ,  0.07222606, -0.02213754,  0.06006557],\n",
      "       [-0.0141413 , -0.14383835,  0.09121832,  0.0413249 ,  0.08179568],\n",
      "       [-0.07651068,  0.00331751, -0.04217876,  0.07565691, -0.04870825],\n",
      "       [-0.0284066 , -0.04753741,  0.04342012,  0.05979294,  0.01041245]],\n",
      "      dtype=float32), array([[-0.09230395,  0.0122704 ,  0.07222606, -0.02213754,  0.06006557]],\n",
      "      dtype=float32)]\n"
     ]
    }
   ],
   "source": [
    "print (d)"
   ]
  },
  {
   "cell_type": "code",
   "execution_count": 41,
   "metadata": {},
   "outputs": [
    {
     "data": {
      "text/plain": [
       "31"
      ]
     },
     "execution_count": 41,
     "metadata": {},
     "output_type": "execute_result"
    }
   ],
   "source": [
    "len(d)"
   ]
  },
  {
   "cell_type": "code",
   "execution_count": 58,
   "metadata": {},
   "outputs": [
    {
     "data": {
      "text/plain": [
       "array([[ 0.06095282, -0.02949066, -0.03952472, -0.08690415,  0.04614791],\n",
       "       [-0.0141413 , -0.14383835,  0.09121832,  0.0413249 ,  0.08179568],\n",
       "       [ 0.06175245,  0.01117237, -0.03376944, -0.0436885 , -0.069513  ]],\n",
       "      dtype=float32)"
      ]
     },
     "execution_count": 58,
     "metadata": {},
     "output_type": "execute_result"
    }
   ],
   "source": [
    "d[0]"
   ]
  },
  {
   "cell_type": "code",
   "execution_count": 75,
   "metadata": {},
   "outputs": [],
   "source": [
    "vs = [None] * 31\n",
    "vs[0]=[sum(x) for x in zip(*d[0])]\n",
    "vs[1]=[sum(x) for x in zip(*d[1])]\n",
    "vs[2]=[sum(x) for x in zip(*d[2])]\n",
    "vs[3]=[sum(x) for x in zip(*d[3])]\n",
    "vs[4]=[sum(x) for x in zip(*d[4])]\n",
    "vs[5]=[sum(x) for x in zip(*d[5])]\n",
    "vs[6]=[sum(x) for x in zip(*d[6])]\n",
    "vs[7]=[sum(x) for x in zip(*d[7])]\n",
    "vs[8]=[sum(x) for x in zip(*d[8])]\n",
    "vs[9]=[sum(x) for x in zip(*d[9])]\n",
    "vs[10]=[sum(x) for x in zip(*d[10])]\n",
    "vs[11]=[sum(x) for x in zip(*d[11])]\n",
    "#vs[12]=[sum(x) for x in zip(*d[12])]\n",
    "vs[13]=[sum(x) for x in zip(*d[13])]\n",
    "#vs[14]=[sum(x) for x in zip(*d[14])]\n",
    "vs[15]=[sum(x) for x in zip(*d[15])]\n",
    "vs[16]=[sum(x) for x in zip(*d[16])]\n",
    "vs[17]=[sum(x) for x in zip(*d[17])]\n",
    "vs[18]=[sum(x) for x in zip(*d[18])]\n",
    "vs[19]=[sum(x) for x in zip(*d[19])]\n",
    "#vs[20]=[sum(x) for x in zip(*d[20])]\n",
    "vs[21]=[sum(x) for x in zip(*d[21])]\n",
    "#vs[22]=[sum(x) for x in zip(*d[22])]\n",
    "vs[23]=[sum(x) for x in zip(*d[23])]\n",
    "#vs[24]=[sum(x) for x in zip(*d[24])]\n",
    "vs[25]=[sum(x) for x in zip(*d[25])]\n",
    "vs[26]=[sum(x) for x in zip(*d[26])]\n",
    "vs[27]=[sum(x) for x in zip(*d[27])]\n",
    "vs[28]=[sum(x) for x in zip(*d[28])]\n",
    "vs[29]=[sum(x) for x in zip(*d[29])]\n",
    "#vs[30]=[sum(x) for x in zip(*d[30])]\n",
    "#vs[31]=[sum(x) for x in zip(*d[31])]"
   ]
  },
  {
   "cell_type": "code",
   "execution_count": 76,
   "metadata": {},
   "outputs": [],
   "source": [
    "import numpy as np\n",
    "vs[12]=np.array(d[12]).tolist()\n",
    "vs[14]=np.array(d[14]).tolist()\n",
    "vs[20]=np.array(d[20]).tolist()\n",
    "vs[22]=np.array(d[22]).tolist()\n",
    "vs[24]=np.array(d[24]).tolist()\n",
    "vs[30]=np.array(d[30]).tolist()\n",
    "#vs[32]=np.array(d[31]).tolist()\n",
    "#vs[33]=np.array(d[32]).tolist()\n",
    "#vs[34]=np.array(d[33]).tolist()\n",
    "#vs[38]=np.array(d[37]).tolist()\n",
    "#vs[42]=np.array(d[41]).tolist()"
   ]
  },
  {
   "cell_type": "code",
   "execution_count": 44,
   "metadata": {},
   "outputs": [
    {
     "name": "stdout",
     "output_type": "stream",
     "text": [
      "[[0.08488024026155472, -0.034906066954135895, 0.07297005504369736, 0.07054850459098816, -0.0018314445624127984]]\n"
     ]
    }
   ],
   "source": [
    "print (vs[20])"
   ]
  },
  {
   "cell_type": "code",
   "execution_count": 68,
   "metadata": {},
   "outputs": [
    {
     "data": {
      "text/plain": [
       "[[0.054745182394981384,\n",
       "  -0.035827893763780594,\n",
       "  0.006673266179859638,\n",
       "  0.07749590277671814,\n",
       "  -0.014562500640749931]]"
      ]
     },
     "execution_count": 68,
     "metadata": {},
     "output_type": "execute_result"
    }
   ],
   "source": [
    "vs[24]"
   ]
  },
  {
   "cell_type": "code",
   "execution_count": 77,
   "metadata": {},
   "outputs": [
    {
     "data": {
      "text/plain": [
       "[[0.10856396984308958,\n",
       "  -0.16215663589537144,\n",
       "  0.017924156039953232,\n",
       "  -0.08926774561405182,\n",
       "  0.05843059718608856],\n",
       " [-0.09529939945787191,\n",
       "  -0.5442920476198196,\n",
       "  0.0628904178738594,\n",
       "  -0.2587055368348956,\n",
       "  0.0944711472839117],\n",
       " [-0.04979606345295906,\n",
       "  -0.23632292076945305,\n",
       "  -0.1687152273952961,\n",
       "  0.05206626188009977,\n",
       "  -0.006652027368545532],\n",
       " [0.047075165435671806,\n",
       "  -0.13974575698375702,\n",
       "  0.07447435148060322,\n",
       "  0.07190037332475185,\n",
       "  -0.0523791816085577],\n",
       " [0.21259805466979742,\n",
       "  -0.2409919546917081,\n",
       "  0.14171482250094414,\n",
       "  0.1866224049590528,\n",
       "  -0.10359944775700569],\n",
       " [0.156342345289886,\n",
       "  -0.17419233918190002,\n",
       "  0.04532378539443016,\n",
       "  0.09236081829294562,\n",
       "  -0.09468408860266209],\n",
       " [0.06579025741666555,\n",
       "  -0.2901115296408534,\n",
       "  0.13467438146471977,\n",
       "  0.12417583679780364,\n",
       "  -0.0573352561914362],\n",
       " [-0.004969902336597443,\n",
       "  -0.060928295366466045,\n",
       "  0.0050293877720832825,\n",
       "  0.03561785211786628,\n",
       "  -0.1399141401052475],\n",
       " [0.14392703771591187,\n",
       "  -0.11111466586589813,\n",
       "  0.12414101883769035,\n",
       "  0.09944154461845756,\n",
       "  -0.11721063777804375],\n",
       " [0.09843953233212233,\n",
       "  -0.30828532949090004,\n",
       "  0.09908243641257286,\n",
       "  0.3147387723438442,\n",
       "  -0.09188014175742865],\n",
       " [0.10299618542194366,\n",
       "  -0.10024871863424778,\n",
       "  0.04015501216053963,\n",
       "  0.18196278950199485,\n",
       "  -0.11050257971510291],\n",
       " [0.2342807799577713,\n",
       "  -0.1687101200222969,\n",
       "  0.06869205459952354,\n",
       "  0.05704697361215949,\n",
       "  -0.131208885461092],\n",
       " [[-0.05265624821186066,\n",
       "   -0.09934988617897034,\n",
       "   0.05846581235527992,\n",
       "   0.07864218205213547,\n",
       "   -0.042306989431381226]],\n",
       " [0.04081080574542284,\n",
       "  -0.26859645638614893,\n",
       "  0.18443434685468674,\n",
       "  -0.050723712891340256,\n",
       "  0.13725052028894424],\n",
       " [[0.05051549896597862,\n",
       "   -0.07506421208381653,\n",
       "   0.05169510841369629,\n",
       "   0.008929835632443428,\n",
       "   -0.06988130509853363]],\n",
       " [-0.0985252782702446,\n",
       "  -0.15379491448402405,\n",
       "  0.05602334439754486,\n",
       "  0.054592059925198555,\n",
       "  0.0023612184450030327],\n",
       " [-0.04066559299826622,\n",
       "  0.10226539522409439,\n",
       "  -0.04271181672811508,\n",
       "  0.07584201078861952,\n",
       "  0.07826878875494003],\n",
       " [-0.013638723641633987,\n",
       "  0.04284977726638317,\n",
       "  0.14784064888954163,\n",
       "  0.03842042479664087,\n",
       "  -0.05431113392114639],\n",
       " [0.02896835282444954,\n",
       "  -0.10937315225601196,\n",
       "  0.04958698700647801,\n",
       "  0.12299585714936256,\n",
       "  -0.12269404903054237],\n",
       " [-0.16504233423620462,\n",
       "  -0.3249816847965121,\n",
       "  0.15013135969638824,\n",
       "  0.004497986286878586,\n",
       "  0.03475777618587017],\n",
       " [[0.08488024026155472,\n",
       "   -0.034906066954135895,\n",
       "   0.07297005504369736,\n",
       "   0.07054850459098816,\n",
       "   -0.0018314445624127984]],\n",
       " [-0.18881230056285858,\n",
       "  -0.17046494781970978,\n",
       "  0.027336402679793537,\n",
       "  -0.042179765179753304,\n",
       "  -0.022297337651252747],\n",
       " [[0.061752453446388245,\n",
       "   0.011172370985150337,\n",
       "   -0.03376944363117218,\n",
       "   -0.04368850216269493,\n",
       "   -0.0695130005478859]],\n",
       " [0.08807329274713993,\n",
       "  -0.04252118431031704,\n",
       "  0.12832491472363472,\n",
       "  0.046339504420757294,\n",
       "  0.013010121881961823],\n",
       " [[-0.029021771624684334,\n",
       "   -0.02553883194923401,\n",
       "   0.019563565030694008,\n",
       "   0.008110664784908295,\n",
       "   0.0353965163230896]],\n",
       " [0.009584646672010422,\n",
       "  -0.06419826485216618,\n",
       "  -0.03229089826345444,\n",
       "  0.09145108051598072,\n",
       "  -0.0631732470355928],\n",
       " [-0.043127477169036865,\n",
       "  0.05615864135324955,\n",
       "  -0.17291756719350815,\n",
       "  0.14991674572229385,\n",
       "  0.046888860408216715],\n",
       " [0.05712912231683731,\n",
       "  -0.08111538179218769,\n",
       "  0.015299156308174133,\n",
       "  0.1066016498953104,\n",
       "  0.10076488042250276],\n",
       " [-0.07817427162081003,\n",
       "  -0.265100977383554,\n",
       "  0.14961504191160202,\n",
       "  -0.03347310610115528,\n",
       "  0.11670394241809845],\n",
       " [-0.2113625267520547,\n",
       "  -0.17578783771023154,\n",
       "  0.16468575224280357,\n",
       "  0.1546372026205063,\n",
       "  0.10356544982641935],\n",
       " [[-0.09230394661426544,\n",
       "   0.01227040495723486,\n",
       "   0.07222606241703033,\n",
       "   -0.022137541323900223,\n",
       "   0.06006556749343872]]]"
      ]
     },
     "execution_count": 77,
     "metadata": {},
     "output_type": "execute_result"
    }
   ],
   "source": [
    "vs"
   ]
  },
  {
   "cell_type": "code",
   "execution_count": 78,
   "metadata": {},
   "outputs": [],
   "source": [
    "vs[0]=[x /len(d[0]) for x in vs[0]]\n",
    "vs[1]=[x /len(d[1]) for x in vs[1]]\n",
    "vs[2]=[x /len(d[2]) for x in vs[2]]\n",
    "vs[3]=[x /len(d[3]) for x in vs[3]]\n",
    "vs[4]=[x /len(d[4]) for x in vs[4]]\n",
    "vs[5]=[x /len(d[5]) for x in vs[5]]\n",
    "vs[6]=[x /len(d[6]) for x in vs[6]]\n",
    "vs[7]=[x /len(d[7]) for x in vs[7]]\n",
    "vs[8]=[x /len(d[8]) for x in vs[8]]\n",
    "vs[9]=[x /len(d[9]) for x in vs[9]]\n",
    "vs[10]=[x /len(d[10]) for x in vs[10]]\n",
    "vs[11]=[x /len(d[11]) for x in vs[11]]\n",
    "#vs[12]=[x /len(d[12]) for x in vs[12]]\n",
    "vs[13]=[x /len(d[13]) for x in vs[13]]\n",
    "#vs[14]=[x /len(d[14]) for x in vs[14]]\n",
    "vs[15]=[x /len(d[15]) for x in vs[15]]\n",
    "vs[16]=[x /len(d[16]) for x in vs[16]]\n",
    "vs[17]=[x /len(d[17]) for x in vs[17]]\n",
    "vs[18]=[x /len(d[18]) for x in vs[18]]\n",
    "vs[19]=[x /len(d[19]) for x in vs[19]]\n",
    "#vs[20]=[x /len(d[20]) for x in vs[20]]\n",
    "vs[21]=[x /len(d[21]) for x in vs[21]]\n",
    "#vs[22]=[x /len(d[22]) for x in vs[22]]\n",
    "vs[23]=[x /len(d[23]) for x in vs[23]]\n",
    "#vs[24]=[x /len(d[24]) for x in vs[24]]\n",
    "vs[25]=[x /len(d[25]) for x in vs[25]]\n",
    "vs[26]=[x /len(d[26]) for x in vs[26]]\n",
    "vs[27]=[x /len(d[27]) for x in vs[27]]\n",
    "vs[28]=[x /len(d[28]) for x in vs[28]]\n",
    "vs[29]=[x /len(d[29]) for x in vs[29]]\n",
    "#vs[30]=[x /len(d[30]) for x in vs[30]]\n"
   ]
  },
  {
   "cell_type": "code",
   "execution_count": 79,
   "metadata": {},
   "outputs": [
    {
     "data": {
      "text/plain": [
       "[[0.03618798994769653,\n",
       "  -0.05405221196512381,\n",
       "  0.00597471867998441,\n",
       "  -0.02975591520468394,\n",
       "  0.019476865728696186],\n",
       " [-0.019059879891574382,\n",
       "  -0.10885840952396393,\n",
       "  0.012578083574771881,\n",
       "  -0.05174110736697912,\n",
       "  0.01889422945678234],\n",
       " [-0.01659868781765302,\n",
       "  -0.07877430692315102,\n",
       "  -0.056238409131765366,\n",
       "  0.017355420626699924,\n",
       "  -0.0022173424561818442],\n",
       " [0.023537582717835903,\n",
       "  -0.06987287849187851,\n",
       "  0.03723717574030161,\n",
       "  0.03595018666237593,\n",
       "  -0.02618959080427885],\n",
       " [0.053149513667449355,\n",
       "  -0.06024798867292702,\n",
       "  0.035428705625236034,\n",
       "  0.0466556012397632,\n",
       "  -0.025899861939251423],\n",
       " [0.052114115096628666,\n",
       "  -0.05806411306063334,\n",
       "  0.015107928464810053,\n",
       "  0.030786939430981874,\n",
       "  -0.03156136286755403],\n",
       " [0.01644756435416639,\n",
       "  -0.07252788241021335,\n",
       "  0.03366859536617994,\n",
       "  0.03104395919945091,\n",
       "  -0.01433381404785905],\n",
       " [-0.0024849511682987213,\n",
       "  -0.030464147683233023,\n",
       "  0.0025146938860416412,\n",
       "  0.01780892605893314,\n",
       "  -0.06995707005262375],\n",
       " [0.07196351885795593,\n",
       "  -0.055557332932949066,\n",
       "  0.06207050941884518,\n",
       "  0.04972077230922878,\n",
       "  -0.058605318889021873],\n",
       " [0.016406588722020388,\n",
       "  -0.05138088824848334,\n",
       "  0.016513739402095478,\n",
       "  0.05245646205730736,\n",
       "  -0.015313356959571442],\n",
       " [0.03433206180731455,\n",
       "  -0.03341623954474926,\n",
       "  0.013385004053513208,\n",
       "  0.060654263167331614,\n",
       "  -0.03683419323836764],\n",
       " [0.0780935933192571,\n",
       "  -0.05623670667409897,\n",
       "  0.022897351533174515,\n",
       "  0.01901565787071983,\n",
       "  -0.043736295153697334],\n",
       " [[-0.05265624821186066,\n",
       "   -0.09934988617897034,\n",
       "   0.05846581235527992,\n",
       "   0.07864218205213547,\n",
       "   -0.042306989431381226]],\n",
       " [0.01020270143635571,\n",
       "  -0.06714911409653723,\n",
       "  0.046108586713671684,\n",
       "  -0.012680928222835064,\n",
       "  0.03431263007223606],\n",
       " [[0.05051549896597862,\n",
       "   -0.07506421208381653,\n",
       "   0.05169510841369629,\n",
       "   0.008929835632443428,\n",
       "   -0.06988130509853363]],\n",
       " [-0.032841759423414864,\n",
       "  -0.05126497149467468,\n",
       "  0.018674448132514954,\n",
       "  0.018197353308399517,\n",
       "  0.0007870728150010109],\n",
       " [-0.02033279649913311,\n",
       "  0.051132697612047195,\n",
       "  -0.02135590836405754,\n",
       "  0.03792100539430976,\n",
       "  0.039134394377470016],\n",
       " [-0.006819361820816994,\n",
       "  0.021424888633191586,\n",
       "  0.07392032444477081,\n",
       "  0.019210212398320436,\n",
       "  -0.027155566960573196],\n",
       " [0.01448417641222477,\n",
       "  -0.05468657612800598,\n",
       "  0.024793493503239006,\n",
       "  0.06149792857468128,\n",
       "  -0.06134702451527119],\n",
       " [-0.05501411141206821,\n",
       "  -0.10832722826550405,\n",
       "  0.050043786565462746,\n",
       "  0.001499328762292862,\n",
       "  0.011585925395290056],\n",
       " [[0.08488024026155472,\n",
       "   -0.034906066954135895,\n",
       "   0.07297005504369736,\n",
       "   0.07054850459098816,\n",
       "   -0.0018314445624127984]],\n",
       " [-0.09440615028142929,\n",
       "  -0.08523247390985489,\n",
       "  0.013668201339896768,\n",
       "  -0.021089882589876652,\n",
       "  -0.011148668825626373],\n",
       " [[0.061752453446388245,\n",
       "   0.011172370985150337,\n",
       "   -0.03376944363117218,\n",
       "   -0.04368850216269493,\n",
       "   -0.0695130005478859]],\n",
       " [0.044036646373569965,\n",
       "  -0.02126059215515852,\n",
       "  0.06416245736181736,\n",
       "  0.023169752210378647,\n",
       "  0.006505060940980911],\n",
       " [[-0.029021771624684334,\n",
       "   -0.02553883194923401,\n",
       "   0.019563565030694008,\n",
       "   0.008110664784908295,\n",
       "   0.0353965163230896]],\n",
       " [0.004792323336005211,\n",
       "  -0.03209913242608309,\n",
       "  -0.01614544913172722,\n",
       "  0.04572554025799036,\n",
       "  -0.0315866235177964],\n",
       " [-0.021563738584518433,\n",
       "  0.028079320676624775,\n",
       "  -0.08645878359675407,\n",
       "  0.07495837286114693,\n",
       "  0.023444430204108357],\n",
       " [0.028564561158418655,\n",
       "  -0.040557690896093845,\n",
       "  0.007649578154087067,\n",
       "  0.0533008249476552,\n",
       "  0.05038244021125138],\n",
       " [-0.019543567905202508,\n",
       "  -0.0662752443458885,\n",
       "  0.037403760477900505,\n",
       "  -0.00836827652528882,\n",
       "  0.029175985604524612],\n",
       " [-0.05284063168801367,\n",
       "  -0.043946959427557886,\n",
       "  0.04117143806070089,\n",
       "  0.03865930065512657,\n",
       "  0.02589136245660484],\n",
       " [[-0.09230394661426544,\n",
       "   0.01227040495723486,\n",
       "   0.07222606241703033,\n",
       "   -0.022137541323900223,\n",
       "   0.06006556749343872]]]"
      ]
     },
     "execution_count": 79,
     "metadata": {},
     "output_type": "execute_result"
    }
   ],
   "source": [
    "vs"
   ]
  },
  {
   "cell_type": "code",
   "execution_count": 81,
   "metadata": {},
   "outputs": [
    {
     "data": {
      "text/plain": [
       "array([list([0.03618798994769653, -0.05405221196512381, 0.00597471867998441, -0.02975591520468394, 0.019476865728696186]),\n",
       "       list([-0.019059879891574382, -0.10885840952396393, 0.012578083574771881, -0.05174110736697912, 0.01889422945678234]),\n",
       "       list([-0.01659868781765302, -0.07877430692315102, -0.056238409131765366, 0.017355420626699924, -0.0022173424561818442]),\n",
       "       list([0.023537582717835903, -0.06987287849187851, 0.03723717574030161, 0.03595018666237593, -0.02618959080427885]),\n",
       "       list([0.053149513667449355, -0.06024798867292702, 0.035428705625236034, 0.0466556012397632, -0.025899861939251423]),\n",
       "       list([0.052114115096628666, -0.05806411306063334, 0.015107928464810053, 0.030786939430981874, -0.03156136286755403]),\n",
       "       list([0.01644756435416639, -0.07252788241021335, 0.03366859536617994, 0.03104395919945091, -0.01433381404785905]),\n",
       "       list([-0.0024849511682987213, -0.030464147683233023, 0.0025146938860416412, 0.01780892605893314, -0.06995707005262375]),\n",
       "       list([0.07196351885795593, -0.055557332932949066, 0.06207050941884518, 0.04972077230922878, -0.058605318889021873]),\n",
       "       list([0.016406588722020388, -0.05138088824848334, 0.016513739402095478, 0.05245646205730736, -0.015313356959571442]),\n",
       "       list([0.03433206180731455, -0.03341623954474926, 0.013385004053513208, 0.060654263167331614, -0.03683419323836764]),\n",
       "       list([0.0780935933192571, -0.05623670667409897, 0.022897351533174515, 0.01901565787071983, -0.043736295153697334]),\n",
       "       list([[-0.05265624821186066, -0.09934988617897034, 0.05846581235527992, 0.07864218205213547, -0.042306989431381226]]),\n",
       "       list([0.01020270143635571, -0.06714911409653723, 0.046108586713671684, -0.012680928222835064, 0.03431263007223606]),\n",
       "       list([[0.05051549896597862, -0.07506421208381653, 0.05169510841369629, 0.008929835632443428, -0.06988130509853363]]),\n",
       "       list([-0.032841759423414864, -0.05126497149467468, 0.018674448132514954, 0.018197353308399517, 0.0007870728150010109]),\n",
       "       list([-0.02033279649913311, 0.051132697612047195, -0.02135590836405754, 0.03792100539430976, 0.039134394377470016]),\n",
       "       list([-0.006819361820816994, 0.021424888633191586, 0.07392032444477081, 0.019210212398320436, -0.027155566960573196]),\n",
       "       list([0.01448417641222477, -0.05468657612800598, 0.024793493503239006, 0.06149792857468128, -0.06134702451527119]),\n",
       "       list([-0.05501411141206821, -0.10832722826550405, 0.050043786565462746, 0.001499328762292862, 0.011585925395290056]),\n",
       "       list([[0.08488024026155472, -0.034906066954135895, 0.07297005504369736, 0.07054850459098816, -0.0018314445624127984]]),\n",
       "       list([-0.09440615028142929, -0.08523247390985489, 0.013668201339896768, -0.021089882589876652, -0.011148668825626373]),\n",
       "       list([[0.061752453446388245, 0.011172370985150337, -0.03376944363117218, -0.04368850216269493, -0.0695130005478859]]),\n",
       "       list([0.044036646373569965, -0.02126059215515852, 0.06416245736181736, 0.023169752210378647, 0.006505060940980911]),\n",
       "       list([[-0.029021771624684334, -0.02553883194923401, 0.019563565030694008, 0.008110664784908295, 0.0353965163230896]]),\n",
       "       list([0.004792323336005211, -0.03209913242608309, -0.01614544913172722, 0.04572554025799036, -0.0315866235177964]),\n",
       "       list([-0.021563738584518433, 0.028079320676624775, -0.08645878359675407, 0.07495837286114693, 0.023444430204108357]),\n",
       "       list([0.028564561158418655, -0.040557690896093845, 0.007649578154087067, 0.0533008249476552, 0.05038244021125138]),\n",
       "       list([-0.019543567905202508, -0.0662752443458885, 0.037403760477900505, -0.00836827652528882, 0.029175985604524612]),\n",
       "       list([-0.05284063168801367, -0.043946959427557886, 0.04117143806070089, 0.03865930065512657, 0.02589136245660484]),\n",
       "       list([[-0.09230394661426544, 0.01227040495723486, 0.07222606241703033, -0.022137541323900223, 0.06006556749343872]])],\n",
       "      dtype=object)"
      ]
     },
     "execution_count": 81,
     "metadata": {},
     "output_type": "execute_result"
    }
   ],
   "source": [
    "np.array(vs)"
   ]
  },
  {
   "cell_type": "code",
   "execution_count": 27,
   "metadata": {},
   "outputs": [],
   "source": [
    "vs_list=[[0.03618798994769653, -0.05405221196512381, 0.00597471867998441, -0.02975591520468394, 0.019476865728696186],\n",
    "       [-0.019059879891574382, -0.10885840952396393, 0.012578083574771881, -0.05174110736697912, 0.01889422945678234],\n",
    "       [-0.01659868781765302, -0.07877430692315102, -0.056238409131765366, 0.017355420626699924, -0.0022173424561818442],\n",
    "       [0.023537582717835903, -0.06987287849187851, 0.03723717574030161, 0.03595018666237593, -0.02618959080427885],\n",
    "       [0.053149513667449355, -0.06024798867292702, 0.035428705625236034, 0.0466556012397632, -0.025899861939251423],\n",
    "       [0.052114115096628666, -0.05806411306063334, 0.015107928464810053, 0.030786939430981874, -0.03156136286755403],\n",
    "       [0.01644756435416639, -0.07252788241021335, 0.03366859536617994, 0.03104395919945091, -0.01433381404785905],\n",
    "       [-0.0024849511682987213, -0.030464147683233023, 0.0025146938860416412, 0.01780892605893314, -0.06995707005262375],\n",
    "       [0.07196351885795593, -0.055557332932949066, 0.06207050941884518, 0.04972077230922878, -0.058605318889021873],\n",
    "       [0.016406588722020388, -0.05138088824848334, 0.016513739402095478, 0.05245646205730736, -0.015313356959571442],\n",
    "       [0.03433206180731455, -0.03341623954474926, 0.013385004053513208, 0.060654263167331614, -0.03683419323836764],\n",
    "       [0.0780935933192571, -0.05623670667409897, 0.022897351533174515, 0.01901565787071983, -0.043736295153697334],\n",
    "       [-0.05265624821186066, -0.09934988617897034, 0.05846581235527992, 0.07864218205213547, -0.042306989431381226],\n",
    "       [0.01020270143635571, -0.06714911409653723, 0.046108586713671684, -0.012680928222835064, 0.03431263007223606],\n",
    "       [0.05051549896597862, -0.07506421208381653, 0.05169510841369629, 0.008929835632443428, -0.06988130509853363],\n",
    "       [-0.032841759423414864, -0.05126497149467468, 0.018674448132514954, 0.018197353308399517, 0.0007870728150010109],\n",
    "       [-0.02033279649913311, 0.051132697612047195, -0.02135590836405754, 0.03792100539430976, 0.039134394377470016],\n",
    "       [-0.006819361820816994, 0.021424888633191586, 0.07392032444477081, 0.019210212398320436, -0.027155566960573196],\n",
    "       [0.01448417641222477, -0.05468657612800598, 0.024793493503239006, 0.06149792857468128, -0.06134702451527119],\n",
    "       [-0.05501411141206821, -0.10832722826550405, 0.050043786565462746, 0.001499328762292862, 0.011585925395290056],\n",
    "       [0.08488024026155472, -0.034906066954135895, 0.07297005504369736, 0.07054850459098816, -0.0018314445624127984],\n",
    "       [-0.09440615028142929, -0.08523247390985489, 0.013668201339896768, -0.021089882589876652, -0.011148668825626373],\n",
    "       [0.061752453446388245, 0.011172370985150337, -0.03376944363117218, -0.04368850216269493, -0.0695130005478859],\n",
    "       [0.044036646373569965, -0.02126059215515852, 0.06416245736181736, 0.023169752210378647, 0.006505060940980911],\n",
    "       [-0.029021771624684334, -0.02553883194923401, 0.019563565030694008, 0.008110664784908295, 0.0353965163230896],\n",
    "       [0.004792323336005211, -0.03209913242608309, -0.01614544913172722, 0.04572554025799036, -0.0315866235177964],\n",
    "       [-0.021563738584518433, 0.028079320676624775, -0.08645878359675407, 0.07495837286114693, 0.023444430204108357],\n",
    "       [0.028564561158418655, -0.040557690896093845, 0.007649578154087067, 0.0533008249476552, 0.05038244021125138],\n",
    "       [-0.019543567905202508, -0.0662752443458885, 0.037403760477900505, -0.00836827652528882, 0.029175985604524612],\n",
    "       [-0.05284063168801367, -0.043946959427557886, 0.04117143806070089, 0.03865930065512657, 0.02589136245660484],\n",
    "       [-0.09230394661426544, 0.01227040495723486, 0.07222606241703033, -0.022137541323900223, 0.06006556749343872]]"
   ]
  },
  {
   "cell_type": "code",
   "execution_count": 28,
   "metadata": {},
   "outputs": [],
   "source": [
    "import numpy as np"
   ]
  },
  {
   "cell_type": "code",
   "execution_count": 29,
   "metadata": {},
   "outputs": [],
   "source": [
    "vs_array=np.array(vs_list)"
   ]
  },
  {
   "cell_type": "code",
   "execution_count": 30,
   "metadata": {},
   "outputs": [
    {
     "data": {
      "text/plain": [
       "(31, 5)"
      ]
     },
     "execution_count": 30,
     "metadata": {},
     "output_type": "execute_result"
    }
   ],
   "source": [
    "vs_array.shape"
   ]
  },
  {
   "cell_type": "code",
   "execution_count": 13,
   "metadata": {},
   "outputs": [
    {
     "name": "stdout",
     "output_type": "stream",
     "text": [
      "[['villagers', 'and', 'i'], ['two', 'sides', 'of', 'taiwan', 'straits'], ['two', 'prime', 'ministers'], ['this', 'government'], ['the', 'party', 'and', 'government'], ['the', 'new', 'government'], ['the', 'mainland', 'and', 'hk'], ['the', 'mainland'], ['the', 'government'], ['the', 'chinese', 'government', 'and', 'chinese', 'people'], ['the', 'chinese', 'government'], ['the', 'central', 'government'], ['premiers'], ['peoples', 'republic', 'of', 'china'], ['people'], ['our', 'two', 'countries'], ['our', 'nation'], ['our', 'generation'], ['my', 'government'], ['mainland', 'and', 'taiwan'], ['inclusive'], ['imagined', 'plural'], ['i'], ['government', 'officials'], ['folks'], ['chinese', 'people'], ['chinese', 'nation'], ['chinese', 'economy'], ['china', 'and', 'other', 'country'], ['china', 'and', 'neighbouring', 'countries'], ['china']]\n"
     ]
    },
    {
     "data": {
      "text/plain": [
       "31"
      ]
     },
     "execution_count": 13,
     "metadata": {},
     "output_type": "execute_result"
    }
   ],
   "source": [
    "referents_sorted=sorted(sorted_data, reverse = True)\n",
    "print (referents_sorted)\n",
    "len(referents_sorted)"
   ]
  },
  {
   "cell_type": "code",
   "execution_count": 100,
   "metadata": {},
   "outputs": [],
   "source": [
    "weight=[3,'villagers and i', \n",
    "        12,'two sides of taiwan straits',\n",
    "        2,'two prime ministers', \n",
    "        8,'this government', \n",
    "        9,'the party and government', \n",
    "        8,'the new government', \n",
    "        12,'the mainland and hk', \n",
    "        11,'the mainland', \n",
    "        8,'the government', \n",
    "        11,'the chinese government and chinese people', \n",
    "        9,'the chinese government', \n",
    "        7,'the central government', \n",
    "        2,'premiers', \n",
    "        11,\"people's republic of china\", \n",
    "        5,'people', \n",
    "        12,'our two countries', \n",
    "        14,'our nation', \n",
    "        4,'our generation', \n",
    "        8,'my government', \n",
    "        12,'mainland and taiwan', \n",
    "        5,'inclusive', \n",
    "        15,'imagined plural', \n",
    "        1,'i', \n",
    "        4,'government officials', \n",
    "        4,'folks', \n",
    "        10,'chinese people', \n",
    "        14,'chinese nation', \n",
    "        10,'chinese economy', \n",
    "        12,'china and other country', \n",
    "        13,'china and neighbouring countries', \n",
    "        11,'china']"
   ]
  },
  {
   "cell_type": "code",
   "execution_count": 103,
   "metadata": {},
   "outputs": [
    {
     "data": {
      "text/plain": [
       "' 3 12 2 8 9 8 12 11 8 11 9 7 2 11 5 12 14 4 8 12 5 15 1 4 4 10 14 10 12 13 11 '"
      ]
     },
     "execution_count": 103,
     "metadata": {},
     "output_type": "execute_result"
    }
   ],
   "source": [
    "import re\n",
    "weight_s=str(weight)\n",
    "non_decimal = re.compile(r'[^\\d]+')\n",
    "non_decimal.sub(' ', weight_s)"
   ]
  },
  {
   "cell_type": "code",
   "execution_count": 31,
   "metadata": {},
   "outputs": [
    {
     "data": {
      "text/plain": [
       "31"
      ]
     },
     "execution_count": 31,
     "metadata": {},
     "output_type": "execute_result"
    }
   ],
   "source": [
    "sorted_weight=[3,12,2,8,9,8,12,11,8,11,9,7,2,11,5,12,14,4,8,12,5,15,1,4,4,10,14,10,12,13,11]\n",
    "len(sorted_weight)"
   ]
  },
  {
   "cell_type": "code",
   "execution_count": 32,
   "metadata": {},
   "outputs": [],
   "source": [
    "for i in range (len(sorted_weight)): \n",
    "    updated_vectors=[a*b for a,b in zip(vs_array,sorted_weight)]"
   ]
  },
  {
   "cell_type": "code",
   "execution_count": 34,
   "metadata": {
    "scrolled": true
   },
   "outputs": [
    {
     "name": "stdout",
     "output_type": "stream",
     "text": [
      "[array([ 0.10856397, -0.16215664,  0.01792416, -0.08926775,  0.0584306 ]), array([-0.22871856, -1.30630091,  0.150937  , -0.62089329,  0.22673075]), array([-0.03319738, -0.15754861, -0.11247682,  0.03471084, -0.00443468]), array([ 0.18830066, -0.55898303,  0.29789741,  0.28760149, -0.20951673]), array([ 0.47834562, -0.5422319 ,  0.31885835,  0.41990041, -0.23309876]), array([ 0.41691292, -0.4645129 ,  0.12086343,  0.24629552, -0.2524909 ]), array([ 0.19737077, -0.87033459,  0.40402314,  0.37252751, -0.17200577]), array([-0.02733446, -0.33510562,  0.02766163,  0.19589819, -0.76952777]), array([ 0.57570815, -0.44445866,  0.49656408,  0.39776618, -0.46884255]), array([ 0.18047248, -0.56518977,  0.18165113,  0.57702108, -0.16844693]), array([ 0.30898856, -0.30074616,  0.12046504,  0.54588837, -0.33150774]), array([ 0.54665515, -0.39365695,  0.16028146,  0.13310961, -0.30615407]), array([-0.1053125 , -0.19869977,  0.11693162,  0.15728436, -0.08461398]), array([ 0.11222972, -0.73864026,  0.50719445, -0.13949021,  0.37743893]), array([ 0.25257749, -0.37532106,  0.25847554,  0.04464918, -0.34940653]), array([-0.39410111, -0.61517966,  0.22409338,  0.21836824,  0.00944487]), array([-0.28465915,  0.71585777, -0.29898272,  0.53089408,  0.54788152]), array([-0.02727745,  0.08569955,  0.2956813 ,  0.07684085, -0.10862227]), array([ 0.11587341, -0.43749261,  0.19834795,  0.49198343, -0.4907762 ]), array([-0.66016934, -1.29992674,  0.60052544,  0.01799195,  0.1390311 ]), array([ 0.4244012 , -0.17453033,  0.36485028,  0.35274252, -0.00915722]), array([-1.41609225, -1.27848711,  0.20502302, -0.31634824, -0.16723003]), array([ 0.06175245,  0.01117237, -0.03376944, -0.0436885 , -0.069513  ]), array([ 0.17614659, -0.08504237,  0.25664983,  0.09267901,  0.02602024]), array([-0.11608709, -0.10215533,  0.07825426,  0.03244266,  0.14158607]), array([ 0.04792323, -0.32099132, -0.16145449,  0.4572554 , -0.31586624]), array([-0.30189234,  0.39311049, -1.21042297,  1.04941722,  0.32822202]), array([ 0.28564561, -0.40557691,  0.07649578,  0.53300825,  0.5038244 ]), array([-0.23452281, -0.79530293,  0.44884513, -0.10041932,  0.35011183]), array([-0.68692821, -0.57131047,  0.53522869,  0.50257091,  0.33658771]), array([-1.01534341,  0.13497445,  0.79448669, -0.24351295,  0.66072124])]\n"
     ]
    }
   ],
   "source": [
    "print (updated_vectors)"
   ]
  },
  {
   "cell_type": "code",
   "execution_count": 35,
   "metadata": {},
   "outputs": [],
   "source": [
    "updated=np.array(updated_vectors)"
   ]
  },
  {
   "cell_type": "code",
   "execution_count": 36,
   "metadata": {},
   "outputs": [
    {
     "data": {
      "text/plain": [
       "(31, 5)"
      ]
     },
     "execution_count": 36,
     "metadata": {},
     "output_type": "execute_result"
    }
   ],
   "source": [
    "updated.shape"
   ]
  },
  {
   "cell_type": "code",
   "execution_count": 92,
   "metadata": {},
   "outputs": [],
   "source": [
    "updated_t=np.transpose(updated)"
   ]
  },
  {
   "cell_type": "code",
   "execution_count": 97,
   "metadata": {},
   "outputs": [
    {
     "data": {
      "image/png": "[encoded data removed]",
      "text/plain": [
       "<Figure size 1152x864 with 2 Axes>"
      ]
     },
     "metadata": {},
     "output_type": "display_data"
    }
   ],
   "source": [
    "import numpy as np\n",
    "import matplotlib\n",
    "import matplotlib.pyplot as plt\n",
    "\n",
    "plt.rcParams[\"font.family\"] = \"Times New Roman\"\n",
    "plt.rcParams.update({'font.size': 16})\n",
    "\n",
    "#categorical data\n",
    "#referents_sorted\n",
    "#sorted_weight\n",
    "#updated_vectors\n",
    "\n",
    "plt.figure(figsize=(16, 12))\n",
    "plt.imshow(updated_t)\n",
    "plt.colorbar(orientation='horizontal', fraction=0.15, pad=0.04)\n",
    "\n",
    "#cbar = ax.figure.colorbar(im, ax=ax)\n",
    "#cbar.ax.set_ylabel(cbarlabel, rotation=-90, va=\"bottom\")\n",
    "\n",
    "plt.yticks(np.arange(5, step=1))\n",
    "plt.xticks(np.arange(len(updated_vectors), step=5))\n",
    "\n",
    "\n",
    "plt.savefig('/users/nannanliu/Python/SCIPPC/collective_personal_pronoun/IE_map.png', dpi=300)\n",
    "plt.show()"
   ]
  },
  {
   "cell_type": "code",
   "execution_count": 79,
   "metadata": {},
   "outputs": [],
   "source": [
    "#从这里开始进行plotting，referent_string指referent中的unique items，共31个\n",
    "referent_string=['villagers and i', 'two sides of taiwan straits', 'two prime ministers', 'this government', 'the party and government', 'the new government', 'the mainland and hk', 'the mainland', 'the government', 'the chinese government and chinese people', 'the chinese government', 'the central government', 'premiers', \"people's republic of china\", 'people', 'our two countries', 'our nation', 'our generation', 'my government', 'mainland and taiwan', 'inclusive', 'imagined plural', 'i', 'government officials', 'folks', 'chinese people', 'chinese nation', 'chinese economy', 'china and other country', 'china and neighbouring countries', 'china']"
   ]
  },
  {
   "cell_type": "code",
   "execution_count": 72,
   "metadata": {},
   "outputs": [
    {
     "data": {
      "text/plain": [
       "(31, 5)"
      ]
     },
     "execution_count": 72,
     "metadata": {},
     "output_type": "execute_result"
    }
   ],
   "source": [
    "updated.shape"
   ]
  },
  {
   "cell_type": "code",
   "execution_count": 73,
   "metadata": {},
   "outputs": [],
   "source": [
    "from sklearn.decomposition import PCA\n",
    "pca = PCA(n_components=2)\n",
    "updated_pca = pca.fit_transform(updated)"
   ]
  },
  {
   "cell_type": "code",
   "execution_count": 74,
   "metadata": {},
   "outputs": [
    {
     "data": {
      "text/plain": [
       "(31, 2)"
      ]
     },
     "execution_count": 74,
     "metadata": {},
     "output_type": "execute_result"
    }
   ],
   "source": [
    "updated_pca.shape"
   ]
  },
  {
   "cell_type": "code",
   "execution_count": 76,
   "metadata": {},
   "outputs": [
    {
     "data": {
      "text/plain": [
       "31"
      ]
     },
     "execution_count": 76,
     "metadata": {},
     "output_type": "execute_result"
    }
   ],
   "source": [
    "len(referent_string)"
   ]
  },
  {
   "cell_type": "code",
   "execution_count": 96,
   "metadata": {},
   "outputs": [
    {
     "data": {
      "text/plain": [
       "31"
      ]
     },
     "execution_count": 96,
     "metadata": {},
     "output_type": "execute_result"
    }
   ],
   "source": [
    "len(ref_string)"
   ]
  },
  {
   "cell_type": "code",
   "execution_count": 89,
   "metadata": {},
   "outputs": [
    {
     "data": {
      "text/plain": [
       "(31, 2)"
      ]
     },
     "execution_count": 89,
     "metadata": {},
     "output_type": "execute_result"
    }
   ],
   "source": [
    "updated_pca.shape"
   ]
  },
  {
   "cell_type": "code",
   "execution_count": 124,
   "metadata": {},
   "outputs": [
    {
     "data": {
      "image/png": "[encoded data removed]",
      "text/plain": [
       "<Figure size 4500x2400 with 1 Axes>"
      ]
     },
     "metadata": {},
     "output_type": "display_data"
    }
   ],
   "source": [
    "#这里将31*5的referent matrix压缩成31*2，在平面图上显示\n",
    "#https://machinelearningmastery.com/develop-word-embeddings-python-gensim/\n",
    "import matplotlib.pyplot as plt\n",
    "from sklearn.decomposition import PCA\n",
    "plt.rcParams[\"font.family\"] = \"Times New Roman\"\n",
    "\n",
    "pca = PCA(n_components=2)\n",
    "updated_pca = pca.fit_transform(updated)\n",
    "\n",
    "plt.figure(figsize=(15, 8), dpi=300)\n",
    "plt.scatter(updated_pca[:, 0], updated_pca[:, 1])\n",
    "\n",
    "for i, word in enumerate(referent_string):\n",
    "    plt.annotate(word, xy=(updated_pca[i, 0], updated_pca[i, 1]))\n",
    "    \n",
    "plt.xlabel('PC1')\n",
    "plt.ylabel('PC2')\n",
    "\n",
    "#plt.savefig('/users/nannanliu/Python/SCIPPC/collective_personal_pronoun/IE_word2vec.png', dpi=300)\n",
    "plt.show()\n"
   ]
  },
  {
   "cell_type": "code",
   "execution_count": 108,
   "metadata": {},
   "outputs": [],
   "source": [
    "result= ''.join([i for i in weight_s if not i.isdigit()])"
   ]
  },
  {
   "cell_type": "code",
   "execution_count": 116,
   "metadata": {},
   "outputs": [
    {
     "name": "stdout",
     "output_type": "stream",
     "text": [
      "[, 'villagers and i', , 'two sides of taiwan straits', , 'two prime ministers', , 'this government', , 'the party and government', , 'the new government', , 'the mainland and hk', , 'the mainland', , 'the government', , 'the chinese government and chinese people', , 'the chinese government', , 'the central government', , 'premiers', , \"people's republic of china\", , 'people', , 'our two countries', , 'our nation', , 'our generation', , 'my government', , 'mainland and taiwan', , 'inclusive', , 'imagined plural', , 'i', , 'government officials', , 'folks', , 'chinese people', , 'chinese nation', , 'chinese economy', , 'china and other country', , 'china and neighbouring countries', , 'china']\n"
     ]
    }
   ],
   "source": [
    "print (result)"
   ]
  },
  {
   "cell_type": "code",
   "execution_count": 26,
   "metadata": {},
   "outputs": [],
   "source": [
    "referent_string=['villagers and i', 'two sides of taiwan straits', 'two prime ministers', 'this government', 'the party and government', 'the new government', 'the mainland and hk', 'the mainland', 'the government', 'the chinese government and chinese people', 'the chinese government', 'the central government', 'premiers', \"people's republic of china\", 'people', 'our two countries', 'our nation', 'our generation', 'my government', 'mainland and taiwan', 'inclusive', 'imagined plural', 'i', 'government officials', 'folks', 'chinese people', 'chinese nation', 'chinese economy', 'china and other country', 'china and neighbouring countries', 'china']"
   ]
  },
  {
   "cell_type": "code",
   "execution_count": 103,
   "metadata": {},
   "outputs": [],
   "source": [
    "#这里将降维之后的向量map到原来的数据表格中\n",
    "vector_mapping=dict(zip(referent_string, updated_pca))"
   ]
  },
  {
   "cell_type": "code",
   "execution_count": 105,
   "metadata": {},
   "outputs": [],
   "source": [
    "referents=[['inclusive'], ['inclusive'], ['inclusive'], ['inclusive'], ['imagined plural'], ['imagined plural'], ['i'], ['i'], ['this government'], ['this government'], ['this government'], ['this government'], ['imagined plural'], ['imagined plural'], ['this government'], ['this government'], ['this government'], ['this government'], ['imagined plural'], ['this government'], ['the government'], ['imagined plural'], ['the government'], ['imagined plural'], ['i'], ['the central government'], ['the government'], ['the government'], ['the government'], ['i'], ['the party and government'], ['the party and government'], ['this government'], ['the government'], ['imagined plural'], ['the government'], ['the government'], ['i'], ['the government'], ['the government'], ['the new government'], ['the new government'], ['the government'], ['the government'], ['imagined plural'], ['imagined plural'], ['imagined plural'], ['the government'], ['the chinese government'], ['the chinese government'], ['i'], ['imagined plural'], ['i'], ['i'], ['the chinese government'], ['the chinese government'], ['the chinese government'], ['the chinese government'], ['the chinese government'], ['the chinese government'], ['china'], ['china'], ['the party and government'], ['the party and government'], ['china'], ['china'], ['china'], ['the government'], ['the government'], ['the government'], ['the government'], ['china'], ['china'], ['china'], ['china'], ['china'], ['china'], ['china'], ['imagined plural'], ['china'], ['china'], ['china'], ['peoples republic of china'], ['peoples republic of china'], ['peoples republic of china'], ['peoples republic of china'], ['china'], ['imagined plural'], ['imagined plural'], ['china'], ['imagined plural'], ['the government'], ['the government'], ['the government'], ['the government'], ['the government'], ['the government'], ['the government'], ['the government'], ['the government'], ['the government'], ['the government'], ['the government'], ['the government'], ['the government'], ['the government'], ['china'], ['china'], ['the government'], ['china'], ['china'], ['china'], ['china'], ['imagined plural'], ['the central government'], ['the central government'], ['the central government'], ['imagined plural'], ['imagined plural'], ['the government'], ['the government'], ['the government'], ['the government'], ['the government'], ['the government'], ['the government'], ['the government'], ['china and other country'], ['china and other country'], ['two prime ministers'], ['china and other country'], ['our two countries'], ['the government'], ['the government'], ['the government'], ['the government'], ['the government'], ['i'], ['the government'], ['the government'], ['inclusive'], ['our two countries'], ['two prime ministers'], ['our two countries'], ['our two countries'], ['our two countries'], ['the central government'], ['imagined plural'], ['imagined plural'], ['imagined plural'], ['our two countries'], ['the chinese government'], ['the chinese government'], ['inclusive'], ['inclusive'], ['the party and government'], ['the party and government'], ['the party and government'], ['imagined plural'], ['imagined plural'], ['imagined plural'], ['chinese nation'], ['inclusive'], ['inclusive'], ['inclusive'], ['imagined plural'], ['imagined plural'], ['our nation'], ['the government'], ['the government'], ['i'], ['the government'], ['the government'], ['the government'], ['the government'], ['the government'], ['the government'], ['the government'], ['the government'], ['the government'], ['the government'], ['the government'], ['the government'], ['the government'], ['the government'], ['the government'], ['the government'], ['imagined plural'], ['imagined plural'], ['the government'], ['the government'], ['the government'], ['the government'], ['the government'], ['imagined plural'], ['imagined plural'], ['china'], ['imagined plural'], ['the government'], ['the government'], ['the central government'], ['i'], ['china and other country'], ['china and other country'], ['china and other country'], ['china and other country'], ['i'], ['china'], ['china'], ['chinese people'], ['china and other country'], ['imagined plural'], ['imagined plural'], ['imagined plural'], ['imagined plural'], ['the party and government'], ['imagined plural'], ['the government'], ['imagined plural'], ['the government'], ['the government'], ['imagined plural'], ['the party and government'], ['imagined plural'], ['imagined plural'], ['imagined plural'], ['chinese nation'], ['imagined plural'], ['imagined plural'], ['imagined plural'], ['imagined plural'], ['our two countries'], ['china and other country'], ['imagined plural'], ['imagined plural'], ['china'], ['the government'], ['imagined plural'], ['imagined plural'], ['the government'], ['the government'], ['the government'], ['the government'], ['the government'], ['imagined plural'], ['inclusive'], ['inclusive'], ['premiers'], ['the new government'], ['the new government'], ['the new government'], ['the new government'], ['imagined plural'], ['the government'], ['the government'], ['the government'], ['the government'], ['the government'], ['the government'], ['the government'], ['imagined plural'], ['imagined plural'], ['imagined plural'], ['imagined plural'], ['the party and government'], ['china'], ['chinese economy'], ['the government'], ['the government'], ['imagined plural'], ['the government'], ['the government'], ['the government'], ['the government'], ['the government'], ['the government'], ['the government'], ['the government'], ['the government'], ['the government'], ['imagined plural'], ['imagined plural'], ['imagined plural'], ['imagined plural'], ['imagined plural'], ['the government'], ['the new government'], ['imagined plural'], ['government officials'], ['government officials'], ['government officials'], ['imagined plural'], ['imagined plural'], ['imagined plural'], ['government officials'], ['the government'], ['my government'], ['imagined plural'], ['china and other country'], ['china and other country'], ['china and other country'], ['china and other country'], ['china and other country'], ['china and other country'], ['china'], ['china and other country'], ['china'], ['inclusive'], ['imagined plural'], ['the government'], ['the government'], ['my government'], ['my government'], ['my government'], ['my government'], ['my government'], ['the government'], ['the government'], ['the government'], ['the government'], ['the government'], ['the government'], ['the government'], ['the government'], ['the government'], ['the government'], ['the government'], ['the government'], ['the government'], ['the government'], ['the government'], ['the government'], ['the government'], ['the government'], ['the government'], ['the government'], ['the government'], ['the government'], ['the government'], ['the government'], ['the government'], ['the government'], ['two sides of taiwan straits'], ['i'], ['two sides of taiwan straits'], ['two sides of taiwan straits'], ['mainland and taiwan'], ['folks'], ['the government'], ['the government'], ['the government'], ['the government'], ['imagined plural'], ['this government'], ['this government'], ['the government'], ['the government'], ['imagined plural'], ['the government'], ['this government'], ['this government'], ['imagined plural'], ['imagined plural'], ['imagined plural'], ['imagined plural'], ['imagined plural'], ['imagined plural'], ['the government'], ['imagined plural'], ['imagined plural'], ['imagined plural'], ['the government'], ['i'], ['the mainland and hk'], ['our generation'], ['inclusive'], ['inclusive'], ['china and other country'], ['china and other country'], ['china and other country'], ['china and neighbouring countries'], ['imagined plural'], ['imagined plural'], ['china'], ['china'], ['china'], ['imagined plural'], ['inclusive'], ['the chinese government and chinese people'], ['the chinese government'], ['the chinese government'], ['the chinese government'], ['the chinese government'], ['inclusive'], ['the chinese government'], ['the chinese government'], ['the chinese government'], ['the chinese government'], ['the chinese government'], ['the government'], ['the government'], ['the government'], ['china'], ['china'], ['the government'], ['imagined plural'], ['the party and government'], ['the party and government'], ['the government'], ['the government'], ['the government'], ['the government'], ['the government'], ['the government'], ['inclusive'], ['china'], ['china and neighbouring countries'], ['china and neighbouring countries'], ['the government'], ['the government'], ['the government'], ['the government'], ['the government'], ['the government'], ['the government'], ['the government'], ['the government'], ['the government'], ['the government'], ['the government'], ['the government'], ['the government'], ['the government'], ['the government'], ['the government'], ['i'], ['i'], ['i'], ['the chinese government'], ['the government'], ['i'], ['the chinese government'], ['the chinese government'], ['the chinese government'], ['the chinese government'], ['the government'], ['the government'], ['the government'], ['the government'], ['the government'], ['the government'], ['the government'], ['the government'], ['imagined plural'], ['the government'], ['i'], ['the government'], ['the government'], ['two sides of taiwan straits'], ['two sides of taiwan straits'], ['imagined plural'], ['villagers and i'], ['the party and government'], ['the party and government'], ['the party and government'], ['the party and government'], ['the government'], ['the government'], ['the government'], ['the government'], ['the government'], ['the government'], ['the government'], ['the party and government'], ['i'], ['i'], ['i'], ['the government'], ['the government'], ['the government'], ['the government'], ['the government'], ['the government'], ['the government'], ['the government'], ['the government'], ['the government'], ['the government'], ['the government'], ['the government'], ['imagined plural'], ['imagined plural'], ['imagined plural'], ['china'], ['imagined plural'], ['i'], ['imagined plural'], ['the government'], ['the government'], ['the government'], ['the government'], ['the government'], ['the government'], ['the government'], ['the government'], ['the government'], ['the government'], ['the government'], ['the government'], ['the government'], ['the government'], ['the government'], ['the government'], ['the government'], ['inclusive'], ['inclusive'], ['the government'], ['the government'], ['imagined plural'], ['the government'], ['the government'], ['the government'], ['the government'], ['the government'], ['the government'], ['the government'], ['the government'], ['the government'], ['imagined plural'], ['the party and government'], ['the party and government'], ['the party and government'], ['the party and government'], ['the party and government'], ['the party and government'], ['the government'], ['the government'], ['the government'], ['the government'], ['the government'], ['the government'], ['the government'], ['the government'], ['china'], ['the government'], ['the government'], ['the government'], ['the government'], ['the government'], ['the government'], ['the government'], ['the government'], ['the government'], ['the chinese government'], ['the chinese government'], ['the chinese government'], ['the chinese government'], ['the chinese government'], ['the chinese government'], ['inclusive'], ['imagined plural'], ['the government'], ['the government'], ['the government'], ['i'], ['the government'], ['the central government'], ['the government'], ['the government'], ['the government'], ['the government'], \\\n",
    "                        ['two sides of taiwan straits'], ['two sides of taiwan straits'], ['imagined plural'], ['the mainland'], ['the mainland'], ['the mainland'], ['imagined plural'], ['china'], ['china'], ['china'], ['china'], ['imagined plural'], ['china'], ['china'], ['imagined plural'], ['the central government'], ['china'], ['china'], ['china'], ['china'], ['china'], ['people'], ['china']]"
   ]
  },
  {
   "cell_type": "code",
   "execution_count": 10,
   "metadata": {},
   "outputs": [],
   "source": [
    "flatten = lambda l: [item for sublist in l for item in sublist]"
   ]
  },
  {
   "cell_type": "code",
   "execution_count": 12,
   "metadata": {},
   "outputs": [],
   "source": [
    "original_referents=flatten(referents)"
   ]
  },
  {
   "cell_type": "code",
   "execution_count": 14,
   "metadata": {},
   "outputs": [
    {
     "data": {
      "text/plain": [
       "594"
      ]
     },
     "execution_count": 14,
     "metadata": {},
     "output_type": "execute_result"
    }
   ],
   "source": [
    "len(original_referents)"
   ]
  },
  {
   "cell_type": "code",
   "execution_count": 106,
   "metadata": {},
   "outputs": [],
   "source": [
    "import pandas as pd\n",
    "labels=['referent']\n",
    "df = pd.DataFrame.from_records(referents, columns=labels)"
   ]
  },
  {
   "cell_type": "code",
   "execution_count": 107,
   "metadata": {},
   "outputs": [],
   "source": [
    "df['vector']=df['referent']"
   ]
  },
  {
   "cell_type": "code",
   "execution_count": 108,
   "metadata": {},
   "outputs": [],
   "source": [
    "df['vector']=df['vector'].map(vector_mapping)"
   ]
  },
  {
   "cell_type": "code",
   "execution_count": 109,
   "metadata": {},
   "outputs": [
    {
     "data": {
      "text/html": [
       "<div>\n",
       "<style scoped>\n",
       "    .dataframe tbody tr th:only-of-type {\n",
       "        vertical-align: middle;\n",
       "    }\n",
       "\n",
       "    .dataframe tbody tr th {\n",
       "        vertical-align: top;\n",
       "    }\n",
       "\n",
       "    .dataframe thead th {\n",
       "        text-align: right;\n",
       "    }\n",
       "</style>\n",
       "<table border=\"1\" class=\"dataframe\">\n",
       "  <thead>\n",
       "    <tr style=\"text-align: right;\">\n",
       "      <th></th>\n",
       "      <th>referent</th>\n",
       "      <th>vector</th>\n",
       "    </tr>\n",
       "  </thead>\n",
       "  <tbody>\n",
       "    <tr>\n",
       "      <th>0</th>\n",
       "      <td>inclusive</td>\n",
       "      <td>[-0.35473544999102913, -0.2537250527107664]</td>\n",
       "    </tr>\n",
       "    <tr>\n",
       "      <th>1</th>\n",
       "      <td>inclusive</td>\n",
       "      <td>[-0.35473544999102913, -0.2537250527107664]</td>\n",
       "    </tr>\n",
       "    <tr>\n",
       "      <th>2</th>\n",
       "      <td>inclusive</td>\n",
       "      <td>[-0.35473544999102913, -0.2537250527107664]</td>\n",
       "    </tr>\n",
       "    <tr>\n",
       "      <th>3</th>\n",
       "      <td>inclusive</td>\n",
       "      <td>[-0.35473544999102913, -0.2537250527107664]</td>\n",
       "    </tr>\n",
       "    <tr>\n",
       "      <th>4</th>\n",
       "      <td>imagined plural</td>\n",
       "      <td>[1.4671178809704382, 0.4532619540611121]</td>\n",
       "    </tr>\n",
       "    <tr>\n",
       "      <th>5</th>\n",
       "      <td>imagined plural</td>\n",
       "      <td>[1.4671178809704382, 0.4532619540611121]</td>\n",
       "    </tr>\n",
       "    <tr>\n",
       "      <th>6</th>\n",
       "      <td>i</td>\n",
       "      <td>[-0.28815177349446136, 0.15158652903076864]</td>\n",
       "    </tr>\n",
       "    <tr>\n",
       "      <th>7</th>\n",
       "      <td>i</td>\n",
       "      <td>[-0.28815177349446136, 0.15158652903076864]</td>\n",
       "    </tr>\n",
       "    <tr>\n",
       "      <th>8</th>\n",
       "      <td>this government</td>\n",
       "      <td>[-0.013811502638578284, -0.3531162646130892]</td>\n",
       "    </tr>\n",
       "    <tr>\n",
       "      <th>9</th>\n",
       "      <td>this government</td>\n",
       "      <td>[-0.013811502638578284, -0.3531162646130892]</td>\n",
       "    </tr>\n",
       "    <tr>\n",
       "      <th>10</th>\n",
       "      <td>this government</td>\n",
       "      <td>[-0.013811502638578284, -0.3531162646130892]</td>\n",
       "    </tr>\n",
       "    <tr>\n",
       "      <th>11</th>\n",
       "      <td>this government</td>\n",
       "      <td>[-0.013811502638578284, -0.3531162646130892]</td>\n",
       "    </tr>\n",
       "    <tr>\n",
       "      <th>12</th>\n",
       "      <td>imagined plural</td>\n",
       "      <td>[1.4671178809704382, 0.4532619540611121]</td>\n",
       "    </tr>\n",
       "    <tr>\n",
       "      <th>13</th>\n",
       "      <td>imagined plural</td>\n",
       "      <td>[1.4671178809704382, 0.4532619540611121]</td>\n",
       "    </tr>\n",
       "    <tr>\n",
       "      <th>14</th>\n",
       "      <td>this government</td>\n",
       "      <td>[-0.013811502638578284, -0.3531162646130892]</td>\n",
       "    </tr>\n",
       "    <tr>\n",
       "      <th>15</th>\n",
       "      <td>this government</td>\n",
       "      <td>[-0.013811502638578284, -0.3531162646130892]</td>\n",
       "    </tr>\n",
       "    <tr>\n",
       "      <th>16</th>\n",
       "      <td>this government</td>\n",
       "      <td>[-0.013811502638578284, -0.3531162646130892]</td>\n",
       "    </tr>\n",
       "    <tr>\n",
       "      <th>17</th>\n",
       "      <td>this government</td>\n",
       "      <td>[-0.013811502638578284, -0.3531162646130892]</td>\n",
       "    </tr>\n",
       "    <tr>\n",
       "      <th>18</th>\n",
       "      <td>imagined plural</td>\n",
       "      <td>[1.4671178809704382, 0.4532619540611121]</td>\n",
       "    </tr>\n",
       "    <tr>\n",
       "      <th>19</th>\n",
       "      <td>this government</td>\n",
       "      <td>[-0.013811502638578284, -0.3531162646130892]</td>\n",
       "    </tr>\n",
       "    <tr>\n",
       "      <th>20</th>\n",
       "      <td>the government</td>\n",
       "      <td>[-0.2767453038140274, -0.7497593472746842]</td>\n",
       "    </tr>\n",
       "    <tr>\n",
       "      <th>21</th>\n",
       "      <td>imagined plural</td>\n",
       "      <td>[1.4671178809704382, 0.4532619540611121]</td>\n",
       "    </tr>\n",
       "    <tr>\n",
       "      <th>22</th>\n",
       "      <td>the government</td>\n",
       "      <td>[-0.2767453038140274, -0.7497593472746842]</td>\n",
       "    </tr>\n",
       "    <tr>\n",
       "      <th>23</th>\n",
       "      <td>imagined plural</td>\n",
       "      <td>[1.4671178809704382, 0.4532619540611121]</td>\n",
       "    </tr>\n",
       "    <tr>\n",
       "      <th>24</th>\n",
       "      <td>i</td>\n",
       "      <td>[-0.28815177349446136, 0.15158652903076864]</td>\n",
       "    </tr>\n",
       "    <tr>\n",
       "      <th>25</th>\n",
       "      <td>the central government</td>\n",
       "      <td>[-0.29718192060204374, -0.5338279797627759]</td>\n",
       "    </tr>\n",
       "    <tr>\n",
       "      <th>26</th>\n",
       "      <td>the government</td>\n",
       "      <td>[-0.2767453038140274, -0.7497593472746842]</td>\n",
       "    </tr>\n",
       "    <tr>\n",
       "      <th>27</th>\n",
       "      <td>the government</td>\n",
       "      <td>[-0.2767453038140274, -0.7497593472746842]</td>\n",
       "    </tr>\n",
       "    <tr>\n",
       "      <th>28</th>\n",
       "      <td>the government</td>\n",
       "      <td>[-0.2767453038140274, -0.7497593472746842]</td>\n",
       "    </tr>\n",
       "    <tr>\n",
       "      <th>29</th>\n",
       "      <td>i</td>\n",
       "      <td>[-0.28815177349446136, 0.15158652903076864]</td>\n",
       "    </tr>\n",
       "    <tr>\n",
       "      <th>...</th>\n",
       "      <td>...</td>\n",
       "      <td>...</td>\n",
       "    </tr>\n",
       "    <tr>\n",
       "      <th>564</th>\n",
       "      <td>i</td>\n",
       "      <td>[-0.28815177349446136, 0.15158652903076864]</td>\n",
       "    </tr>\n",
       "    <tr>\n",
       "      <th>565</th>\n",
       "      <td>the government</td>\n",
       "      <td>[-0.2767453038140274, -0.7497593472746842]</td>\n",
       "    </tr>\n",
       "    <tr>\n",
       "      <th>566</th>\n",
       "      <td>the central government</td>\n",
       "      <td>[-0.29718192060204374, -0.5338279797627759]</td>\n",
       "    </tr>\n",
       "    <tr>\n",
       "      <th>567</th>\n",
       "      <td>the government</td>\n",
       "      <td>[-0.2767453038140274, -0.7497593472746842]</td>\n",
       "    </tr>\n",
       "    <tr>\n",
       "      <th>568</th>\n",
       "      <td>the government</td>\n",
       "      <td>[-0.2767453038140274, -0.7497593472746842]</td>\n",
       "    </tr>\n",
       "    <tr>\n",
       "      <th>569</th>\n",
       "      <td>the government</td>\n",
       "      <td>[-0.2767453038140274, -0.7497593472746842]</td>\n",
       "    </tr>\n",
       "    <tr>\n",
       "      <th>570</th>\n",
       "      <td>the government</td>\n",
       "      <td>[-0.2767453038140274, -0.7497593472746842]</td>\n",
       "    </tr>\n",
       "    <tr>\n",
       "      <th>571</th>\n",
       "      <td>two sides of taiwan straits</td>\n",
       "      <td>[1.044162465379153, -0.14781565068881686]</td>\n",
       "    </tr>\n",
       "    <tr>\n",
       "      <th>572</th>\n",
       "      <td>two sides of taiwan straits</td>\n",
       "      <td>[1.044162465379153, -0.14781565068881686]</td>\n",
       "    </tr>\n",
       "    <tr>\n",
       "      <th>573</th>\n",
       "      <td>imagined plural</td>\n",
       "      <td>[1.4671178809704382, 0.4532619540611121]</td>\n",
       "    </tr>\n",
       "    <tr>\n",
       "      <th>574</th>\n",
       "      <td>the mainland</td>\n",
       "      <td>[-0.17862534895255883, -0.32035373539359097]</td>\n",
       "    </tr>\n",
       "    <tr>\n",
       "      <th>575</th>\n",
       "      <td>the mainland</td>\n",
       "      <td>[-0.17862534895255883, -0.32035373539359097]</td>\n",
       "    </tr>\n",
       "    <tr>\n",
       "      <th>576</th>\n",
       "      <td>the mainland</td>\n",
       "      <td>[-0.17862534895255883, -0.32035373539359097]</td>\n",
       "    </tr>\n",
       "    <tr>\n",
       "      <th>577</th>\n",
       "      <td>imagined plural</td>\n",
       "      <td>[1.4671178809704382, 0.4532619540611121]</td>\n",
       "    </tr>\n",
       "    <tr>\n",
       "      <th>578</th>\n",
       "      <td>china</td>\n",
       "      <td>[0.662949946742169, 1.0899138909032209]</td>\n",
       "    </tr>\n",
       "    <tr>\n",
       "      <th>579</th>\n",
       "      <td>china</td>\n",
       "      <td>[0.662949946742169, 1.0899138909032209]</td>\n",
       "    </tr>\n",
       "    <tr>\n",
       "      <th>580</th>\n",
       "      <td>china</td>\n",
       "      <td>[0.662949946742169, 1.0899138909032209]</td>\n",
       "    </tr>\n",
       "    <tr>\n",
       "      <th>581</th>\n",
       "      <td>china</td>\n",
       "      <td>[0.662949946742169, 1.0899138909032209]</td>\n",
       "    </tr>\n",
       "    <tr>\n",
       "      <th>582</th>\n",
       "      <td>imagined plural</td>\n",
       "      <td>[1.4671178809704382, 0.4532619540611121]</td>\n",
       "    </tr>\n",
       "    <tr>\n",
       "      <th>583</th>\n",
       "      <td>china</td>\n",
       "      <td>[0.662949946742169, 1.0899138909032209]</td>\n",
       "    </tr>\n",
       "    <tr>\n",
       "      <th>584</th>\n",
       "      <td>china</td>\n",
       "      <td>[0.662949946742169, 1.0899138909032209]</td>\n",
       "    </tr>\n",
       "    <tr>\n",
       "      <th>585</th>\n",
       "      <td>imagined plural</td>\n",
       "      <td>[1.4671178809704382, 0.4532619540611121]</td>\n",
       "    </tr>\n",
       "    <tr>\n",
       "      <th>586</th>\n",
       "      <td>the central government</td>\n",
       "      <td>[-0.29718192060204374, -0.5338279797627759]</td>\n",
       "    </tr>\n",
       "    <tr>\n",
       "      <th>587</th>\n",
       "      <td>china</td>\n",
       "      <td>[0.662949946742169, 1.0899138909032209]</td>\n",
       "    </tr>\n",
       "    <tr>\n",
       "      <th>588</th>\n",
       "      <td>china</td>\n",
       "      <td>[0.662949946742169, 1.0899138909032209]</td>\n",
       "    </tr>\n",
       "    <tr>\n",
       "      <th>589</th>\n",
       "      <td>china</td>\n",
       "      <td>[0.662949946742169, 1.0899138909032209]</td>\n",
       "    </tr>\n",
       "    <tr>\n",
       "      <th>590</th>\n",
       "      <td>china</td>\n",
       "      <td>[0.662949946742169, 1.0899138909032209]</td>\n",
       "    </tr>\n",
       "    <tr>\n",
       "      <th>591</th>\n",
       "      <td>china</td>\n",
       "      <td>[0.662949946742169, 1.0899138909032209]</td>\n",
       "    </tr>\n",
       "    <tr>\n",
       "      <th>592</th>\n",
       "      <td>people</td>\n",
       "      <td>[-0.09078107332241395, -0.37486356065073556]</td>\n",
       "    </tr>\n",
       "    <tr>\n",
       "      <th>593</th>\n",
       "      <td>china</td>\n",
       "      <td>[0.662949946742169, 1.0899138909032209]</td>\n",
       "    </tr>\n",
       "  </tbody>\n",
       "</table>\n",
       "<p>594 rows × 2 columns</p>\n",
       "</div>"
      ],
      "text/plain": [
       "                        referent                                        vector\n",
       "0                      inclusive   [-0.35473544999102913, -0.2537250527107664]\n",
       "1                      inclusive   [-0.35473544999102913, -0.2537250527107664]\n",
       "2                      inclusive   [-0.35473544999102913, -0.2537250527107664]\n",
       "3                      inclusive   [-0.35473544999102913, -0.2537250527107664]\n",
       "4                imagined plural      [1.4671178809704382, 0.4532619540611121]\n",
       "5                imagined plural      [1.4671178809704382, 0.4532619540611121]\n",
       "6                              i   [-0.28815177349446136, 0.15158652903076864]\n",
       "7                              i   [-0.28815177349446136, 0.15158652903076864]\n",
       "8                this government  [-0.013811502638578284, -0.3531162646130892]\n",
       "9                this government  [-0.013811502638578284, -0.3531162646130892]\n",
       "10               this government  [-0.013811502638578284, -0.3531162646130892]\n",
       "11               this government  [-0.013811502638578284, -0.3531162646130892]\n",
       "12               imagined plural      [1.4671178809704382, 0.4532619540611121]\n",
       "13               imagined plural      [1.4671178809704382, 0.4532619540611121]\n",
       "14               this government  [-0.013811502638578284, -0.3531162646130892]\n",
       "15               this government  [-0.013811502638578284, -0.3531162646130892]\n",
       "16               this government  [-0.013811502638578284, -0.3531162646130892]\n",
       "17               this government  [-0.013811502638578284, -0.3531162646130892]\n",
       "18               imagined plural      [1.4671178809704382, 0.4532619540611121]\n",
       "19               this government  [-0.013811502638578284, -0.3531162646130892]\n",
       "20                the government    [-0.2767453038140274, -0.7497593472746842]\n",
       "21               imagined plural      [1.4671178809704382, 0.4532619540611121]\n",
       "22                the government    [-0.2767453038140274, -0.7497593472746842]\n",
       "23               imagined plural      [1.4671178809704382, 0.4532619540611121]\n",
       "24                             i   [-0.28815177349446136, 0.15158652903076864]\n",
       "25        the central government   [-0.29718192060204374, -0.5338279797627759]\n",
       "26                the government    [-0.2767453038140274, -0.7497593472746842]\n",
       "27                the government    [-0.2767453038140274, -0.7497593472746842]\n",
       "28                the government    [-0.2767453038140274, -0.7497593472746842]\n",
       "29                             i   [-0.28815177349446136, 0.15158652903076864]\n",
       "..                           ...                                           ...\n",
       "564                            i   [-0.28815177349446136, 0.15158652903076864]\n",
       "565               the government    [-0.2767453038140274, -0.7497593472746842]\n",
       "566       the central government   [-0.29718192060204374, -0.5338279797627759]\n",
       "567               the government    [-0.2767453038140274, -0.7497593472746842]\n",
       "568               the government    [-0.2767453038140274, -0.7497593472746842]\n",
       "569               the government    [-0.2767453038140274, -0.7497593472746842]\n",
       "570               the government    [-0.2767453038140274, -0.7497593472746842]\n",
       "571  two sides of taiwan straits     [1.044162465379153, -0.14781565068881686]\n",
       "572  two sides of taiwan straits     [1.044162465379153, -0.14781565068881686]\n",
       "573              imagined plural      [1.4671178809704382, 0.4532619540611121]\n",
       "574                 the mainland  [-0.17862534895255883, -0.32035373539359097]\n",
       "575                 the mainland  [-0.17862534895255883, -0.32035373539359097]\n",
       "576                 the mainland  [-0.17862534895255883, -0.32035373539359097]\n",
       "577              imagined plural      [1.4671178809704382, 0.4532619540611121]\n",
       "578                        china       [0.662949946742169, 1.0899138909032209]\n",
       "579                        china       [0.662949946742169, 1.0899138909032209]\n",
       "580                        china       [0.662949946742169, 1.0899138909032209]\n",
       "581                        china       [0.662949946742169, 1.0899138909032209]\n",
       "582              imagined plural      [1.4671178809704382, 0.4532619540611121]\n",
       "583                        china       [0.662949946742169, 1.0899138909032209]\n",
       "584                        china       [0.662949946742169, 1.0899138909032209]\n",
       "585              imagined plural      [1.4671178809704382, 0.4532619540611121]\n",
       "586       the central government   [-0.29718192060204374, -0.5338279797627759]\n",
       "587                        china       [0.662949946742169, 1.0899138909032209]\n",
       "588                        china       [0.662949946742169, 1.0899138909032209]\n",
       "589                        china       [0.662949946742169, 1.0899138909032209]\n",
       "590                        china       [0.662949946742169, 1.0899138909032209]\n",
       "591                        china       [0.662949946742169, 1.0899138909032209]\n",
       "592                       people  [-0.09078107332241395, -0.37486356065073556]\n",
       "593                        china       [0.662949946742169, 1.0899138909032209]\n",
       "\n",
       "[594 rows x 2 columns]"
      ]
     },
     "execution_count": 109,
     "metadata": {},
     "output_type": "execute_result"
    }
   ],
   "source": [
    "df"
   ]
  },
  {
   "cell_type": "code",
   "execution_count": 110,
   "metadata": {},
   "outputs": [],
   "source": [
    "df_2=pd.read_csv('/users/nannanliu/Python/SCIPPC/collective_personal_pronoun/we_ie.csv')"
   ]
  },
  {
   "cell_type": "code",
   "execution_count": 111,
   "metadata": {},
   "outputs": [
    {
     "data": {
      "text/plain": [
       "0      CRM\n",
       "1      CRM\n",
       "2       CN\n",
       "3       CN\n",
       "4       CN\n",
       "5       CN\n",
       "6       QS\n",
       "7       QS\n",
       "8       CN\n",
       "9       CN\n",
       "10      CN\n",
       "11      CN\n",
       "12      CN\n",
       "13      CN\n",
       "14      CN\n",
       "15      CN\n",
       "16      CN\n",
       "17      CN\n",
       "18      CN\n",
       "19      CN\n",
       "20      CN\n",
       "21      CN\n",
       "22      CN\n",
       "23      CN\n",
       "24      QS\n",
       "25      HK\n",
       "26      CN\n",
       "27      CN\n",
       "28      CN\n",
       "29      QS\n",
       "      ... \n",
       "564     QS\n",
       "565     CN\n",
       "566     CN\n",
       "567     CN\n",
       "568     CN\n",
       "569     CN\n",
       "570     CN\n",
       "571     TW\n",
       "572     TW\n",
       "573     TW\n",
       "574     TW\n",
       "575     TW\n",
       "576     TW\n",
       "577     QS\n",
       "578    INT\n",
       "579    INT\n",
       "580    INT\n",
       "581    INT\n",
       "582     CN\n",
       "583    INT\n",
       "584    INT\n",
       "585     HK\n",
       "586     HK\n",
       "587    INT\n",
       "588    INT\n",
       "589    INT\n",
       "590    INT\n",
       "591    INT\n",
       "592    INT\n",
       "593    INT\n",
       "Name: topic, Length: 594, dtype: object"
      ]
     },
     "execution_count": 111,
     "metadata": {},
     "output_type": "execute_result"
    }
   ],
   "source": [
    "df_2['topic']"
   ]
  },
  {
   "cell_type": "code",
   "execution_count": 114,
   "metadata": {},
   "outputs": [],
   "source": [
    "df_2['topic']=df_2['topic'].replace({'CN': 'CN_TW', 'TW': 'CN_TW', 'CRM': 'CRM_QS', 'QS': 'CRM_QS'})"
   ]
  },
  {
   "cell_type": "code",
   "execution_count": 117,
   "metadata": {},
   "outputs": [],
   "source": [
    "#再加上自变量topic，原始的有6种，前期数据已经表明可以合并成4种，当然可以降维\n",
    "df['topic']=df_2['topic']"
   ]
  },
  {
   "cell_type": "code",
   "execution_count": 118,
   "metadata": {},
   "outputs": [
    {
     "data": {
      "text/html": [
       "<div>\n",
       "<style scoped>\n",
       "    .dataframe tbody tr th:only-of-type {\n",
       "        vertical-align: middle;\n",
       "    }\n",
       "\n",
       "    .dataframe tbody tr th {\n",
       "        vertical-align: top;\n",
       "    }\n",
       "\n",
       "    .dataframe thead th {\n",
       "        text-align: right;\n",
       "    }\n",
       "</style>\n",
       "<table border=\"1\" class=\"dataframe\">\n",
       "  <thead>\n",
       "    <tr style=\"text-align: right;\">\n",
       "      <th></th>\n",
       "      <th>referent</th>\n",
       "      <th>vector</th>\n",
       "      <th>topic</th>\n",
       "    </tr>\n",
       "  </thead>\n",
       "  <tbody>\n",
       "    <tr>\n",
       "      <th>0</th>\n",
       "      <td>inclusive</td>\n",
       "      <td>[-0.35473544999102913, -0.2537250527107664]</td>\n",
       "      <td>CRM_QS</td>\n",
       "    </tr>\n",
       "    <tr>\n",
       "      <th>1</th>\n",
       "      <td>inclusive</td>\n",
       "      <td>[-0.35473544999102913, -0.2537250527107664]</td>\n",
       "      <td>CRM_QS</td>\n",
       "    </tr>\n",
       "    <tr>\n",
       "      <th>2</th>\n",
       "      <td>inclusive</td>\n",
       "      <td>[-0.35473544999102913, -0.2537250527107664]</td>\n",
       "      <td>CN_TW</td>\n",
       "    </tr>\n",
       "    <tr>\n",
       "      <th>3</th>\n",
       "      <td>inclusive</td>\n",
       "      <td>[-0.35473544999102913, -0.2537250527107664]</td>\n",
       "      <td>CN_TW</td>\n",
       "    </tr>\n",
       "    <tr>\n",
       "      <th>4</th>\n",
       "      <td>imagined plural</td>\n",
       "      <td>[1.4671178809704382, 0.4532619540611121]</td>\n",
       "      <td>CN_TW</td>\n",
       "    </tr>\n",
       "    <tr>\n",
       "      <th>5</th>\n",
       "      <td>imagined plural</td>\n",
       "      <td>[1.4671178809704382, 0.4532619540611121]</td>\n",
       "      <td>CN_TW</td>\n",
       "    </tr>\n",
       "    <tr>\n",
       "      <th>6</th>\n",
       "      <td>i</td>\n",
       "      <td>[-0.28815177349446136, 0.15158652903076864]</td>\n",
       "      <td>CRM_QS</td>\n",
       "    </tr>\n",
       "    <tr>\n",
       "      <th>7</th>\n",
       "      <td>i</td>\n",
       "      <td>[-0.28815177349446136, 0.15158652903076864]</td>\n",
       "      <td>CRM_QS</td>\n",
       "    </tr>\n",
       "    <tr>\n",
       "      <th>8</th>\n",
       "      <td>this government</td>\n",
       "      <td>[-0.013811502638578284, -0.3531162646130892]</td>\n",
       "      <td>CN_TW</td>\n",
       "    </tr>\n",
       "    <tr>\n",
       "      <th>9</th>\n",
       "      <td>this government</td>\n",
       "      <td>[-0.013811502638578284, -0.3531162646130892]</td>\n",
       "      <td>CN_TW</td>\n",
       "    </tr>\n",
       "    <tr>\n",
       "      <th>10</th>\n",
       "      <td>this government</td>\n",
       "      <td>[-0.013811502638578284, -0.3531162646130892]</td>\n",
       "      <td>CN_TW</td>\n",
       "    </tr>\n",
       "    <tr>\n",
       "      <th>11</th>\n",
       "      <td>this government</td>\n",
       "      <td>[-0.013811502638578284, -0.3531162646130892]</td>\n",
       "      <td>CN_TW</td>\n",
       "    </tr>\n",
       "    <tr>\n",
       "      <th>12</th>\n",
       "      <td>imagined plural</td>\n",
       "      <td>[1.4671178809704382, 0.4532619540611121]</td>\n",
       "      <td>CN_TW</td>\n",
       "    </tr>\n",
       "    <tr>\n",
       "      <th>13</th>\n",
       "      <td>imagined plural</td>\n",
       "      <td>[1.4671178809704382, 0.4532619540611121]</td>\n",
       "      <td>CN_TW</td>\n",
       "    </tr>\n",
       "    <tr>\n",
       "      <th>14</th>\n",
       "      <td>this government</td>\n",
       "      <td>[-0.013811502638578284, -0.3531162646130892]</td>\n",
       "      <td>CN_TW</td>\n",
       "    </tr>\n",
       "    <tr>\n",
       "      <th>15</th>\n",
       "      <td>this government</td>\n",
       "      <td>[-0.013811502638578284, -0.3531162646130892]</td>\n",
       "      <td>CN_TW</td>\n",
       "    </tr>\n",
       "    <tr>\n",
       "      <th>16</th>\n",
       "      <td>this government</td>\n",
       "      <td>[-0.013811502638578284, -0.3531162646130892]</td>\n",
       "      <td>CN_TW</td>\n",
       "    </tr>\n",
       "    <tr>\n",
       "      <th>17</th>\n",
       "      <td>this government</td>\n",
       "      <td>[-0.013811502638578284, -0.3531162646130892]</td>\n",
       "      <td>CN_TW</td>\n",
       "    </tr>\n",
       "    <tr>\n",
       "      <th>18</th>\n",
       "      <td>imagined plural</td>\n",
       "      <td>[1.4671178809704382, 0.4532619540611121]</td>\n",
       "      <td>CN_TW</td>\n",
       "    </tr>\n",
       "    <tr>\n",
       "      <th>19</th>\n",
       "      <td>this government</td>\n",
       "      <td>[-0.013811502638578284, -0.3531162646130892]</td>\n",
       "      <td>CN_TW</td>\n",
       "    </tr>\n",
       "    <tr>\n",
       "      <th>20</th>\n",
       "      <td>the government</td>\n",
       "      <td>[-0.2767453038140274, -0.7497593472746842]</td>\n",
       "      <td>CN_TW</td>\n",
       "    </tr>\n",
       "    <tr>\n",
       "      <th>21</th>\n",
       "      <td>imagined plural</td>\n",
       "      <td>[1.4671178809704382, 0.4532619540611121]</td>\n",
       "      <td>CN_TW</td>\n",
       "    </tr>\n",
       "    <tr>\n",
       "      <th>22</th>\n",
       "      <td>the government</td>\n",
       "      <td>[-0.2767453038140274, -0.7497593472746842]</td>\n",
       "      <td>CN_TW</td>\n",
       "    </tr>\n",
       "    <tr>\n",
       "      <th>23</th>\n",
       "      <td>imagined plural</td>\n",
       "      <td>[1.4671178809704382, 0.4532619540611121]</td>\n",
       "      <td>CN_TW</td>\n",
       "    </tr>\n",
       "    <tr>\n",
       "      <th>24</th>\n",
       "      <td>i</td>\n",
       "      <td>[-0.28815177349446136, 0.15158652903076864]</td>\n",
       "      <td>CRM_QS</td>\n",
       "    </tr>\n",
       "    <tr>\n",
       "      <th>25</th>\n",
       "      <td>the central government</td>\n",
       "      <td>[-0.29718192060204374, -0.5338279797627759]</td>\n",
       "      <td>HK</td>\n",
       "    </tr>\n",
       "    <tr>\n",
       "      <th>26</th>\n",
       "      <td>the government</td>\n",
       "      <td>[-0.2767453038140274, -0.7497593472746842]</td>\n",
       "      <td>CN_TW</td>\n",
       "    </tr>\n",
       "    <tr>\n",
       "      <th>27</th>\n",
       "      <td>the government</td>\n",
       "      <td>[-0.2767453038140274, -0.7497593472746842]</td>\n",
       "      <td>CN_TW</td>\n",
       "    </tr>\n",
       "    <tr>\n",
       "      <th>28</th>\n",
       "      <td>the government</td>\n",
       "      <td>[-0.2767453038140274, -0.7497593472746842]</td>\n",
       "      <td>CN_TW</td>\n",
       "    </tr>\n",
       "    <tr>\n",
       "      <th>29</th>\n",
       "      <td>i</td>\n",
       "      <td>[-0.28815177349446136, 0.15158652903076864]</td>\n",
       "      <td>CRM_QS</td>\n",
       "    </tr>\n",
       "    <tr>\n",
       "      <th>...</th>\n",
       "      <td>...</td>\n",
       "      <td>...</td>\n",
       "      <td>...</td>\n",
       "    </tr>\n",
       "    <tr>\n",
       "      <th>564</th>\n",
       "      <td>i</td>\n",
       "      <td>[-0.28815177349446136, 0.15158652903076864]</td>\n",
       "      <td>CRM_QS</td>\n",
       "    </tr>\n",
       "    <tr>\n",
       "      <th>565</th>\n",
       "      <td>the government</td>\n",
       "      <td>[-0.2767453038140274, -0.7497593472746842]</td>\n",
       "      <td>CN_TW</td>\n",
       "    </tr>\n",
       "    <tr>\n",
       "      <th>566</th>\n",
       "      <td>the central government</td>\n",
       "      <td>[-0.29718192060204374, -0.5338279797627759]</td>\n",
       "      <td>CN_TW</td>\n",
       "    </tr>\n",
       "    <tr>\n",
       "      <th>567</th>\n",
       "      <td>the government</td>\n",
       "      <td>[-0.2767453038140274, -0.7497593472746842]</td>\n",
       "      <td>CN_TW</td>\n",
       "    </tr>\n",
       "    <tr>\n",
       "      <th>568</th>\n",
       "      <td>the government</td>\n",
       "      <td>[-0.2767453038140274, -0.7497593472746842]</td>\n",
       "      <td>CN_TW</td>\n",
       "    </tr>\n",
       "    <tr>\n",
       "      <th>569</th>\n",
       "      <td>the government</td>\n",
       "      <td>[-0.2767453038140274, -0.7497593472746842]</td>\n",
       "      <td>CN_TW</td>\n",
       "    </tr>\n",
       "    <tr>\n",
       "      <th>570</th>\n",
       "      <td>the government</td>\n",
       "      <td>[-0.2767453038140274, -0.7497593472746842]</td>\n",
       "      <td>CN_TW</td>\n",
       "    </tr>\n",
       "    <tr>\n",
       "      <th>571</th>\n",
       "      <td>two sides of taiwan straits</td>\n",
       "      <td>[1.044162465379153, -0.14781565068881686]</td>\n",
       "      <td>CN_TW</td>\n",
       "    </tr>\n",
       "    <tr>\n",
       "      <th>572</th>\n",
       "      <td>two sides of taiwan straits</td>\n",
       "      <td>[1.044162465379153, -0.14781565068881686]</td>\n",
       "      <td>CN_TW</td>\n",
       "    </tr>\n",
       "    <tr>\n",
       "      <th>573</th>\n",
       "      <td>imagined plural</td>\n",
       "      <td>[1.4671178809704382, 0.4532619540611121]</td>\n",
       "      <td>CN_TW</td>\n",
       "    </tr>\n",
       "    <tr>\n",
       "      <th>574</th>\n",
       "      <td>the mainland</td>\n",
       "      <td>[-0.17862534895255883, -0.32035373539359097]</td>\n",
       "      <td>CN_TW</td>\n",
       "    </tr>\n",
       "    <tr>\n",
       "      <th>575</th>\n",
       "      <td>the mainland</td>\n",
       "      <td>[-0.17862534895255883, -0.32035373539359097]</td>\n",
       "      <td>CN_TW</td>\n",
       "    </tr>\n",
       "    <tr>\n",
       "      <th>576</th>\n",
       "      <td>the mainland</td>\n",
       "      <td>[-0.17862534895255883, -0.32035373539359097]</td>\n",
       "      <td>CN_TW</td>\n",
       "    </tr>\n",
       "    <tr>\n",
       "      <th>577</th>\n",
       "      <td>imagined plural</td>\n",
       "      <td>[1.4671178809704382, 0.4532619540611121]</td>\n",
       "      <td>CRM_QS</td>\n",
       "    </tr>\n",
       "    <tr>\n",
       "      <th>578</th>\n",
       "      <td>china</td>\n",
       "      <td>[0.662949946742169, 1.0899138909032209]</td>\n",
       "      <td>INT</td>\n",
       "    </tr>\n",
       "    <tr>\n",
       "      <th>579</th>\n",
       "      <td>china</td>\n",
       "      <td>[0.662949946742169, 1.0899138909032209]</td>\n",
       "      <td>INT</td>\n",
       "    </tr>\n",
       "    <tr>\n",
       "      <th>580</th>\n",
       "      <td>china</td>\n",
       "      <td>[0.662949946742169, 1.0899138909032209]</td>\n",
       "      <td>INT</td>\n",
       "    </tr>\n",
       "    <tr>\n",
       "      <th>581</th>\n",
       "      <td>china</td>\n",
       "      <td>[0.662949946742169, 1.0899138909032209]</td>\n",
       "      <td>INT</td>\n",
       "    </tr>\n",
       "    <tr>\n",
       "      <th>582</th>\n",
       "      <td>imagined plural</td>\n",
       "      <td>[1.4671178809704382, 0.4532619540611121]</td>\n",
       "      <td>CN_TW</td>\n",
       "    </tr>\n",
       "    <tr>\n",
       "      <th>583</th>\n",
       "      <td>china</td>\n",
       "      <td>[0.662949946742169, 1.0899138909032209]</td>\n",
       "      <td>INT</td>\n",
       "    </tr>\n",
       "    <tr>\n",
       "      <th>584</th>\n",
       "      <td>china</td>\n",
       "      <td>[0.662949946742169, 1.0899138909032209]</td>\n",
       "      <td>INT</td>\n",
       "    </tr>\n",
       "    <tr>\n",
       "      <th>585</th>\n",
       "      <td>imagined plural</td>\n",
       "      <td>[1.4671178809704382, 0.4532619540611121]</td>\n",
       "      <td>HK</td>\n",
       "    </tr>\n",
       "    <tr>\n",
       "      <th>586</th>\n",
       "      <td>the central government</td>\n",
       "      <td>[-0.29718192060204374, -0.5338279797627759]</td>\n",
       "      <td>HK</td>\n",
       "    </tr>\n",
       "    <tr>\n",
       "      <th>587</th>\n",
       "      <td>china</td>\n",
       "      <td>[0.662949946742169, 1.0899138909032209]</td>\n",
       "      <td>INT</td>\n",
       "    </tr>\n",
       "    <tr>\n",
       "      <th>588</th>\n",
       "      <td>china</td>\n",
       "      <td>[0.662949946742169, 1.0899138909032209]</td>\n",
       "      <td>INT</td>\n",
       "    </tr>\n",
       "    <tr>\n",
       "      <th>589</th>\n",
       "      <td>china</td>\n",
       "      <td>[0.662949946742169, 1.0899138909032209]</td>\n",
       "      <td>INT</td>\n",
       "    </tr>\n",
       "    <tr>\n",
       "      <th>590</th>\n",
       "      <td>china</td>\n",
       "      <td>[0.662949946742169, 1.0899138909032209]</td>\n",
       "      <td>INT</td>\n",
       "    </tr>\n",
       "    <tr>\n",
       "      <th>591</th>\n",
       "      <td>china</td>\n",
       "      <td>[0.662949946742169, 1.0899138909032209]</td>\n",
       "      <td>INT</td>\n",
       "    </tr>\n",
       "    <tr>\n",
       "      <th>592</th>\n",
       "      <td>people</td>\n",
       "      <td>[-0.09078107332241395, -0.37486356065073556]</td>\n",
       "      <td>INT</td>\n",
       "    </tr>\n",
       "    <tr>\n",
       "      <th>593</th>\n",
       "      <td>china</td>\n",
       "      <td>[0.662949946742169, 1.0899138909032209]</td>\n",
       "      <td>INT</td>\n",
       "    </tr>\n",
       "  </tbody>\n",
       "</table>\n",
       "<p>594 rows × 3 columns</p>\n",
       "</div>"
      ],
      "text/plain": [
       "                        referent  \\\n",
       "0                      inclusive   \n",
       "1                      inclusive   \n",
       "2                      inclusive   \n",
       "3                      inclusive   \n",
       "4                imagined plural   \n",
       "5                imagined plural   \n",
       "6                              i   \n",
       "7                              i   \n",
       "8                this government   \n",
       "9                this government   \n",
       "10               this government   \n",
       "11               this government   \n",
       "12               imagined plural   \n",
       "13               imagined plural   \n",
       "14               this government   \n",
       "15               this government   \n",
       "16               this government   \n",
       "17               this government   \n",
       "18               imagined plural   \n",
       "19               this government   \n",
       "20                the government   \n",
       "21               imagined plural   \n",
       "22                the government   \n",
       "23               imagined plural   \n",
       "24                             i   \n",
       "25        the central government   \n",
       "26                the government   \n",
       "27                the government   \n",
       "28                the government   \n",
       "29                             i   \n",
       "..                           ...   \n",
       "564                            i   \n",
       "565               the government   \n",
       "566       the central government   \n",
       "567               the government   \n",
       "568               the government   \n",
       "569               the government   \n",
       "570               the government   \n",
       "571  two sides of taiwan straits   \n",
       "572  two sides of taiwan straits   \n",
       "573              imagined plural   \n",
       "574                 the mainland   \n",
       "575                 the mainland   \n",
       "576                 the mainland   \n",
       "577              imagined plural   \n",
       "578                        china   \n",
       "579                        china   \n",
       "580                        china   \n",
       "581                        china   \n",
       "582              imagined plural   \n",
       "583                        china   \n",
       "584                        china   \n",
       "585              imagined plural   \n",
       "586       the central government   \n",
       "587                        china   \n",
       "588                        china   \n",
       "589                        china   \n",
       "590                        china   \n",
       "591                        china   \n",
       "592                       people   \n",
       "593                        china   \n",
       "\n",
       "                                           vector   topic  \n",
       "0     [-0.35473544999102913, -0.2537250527107664]  CRM_QS  \n",
       "1     [-0.35473544999102913, -0.2537250527107664]  CRM_QS  \n",
       "2     [-0.35473544999102913, -0.2537250527107664]   CN_TW  \n",
       "3     [-0.35473544999102913, -0.2537250527107664]   CN_TW  \n",
       "4        [1.4671178809704382, 0.4532619540611121]   CN_TW  \n",
       "5        [1.4671178809704382, 0.4532619540611121]   CN_TW  \n",
       "6     [-0.28815177349446136, 0.15158652903076864]  CRM_QS  \n",
       "7     [-0.28815177349446136, 0.15158652903076864]  CRM_QS  \n",
       "8    [-0.013811502638578284, -0.3531162646130892]   CN_TW  \n",
       "9    [-0.013811502638578284, -0.3531162646130892]   CN_TW  \n",
       "10   [-0.013811502638578284, -0.3531162646130892]   CN_TW  \n",
       "11   [-0.013811502638578284, -0.3531162646130892]   CN_TW  \n",
       "12       [1.4671178809704382, 0.4532619540611121]   CN_TW  \n",
       "13       [1.4671178809704382, 0.4532619540611121]   CN_TW  \n",
       "14   [-0.013811502638578284, -0.3531162646130892]   CN_TW  \n",
       "15   [-0.013811502638578284, -0.3531162646130892]   CN_TW  \n",
       "16   [-0.013811502638578284, -0.3531162646130892]   CN_TW  \n",
       "17   [-0.013811502638578284, -0.3531162646130892]   CN_TW  \n",
       "18       [1.4671178809704382, 0.4532619540611121]   CN_TW  \n",
       "19   [-0.013811502638578284, -0.3531162646130892]   CN_TW  \n",
       "20     [-0.2767453038140274, -0.7497593472746842]   CN_TW  \n",
       "21       [1.4671178809704382, 0.4532619540611121]   CN_TW  \n",
       "22     [-0.2767453038140274, -0.7497593472746842]   CN_TW  \n",
       "23       [1.4671178809704382, 0.4532619540611121]   CN_TW  \n",
       "24    [-0.28815177349446136, 0.15158652903076864]  CRM_QS  \n",
       "25    [-0.29718192060204374, -0.5338279797627759]      HK  \n",
       "26     [-0.2767453038140274, -0.7497593472746842]   CN_TW  \n",
       "27     [-0.2767453038140274, -0.7497593472746842]   CN_TW  \n",
       "28     [-0.2767453038140274, -0.7497593472746842]   CN_TW  \n",
       "29    [-0.28815177349446136, 0.15158652903076864]  CRM_QS  \n",
       "..                                            ...     ...  \n",
       "564   [-0.28815177349446136, 0.15158652903076864]  CRM_QS  \n",
       "565    [-0.2767453038140274, -0.7497593472746842]   CN_TW  \n",
       "566   [-0.29718192060204374, -0.5338279797627759]   CN_TW  \n",
       "567    [-0.2767453038140274, -0.7497593472746842]   CN_TW  \n",
       "568    [-0.2767453038140274, -0.7497593472746842]   CN_TW  \n",
       "569    [-0.2767453038140274, -0.7497593472746842]   CN_TW  \n",
       "570    [-0.2767453038140274, -0.7497593472746842]   CN_TW  \n",
       "571     [1.044162465379153, -0.14781565068881686]   CN_TW  \n",
       "572     [1.044162465379153, -0.14781565068881686]   CN_TW  \n",
       "573      [1.4671178809704382, 0.4532619540611121]   CN_TW  \n",
       "574  [-0.17862534895255883, -0.32035373539359097]   CN_TW  \n",
       "575  [-0.17862534895255883, -0.32035373539359097]   CN_TW  \n",
       "576  [-0.17862534895255883, -0.32035373539359097]   CN_TW  \n",
       "577      [1.4671178809704382, 0.4532619540611121]  CRM_QS  \n",
       "578       [0.662949946742169, 1.0899138909032209]     INT  \n",
       "579       [0.662949946742169, 1.0899138909032209]     INT  \n",
       "580       [0.662949946742169, 1.0899138909032209]     INT  \n",
       "581       [0.662949946742169, 1.0899138909032209]     INT  \n",
       "582      [1.4671178809704382, 0.4532619540611121]   CN_TW  \n",
       "583       [0.662949946742169, 1.0899138909032209]     INT  \n",
       "584       [0.662949946742169, 1.0899138909032209]     INT  \n",
       "585      [1.4671178809704382, 0.4532619540611121]      HK  \n",
       "586   [-0.29718192060204374, -0.5338279797627759]      HK  \n",
       "587       [0.662949946742169, 1.0899138909032209]     INT  \n",
       "588       [0.662949946742169, 1.0899138909032209]     INT  \n",
       "589       [0.662949946742169, 1.0899138909032209]     INT  \n",
       "590       [0.662949946742169, 1.0899138909032209]     INT  \n",
       "591       [0.662949946742169, 1.0899138909032209]     INT  \n",
       "592  [-0.09078107332241395, -0.37486356065073556]     INT  \n",
       "593       [0.662949946742169, 1.0899138909032209]     INT  \n",
       "\n",
       "[594 rows x 3 columns]"
      ]
     },
     "execution_count": 118,
     "metadata": {},
     "output_type": "execute_result"
    }
   ],
   "source": [
    "#得出的数据，想看的就是topic会不会影响vector\n",
    "df"
   ]
  },
  {
   "cell_type": "code",
   "execution_count": 119,
   "metadata": {},
   "outputs": [],
   "source": [
    "ref_vector=df['vector']\n",
    "topic=df['topic']"
   ]
  },
  {
   "cell_type": "code",
   "execution_count": 120,
   "metadata": {},
   "outputs": [
    {
     "data": {
      "text/plain": [
       "(594,)"
      ]
     },
     "execution_count": 120,
     "metadata": {},
     "output_type": "execute_result"
    }
   ],
   "source": [
    "ref_vector.shape"
   ]
  },
  {
   "cell_type": "code",
   "execution_count": 121,
   "metadata": {},
   "outputs": [],
   "source": [
    "#对topic进行转换\n",
    "from sklearn.preprocessing import OneHotEncoder\n",
    "from sklearn.compose import ColumnTransformer\n",
    "ohct = ColumnTransformer('topic', OneHotEncoder(categories='auto')) "
   ]
  },
  {
   "cell_type": "code",
   "execution_count": 122,
   "metadata": {},
   "outputs": [],
   "source": [
    "topic_vector=pd.get_dummies(df['topic'])"
   ]
  },
  {
   "cell_type": "code",
   "execution_count": 123,
   "metadata": {},
   "outputs": [
    {
     "data": {
      "text/plain": [
       "(594, 4)"
      ]
     },
     "execution_count": 123,
     "metadata": {},
     "output_type": "execute_result"
    }
   ],
   "source": [
    "topic_vector.shape"
   ]
  },
  {
   "cell_type": "code",
   "execution_count": 125,
   "metadata": {},
   "outputs": [
    {
     "ename": "ValueError",
     "evalue": "The truth value of an array with more than one element is ambiguous. Use a.any() or a.all()",
     "output_type": "error",
     "traceback": [
      "\u001b[0;31m---------------------------------------------------------------------------\u001b[0m",
      "\u001b[0;31mValueError\u001b[0m                                Traceback (most recent call last)",
      "\u001b[0;32m<ipython-input-125-1882f1ab3437>\u001b[0m in \u001b[0;36m<module>\u001b[0;34m()\u001b[0m\n\u001b[1;32m      1\u001b[0m \u001b[0;32mimport\u001b[0m \u001b[0mstatsmodels\u001b[0m\u001b[0;34m.\u001b[0m\u001b[0mapi\u001b[0m \u001b[0;32mas\u001b[0m \u001b[0msm\u001b[0m\u001b[0;34m\u001b[0m\u001b[0m\n\u001b[0;32m----> 2\u001b[0;31m \u001b[0mlm\u001b[0m\u001b[0;34m=\u001b[0m\u001b[0msm\u001b[0m\u001b[0;34m.\u001b[0m\u001b[0mMNLogit\u001b[0m\u001b[0;34m(\u001b[0m\u001b[0mref_vector\u001b[0m\u001b[0;34m.\u001b[0m\u001b[0mvalues\u001b[0m\u001b[0;34m,\u001b[0m\u001b[0mtopic_vector\u001b[0m\u001b[0;34m.\u001b[0m\u001b[0mvalues\u001b[0m\u001b[0;34m)\u001b[0m\u001b[0;34m\u001b[0m\u001b[0m\n\u001b[0m\u001b[1;32m      3\u001b[0m \u001b[0mresult_lm\u001b[0m\u001b[0;34m=\u001b[0m\u001b[0mlm\u001b[0m\u001b[0;34m.\u001b[0m\u001b[0mfit\u001b[0m\u001b[0;34m(\u001b[0m\u001b[0;34m)\u001b[0m\u001b[0;34m\u001b[0m\u001b[0m\n\u001b[1;32m      4\u001b[0m \u001b[0mprint\u001b[0m\u001b[0;34m(\u001b[0m\u001b[0mresult_lm\u001b[0m\u001b[0;34m.\u001b[0m\u001b[0msummary\u001b[0m\u001b[0;34m(\u001b[0m\u001b[0;34m)\u001b[0m\u001b[0;34m)\u001b[0m\u001b[0;34m\u001b[0m\u001b[0m\n",
      "\u001b[0;32m/Library/Frameworks/Python.framework/Versions/3.6/lib/python3.6/site-packages/statsmodels/discrete/discrete_model.py\u001b[0m in \u001b[0;36m__init__\u001b[0;34m(self, endog, exog, **kwargs)\u001b[0m\n\u001b[1;32m    416\u001b[0m \u001b[0;34m\u001b[0m\u001b[0m\n\u001b[1;32m    417\u001b[0m     \u001b[0;32mdef\u001b[0m \u001b[0m__init__\u001b[0m\u001b[0;34m(\u001b[0m\u001b[0mself\u001b[0m\u001b[0;34m,\u001b[0m \u001b[0mendog\u001b[0m\u001b[0;34m,\u001b[0m \u001b[0mexog\u001b[0m\u001b[0;34m,\u001b[0m \u001b[0;34m**\u001b[0m\u001b[0mkwargs\u001b[0m\u001b[0;34m)\u001b[0m\u001b[0;34m:\u001b[0m\u001b[0;34m\u001b[0m\u001b[0m\n\u001b[0;32m--> 418\u001b[0;31m         \u001b[0msuper\u001b[0m\u001b[0;34m(\u001b[0m\u001b[0mBinaryModel\u001b[0m\u001b[0;34m,\u001b[0m \u001b[0mself\u001b[0m\u001b[0;34m)\u001b[0m\u001b[0;34m.\u001b[0m\u001b[0m__init__\u001b[0m\u001b[0;34m(\u001b[0m\u001b[0mendog\u001b[0m\u001b[0;34m,\u001b[0m \u001b[0mexog\u001b[0m\u001b[0;34m,\u001b[0m \u001b[0;34m**\u001b[0m\u001b[0mkwargs\u001b[0m\u001b[0;34m)\u001b[0m\u001b[0;34m\u001b[0m\u001b[0m\n\u001b[0m\u001b[1;32m    419\u001b[0m         if (not issubclass(self.__class__, MultinomialModel) and\n\u001b[1;32m    420\u001b[0m                 not np.all((self.endog >= 0) & (self.endog <= 1))):\n",
      "\u001b[0;32m/Library/Frameworks/Python.framework/Versions/3.6/lib/python3.6/site-packages/statsmodels/discrete/discrete_model.py\u001b[0m in \u001b[0;36m__init__\u001b[0;34m(self, endog, exog, **kwargs)\u001b[0m\n\u001b[1;32m    169\u001b[0m     \"\"\"\n\u001b[1;32m    170\u001b[0m     \u001b[0;32mdef\u001b[0m \u001b[0m__init__\u001b[0m\u001b[0;34m(\u001b[0m\u001b[0mself\u001b[0m\u001b[0;34m,\u001b[0m \u001b[0mendog\u001b[0m\u001b[0;34m,\u001b[0m \u001b[0mexog\u001b[0m\u001b[0;34m,\u001b[0m \u001b[0;34m**\u001b[0m\u001b[0mkwargs\u001b[0m\u001b[0;34m)\u001b[0m\u001b[0;34m:\u001b[0m\u001b[0;34m\u001b[0m\u001b[0m\n\u001b[0;32m--> 171\u001b[0;31m         \u001b[0msuper\u001b[0m\u001b[0;34m(\u001b[0m\u001b[0mDiscreteModel\u001b[0m\u001b[0;34m,\u001b[0m \u001b[0mself\u001b[0m\u001b[0;34m)\u001b[0m\u001b[0;34m.\u001b[0m\u001b[0m__init__\u001b[0m\u001b[0;34m(\u001b[0m\u001b[0mendog\u001b[0m\u001b[0;34m,\u001b[0m \u001b[0mexog\u001b[0m\u001b[0;34m,\u001b[0m \u001b[0;34m**\u001b[0m\u001b[0mkwargs\u001b[0m\u001b[0;34m)\u001b[0m\u001b[0;34m\u001b[0m\u001b[0m\n\u001b[0m\u001b[1;32m    172\u001b[0m         \u001b[0mself\u001b[0m\u001b[0;34m.\u001b[0m\u001b[0mraise_on_perfect_prediction\u001b[0m \u001b[0;34m=\u001b[0m \u001b[0;32mTrue\u001b[0m\u001b[0;34m\u001b[0m\u001b[0m\n\u001b[1;32m    173\u001b[0m \u001b[0;34m\u001b[0m\u001b[0m\n",
      "\u001b[0;32m/Library/Frameworks/Python.framework/Versions/3.6/lib/python3.6/site-packages/statsmodels/base/model.py\u001b[0m in \u001b[0;36m__init__\u001b[0;34m(self, endog, exog, **kwargs)\u001b[0m\n\u001b[1;32m    210\u001b[0m \u001b[0;34m\u001b[0m\u001b[0m\n\u001b[1;32m    211\u001b[0m     \u001b[0;32mdef\u001b[0m \u001b[0m__init__\u001b[0m\u001b[0;34m(\u001b[0m\u001b[0mself\u001b[0m\u001b[0;34m,\u001b[0m \u001b[0mendog\u001b[0m\u001b[0;34m,\u001b[0m \u001b[0mexog\u001b[0m\u001b[0;34m=\u001b[0m\u001b[0;32mNone\u001b[0m\u001b[0;34m,\u001b[0m \u001b[0;34m**\u001b[0m\u001b[0mkwargs\u001b[0m\u001b[0;34m)\u001b[0m\u001b[0;34m:\u001b[0m\u001b[0;34m\u001b[0m\u001b[0m\n\u001b[0;32m--> 212\u001b[0;31m         \u001b[0msuper\u001b[0m\u001b[0;34m(\u001b[0m\u001b[0mLikelihoodModel\u001b[0m\u001b[0;34m,\u001b[0m \u001b[0mself\u001b[0m\u001b[0;34m)\u001b[0m\u001b[0;34m.\u001b[0m\u001b[0m__init__\u001b[0m\u001b[0;34m(\u001b[0m\u001b[0mendog\u001b[0m\u001b[0;34m,\u001b[0m \u001b[0mexog\u001b[0m\u001b[0;34m,\u001b[0m \u001b[0;34m**\u001b[0m\u001b[0mkwargs\u001b[0m\u001b[0;34m)\u001b[0m\u001b[0;34m\u001b[0m\u001b[0m\n\u001b[0m\u001b[1;32m    213\u001b[0m         \u001b[0mself\u001b[0m\u001b[0;34m.\u001b[0m\u001b[0minitialize\u001b[0m\u001b[0;34m(\u001b[0m\u001b[0;34m)\u001b[0m\u001b[0;34m\u001b[0m\u001b[0m\n\u001b[1;32m    214\u001b[0m \u001b[0;34m\u001b[0m\u001b[0m\n",
      "\u001b[0;32m/Library/Frameworks/Python.framework/Versions/3.6/lib/python3.6/site-packages/statsmodels/base/model.py\u001b[0m in \u001b[0;36m__init__\u001b[0;34m(self, endog, exog, **kwargs)\u001b[0m\n\u001b[1;32m     62\u001b[0m         \u001b[0mhasconst\u001b[0m \u001b[0;34m=\u001b[0m \u001b[0mkwargs\u001b[0m\u001b[0;34m.\u001b[0m\u001b[0mpop\u001b[0m\u001b[0;34m(\u001b[0m\u001b[0;34m'hasconst'\u001b[0m\u001b[0;34m,\u001b[0m \u001b[0;32mNone\u001b[0m\u001b[0;34m)\u001b[0m\u001b[0;34m\u001b[0m\u001b[0m\n\u001b[1;32m     63\u001b[0m         self.data = self._handle_data(endog, exog, missing, hasconst,\n\u001b[0;32m---> 64\u001b[0;31m                                       **kwargs)\n\u001b[0m\u001b[1;32m     65\u001b[0m         \u001b[0mself\u001b[0m\u001b[0;34m.\u001b[0m\u001b[0mk_constant\u001b[0m \u001b[0;34m=\u001b[0m \u001b[0mself\u001b[0m\u001b[0;34m.\u001b[0m\u001b[0mdata\u001b[0m\u001b[0;34m.\u001b[0m\u001b[0mk_constant\u001b[0m\u001b[0;34m\u001b[0m\u001b[0m\n\u001b[1;32m     66\u001b[0m         \u001b[0mself\u001b[0m\u001b[0;34m.\u001b[0m\u001b[0mexog\u001b[0m \u001b[0;34m=\u001b[0m \u001b[0mself\u001b[0m\u001b[0;34m.\u001b[0m\u001b[0mdata\u001b[0m\u001b[0;34m.\u001b[0m\u001b[0mexog\u001b[0m\u001b[0;34m\u001b[0m\u001b[0m\n",
      "\u001b[0;32m/Library/Frameworks/Python.framework/Versions/3.6/lib/python3.6/site-packages/statsmodels/discrete/discrete_model.py\u001b[0m in \u001b[0;36m_handle_data\u001b[0;34m(self, endog, exog, missing, hasconst, **kwargs)\u001b[0m\n\u001b[1;32m    521\u001b[0m     \u001b[0;32mdef\u001b[0m \u001b[0m_handle_data\u001b[0m\u001b[0;34m(\u001b[0m\u001b[0mself\u001b[0m\u001b[0;34m,\u001b[0m \u001b[0mendog\u001b[0m\u001b[0;34m,\u001b[0m \u001b[0mexog\u001b[0m\u001b[0;34m,\u001b[0m \u001b[0mmissing\u001b[0m\u001b[0;34m,\u001b[0m \u001b[0mhasconst\u001b[0m\u001b[0;34m,\u001b[0m \u001b[0;34m**\u001b[0m\u001b[0mkwargs\u001b[0m\u001b[0;34m)\u001b[0m\u001b[0;34m:\u001b[0m\u001b[0;34m\u001b[0m\u001b[0m\n\u001b[1;32m    522\u001b[0m         \u001b[0;32mif\u001b[0m \u001b[0mdata_tools\u001b[0m\u001b[0;34m.\u001b[0m\u001b[0m_is_using_ndarray_type\u001b[0m\u001b[0;34m(\u001b[0m\u001b[0mendog\u001b[0m\u001b[0;34m,\u001b[0m \u001b[0;32mNone\u001b[0m\u001b[0;34m)\u001b[0m\u001b[0;34m:\u001b[0m\u001b[0;34m\u001b[0m\u001b[0m\n\u001b[0;32m--> 523\u001b[0;31m             \u001b[0mendog_dummies\u001b[0m\u001b[0;34m,\u001b[0m \u001b[0mynames\u001b[0m \u001b[0;34m=\u001b[0m \u001b[0m_numpy_to_dummies\u001b[0m\u001b[0;34m(\u001b[0m\u001b[0mendog\u001b[0m\u001b[0;34m)\u001b[0m\u001b[0;34m\u001b[0m\u001b[0m\n\u001b[0m\u001b[1;32m    524\u001b[0m             \u001b[0myname\u001b[0m \u001b[0;34m=\u001b[0m \u001b[0;34m'y'\u001b[0m\u001b[0;34m\u001b[0m\u001b[0m\n\u001b[1;32m    525\u001b[0m         \u001b[0;32melif\u001b[0m \u001b[0mdata_tools\u001b[0m\u001b[0;34m.\u001b[0m\u001b[0m_is_using_pandas\u001b[0m\u001b[0;34m(\u001b[0m\u001b[0mendog\u001b[0m\u001b[0;34m,\u001b[0m \u001b[0;32mNone\u001b[0m\u001b[0;34m)\u001b[0m\u001b[0;34m:\u001b[0m\u001b[0;34m\u001b[0m\u001b[0m\n",
      "\u001b[0;32m/Library/Frameworks/Python.framework/Versions/3.6/lib/python3.6/site-packages/statsmodels/discrete/discrete_model.py\u001b[0m in \u001b[0;36m_numpy_to_dummies\u001b[0;34m(endog)\u001b[0m\n\u001b[1;32m    131\u001b[0m     \u001b[0;32mif\u001b[0m \u001b[0mendog\u001b[0m\u001b[0;34m.\u001b[0m\u001b[0mdtype\u001b[0m\u001b[0;34m.\u001b[0m\u001b[0mkind\u001b[0m \u001b[0;32min\u001b[0m \u001b[0;34m[\u001b[0m\u001b[0;34m'S'\u001b[0m\u001b[0;34m,\u001b[0m \u001b[0;34m'O'\u001b[0m\u001b[0;34m]\u001b[0m\u001b[0;34m:\u001b[0m\u001b[0;34m\u001b[0m\u001b[0m\n\u001b[1;32m    132\u001b[0m         endog_dummies, ynames = tools.categorical(endog, drop=True,\n\u001b[0;32m--> 133\u001b[0;31m                                                   dictnames=True)\n\u001b[0m\u001b[1;32m    134\u001b[0m     \u001b[0;32melif\u001b[0m \u001b[0mendog\u001b[0m\u001b[0;34m.\u001b[0m\u001b[0mndim\u001b[0m \u001b[0;34m==\u001b[0m \u001b[0;36m2\u001b[0m\u001b[0;34m:\u001b[0m\u001b[0;34m\u001b[0m\u001b[0m\n\u001b[1;32m    135\u001b[0m         \u001b[0mendog_dummies\u001b[0m \u001b[0;34m=\u001b[0m \u001b[0mendog\u001b[0m\u001b[0;34m\u001b[0m\u001b[0m\n",
      "\u001b[0;32m/Library/Frameworks/Python.framework/Versions/3.6/lib/python3.6/site-packages/statsmodels/tools/tools.py\u001b[0m in \u001b[0;36mcategorical\u001b[0;34m(data, col, dictnames, drop)\u001b[0m\n\u001b[1;32m    219\u001b[0m             \u001b[0;32mreturn\u001b[0m \u001b[0mdata\u001b[0m\u001b[0;34m\u001b[0m\u001b[0m\n\u001b[1;32m    220\u001b[0m         \u001b[0;32melif\u001b[0m \u001b[0mcol\u001b[0m \u001b[0;32mis\u001b[0m \u001b[0;32mNone\u001b[0m \u001b[0;32mand\u001b[0m \u001b[0mnp\u001b[0m\u001b[0;34m.\u001b[0m\u001b[0msqueeze\u001b[0m\u001b[0;34m(\u001b[0m\u001b[0mdata\u001b[0m\u001b[0;34m)\u001b[0m\u001b[0;34m.\u001b[0m\u001b[0mndim\u001b[0m \u001b[0;34m==\u001b[0m \u001b[0;36m1\u001b[0m\u001b[0;34m:\u001b[0m\u001b[0;34m\u001b[0m\u001b[0m\n\u001b[0;32m--> 221\u001b[0;31m             \u001b[0mtmp_arr\u001b[0m \u001b[0;34m=\u001b[0m \u001b[0mnp\u001b[0m\u001b[0;34m.\u001b[0m\u001b[0munique\u001b[0m\u001b[0;34m(\u001b[0m\u001b[0mdata\u001b[0m\u001b[0;34m)\u001b[0m\u001b[0;34m\u001b[0m\u001b[0m\n\u001b[0m\u001b[1;32m    222\u001b[0m             \u001b[0mtmp_dummy\u001b[0m \u001b[0;34m=\u001b[0m \u001b[0;34m(\u001b[0m\u001b[0mtmp_arr\u001b[0m\u001b[0;34m[\u001b[0m\u001b[0;34m:\u001b[0m\u001b[0;34m,\u001b[0m \u001b[0;32mNone\u001b[0m\u001b[0;34m]\u001b[0m \u001b[0;34m==\u001b[0m \u001b[0mdata\u001b[0m\u001b[0;34m)\u001b[0m\u001b[0;34m.\u001b[0m\u001b[0mastype\u001b[0m\u001b[0;34m(\u001b[0m\u001b[0mfloat\u001b[0m\u001b[0;34m)\u001b[0m\u001b[0;34m\u001b[0m\u001b[0m\n\u001b[1;32m    223\u001b[0m             \u001b[0mtmp_dummy\u001b[0m \u001b[0;34m=\u001b[0m \u001b[0mtmp_dummy\u001b[0m\u001b[0;34m.\u001b[0m\u001b[0mswapaxes\u001b[0m\u001b[0;34m(\u001b[0m\u001b[0;36m1\u001b[0m\u001b[0;34m,\u001b[0m \u001b[0;36m0\u001b[0m\u001b[0;34m)\u001b[0m\u001b[0;34m\u001b[0m\u001b[0m\n",
      "\u001b[0;32m/Library/Frameworks/Python.framework/Versions/3.6/lib/python3.6/site-packages/numpy/lib/arraysetops.py\u001b[0m in \u001b[0;36munique\u001b[0;34m(ar, return_index, return_inverse, return_counts, axis)\u001b[0m\n\u001b[1;32m    208\u001b[0m     \u001b[0mar\u001b[0m \u001b[0;34m=\u001b[0m \u001b[0mnp\u001b[0m\u001b[0;34m.\u001b[0m\u001b[0masanyarray\u001b[0m\u001b[0;34m(\u001b[0m\u001b[0mar\u001b[0m\u001b[0;34m)\u001b[0m\u001b[0;34m\u001b[0m\u001b[0m\n\u001b[1;32m    209\u001b[0m     \u001b[0;32mif\u001b[0m \u001b[0maxis\u001b[0m \u001b[0;32mis\u001b[0m \u001b[0;32mNone\u001b[0m\u001b[0;34m:\u001b[0m\u001b[0;34m\u001b[0m\u001b[0m\n\u001b[0;32m--> 210\u001b[0;31m         \u001b[0;32mreturn\u001b[0m \u001b[0m_unique1d\u001b[0m\u001b[0;34m(\u001b[0m\u001b[0mar\u001b[0m\u001b[0;34m,\u001b[0m \u001b[0mreturn_index\u001b[0m\u001b[0;34m,\u001b[0m \u001b[0mreturn_inverse\u001b[0m\u001b[0;34m,\u001b[0m \u001b[0mreturn_counts\u001b[0m\u001b[0;34m)\u001b[0m\u001b[0;34m\u001b[0m\u001b[0m\n\u001b[0m\u001b[1;32m    211\u001b[0m     \u001b[0;32mif\u001b[0m \u001b[0;32mnot\u001b[0m \u001b[0;34m(\u001b[0m\u001b[0;34m-\u001b[0m\u001b[0mar\u001b[0m\u001b[0;34m.\u001b[0m\u001b[0mndim\u001b[0m \u001b[0;34m<=\u001b[0m \u001b[0maxis\u001b[0m \u001b[0;34m<\u001b[0m \u001b[0mar\u001b[0m\u001b[0;34m.\u001b[0m\u001b[0mndim\u001b[0m\u001b[0;34m)\u001b[0m\u001b[0;34m:\u001b[0m\u001b[0;34m\u001b[0m\u001b[0m\n\u001b[1;32m    212\u001b[0m         \u001b[0;32mraise\u001b[0m \u001b[0mValueError\u001b[0m\u001b[0;34m(\u001b[0m\u001b[0;34m'Invalid axis kwarg specified for unique'\u001b[0m\u001b[0;34m)\u001b[0m\u001b[0;34m\u001b[0m\u001b[0m\n",
      "\u001b[0;32m/Library/Frameworks/Python.framework/Versions/3.6/lib/python3.6/site-packages/numpy/lib/arraysetops.py\u001b[0m in \u001b[0;36m_unique1d\u001b[0;34m(ar, return_index, return_inverse, return_counts)\u001b[0m\n\u001b[1;32m    275\u001b[0m         \u001b[0maux\u001b[0m \u001b[0;34m=\u001b[0m \u001b[0mar\u001b[0m\u001b[0;34m[\u001b[0m\u001b[0mperm\u001b[0m\u001b[0;34m]\u001b[0m\u001b[0;34m\u001b[0m\u001b[0m\n\u001b[1;32m    276\u001b[0m     \u001b[0;32melse\u001b[0m\u001b[0;34m:\u001b[0m\u001b[0;34m\u001b[0m\u001b[0m\n\u001b[0;32m--> 277\u001b[0;31m         \u001b[0mar\u001b[0m\u001b[0;34m.\u001b[0m\u001b[0msort\u001b[0m\u001b[0;34m(\u001b[0m\u001b[0;34m)\u001b[0m\u001b[0;34m\u001b[0m\u001b[0m\n\u001b[0m\u001b[1;32m    278\u001b[0m         \u001b[0maux\u001b[0m \u001b[0;34m=\u001b[0m \u001b[0mar\u001b[0m\u001b[0;34m\u001b[0m\u001b[0m\n\u001b[1;32m    279\u001b[0m     \u001b[0mflag\u001b[0m \u001b[0;34m=\u001b[0m \u001b[0mnp\u001b[0m\u001b[0;34m.\u001b[0m\u001b[0mconcatenate\u001b[0m\u001b[0;34m(\u001b[0m\u001b[0;34m(\u001b[0m\u001b[0;34m[\u001b[0m\u001b[0;32mTrue\u001b[0m\u001b[0;34m]\u001b[0m\u001b[0;34m,\u001b[0m \u001b[0maux\u001b[0m\u001b[0;34m[\u001b[0m\u001b[0;36m1\u001b[0m\u001b[0;34m:\u001b[0m\u001b[0;34m]\u001b[0m \u001b[0;34m!=\u001b[0m \u001b[0maux\u001b[0m\u001b[0;34m[\u001b[0m\u001b[0;34m:\u001b[0m\u001b[0;34m-\u001b[0m\u001b[0;36m1\u001b[0m\u001b[0;34m]\u001b[0m\u001b[0;34m)\u001b[0m\u001b[0;34m)\u001b[0m\u001b[0;34m\u001b[0m\u001b[0m\n",
      "\u001b[0;31mValueError\u001b[0m: The truth value of an array with more than one element is ambiguous. Use a.any() or a.all()"
     ]
    }
   ],
   "source": [
    "#目前做不出来multinominal classification==\n",
    "import statsmodels.api as sm\n",
    "lm=sm.MNLogit(ref_vector.values,topic_vector.values)\n",
    "result_lm=lm.fit()\n",
    "print(result_lm.summary())"
   ]
  },
  {
   "cell_type": "code",
   "execution_count": null,
   "metadata": {},
   "outputs": [],
   "source": []
  }
 ],
 "metadata": {
  "kernelspec": {
   "display_name": "Python 3",
   "language": "python",
   "name": "python3"
  },
  "language_info": {
   "codemirror_mode": {
    "name": "ipython",
    "version": 3
   },
   "file_extension": ".py",
   "mimetype": "text/x-python",
   "name": "python",
   "nbconvert_exporter": "python",
   "pygments_lexer": "ipython3",
   "version": "3.6.3"
  }
 },
 "nbformat": 4,
 "nbformat_minor": 2
}
