{
 "cells": [
  {
   "cell_type": "code",
   "execution_count": 1,
   "metadata": {},
   "outputs": [],
   "source": [
    "#lexical richness \n",
    "#first we need to exclude the english text in the source and chinese in the target \n",
    "#use unicode to detect Chinese and English\n",
    "def detect_language(char):\n",
    "    if u'\\u4e00' <= char <= u'\\u9fff' or \\\n",
    "       u'\\u3400' <= char <= u'\\u4dbf':\n",
    "        return 'chinese'\n",
    "    elif u'\\u0041' <= char <= u'\\u005a' or \\\n",
    "         u'\\u0061' <= char <= u'\\u007a':\n",
    "        return 'english'\n",
    "    return 'other'"
   ]
  },
  {
   "cell_type": "code",
   "execution_count": 2,
   "metadata": {},
   "outputs": [],
   "source": [
    "# make english only target text \n",
    "f=open('/users/nannanliu/Python/SCIPPC/2013_target_text.xml')\n",
    "lines=f.read()\n",
    "chinese_words =''.join([i for i in lines if detect_language(i) == 'chinese'])\n",
    "newlines=lines.replace(chinese_words, '')\n",
    "with open('/users/nannanliu/Python/SCIPPC/2013_english_text.xml', 'w') as file:\n",
    "    file.writelines(newlines)"
   ]
  },
  {
   "cell_type": "code",
   "execution_count": 1,
   "metadata": {},
   "outputs": [
    {
     "data": {
      "text/plain": [
       "['Good', 'morning', 'ladies', 'and', 'gentlemen', ',', ...]"
      ]
     },
     "execution_count": 1,
     "metadata": {},
     "output_type": "execute_result"
    }
   ],
   "source": [
    "#create a corpus for all english text\n",
    "import nltk\n",
    "from nltk.corpus import PlaintextCorpusReader\n",
    "corpus_root = '/users/nannanliu/Python/SCIPPC/English_texts'\n",
    "corpus = PlaintextCorpusReader(corpus_root, '.*')\n",
    "corpus.words()"
   ]
  },
  {
   "cell_type": "code",
   "execution_count": 3,
   "metadata": {},
   "outputs": [
    {
     "name": "stdout",
     "output_type": "stream",
     "text": [
      "2003_english_text.xml\n",
      "2013_english_text.xml\n"
     ]
    }
   ],
   "source": [
    "#check if fileids are correct\n",
    "files=corpus.fileids()\n",
    "for f in files: \n",
    "    print (f)"
   ]
  },
  {
   "cell_type": "code",
   "execution_count": 4,
   "metadata": {},
   "outputs": [],
   "source": [
    "text_2003=corpus.raw('2003_english_text.xml')\n",
    "text_2013=corpus.raw('2013_english_text.xml')"
   ]
  },
  {
   "cell_type": "code",
   "execution_count": 5,
   "metadata": {},
   "outputs": [
    {
     "name": "stdout",
     "output_type": "stream",
     "text": [
      "<Text: Good morning ladies and gentlemen , we are...>\n"
     ]
    }
   ],
   "source": [
    "#tokenize texts, tokenize means read as words\n",
    "tokens=nltk.word_tokenize(text_2003)\n",
    "text_2003=nltk.Text(tokens)\n",
    "print (text_2003)"
   ]
  },
  {
   "cell_type": "code",
   "execution_count": 6,
   "metadata": {},
   "outputs": [
    {
     "name": "stdout",
     "output_type": "stream",
     "text": [
      "<Text: Ladies and gentlemen , good morning . Today...>\n"
     ]
    }
   ],
   "source": [
    "tokens=nltk.word_tokenize(text_2013)\n",
    "text_2013=nltk.Text(tokens)\n",
    "print (text_2013)"
   ]
  },
  {
   "cell_type": "code",
   "execution_count": 7,
   "metadata": {},
   "outputs": [
    {
     "name": "stdout",
     "output_type": "stream",
     "text": [
      "6818\n",
      "6787\n"
     ]
    }
   ],
   "source": [
    "#find out the number of tokens in the 2003 target text\n",
    "print (len(text_2003))\n",
    "#find out the number of tokens in the 2013 target text\n",
    "print (len(text_2013))"
   ]
  },
  {
   "cell_type": "code",
   "execution_count": 9,
   "metadata": {},
   "outputs": [],
   "source": [
    "#define a function for lexical diversity cause we'll use it a lot\n",
    "def lexical_diversity (text):\n",
    "    return len(set(text))/len(text)"
   ]
  },
  {
   "cell_type": "code",
   "execution_count": 10,
   "metadata": {},
   "outputs": [
    {
     "data": {
      "text/plain": [
       "0.2301261366969786"
      ]
     },
     "execution_count": 10,
     "metadata": {},
     "output_type": "execute_result"
    }
   ],
   "source": [
    "lexical_diversity (text_2003)"
   ]
  },
  {
   "cell_type": "code",
   "execution_count": 11,
   "metadata": {},
   "outputs": [
    {
     "data": {
      "text/plain": [
       "0.21585383822012671"
      ]
     },
     "execution_count": 11,
     "metadata": {},
     "output_type": "execute_result"
    }
   ],
   "source": [
    "lexical_diversity (text_2013)"
   ]
  },
  {
   "cell_type": "code",
   "execution_count": 12,
   "metadata": {},
   "outputs": [
    {
     "data": {
      "text/plain": [
       "0.2301261366969786"
      ]
     },
     "execution_count": 12,
     "metadata": {},
     "output_type": "execute_result"
    }
   ],
   "source": [
    "#get a sorted list of vocabulary items\n",
    "sorted (set(text_2003))\n",
    "#get the number of word types, or distinct words\n",
    "len(set(text_2003))\n",
    "#get the type/token ratio \n",
    "len(set(text_2003))/len(text_2003)"
   ]
  },
  {
   "cell_type": "code",
   "execution_count": 13,
   "metadata": {},
   "outputs": [
    {
     "data": {
      "text/plain": [
       "1465"
      ]
     },
     "execution_count": 13,
     "metadata": {},
     "output_type": "execute_result"
    }
   ],
   "source": [
    "#get a sorted list of vocabulary items\n",
    "sorted (set(text_2013))\n",
    "#get the number of word types, or distinct words\n",
    "len(set(text_2013))\n",
    "#get the type/token ratio "
   ]
  },
  {
   "cell_type": "code",
   "execution_count": 14,
   "metadata": {},
   "outputs": [],
   "source": [
    "#now let's find out the lexical density of the texts\n",
    "#start with pos tagging\n",
    "#nltk uses default Penn Treebank tagset https://www.ling.upenn.edu/courses/Fall_2003/ling001/penn_treebank_pos.html\n",
    "text_2003_tagged=nltk.pos_tag(text_2003)\n",
    "text_2013_tagged=nltk.pos_tag(text_2013)"
   ]
  },
  {
   "cell_type": "code",
   "execution_count": 15,
   "metadata": {},
   "outputs": [
    {
     "data": {
      "text/plain": [
       "dict_keys(['JJ', 'NN', 'NNS', 'CC', ',', 'PRP', 'VBP', 'RB', 'TO', 'VB', 'IN', 'VBN', 'JJR', 'NNP', 'PRP$', '.', 'DT', 'MD', 'VBG', 'PDT', 'CD', 'WP', 'VBD', 'RP', 'WDT', 'WRB', 'RBR', 'VBZ', 'JJS', 'EX', ':', 'RBS', 'NNPS', 'POS', 'UH'])"
      ]
     },
     "execution_count": 15,
     "metadata": {},
     "output_type": "execute_result"
    }
   ],
   "source": [
    "#find out which tags are most common \n",
    "tag_fd_2003 = nltk.FreqDist(tag for (word, tag) in text_2003_tagged)\n",
    "tag_fd_2003.keys()"
   ]
  },
  {
   "cell_type": "code",
   "execution_count": 16,
   "metadata": {},
   "outputs": [
    {
     "data": {
      "text/plain": [
       "dict_keys(['NNS', 'CC', ',', 'JJ', 'NN', '.', 'PRP', 'VBP', 'TO', 'VB', 'DT', 'IN', 'NNP', 'RB', 'MD', 'PRP$', 'VBG', 'WP', 'VBD', 'VBN', 'JJR', 'VBZ', 'WRB', 'CD', 'WDT', 'RBR', 'PDT', 'EX', 'JJS', 'RP', ':', 'NNPS', 'RBS', 'FW', 'POS'])"
      ]
     },
     "execution_count": 16,
     "metadata": {},
     "output_type": "execute_result"
    }
   ],
   "source": [
    "#find out which tags are most common \n",
    "tag_fd_2013 = nltk.FreqDist(tag for (word, tag) in text_2013_tagged)\n",
    "tag_fd_2013.keys()"
   ]
  },
  {
   "cell_type": "code",
   "execution_count": 17,
   "metadata": {},
   "outputs": [
    {
     "data": {
      "image/png": "[encoded data removed]",
      "text/plain": [
       "<Figure size 432x288 with 1 Axes>"
      ]
     },
     "metadata": {},
     "output_type": "display_data"
    }
   ],
   "source": [
    "import matplotlib.pyplot as plot\n",
    "%matplotlib inline\n",
    "tag_fd_2013.plot(cumulative=True)"
   ]
  },
  {
   "cell_type": "code",
   "execution_count": 18,
   "metadata": {},
   "outputs": [
    {
     "data": {
      "image/png": "[encoded data removed]",
      "text/plain": [
       "<Figure size 432x288 with 1 Axes>"
      ]
     },
     "metadata": {},
     "output_type": "display_data"
    }
   ],
   "source": [
    "tag_fd_2003.plot(cumulative=True)"
   ]
  },
  {
   "cell_type": "code",
   "execution_count": 19,
   "metadata": {},
   "outputs": [
    {
     "ename": "ValueError",
     "evalue": "too many values to unpack (expected 2)",
     "output_type": "error",
     "traceback": [
      "\u001b[0;31m---------------------------------------------------------------------------\u001b[0m",
      "\u001b[0;31mValueError\u001b[0m                                Traceback (most recent call last)",
      "\u001b[0;32m<ipython-input-19-4a717f03ed94>\u001b[0m in \u001b[0;36m<module>\u001b[0;34m()\u001b[0m\n\u001b[0;32m----> 1\u001b[0;31m \u001b[0;34m[\u001b[0m\u001b[0mword\u001b[0m \u001b[0;34m+\u001b[0m \u001b[0;34m\"/\"\u001b[0m \u001b[0;34m+\u001b[0m \u001b[0mtag\u001b[0m \u001b[0;32mfor\u001b[0m \u001b[0;34m(\u001b[0m\u001b[0mword\u001b[0m\u001b[0;34m,\u001b[0m \u001b[0mtag\u001b[0m\u001b[0;34m)\u001b[0m \u001b[0;32min\u001b[0m \u001b[0mtag_fd_2003\u001b[0m \u001b[0;32mif\u001b[0m \u001b[0mtag\u001b[0m\u001b[0;34m.\u001b[0m\u001b[0mstartswith\u001b[0m\u001b[0;34m(\u001b[0m\u001b[0;34m'V'\u001b[0m\u001b[0;34m)\u001b[0m\u001b[0;34m]\u001b[0m\u001b[0;34m\u001b[0m\u001b[0m\n\u001b[0m",
      "\u001b[0;32m<ipython-input-19-4a717f03ed94>\u001b[0m in \u001b[0;36m<listcomp>\u001b[0;34m(.0)\u001b[0m\n\u001b[0;32m----> 1\u001b[0;31m \u001b[0;34m[\u001b[0m\u001b[0mword\u001b[0m \u001b[0;34m+\u001b[0m \u001b[0;34m\"/\"\u001b[0m \u001b[0;34m+\u001b[0m \u001b[0mtag\u001b[0m \u001b[0;32mfor\u001b[0m \u001b[0;34m(\u001b[0m\u001b[0mword\u001b[0m\u001b[0;34m,\u001b[0m \u001b[0mtag\u001b[0m\u001b[0;34m)\u001b[0m \u001b[0;32min\u001b[0m \u001b[0mtag_fd_2003\u001b[0m \u001b[0;32mif\u001b[0m \u001b[0mtag\u001b[0m\u001b[0;34m.\u001b[0m\u001b[0mstartswith\u001b[0m\u001b[0;34m(\u001b[0m\u001b[0;34m'V'\u001b[0m\u001b[0;34m)\u001b[0m\u001b[0;34m]\u001b[0m\u001b[0;34m\u001b[0m\u001b[0m\n\u001b[0m",
      "\u001b[0;31mValueError\u001b[0m: too many values to unpack (expected 2)"
     ]
    }
   ],
   "source": [
    "\n",
    "[word + \"/\" + tag for (word, tag) in tag_fd_2003 if tag.startswith('V')]"
   ]
  },
  {
   "cell_type": "code",
   "execution_count": 20,
   "metadata": {},
   "outputs": [
    {
     "data": {
      "text/plain": [
       "[('the', 402),\n",
       " ('.', 302),\n",
       " (',', 274),\n",
       " ('of', 213),\n",
       " ('and', 212),\n",
       " ('to', 196),\n",
       " ('in', 99),\n",
       " ('a', 95),\n",
       " ('I', 88),\n",
       " ('is', 80),\n",
       " ('we', 59),\n",
       " ('will', 56),\n",
       " ('China', 53),\n",
       " ('have', 51),\n",
       " ('that', 50),\n",
       " ('’', 50),\n",
       " ('with', 47),\n",
       " ('for', 42),\n",
       " ('you', 41),\n",
       " ('as', 40)]"
      ]
     },
     "execution_count": 20,
     "metadata": {},
     "output_type": "execute_result"
    }
   ],
   "source": [
    "#check the most frequent words in the corpus against Zipf's law\n",
    "import nltk\n",
    "from nltk import FreqDist\n",
    "fdist_2003=FreqDist(text_2003)\n",
    "fdist_2003.most_common(20)"
   ]
  },
  {
   "cell_type": "code",
   "execution_count": 19,
   "metadata": {},
   "outputs": [
    {
     "data": {
      "text/plain": [
       "[('the', 358),\n",
       " (',', 315),\n",
       " ('.', 292),\n",
       " ('and', 242),\n",
       " ('to', 211),\n",
       " ('of', 171),\n",
       " ('will', 111),\n",
       " ('in', 106),\n",
       " ('we', 101),\n",
       " ('that', 101),\n",
       " ('a', 79),\n",
       " ('I', 76),\n",
       " ('government', 68),\n",
       " ('’', 66),\n",
       " ('is', 65),\n",
       " ('our', 64),\n",
       " ('people', 54),\n",
       " ('have', 52),\n",
       " ('for', 50),\n",
       " ('you', 41)]"
      ]
     },
     "execution_count": 19,
     "metadata": {},
     "output_type": "execute_result"
    }
   ],
   "source": [
    "#check the most frequent words in the corpus against Zipf's law\n",
    "import nltk\n",
    "from nltk import FreqDist\n",
    "fdist_2013=FreqDist(text_2013)\n",
    "fdist_2013.most_common(20)"
   ]
  },
  {
   "cell_type": "code",
   "execution_count": 11,
   "metadata": {},
   "outputs": [
    {
     "name": "stdout",
     "output_type": "stream",
     "text": [
      "Displaying 3 of 3 matches:\n",
      "to extend for the first time through media my best wishes and most cordial gree\n",
      "ng two kinds of opinions in overseas media . First , they believe that China ha\n",
      "vision of the general public and the media . Only when the public are asked to \n"
     ]
    }
   ],
   "source": [
    "text_2003.concordance('media')"
   ]
  },
  {
   "cell_type": "code",
   "execution_count": 12,
   "metadata": {},
   "outputs": [
    {
     "name": "stdout",
     "output_type": "stream",
     "text": [
      "Displaying 5 of 5 matches:\n",
      "rvision of the whole society and the media . We will also establish a sound mec\n",
      "r . Your question reminds me of a US media report that I have read recently . T\n",
      "ebsite hosted by CCTV and some other media organizations about people ’ s quest\n",
      "e made public so that the people and media organizations can supervise the gove\n",
      "ding the issues discussed by foreign media organizations . I think there are tw\n"
     ]
    }
   ],
   "source": [
    "text_2013.concordance('media')"
   ]
  },
  {
   "cell_type": "code",
   "execution_count": 18,
   "metadata": {},
   "outputs": [
    {
     "name": "stdout",
     "output_type": "stream",
     "text": [
      "Displaying 25 of 87 matches:\n",
      "                                      we are very honor and delighted , to hav\n",
      "with you and to take your questions . We are also very delighted to have with \n",
      "ree of them are older than I am . And we are also very fortunate to have one f\n",
      "an see add color and light to um what we can see on the podium . Before I take\n",
      "ip of the Chinese Communist Party can we succeed and bring about a strong and \n",
      "scientific and responsible spirit can we achieve our objectives . I ’ ve been \n",
      "ations also go to the vice premiers . We know you were one of the leading offi\n",
      "s , China has accomplished a lot . So we would like to have your comment on wo\n",
      "what our predecessors have achieved . We will have to be mindful of possible a\n",
      "d a very good foundation for us . Yet we are still faced with numerous difficu\n",
      "requires innovation and creativity as we press ahead . First of the major prob\n",
      "s ahead . First of the major problems we are faced with is the uh backward dev\n",
      " loans is quite high . Nevertheless , we have , after all , already built a st\n",
      "of reform and opening-up . So long as we have the right policies and guideline\n",
      "rade Hu Jintao as General Secretary , we will surely overcome all the difficul\n",
      " ’ s living standards . To this end , we ’ ll have to ensure the continuity an\n",
      "central task in economic reform , and we are committed to establish a modern c\n",
      " financial reform . On the one hand , we need to establish and improve the reg\n",
      "nancial sector , and at the same time we need to accelerate our reform of the \n",
      "se objectives are met and fulfilled , we need to follow the following principl\n",
      "of China ’ s old industrial bases and we will continue to make efforts to pres\n",
      "lus external opening-up , I mean that we will continue to mainly pursue the po\n",
      "ral and local initiatives I mean that we should bring into full play the enthu\n",
      "rm and medium interests , I mean that we will continue to pursue the policy of\n",
      "ate degree of intensity , I mean that we need to balance the speed of developm\n"
     ]
    }
   ],
   "source": [
    "text_2003.concordance('we')"
   ]
  },
  {
   "cell_type": "code",
   "execution_count": 17,
   "metadata": {},
   "outputs": [
    {
     "name": "stdout",
     "output_type": "stream",
     "text": [
      "Displaying 25 of 141 matches:\n",
      "                                      we are ha-very happy to have the new pre\n",
      "r Wang Yang and Vice-premier Ma Kai . We sincerely thank the NPC ’ s deputies \n",
      "ies for their trust . From the moment we take on the new role , I have deeply \n",
      "lities have placed on our shoulders . We will be true to the Constitution , lo\n",
      "direction of government ’ s efforts , we will take as our secret mission the p\n",
      "les ’ aspirations for a better life . We will revere laws , respect the people\n",
      "d society on the other . Put simply , we need to leave to the market and socie\n",
      ", and on the part of the government , we need to manage well those matters tha\n",
      "image of the government . Therefore , we will start with reform of the system \n",
      " Within the term of this department , we are determined to cut that figure by \n",
      "pment and wanted by the people . Then we are determined to make that sacrifice\n",
      "e determined to make that sacrifice . We will keep our promise and match up ou\n",
      " and match up our words with action . We will never secretly hold on to the po\n",
      "shy away from real difficult issues . We will never play any games to get arou\n",
      "e goals of my government . The nearer we are to our goal of modernization , th\n",
      "he more risks and the more challenges we might encounter . China is such a lar\n",
      " continue to be serious and complex . We must be prepared for potential advers\n",
      "hanging situation in a calm fashion . We need to maintain steady economic grow\n",
      "mic performance . To realize the goal we have set for our country by 2020 , we\n",
      "we have set for our country by 2020 , we would have to register an annual GDP \n",
      "ercent , that would not be easy . But we have favorable conditions in place an\n",
      " is to have economic transformation . We need to combine the dividends of refo\n",
      "form new drivers of economic growth . We need to enhance the quality and effic\n",
      "ion and saving of resources , so that we will fully upgrade the Chinese econom\n",
      "rade the Chinese economy . Secondly , we need to work constantly to improve th\n"
     ]
    }
   ],
   "source": [
    "text_2013.concordance('we')"
   ]
  },
  {
   "cell_type": "code",
   "execution_count": 22,
   "metadata": {},
   "outputs": [
    {
     "name": "stdout",
     "output_type": "stream",
     "text": [
      "Displaying 19 of 19 matches:\n",
      "ng and prosperous country . These are my opening remarks . Now the floor is op\n",
      " a big question . As for the goals of my government , the Eighteenth National \n",
      "e detail , those will be the goals of my government . The nearer we are to our\n",
      "e arduous efforts . The good thing is my predecessor Premier Wen Jiabao and my\n",
      "my predecessor Premier Wen Jiabao and my colleagues who have n/i n/i China nat\n",
      "t corruption . And here , let me make my position clear . Clean government sho\n",
      "hree clear rules : Within the term of my government , First , we will not use \n",
      ", I ’ ve outlined three priorities of my government , in light of this , we wi\n",
      "d these opportunities going forward . My government will fulfil the commitment\n",
      "ortunity , I would like you to convey my sincere greetings and best regards to\n",
      " ’ s development ? And I myself , and my family also er descended from Anhui P\n",
      "r the polite reminder that if I raise my hand too frequently , people will foc\n",
      "too frequently , people will focus on my body movement , not what I say . But \n",
      "Hong Kong and Macao . You asked about my personal experience and mentioned Anh\n",
      " don ’ t have time to talk more about my personal experience , but in my life \n",
      "about my personal experience , but in my life , through reading , through hand\n",
      " handling various matters and through my cultural upbring , I have learned the\n",
      "hese are the things I have learned in my life . I am convinced that only by be\n",
      "ng our practical cooperation . And in my contacts with local government person\n"
     ]
    }
   ],
   "source": [
    "text_2013.concordance('my')"
   ]
  },
  {
   "cell_type": "code",
   "execution_count": 23,
   "metadata": {},
   "outputs": [
    {
     "name": "stdout",
     "output_type": "stream",
     "text": [
      "Displaying 25 of 26 matches:\n",
      "d like to start by introducing to you my colleagues , vice Premier Huang Ju . \n",
      "mily of teachers in the countryside . My grandfather , my father and my mother\n",
      "in the countryside . My grandfather , my father and my mother were all teacher\n",
      "side . My grandfather , my father and my mother were all teachers . My childho\n",
      "her and my mother were all teachers . My childhood was spent in turmoil of war\n",
      "and so was the primary school , which my grandfather built with his own hands \n",
      "ld China left an indelible imprint on my tender mind Since becoming a universi\n",
      " and modernization . I ’ ve seen with my own eyes , under the leadership of co\n",
      " ve gained from the people to perform my solemn constitutional duties as the p\n",
      "ies as the premier . I will exert all my strength and wisdom I will dedicate m\n",
      " I will do whatever it takes to serve my country , even at the cost of my own \n",
      "erve my country , even at the cost of my own life , regardless of fortune or m\n",
      "be the attitude in which I will start my work I ’ m from People ’ s Daily . Ju\n",
      "ell-off society in all-round way . So my question is what will be the objectiv\n",
      "tend for the first time through media my best wishes and most cordial greeting\n",
      "h-level visits . As for myself I hope my visit can take place under an appropr\n",
      "rough you , I would like to uh extend my best regards to our Taiwan compatriot\n",
      "ntaintop so that I can get a sight of my mainland . Mainland I see none , tear\n",
      "mountaintop so I can get a glimpse of my hometown . Hometown I see none , but \n",
      "own I see none , but lives forever in my mind . The lofty sky is deeply blue ,\n",
      "p with exacerbating their burden , So my question is how can the current tax-f\n",
      "nies ? Um Your question reminds me of my visit to Bank of England in the year \n",
      "ss Ambassador to China once said that my brain works like a computer . Indeed \n",
      " Indeed many statistics are stored in my brain . Some make me happy . Some mak\n",
      " be a good premier . If you ask about my feeling now , I feel that the respons\n"
     ]
    }
   ],
   "source": [
    "text_2003.concordance('')"
   ]
  },
  {
   "cell_type": "code",
   "execution_count": null,
   "metadata": {},
   "outputs": [],
   "source": []
  }
 ],
 "metadata": {
  "kernelspec": {
   "display_name": "Python 3",
   "language": "python",
   "name": "python3"
  },
  "language_info": {
   "codemirror_mode": {
    "name": "ipython",
    "version": 3
   },
   "file_extension": ".py",
   "mimetype": "text/x-python",
   "name": "python",
   "nbconvert_exporter": "python",
   "pygments_lexer": "ipython3",
   "version": "3.6.3"
  }
 },
 "nbformat": 4,
 "nbformat_minor": 2
}
