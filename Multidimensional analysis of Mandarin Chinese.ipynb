{
 "cells": [
  {
   "cell_type": "markdown",
   "metadata": {},
   "source": [
    "Train dataset\n",
    "ToRCH2014 (Texts of Recent Chinese, Brown family)"
   ]
  },
  {
   "cell_type": "code",
   "execution_count": 1,
   "metadata": {},
   "outputs": [
    {
     "data": {
      "text/plain": [
       "['习近平', '接受', '俄罗斯', '电视台', '专访', '本', '报', '俄罗斯', ...]"
      ]
     },
     "execution_count": 1,
     "metadata": {},
     "output_type": "execute_result"
    }
   ],
   "source": [
    "#load data\n",
    "import os\n",
    "import nltk \n",
    "from nltk.corpus import CategorizedPlaintextCorpusReader\n",
    "corpus = CategorizedPlaintextCorpusReader(\n",
    "    '/users/nannanliu/Python/SCIPPC/ToRCH2014',\n",
    "    r'(?!\\.).*\\.txt',\n",
    "    cat_pattern=os.path.join(r'(neg|pos)', '.*',),\n",
    "    encoding='utf-8')\n",
    "corpus.words()"
   ]
  },
  {
   "cell_type": "code",
   "execution_count": 12,
   "metadata": {},
   "outputs": [
    {
     "name": "stdout",
     "output_type": "stream",
     "text": [
      "ToRCH2014_A01A_SEG.txt\n",
      "ToRCH2014_A01B_SEG.txt\n",
      "ToRCH2014_A02A_SEG.txt\n",
      "ToRCH2014_A02B_SEG.txt\n",
      "ToRCH2014_A03_SEG.txt\n",
      "ToRCH2014_A04A_SEG.txt\n",
      "ToRCH2014_A04B_SEG.txt\n",
      "ToRCH2014_A04C_SEG.txt\n",
      "ToRCH2014_A05_SEG.txt\n",
      "ToRCH2014_A06A_SEG.txt\n",
      "ToRCH2014_A06B_SEG.txt\n",
      "ToRCH2014_A06C_SEG.txt\n",
      "ToRCH2014_A07A_SEG.txt\n",
      "ToRCH2014_A07B_SEG.txt\n",
      "ToRCH2014_A07C_SEG.txt\n",
      "ToRCH2014_A07D_SEG.txt\n",
      "ToRCH2014_A08A_SEG.txt\n",
      "ToRCH2014_A08B_SEG.txt\n",
      "ToRCH2014_A08C_SEG.txt\n",
      "ToRCH2014_A09A_SEG.txt\n",
      "ToRCH2014_A09B_SEG.txt\n",
      "ToRCH2014_A09C_SEG.txt\n",
      "ToRCH2014_A10_SEG.txt\n",
      "ToRCH2014_A11_SEG.txt\n",
      "ToRCH2014_A12A_SEG.txt\n",
      "ToRCH2014_A12B_SEG.txt\n",
      "ToRCH2014_A13_SEG.txt\n",
      "ToRCH2014_A14A_SEG.txt\n",
      "ToRCH2014_A14B_SEG.txt\n",
      "ToRCH2014_A15A_SEG.txt\n",
      "ToRCH2014_A15B_SEG.txt\n",
      "ToRCH2014_A16A_SEG.txt\n",
      "ToRCH2014_A16B_SEG.txt\n",
      "ToRCH2014_A17A_SEG.txt\n",
      "ToRCH2014_A17B_SEG.txt\n",
      "ToRCH2014_A17C_SEG.txt\n",
      "ToRCH2014_A18A_SEG.txt\n",
      "ToRCH2014_A18B_SEG.txt\n",
      "ToRCH2014_A18C_SEG.txt\n",
      "ToRCH2014_A18D_SEG.txt\n",
      "ToRCH2014_A19A_SEG.txt\n",
      "ToRCH2014_A19B_SEG.txt\n",
      "ToRCH2014_A20_SEG.txt\n",
      "ToRCH2014_A21A_SEG.txt\n",
      "ToRCH2014_A21B_SEG.txt\n",
      "ToRCH2014_A22A_SEG.txt\n",
      "ToRCH2014_A22B_SEG.txt\n",
      "ToRCH2014_A22C_SEG.txt\n",
      "ToRCH2014_A22D_SEG.txt\n",
      "ToRCH2014_A23A_SEG.txt\n",
      "ToRCH2014_A23B_SEG.txt\n",
      "ToRCH2014_A23C_SEG.txt\n",
      "ToRCH2014_A24A_SEG.txt\n",
      "ToRCH2014_A24B_SEG.txt\n",
      "ToRCH2014_A24C_SEG.txt\n",
      "ToRCH2014_A25A_SEG.txt\n",
      "ToRCH2014_A25B_SEG.txt\n",
      "ToRCH2014_A25C_SEG.txt\n",
      "ToRCH2014_A26_SEG.txt\n",
      "ToRCH2014_A27A_SEG.txt\n",
      "ToRCH2014_A27B_SEG.txt\n",
      "ToRCH2014_A27C_SEG.txt\n",
      "ToRCH2014_A27D_SEG.txt\n",
      "ToRCH2014_A28A_SEG.txt\n",
      "ToRCH2014_A28B_SEG.txt\n",
      "ToRCH2014_A28C_SEG.txt\n",
      "ToRCH2014_A28D_SEG.txt\n",
      "ToRCH2014_A28E_SEG.txt\n",
      "ToRCH2014_A29A_SEG.txt\n",
      "ToRCH2014_A29B_SEG.txt\n",
      "ToRCH2014_A30A_SEG.txt\n",
      "ToRCH2014_A30B_SEG.txt\n",
      "ToRCH2014_A30C_SEG.txt\n",
      "ToRCH2014_A31A_SEG.txt\n",
      "ToRCH2014_A31B_SEG.txt\n",
      "ToRCH2014_A32_SEG.txt\n",
      "ToRCH2014_A33A_SEG.txt\n",
      "ToRCH2014_A33B_SEG.txt\n",
      "ToRCH2014_A33C_SEG.txt\n",
      "ToRCH2014_A34A_SEG.txt\n",
      "ToRCH2014_A34B_SEG.txt\n",
      "ToRCH2014_A35A_SEG.txt\n",
      "ToRCH2014_A35B_SEG.txt\n",
      "ToRCH2014_A35C_SEG.txt\n",
      "ToRCH2014_A36_SEG.txt\n",
      "ToRCH2014_A37A_SEG.txt\n",
      "ToRCH2014_A37B_SEG.txt\n",
      "ToRCH2014_A37C_SEG.txt\n",
      "ToRCH2014_A38A_SEG.txt\n",
      "ToRCH2014_A38B_SEG.txt\n",
      "ToRCH2014_A38C_SEG.txt\n",
      "ToRCH2014_A39A_SEG.txt\n",
      "ToRCH2014_A39B_SEG.txt\n",
      "ToRCH2014_A40A_SEG.txt\n",
      "ToRCH2014_A40B_SEG.txt\n",
      "ToRCH2014_A40C_SEG.txt\n",
      "ToRCH2014_A41A_SEG.txt\n",
      "ToRCH2014_A41B_SEG.txt\n",
      "ToRCH2014_A42A_SEG.txt\n",
      "ToRCH2014_A42B_SEG.txt\n",
      "ToRCH2014_A43A_SEG.txt\n",
      "ToRCH2014_A43B_SEG.txt\n",
      "ToRCH2014_A44_SEG.txt\n"
     ]
    }
   ],
   "source": [
    "#ToRCH contains 15 text types, here get type A reportage\n",
    "import fileinput\n",
    "import fnmatch\n",
    "\n",
    "files=corpus.fileids()\n",
    "\n",
    "for f in files: \n",
    "    if fnmatch.fnmatch(f, 'ToRCH2014_A*.txt'):\n",
    "        print (f)"
   ]
  },
  {
   "cell_type": "code",
   "execution_count": 28,
   "metadata": {},
   "outputs": [],
   "source": [
    "#ToRCH contains 15 text types, here get type A reportage    \n",
    "reportage_files=['ToRCH2014_A01A_SEG.txt', 'ToRCH2014_A01B_SEG.txt', 'ToRCH2014_A02A_SEG.txt', 'ToRCH2014_A02B_SEG.txt', 'ToRCH2014_A03_SEG.txt', 'ToRCH2014_A04A_SEG.txt', 'ToRCH2014_A04B_SEG.txt', 'ToRCH2014_A04C_SEG.txt', 'ToRCH2014_A05_SEG.txt', 'ToRCH2014_A06A_SEG.txt', 'ToRCH2014_A06B_SEG.txt', 'ToRCH2014_A06C_SEG.txt', 'ToRCH2014_A07A_SEG.txt', 'ToRCH2014_A07B_SEG.txt', 'ToRCH2014_A07C_SEG.txt', 'ToRCH2014_A07D_SEG.txt', 'ToRCH2014_A08A_SEG.txt', 'ToRCH2014_A08B_SEG.txt', 'ToRCH2014_A08C_SEG.txt', 'ToRCH2014_A09A_SEG.txt', 'ToRCH2014_A09B_SEG.txt', 'ToRCH2014_A09C_SEG.txt', 'ToRCH2014_A10_SEG.txt', 'ToRCH2014_A11_SEG.txt', 'ToRCH2014_A12A_SEG.txt', 'ToRCH2014_A12B_SEG.txt', 'ToRCH2014_A13_SEG.txt', 'ToRCH2014_A14A_SEG.txt', 'ToRCH2014_A14B_SEG.txt', 'ToRCH2014_A15A_SEG.txt', 'ToRCH2014_A15B_SEG.txt', 'ToRCH2014_A16A_SEG.txt', 'ToRCH2014_A16B_SEG.txt', 'ToRCH2014_A17A_SEG.txt', 'ToRCH2014_A17B_SEG.txt', 'ToRCH2014_A17C_SEG.txt', 'ToRCH2014_A18A_SEG.txt', 'ToRCH2014_A18B_SEG.txt', 'ToRCH2014_A18C_SEG.txt', 'ToRCH2014_A18D_SEG.txt', 'ToRCH2014_A19A_SEG.txt', 'ToRCH2014_A19B_SEG.txt', 'ToRCH2014_A20_SEG.txt', 'ToRCH2014_A21A_SEG.txt', 'ToRCH2014_A21B_SEG.txt', 'ToRCH2014_A22A_SEG.txt', 'ToRCH2014_A22B_SEG.txt', 'ToRCH2014_A22C_SEG.txt', 'ToRCH2014_A22D_SEG.txt', 'ToRCH2014_A23A_SEG.txt', 'ToRCH2014_A23B_SEG.txt', 'ToRCH2014_A23C_SEG.txt', 'ToRCH2014_A24A_SEG.txt', 'ToRCH2014_A24B_SEG.txt', 'ToRCH2014_A24C_SEG.txt', 'ToRCH2014_A25A_SEG.txt', 'ToRCH2014_A25B_SEG.txt', 'ToRCH2014_A25C_SEG.txt', 'ToRCH2014_A26_SEG.txt', 'ToRCH2014_A27A_SEG.txt', 'ToRCH2014_A27B_SEG.txt', 'ToRCH2014_A27C_SEG.txt', 'ToRCH2014_A27D_SEG.txt', 'ToRCH2014_A28A_SEG.txt', 'ToRCH2014_A28B_SEG.txt', 'ToRCH2014_A28C_SEG.txt', 'ToRCH2014_A28D_SEG.txt', 'ToRCH2014_A28E_SEG.txt', 'ToRCH2014_A29A_SEG.txt', 'ToRCH2014_A29B_SEG.txt', 'ToRCH2014_A30A_SEG.txt', 'ToRCH2014_A30B_SEG.txt', 'ToRCH2014_A30C_SEG.txt', 'ToRCH2014_A31A_SEG.txt', 'ToRCH2014_A31B_SEG.txt', 'ToRCH2014_A32_SEG.txt', 'ToRCH2014_A33A_SEG.txt', 'ToRCH2014_A33B_SEG.txt', 'ToRCH2014_A33C_SEG.txt', 'ToRCH2014_A34A_SEG.txt', 'ToRCH2014_A34B_SEG.txt', 'ToRCH2014_A35A_SEG.txt', 'ToRCH2014_A35B_SEG.txt', 'ToRCH2014_A35C_SEG.txt', 'ToRCH2014_A36_SEG.txt', 'ToRCH2014_A37A_SEG.txt', 'ToRCH2014_A37B_SEG.txt', 'ToRCH2014_A37C_SEG.txt', 'ToRCH2014_A38A_SEG.txt', 'ToRCH2014_A38B_SEG.txt', 'ToRCH2014_A38C_SEG.txt', 'ToRCH2014_A39A_SEG.txt', 'ToRCH2014_A39B_SEG.txt', 'ToRCH2014_A40A_SEG.txt', 'ToRCH2014_A40B_SEG.txt', 'ToRCH2014_A40C_SEG.txt', 'ToRCH2014_A41A_SEG.txt', 'ToRCH2014_A41B_SEG.txt', 'ToRCH2014_A42A_SEG.txt', 'ToRCH2014_A42B_SEG.txt', 'ToRCH2014_A43A_SEG.txt', 'ToRCH2014_A43B_SEG.txt', 'ToRCH2014_A44_SEG.txt']\n",
    "reportage=corpus.words(reportage_files)"
   ]
  },
  {
   "cell_type": "code",
   "execution_count": 25,
   "metadata": {},
   "outputs": [
    {
     "data": {
      "text/plain": [
       "97"
      ]
     },
     "execution_count": 25,
     "metadata": {},
     "output_type": "execute_result"
    }
   ],
   "source": [
    "reportage.count('习近平')"
   ]
  },
  {
   "cell_type": "code",
   "execution_count": 26,
   "metadata": {},
   "outputs": [
    {
     "name": "stdout",
     "output_type": "stream",
     "text": [
      "ToRCH2014_B01A_SEG.txt\n",
      "ToRCH2014_B01B_SEG.txt\n",
      "ToRCH2014_B01C_SEG.txt\n",
      "ToRCH2014_B02A_SEG.txt\n",
      "ToRCH2014_B02B_SEG.txt\n",
      "ToRCH2014_B02C_SEG.txt\n",
      "ToRCH2014_B02D_SEG.txt\n",
      "ToRCH2014_B03A_SEG.txt\n",
      "ToRCH2014_B03B_SEG.txt\n",
      "ToRCH2014_B03C_SEG.txt\n",
      "ToRCH2014_B04A_SEG.txt\n",
      "ToRCH2014_B04B_SEG.txt\n",
      "ToRCH2014_B04C_SEG.txt\n",
      "ToRCH2014_B05A_SEG.txt\n",
      "ToRCH2014_B05B_SEG.txt\n",
      "ToRCH2014_B05C_SEG.txt\n",
      "ToRCH2014_B06A_SEG.txt\n",
      "ToRCH2014_B06B_SEG.txt\n",
      "ToRCH2014_B06C_SEG.txt\n",
      "ToRCH2014_B06D_SEG.txt\n",
      "ToRCH2014_B07A_SEG.txt\n",
      "ToRCH2014_B07B_SEG.txt\n",
      "ToRCH2014_B07C_SEG.txt\n",
      "ToRCH2014_B08A_SEG.txt\n",
      "ToRCH2014_B08B_SEG.txt\n",
      "ToRCH2014_B08C_SEG.txt\n",
      "ToRCH2014_B08D_SEG.txt\n",
      "ToRCH2014_B09A_SEG.txt\n",
      "ToRCH2014_B09B_SEG.txt\n",
      "ToRCH2014_B10A_SEG.txt\n",
      "ToRCH2014_B10B_SEG.txt\n",
      "ToRCH2014_B11A_SEG.txt\n",
      "ToRCH2014_B11B_SEG.txt\n",
      "ToRCH2014_B11C_SEG.txt\n",
      "ToRCH2014_B12A_SEG.txt\n",
      "ToRCH2014_B12B_SEG.txt\n",
      "ToRCH2014_B12C_SEG.txt\n",
      "ToRCH2014_B13A_SEG.txt\n",
      "ToRCH2014_B13B_SEG.txt\n",
      "ToRCH2014_B13C_SEG.txt\n",
      "ToRCH2014_B13D_SEG.txt\n",
      "ToRCH2014_B14A_SEG.txt\n",
      "ToRCH2014_B14B_SEG.txt\n",
      "ToRCH2014_B14C_SEG.txt\n",
      "ToRCH2014_B15A_SEG.txt\n",
      "ToRCH2014_B15B_SEG.txt\n",
      "ToRCH2014_B15C_SEG.txt\n",
      "ToRCH2014_B16A_SEG.txt\n",
      "ToRCH2014_B16B_SEG.txt\n",
      "ToRCH2014_B16C_SEG.txt\n",
      "ToRCH2014_B17A_SEG.txt\n",
      "ToRCH2014_B17B_SEG.txt\n",
      "ToRCH2014_B17C_SEG.txt\n",
      "ToRCH2014_B18A_SEG.txt\n",
      "ToRCH2014_B18B_SEG.txt\n",
      "ToRCH2014_B19A_SEG.txt\n",
      "ToRCH2014_B19B_SEG.txt\n",
      "ToRCH2014_B19C_SEG.txt\n",
      "ToRCH2014_B19D_SEG.txt\n",
      "ToRCH2014_B20A_SEG.txt\n",
      "ToRCH2014_B20B_SEG.txt\n",
      "ToRCH2014_B20C_SEG.txt\n",
      "ToRCH2014_B20D_SEG.txt\n",
      "ToRCH2014_B21A_SEG.txt\n",
      "ToRCH2014_B21B_SEG.txt\n",
      "ToRCH2014_B21C_SEG.txt\n",
      "ToRCH2014_B22A_SEG.txt\n",
      "ToRCH2014_B22B_SEG.txt\n",
      "ToRCH2014_B22C_SEG.txt\n",
      "ToRCH2014_B23A_SEG.txt\n",
      "ToRCH2014_B23B_SEG.txt\n",
      "ToRCH2014_B24A_SEG.txt\n",
      "ToRCH2014_B24B_SEG.txt\n",
      "ToRCH2014_B25A_SEG.txt\n",
      "ToRCH2014_B25B_SEG.txt\n",
      "ToRCH2014_B26A_SEG.txt\n",
      "ToRCH2014_B26B_SEG.txt\n",
      "ToRCH2014_B26C_SEG.txt\n",
      "ToRCH2014_B27_SEG.txt\n"
     ]
    }
   ],
   "source": [
    "#type B editorials\n",
    "for f in files: \n",
    "    if fnmatch.fnmatch(f, 'ToRCH2014_B*.txt'):\n",
    "        print (f)"
   ]
  },
  {
   "cell_type": "code",
   "execution_count": 29,
   "metadata": {},
   "outputs": [],
   "source": [
    "editorial_files=['ToRCH2014_B01A_SEG.txt', 'ToRCH2014_B01B_SEG.txt', 'ToRCH2014_B01C_SEG.txt', 'ToRCH2014_B02A_SEG.txt', 'ToRCH2014_B02B_SEG.txt', 'ToRCH2014_B02C_SEG.txt', 'ToRCH2014_B02D_SEG.txt', 'ToRCH2014_B03A_SEG.txt', 'ToRCH2014_B03B_SEG.txt', 'ToRCH2014_B03C_SEG.txt', 'ToRCH2014_B04A_SEG.txt', 'ToRCH2014_B04B_SEG.txt', 'ToRCH2014_B04C_SEG.txt', 'ToRCH2014_B05A_SEG.txt', 'ToRCH2014_B05B_SEG.txt', 'ToRCH2014_B05C_SEG.txt', 'ToRCH2014_B06A_SEG.txt', 'ToRCH2014_B06B_SEG.txt', 'ToRCH2014_B06C_SEG.txt', 'ToRCH2014_B06D_SEG.txt', 'ToRCH2014_B07A_SEG.txt', 'ToRCH2014_B07B_SEG.txt', 'ToRCH2014_B07C_SEG.txt', 'ToRCH2014_B08A_SEG.txt', 'ToRCH2014_B08B_SEG.txt', 'ToRCH2014_B08C_SEG.txt', 'ToRCH2014_B08D_SEG.txt', 'ToRCH2014_B09A_SEG.txt', 'ToRCH2014_B09B_SEG.txt', 'ToRCH2014_B10A_SEG.txt', 'ToRCH2014_B10B_SEG.txt', 'ToRCH2014_B11A_SEG.txt', 'ToRCH2014_B11B_SEG.txt', 'ToRCH2014_B11C_SEG.txt', 'ToRCH2014_B12A_SEG.txt', 'ToRCH2014_B12B_SEG.txt', 'ToRCH2014_B12C_SEG.txt', 'ToRCH2014_B13A_SEG.txt', 'ToRCH2014_B13B_SEG.txt', 'ToRCH2014_B13C_SEG.txt', 'ToRCH2014_B13D_SEG.txt', 'ToRCH2014_B14A_SEG.txt', 'ToRCH2014_B14B_SEG.txt', 'ToRCH2014_B14C_SEG.txt', 'ToRCH2014_B15A_SEG.txt', 'ToRCH2014_B15B_SEG.txt', 'ToRCH2014_B15C_SEG.txt', 'ToRCH2014_B16A_SEG.txt', 'ToRCH2014_B16B_SEG.txt', 'ToRCH2014_B16C_SEG.txt', 'ToRCH2014_B17A_SEG.txt', 'ToRCH2014_B17B_SEG.txt', 'ToRCH2014_B17C_SEG.txt', 'ToRCH2014_B18A_SEG.txt', 'ToRCH2014_B18B_SEG.txt', 'ToRCH2014_B19A_SEG.txt', 'ToRCH2014_B19B_SEG.txt', 'ToRCH2014_B19C_SEG.txt', 'ToRCH2014_B19D_SEG.txt', 'ToRCH2014_B20A_SEG.txt', 'ToRCH2014_B20B_SEG.txt', 'ToRCH2014_B20C_SEG.txt', 'ToRCH2014_B20D_SEG.txt', 'ToRCH2014_B21A_SEG.txt', 'ToRCH2014_B21B_SEG.txt', 'ToRCH2014_B21C_SEG.txt', 'ToRCH2014_B22A_SEG.txt', 'ToRCH2014_B22B_SEG.txt', 'ToRCH2014_B22C_SEG.txt', 'ToRCH2014_B23A_SEG.txt', 'ToRCH2014_B23B_SEG.txt', 'ToRCH2014_B24A_SEG.txt', 'ToRCH2014_B24B_SEG.txt', 'ToRCH2014_B25A_SEG.txt', 'ToRCH2014_B25B_SEG.txt', 'ToRCH2014_B26A_SEG.txt', 'ToRCH2014_B26B_SEG.txt', 'ToRCH2014_B26C_SEG.txt', 'ToRCH2014_B27_SEG.txt']\n",
    "editorial=corpus.words(editorial_files)"
   ]
  },
  {
   "cell_type": "code",
   "execution_count": 30,
   "metadata": {},
   "outputs": [
    {
     "data": {
      "text/plain": [
       "9"
      ]
     },
     "execution_count": 30,
     "metadata": {},
     "output_type": "execute_result"
    }
   ],
   "source": [
    "editorial.count('习近平')"
   ]
  },
  {
   "cell_type": "code",
   "execution_count": 31,
   "metadata": {},
   "outputs": [
    {
     "name": "stdout",
     "output_type": "stream",
     "text": [
      "ToRCH2014_C01_SEG.txt\n",
      "ToRCH2014_C02A_SEG.txt\n",
      "ToRCH2014_C02B_SEG.txt\n",
      "ToRCH2014_C03A_SEG.txt\n",
      "ToRCH2014_C03B_SEG.txt\n",
      "ToRCH2014_C04A_SEG.txt\n",
      "ToRCH2014_C04B_SEG.txt\n",
      "ToRCH2014_C05A_SEG.txt\n",
      "ToRCH2014_C05B_SEG.txt\n",
      "ToRCH2014_C06_SEG.txt\n",
      "ToRCH2014_C07_SEG.txt\n",
      "ToRCH2014_C08A_SEG.txt\n",
      "ToRCH2014_C08B_SEG.txt\n",
      "ToRCH2014_C09_SEG.txt\n",
      "ToRCH2014_C10A_SEG.txt\n",
      "ToRCH2014_C10B_SEG.txt\n",
      "ToRCH2014_C11A_SEG.txt\n",
      "ToRCH2014_C11B_SEG.txt\n",
      "ToRCH2014_C12A_SEG.txt\n",
      "ToRCH2014_C12B_SEG.txt\n",
      "ToRCH2014_C13A_SEG.txt\n",
      "ToRCH2014_C13B_SEG.txt\n",
      "ToRCH2014_C14A_SEG.txt\n",
      "ToRCH2014_C14B_SEG.txt\n",
      "ToRCH2014_C14C_SEG.txt\n",
      "ToRCH2014_C15A_SEG.txt\n",
      "ToRCH2014_C15B_SEG.txt\n",
      "ToRCH2014_C16_SEG.txt\n",
      "ToRCH2014_C17A_SEG.txt\n",
      "ToRCH2014_C17B_SEG.txt\n"
     ]
    }
   ],
   "source": [
    "#type C press reviews\n",
    "for f in files: \n",
    "    if fnmatch.fnmatch(f, 'ToRCH2014_C*.txt'):\n",
    "        print (f)"
   ]
  },
  {
   "cell_type": "code",
   "execution_count": 32,
   "metadata": {},
   "outputs": [],
   "source": [
    "review_files=['ToRCH2014_C01_SEG.txt', 'ToRCH2014_C02A_SEG.txt', 'ToRCH2014_C02B_SEG.txt', 'ToRCH2014_C03A_SEG.txt', 'ToRCH2014_C03B_SEG.txt', 'ToRCH2014_C04A_SEG.txt', 'ToRCH2014_C04B_SEG.txt', 'ToRCH2014_C05A_SEG.txt', 'ToRCH2014_C05B_SEG.txt', 'ToRCH2014_C06_SEG.txt', 'ToRCH2014_C07_SEG.txt', 'ToRCH2014_C08A_SEG.txt', 'ToRCH2014_C08B_SEG.txt', 'ToRCH2014_C09_SEG.txt', 'ToRCH2014_C10A_SEG.txt', 'ToRCH2014_C10B_SEG.txt', 'ToRCH2014_C11A_SEG.txt', 'ToRCH2014_C11B_SEG.txt', 'ToRCH2014_C12A_SEG.txt', 'ToRCH2014_C12B_SEG.txt', 'ToRCH2014_C13A_SEG.txt', 'ToRCH2014_C13B_SEG.txt', 'ToRCH2014_C14A_SEG.txt', 'ToRCH2014_C14B_SEG.txt', 'ToRCH2014_C14C_SEG.txt', 'ToRCH2014_C15A_SEG.txt', 'ToRCH2014_C15B_SEG.txt', 'ToRCH2014_C16_SEG.txt', 'ToRCH2014_C17A_SEG.txt', 'ToRCH2014_C17B_SEG.txt']"
   ]
  },
  {
   "cell_type": "code",
   "execution_count": 33,
   "metadata": {},
   "outputs": [],
   "source": [
    "review=corpus.words(review_files)"
   ]
  },
  {
   "cell_type": "code",
   "execution_count": 34,
   "metadata": {},
   "outputs": [
    {
     "name": "stdout",
     "output_type": "stream",
     "text": [
      "ToRCH2014_D01A_SEG.txt\n",
      "ToRCH2014_D01B_SEG.txt\n",
      "ToRCH2014_D02_SEG.txt\n",
      "ToRCH2014_D03A_SEG.txt\n",
      "ToRCH2014_D03B_SEG.txt\n",
      "ToRCH2014_D04A_SEG.txt\n",
      "ToRCH2014_D04B_SEG.txt\n",
      "ToRCH2014_D05A_SEG.txt\n",
      "ToRCH2014_D05B_SEG.txt\n",
      "ToRCH2014_D05C_SEG.txt\n",
      "ToRCH2014_D06_SEG.txt\n",
      "ToRCH2014_D07_SEG.txt\n",
      "ToRCH2014_D08_SEG.txt\n",
      "ToRCH2014_D09_SEG.txt\n",
      "ToRCH2014_D10_SEG.txt\n",
      "ToRCH2014_D11_SEG.txt\n",
      "ToRCH2014_D12_SEG.txt\n",
      "ToRCH2014_D13_SEG.txt\n",
      "ToRCH2014_D14A_SEG.txt\n",
      "ToRCH2014_D14B_SEG.txt\n",
      "ToRCH2014_D14C_SEG.txt\n",
      "ToRCH2014_D15_SEG.txt\n",
      "ToRCH2014_D16_SEG.txt\n",
      "ToRCH2014_D17_SEG.txt\n"
     ]
    }
   ],
   "source": [
    "#type D religion\n",
    "for f in files: \n",
    "    if fnmatch.fnmatch(f, 'ToRCH2014_D*.txt'):\n",
    "        print (f)"
   ]
  },
  {
   "cell_type": "code",
   "execution_count": 37,
   "metadata": {},
   "outputs": [],
   "source": [
    "religion_files=['ToRCH2014_D01A_SEG.txt', 'ToRCH2014_D01B_SEG.txt', 'ToRCH2014_D02_SEG.txt', 'ToRCH2014_D03A_SEG.txt', 'ToRCH2014_D03B_SEG.txt', 'ToRCH2014_D04A_SEG.txt', 'ToRCH2014_D04B_SEG.txt', 'ToRCH2014_D05A_SEG.txt', 'ToRCH2014_D05B_SEG.txt', 'ToRCH2014_D05C_SEG.txt', 'ToRCH2014_D06_SEG.txt', 'ToRCH2014_D07_SEG.txt', 'ToRCH2014_D08_SEG.txt', 'ToRCH2014_D09_SEG.txt', 'ToRCH2014_D10_SEG.txt', 'ToRCH2014_D11_SEG.txt', 'ToRCH2014_D12_SEG.txt', 'ToRCH2014_D13_SEG.txt', 'ToRCH2014_D14A_SEG.txt', 'ToRCH2014_D14B_SEG.txt', 'ToRCH2014_D14C_SEG.txt', 'ToRCH2014_D15_SEG.txt', 'ToRCH2014_D16_SEG.txt', 'ToRCH2014_D17_SEG.txt']"
   ]
  },
  {
   "cell_type": "code",
   "execution_count": 38,
   "metadata": {},
   "outputs": [],
   "source": [
    "religion=corpus.words(religion)"
   ]
  },
  {
   "cell_type": "code",
   "execution_count": 39,
   "metadata": {},
   "outputs": [
    {
     "name": "stdout",
     "output_type": "stream",
     "text": [
      "ToRCH2014_E01_SEG.txt\n",
      "ToRCH2014_E02_SEG.txt\n",
      "ToRCH2014_E03_SEG.txt\n",
      "ToRCH2014_E04A_SEG.txt\n",
      "ToRCH2014_E04B_SEG.txt\n",
      "ToRCH2014_E05A_SEG.txt\n",
      "ToRCH2014_E05B_SEG.txt\n",
      "ToRCH2014_E06_SEG.txt\n",
      "ToRCH2014_E07A_SEG.txt\n",
      "ToRCH2014_E07B_SEG.txt\n",
      "ToRCH2014_E07C_SEG.txt\n",
      "ToRCH2014_E08_SEG.txt\n",
      "ToRCH2014_E09A_SEG.txt\n",
      "ToRCH2014_E09B_SEG.txt\n",
      "ToRCH2014_E09C_SEG.txt\n",
      "ToRCH2014_E10A_SEG.txt\n",
      "ToRCH2014_E10B_SEG.txt\n",
      "ToRCH2014_E11A_SEG.txt\n",
      "ToRCH2014_E11B_SEG.txt\n",
      "ToRCH2014_E12A_SEG.txt\n",
      "ToRCH2014_E12B_SEG.txt\n",
      "ToRCH2014_E13A_SEG.txt\n",
      "ToRCH2014_E13B_SEG.txt\n",
      "ToRCH2014_E14A_SEG.txt\n",
      "ToRCH2014_E14B_SEG.txt\n",
      "ToRCH2014_E15A_SEG.txt\n",
      "ToRCH2014_E15B_SEG.txt\n",
      "ToRCH2014_E16_SEG.txt\n",
      "ToRCH2014_E17A_SEG.txt\n",
      "ToRCH2014_E17B_SEG.txt\n",
      "ToRCH2014_E18A_SEG.txt\n",
      "ToRCH2014_E18B_SEG.txt\n",
      "ToRCH2014_E19A_SEG.txt\n",
      "ToRCH2014_E19B_SEG.txt\n",
      "ToRCH2014_E20A_SEG.txt\n",
      "ToRCH2014_E20B_SEG.txt\n",
      "ToRCH2014_E21_SEG.txt\n",
      "ToRCH2014_E22A_SEG.txt\n",
      "ToRCH2014_E22B_SEG.txt\n",
      "ToRCH2014_E23_SEG.txt\n",
      "ToRCH2014_E24_SEG.txt\n",
      "ToRCH2014_E25_SEG.txt\n",
      "ToRCH2014_E26_SEG.txt\n",
      "ToRCH2014_E27_SEG.txt\n",
      "ToRCH2014_E28_SEG.txt\n",
      "ToRCH2014_E29A_SEG.txt\n",
      "ToRCH2014_E29B_SEG.txt\n",
      "ToRCH2014_E29C_SEG.txt\n",
      "ToRCH2014_E30A_SEG.txt\n",
      "ToRCH2014_E30B_SEG.txt\n",
      "ToRCH2014_E31A_SEG.txt\n",
      "ToRCH2014_E31B_SEG.txt\n",
      "ToRCH2014_E32A_SEG.txt\n",
      "ToRCH2014_E32B_SEG.txt\n",
      "ToRCH2014_E33_SEG.txt\n",
      "ToRCH2014_E34_SEG.txt\n",
      "ToRCH2014_E35A_SEG.txt\n",
      "ToRCH2014_E35B_SEG.txt\n",
      "ToRCH2014_E36A_SEG.txt\n",
      "ToRCH2014_E36B_SEG.txt\n",
      "ToRCH2014_E36C_SEG.txt\n"
     ]
    }
   ],
   "source": [
    "#type E skills and hobbies\n",
    "for f in files: \n",
    "    if fnmatch.fnmatch(f, 'ToRCH2014_E*.txt'):\n",
    "        print (f)"
   ]
  },
  {
   "cell_type": "code",
   "execution_count": 40,
   "metadata": {},
   "outputs": [],
   "source": [
    "skills_files=['ToRCH2014_E01_SEG.txt', 'ToRCH2014_E02_SEG.txt', 'ToRCH2014_E03_SEG.txt', 'ToRCH2014_E04A_SEG.txt', 'ToRCH2014_E04B_SEG.txt', 'ToRCH2014_E05A_SEG.txt', 'ToRCH2014_E05B_SEG.txt', 'ToRCH2014_E06_SEG.txt', 'ToRCH2014_E07A_SEG.txt', 'ToRCH2014_E07B_SEG.txt', 'ToRCH2014_E07C_SEG.txt', 'ToRCH2014_E08_SEG.txt', 'ToRCH2014_E09A_SEG.txt', 'ToRCH2014_E09B_SEG.txt', 'ToRCH2014_E09C_SEG.txt', 'ToRCH2014_E10A_SEG.txt', 'ToRCH2014_E10B_SEG.txt', 'ToRCH2014_E11A_SEG.txt', 'ToRCH2014_E11B_SEG.txt', 'ToRCH2014_E12A_SEG.txt', 'ToRCH2014_E12B_SEG.txt', 'ToRCH2014_E13A_SEG.txt', 'ToRCH2014_E13B_SEG.txt', 'ToRCH2014_E14A_SEG.txt', 'ToRCH2014_E14B_SEG.txt', 'ToRCH2014_E15A_SEG.txt', 'ToRCH2014_E15B_SEG.txt', 'ToRCH2014_E16_SEG.txt', 'ToRCH2014_E17A_SEG.txt', 'ToRCH2014_E17B_SEG.txt', 'ToRCH2014_E18A_SEG.txt', 'ToRCH2014_E18B_SEG.txt', 'ToRCH2014_E19A_SEG.txt', 'ToRCH2014_E19B_SEG.txt', 'ToRCH2014_E20A_SEG.txt', 'ToRCH2014_E20B_SEG.txt', 'ToRCH2014_E21_SEG.txt', 'ToRCH2014_E22A_SEG.txt', 'ToRCH2014_E22B_SEG.txt', 'ToRCH2014_E23_SEG.txt', 'ToRCH2014_E24_SEG.txt', 'ToRCH2014_E25_SEG.txt', 'ToRCH2014_E26_SEG.txt', 'ToRCH2014_E27_SEG.txt', 'ToRCH2014_E28_SEG.txt', 'ToRCH2014_E29A_SEG.txt', 'ToRCH2014_E29B_SEG.txt', 'ToRCH2014_E29C_SEG.txt', 'ToRCH2014_E30A_SEG.txt', 'ToRCH2014_E30B_SEG.txt', 'ToRCH2014_E31A_SEG.txt', 'ToRCH2014_E31B_SEG.txt', 'ToRCH2014_E32A_SEG.txt', 'ToRCH2014_E32B_SEG.txt', 'ToRCH2014_E33_SEG.txt', 'ToRCH2014_E34_SEG.txt', 'ToRCH2014_E35A_SEG.txt', 'ToRCH2014_E35B_SEG.txt', 'ToRCH2014_E36A_SEG.txt', 'ToRCH2014_E36B_SEG.txt', 'ToRCH2014_E36C_SEG.txt']"
   ]
  },
  {
   "cell_type": "code",
   "execution_count": 41,
   "metadata": {},
   "outputs": [],
   "source": [
    "skills=corpus.words(skills_files)"
   ]
  },
  {
   "cell_type": "code",
   "execution_count": 42,
   "metadata": {},
   "outputs": [
    {
     "name": "stdout",
     "output_type": "stream",
     "text": [
      "ToRCH2014_F01_SEG.txt\n",
      "ToRCH2014_F02_SEG.txt\n",
      "ToRCH2014_F03_SEG.txt\n",
      "ToRCH2014_F04_SEG.txt\n",
      "ToRCH2014_F05_SEG.txt\n",
      "ToRCH2014_F06_SEG.txt\n",
      "ToRCH2014_F07_SEG.txt\n",
      "ToRCH2014_F08_SEG.txt\n",
      "ToRCH2014_F09_SEG.txt\n",
      "ToRCH2014_F10_SEG.txt\n",
      "ToRCH2014_F11_SEG.txt\n",
      "ToRCH2014_F12_SEG.txt\n",
      "ToRCH2014_F13_SEG.txt\n",
      "ToRCH2014_F14_SEG.txt\n",
      "ToRCH2014_F15_SEG.txt\n",
      "ToRCH2014_F16_SEG.txt\n",
      "ToRCH2014_F17_SEG.txt\n",
      "ToRCH2014_F18_SEG.txt\n",
      "ToRCH2014_F19_SEG.txt\n",
      "ToRCH2014_F20_SEG.txt\n",
      "ToRCH2014_F21_SEG.txt\n",
      "ToRCH2014_F22_SEG.txt\n",
      "ToRCH2014_F23_SEG.txt\n",
      "ToRCH2014_F24_SEG.txt\n",
      "ToRCH2014_F25_SEG.txt\n",
      "ToRCH2014_F26_SEG.txt\n",
      "ToRCH2014_F27_SEG.txt\n",
      "ToRCH2014_F28_SEG.txt\n",
      "ToRCH2014_F29_SEG.txt\n",
      "ToRCH2014_F30_SEG.txt\n",
      "ToRCH2014_F31_SEG.txt\n",
      "ToRCH2014_F32_SEG.txt\n",
      "ToRCH2014_F33_SEG.txt\n",
      "ToRCH2014_F34_SEG.txt\n",
      "ToRCH2014_F35_SEG.txt\n",
      "ToRCH2014_F36_SEG.txt\n",
      "ToRCH2014_F37_SEG.txt\n",
      "ToRCH2014_F38_SEG.txt\n",
      "ToRCH2014_F39_SEG.txt\n",
      "ToRCH2014_F40_SEG.txt\n",
      "ToRCH2014_F41_SEG.txt\n",
      "ToRCH2014_F42_SEG.txt\n",
      "ToRCH2014_F43_SEG.txt\n",
      "ToRCH2014_F44_SEG.txt\n",
      "ToRCH2014_F45_SEG.txt\n",
      "ToRCH2014_F46_SEG.txt\n",
      "ToRCH2014_F47_SEG.txt\n",
      "ToRCH2014_F48_SEG.txt\n"
     ]
    }
   ],
   "source": [
    "#type F popular lore\n",
    "for f in files: \n",
    "    if fnmatch.fnmatch(f, 'ToRCH2014_F*.txt'):\n",
    "        print (f)"
   ]
  },
  {
   "cell_type": "code",
   "execution_count": 43,
   "metadata": {},
   "outputs": [],
   "source": [
    "popular_files=['ToRCH2014_F01_SEG.txt', 'ToRCH2014_F02_SEG.txt', 'ToRCH2014_F03_SEG.txt', 'ToRCH2014_F04_SEG.txt', 'ToRCH2014_F05_SEG.txt', 'ToRCH2014_F06_SEG.txt', 'ToRCH2014_F07_SEG.txt', 'ToRCH2014_F08_SEG.txt', 'ToRCH2014_F09_SEG.txt', 'ToRCH2014_F10_SEG.txt', 'ToRCH2014_F11_SEG.txt', 'ToRCH2014_F12_SEG.txt', 'ToRCH2014_F13_SEG.txt', 'ToRCH2014_F14_SEG.txt', 'ToRCH2014_F15_SEG.txt', 'ToRCH2014_F16_SEG.txt', 'ToRCH2014_F17_SEG.txt', 'ToRCH2014_F18_SEG.txt', 'ToRCH2014_F19_SEG.txt', 'ToRCH2014_F20_SEG.txt', 'ToRCH2014_F21_SEG.txt', 'ToRCH2014_F22_SEG.txt', 'ToRCH2014_F23_SEG.txt', 'ToRCH2014_F24_SEG.txt', 'ToRCH2014_F25_SEG.txt', 'ToRCH2014_F26_SEG.txt', 'ToRCH2014_F27_SEG.txt', 'ToRCH2014_F28_SEG.txt', 'ToRCH2014_F29_SEG.txt', 'ToRCH2014_F30_SEG.txt', 'ToRCH2014_F31_SEG.txt', 'ToRCH2014_F32_SEG.txt', 'ToRCH2014_F33_SEG.txt', 'ToRCH2014_F34_SEG.txt', 'ToRCH2014_F35_SEG.txt', 'ToRCH2014_F36_SEG.txt', 'ToRCH2014_F37_SEG.txt', 'ToRCH2014_F38_SEG.txt', 'ToRCH2014_F39_SEG.txt', 'ToRCH2014_F40_SEG.txt', 'ToRCH2014_F41_SEG.txt', 'ToRCH2014_F42_SEG.txt', 'ToRCH2014_F43_SEG.txt', 'ToRCH2014_F44_SEG.txt', 'ToRCH2014_F45_SEG.txt', 'ToRCH2014_F46_SEG.txt', 'ToRCH2014_F47_SEG.txt', 'ToRCH2014_F48_SEG.txt']"
   ]
  },
  {
   "cell_type": "code",
   "execution_count": 44,
   "metadata": {},
   "outputs": [],
   "source": [
    "popular=corpus.words(popular_files)"
   ]
  },
  {
   "cell_type": "code",
   "execution_count": 45,
   "metadata": {},
   "outputs": [
    {
     "name": "stdout",
     "output_type": "stream",
     "text": [
      "ToRCH2014_G01_SEG.txt\n",
      "ToRCH2014_G02_SEG.txt\n",
      "ToRCH2014_G03_SEG.txt\n",
      "ToRCH2014_G04_SEG.txt\n",
      "ToRCH2014_G05_SEG.txt\n",
      "ToRCH2014_G06_SEG.txt\n",
      "ToRCH2014_G07_SEG.txt\n",
      "ToRCH2014_G08_SEG.txt\n",
      "ToRCH2014_G09_SEG.txt\n",
      "ToRCH2014_G10_SEG.txt\n",
      "ToRCH2014_G11_SEG.txt\n",
      "ToRCH2014_G12_SEG.txt\n",
      "ToRCH2014_G13_SEG.txt\n",
      "ToRCH2014_G14_SEG.txt\n",
      "ToRCH2014_G15_SEG.txt\n",
      "ToRCH2014_G16_SEG.txt\n",
      "ToRCH2014_G17_SEG.txt\n",
      "ToRCH2014_G18_SEG.txt\n",
      "ToRCH2014_G19_SEG.txt\n",
      "ToRCH2014_G20_SEG.txt\n",
      "ToRCH2014_G21_SEG.txt\n",
      "ToRCH2014_G22_SEG.txt\n",
      "ToRCH2014_G23_SEG.txt\n",
      "ToRCH2014_G24_SEG.txt\n",
      "ToRCH2014_G25_SEG.txt\n",
      "ToRCH2014_G26_SEG.txt\n",
      "ToRCH2014_G27_SEG.txt\n",
      "ToRCH2014_G28_SEG.txt\n",
      "ToRCH2014_G29_SEG.txt\n",
      "ToRCH2014_G30_SEG.txt\n",
      "ToRCH2014_G31_SEG.txt\n",
      "ToRCH2014_G32_SEG.txt\n",
      "ToRCH2014_G33_SEG.txt\n",
      "ToRCH2014_G34_SEG.txt\n",
      "ToRCH2014_G35_SEG.txt\n",
      "ToRCH2014_G36_SEG.txt\n",
      "ToRCH2014_G37_SEG.txt\n",
      "ToRCH2014_G38_SEG.txt\n",
      "ToRCH2014_G39_SEG.txt\n",
      "ToRCH2014_G40_SEG.txt\n",
      "ToRCH2014_G41_SEG.txt\n",
      "ToRCH2014_G42_SEG.txt\n",
      "ToRCH2014_G43_SEG.txt\n",
      "ToRCH2014_G44_SEG.txt\n",
      "ToRCH2014_G45_SEG.txt\n",
      "ToRCH2014_G46_SEG.txt\n",
      "ToRCH2014_G47_SEG.txt\n",
      "ToRCH2014_G48_SEG.txt\n",
      "ToRCH2014_G49_SEG.txt\n",
      "ToRCH2014_G50_SEG.txt\n",
      "ToRCH2014_G51_SEG.txt\n",
      "ToRCH2014_G52_SEG.txt\n",
      "ToRCH2014_G53_SEG.txt\n",
      "ToRCH2014_G54_SEG.txt\n",
      "ToRCH2014_G55_SEG.txt\n",
      "ToRCH2014_G56_SEG.txt\n",
      "ToRCH2014_G57_SEG.txt\n",
      "ToRCH2014_G58_SEG.txt\n",
      "ToRCH2014_G59_SEG.txt\n",
      "ToRCH2014_G60_SEG.txt\n",
      "ToRCH2014_G61_SEG.txt\n",
      "ToRCH2014_G62_SEG.txt\n",
      "ToRCH2014_G63_SEG.txt\n",
      "ToRCH2014_G64_SEG.txt\n",
      "ToRCH2014_G65_SEG.txt\n",
      "ToRCH2014_G66_SEG.txt\n",
      "ToRCH2014_G67_SEG.txt\n",
      "ToRCH2014_G68_SEG.txt\n",
      "ToRCH2014_G69_SEG.txt\n",
      "ToRCH2014_G70_SEG.txt\n",
      "ToRCH2014_G71_SEG.txt\n",
      "ToRCH2014_G72_SEG.txt\n",
      "ToRCH2014_G73_SEG.txt\n",
      "ToRCH2014_G74_SEG.txt\n",
      "ToRCH2014_G75_SEG.txt\n"
     ]
    }
   ],
   "source": [
    "#type G biographies\n",
    "for f in files: \n",
    "    if fnmatch.fnmatch(f, 'ToRCH2014_G*.txt'):\n",
    "        print (f)"
   ]
  },
  {
   "cell_type": "code",
   "execution_count": 46,
   "metadata": {},
   "outputs": [],
   "source": [
    "biography_files=['ToRCH2014_G01_SEG.txt', 'ToRCH2014_G02_SEG.txt', 'ToRCH2014_G03_SEG.txt', 'ToRCH2014_G04_SEG.txt', 'ToRCH2014_G05_SEG.txt', 'ToRCH2014_G06_SEG.txt', 'ToRCH2014_G07_SEG.txt', 'ToRCH2014_G08_SEG.txt', 'ToRCH2014_G09_SEG.txt', 'ToRCH2014_G10_SEG.txt', 'ToRCH2014_G11_SEG.txt', 'ToRCH2014_G12_SEG.txt', 'ToRCH2014_G13_SEG.txt', 'ToRCH2014_G14_SEG.txt', 'ToRCH2014_G15_SEG.txt', 'ToRCH2014_G16_SEG.txt', 'ToRCH2014_G17_SEG.txt', 'ToRCH2014_G18_SEG.txt', 'ToRCH2014_G19_SEG.txt', 'ToRCH2014_G20_SEG.txt', 'ToRCH2014_G21_SEG.txt', 'ToRCH2014_G22_SEG.txt', 'ToRCH2014_G23_SEG.txt', 'ToRCH2014_G24_SEG.txt', 'ToRCH2014_G25_SEG.txt', 'ToRCH2014_G26_SEG.txt', 'ToRCH2014_G27_SEG.txt', 'ToRCH2014_G28_SEG.txt', 'ToRCH2014_G29_SEG.txt', 'ToRCH2014_G30_SEG.txt', 'ToRCH2014_G31_SEG.txt', 'ToRCH2014_G32_SEG.txt', 'ToRCH2014_G33_SEG.txt', 'ToRCH2014_G34_SEG.txt', 'ToRCH2014_G35_SEG.txt', 'ToRCH2014_G36_SEG.txt', 'ToRCH2014_G37_SEG.txt', 'ToRCH2014_G38_SEG.txt', 'ToRCH2014_G39_SEG.txt', 'ToRCH2014_G40_SEG.txt', 'ToRCH2014_G41_SEG.txt', 'ToRCH2014_G42_SEG.txt', 'ToRCH2014_G43_SEG.txt', 'ToRCH2014_G44_SEG.txt', 'ToRCH2014_G45_SEG.txt', 'ToRCH2014_G46_SEG.txt', 'ToRCH2014_G47_SEG.txt', 'ToRCH2014_G48_SEG.txt', 'ToRCH2014_G49_SEG.txt', 'ToRCH2014_G50_SEG.txt', 'ToRCH2014_G51_SEG.txt', 'ToRCH2014_G52_SEG.txt', 'ToRCH2014_G53_SEG.txt', 'ToRCH2014_G54_SEG.txt', 'ToRCH2014_G55_SEG.txt', 'ToRCH2014_G56_SEG.txt', 'ToRCH2014_G57_SEG.txt', 'ToRCH2014_G58_SEG.txt', 'ToRCH2014_G59_SEG.txt', 'ToRCH2014_G60_SEG.txt', 'ToRCH2014_G61_SEG.txt', 'ToRCH2014_G62_SEG.txt', 'ToRCH2014_G63_SEG.txt', 'ToRCH2014_G64_SEG.txt', 'ToRCH2014_G65_SEG.txt', 'ToRCH2014_G66_SEG.txt', 'ToRCH2014_G67_SEG.txt', 'ToRCH2014_G68_SEG.txt', 'ToRCH2014_G69_SEG.txt', 'ToRCH2014_G70_SEG.txt', 'ToRCH2014_G71_SEG.txt', 'ToRCH2014_G72_SEG.txt', 'ToRCH2014_G73_SEG.txt', 'ToRCH2014_G74_SEG.txt', 'ToRCH2014_G75_SEG.txt']"
   ]
  },
  {
   "cell_type": "code",
   "execution_count": 47,
   "metadata": {},
   "outputs": [],
   "source": [
    "biography=corpus.words(biography_files)"
   ]
  },
  {
   "cell_type": "code",
   "execution_count": 48,
   "metadata": {},
   "outputs": [
    {
     "name": "stdout",
     "output_type": "stream",
     "text": [
      "ToRCH2014_H01_SEG.txt\n",
      "ToRCH2014_H02_SEG.txt\n",
      "ToRCH2014_H03_SEG.txt\n",
      "ToRCH2014_H04_SEG.txt\n",
      "ToRCH2014_H05_SEG.txt\n",
      "ToRCH2014_H06_SEG.txt\n",
      "ToRCH2014_H07_SEG.txt\n",
      "ToRCH2014_H08_SEG.txt\n",
      "ToRCH2014_H09_SEG.txt\n",
      "ToRCH2014_H10_SEG.txt\n",
      "ToRCH2014_H11_SEG.txt\n",
      "ToRCH2014_H12_SEG.txt\n",
      "ToRCH2014_H13_SEG.txt\n",
      "ToRCH2014_H14_SEG.txt\n",
      "ToRCH2014_H15_SEG.txt\n",
      "ToRCH2014_H16_SEG.txt\n",
      "ToRCH2014_H17_SEG.txt\n",
      "ToRCH2014_H18_SEG.txt\n",
      "ToRCH2014_H19_SEG.txt\n",
      "ToRCH2014_H20_SEG.txt\n",
      "ToRCH2014_H21_SEG.txt\n",
      "ToRCH2014_H22_SEG.txt\n",
      "ToRCH2014_H23_SEG.txt\n",
      "ToRCH2014_H24_SEG.txt\n",
      "ToRCH2014_H25_SEG.txt\n",
      "ToRCH2014_H26_SEG.txt\n",
      "ToRCH2014_H27_SEG.txt\n",
      "ToRCH2014_H28_SEG.txt\n",
      "ToRCH2014_H29_SEG.txt\n",
      "ToRCH2014_H30_SEG.txt\n"
     ]
    }
   ],
   "source": [
    "#file H official documents\n",
    "for f in files: \n",
    "    if fnmatch.fnmatch(f, 'ToRCH2014_H*.txt'):\n",
    "        print (f)"
   ]
  },
  {
   "cell_type": "code",
   "execution_count": 49,
   "metadata": {},
   "outputs": [],
   "source": [
    "official_files=['ToRCH2014_H01_SEG.txt', 'ToRCH2014_H02_SEG.txt', 'ToRCH2014_H03_SEG.txt', 'ToRCH2014_H04_SEG.txt', 'ToRCH2014_H05_SEG.txt', 'ToRCH2014_H06_SEG.txt', 'ToRCH2014_H07_SEG.txt', 'ToRCH2014_H08_SEG.txt', 'ToRCH2014_H09_SEG.txt', 'ToRCH2014_H10_SEG.txt', 'ToRCH2014_H11_SEG.txt', 'ToRCH2014_H12_SEG.txt', 'ToRCH2014_H13_SEG.txt', 'ToRCH2014_H14_SEG.txt', 'ToRCH2014_H15_SEG.txt', 'ToRCH2014_H16_SEG.txt', 'ToRCH2014_H17_SEG.txt', 'ToRCH2014_H18_SEG.txt', 'ToRCH2014_H19_SEG.txt', 'ToRCH2014_H20_SEG.txt', 'ToRCH2014_H21_SEG.txt', 'ToRCH2014_H22_SEG.txt', 'ToRCH2014_H23_SEG.txt', 'ToRCH2014_H24_SEG.txt', 'ToRCH2014_H25_SEG.txt', 'ToRCH2014_H26_SEG.txt', 'ToRCH2014_H27_SEG.txt', 'ToRCH2014_H28_SEG.txt', 'ToRCH2014_H29_SEG.txt', 'ToRCH2014_H30_SEG.txt']"
   ]
  },
  {
   "cell_type": "code",
   "execution_count": 50,
   "metadata": {},
   "outputs": [],
   "source": [
    "official=corpus.words(official_files)"
   ]
  },
  {
   "cell_type": "code",
   "execution_count": 54,
   "metadata": {},
   "outputs": [
    {
     "name": "stdout",
     "output_type": "stream",
     "text": [
      "ToRCH2014_J01_SEG.txt\n",
      "ToRCH2014_J02_SEG.txt\n",
      "ToRCH2014_J03_SEG.txt\n",
      "ToRCH2014_J04_SEG.txt\n",
      "ToRCH2014_J05_SEG.txt\n",
      "ToRCH2014_J06_SEG.txt\n",
      "ToRCH2014_J07_SEG.txt\n",
      "ToRCH2014_J08_SEG.txt\n",
      "ToRCH2014_J09_SEG.txt\n",
      "ToRCH2014_J10_SEG.txt\n",
      "ToRCH2014_J11_SEG.txt\n",
      "ToRCH2014_J12_SEG.txt\n",
      "ToRCH2014_J13_SEG.txt\n",
      "ToRCH2014_J14_SEG.txt\n",
      "ToRCH2014_J15_SEG.txt\n",
      "ToRCH2014_J16_SEG.txt\n",
      "ToRCH2014_J17_SEG.txt\n",
      "ToRCH2014_J18_SEG.txt\n",
      "ToRCH2014_J19_SEG.txt\n",
      "ToRCH2014_J20_SEG.txt\n",
      "ToRCH2014_J21_SEG.txt\n",
      "ToRCH2014_J22_SEG.txt\n",
      "ToRCH2014_J23_SEG.txt\n",
      "ToRCH2014_J24_SEG.txt\n",
      "ToRCH2014_J25_SEG.txt\n",
      "ToRCH2014_J26_SEG.txt\n",
      "ToRCH2014_J27_SEG.txt\n",
      "ToRCH2014_J28_SEG.txt\n",
      "ToRCH2014_J29_SEG.txt\n",
      "ToRCH2014_J30_SEG.txt\n",
      "ToRCH2014_J31_SEG.txt\n",
      "ToRCH2014_J32_SEG.txt\n",
      "ToRCH2014_J33_SEG.txt\n",
      "ToRCH2014_J34_SEG.txt\n",
      "ToRCH2014_J35_SEG.txt\n",
      "ToRCH2014_J36_SEG.txt\n",
      "ToRCH2014_J37_SEG.txt\n",
      "ToRCH2014_J38_SEG.txt\n",
      "ToRCH2014_J39_SEG.txt\n",
      "ToRCH2014_J40_SEG.txt\n",
      "ToRCH2014_J41_SEG.txt\n",
      "ToRCH2014_J42_SEG.txt\n",
      "ToRCH2014_J43_SEG.txt\n",
      "ToRCH2014_J44_SEG.txt\n",
      "ToRCH2014_J45_SEG.txt\n",
      "ToRCH2014_J46_SEG.txt\n",
      "ToRCH2014_J47_SEG.txt\n",
      "ToRCH2014_J48_SEG.txt\n",
      "ToRCH2014_J49_SEG.txt\n",
      "ToRCH2014_J50_SEG.txt\n",
      "ToRCH2014_J51_SEG.txt\n",
      "ToRCH2014_J52_SEG.txt\n",
      "ToRCH2014_J53_SEG.txt\n",
      "ToRCH2014_J54_SEG.txt\n",
      "ToRCH2014_J55_SEG.txt\n",
      "ToRCH2014_J56_SEG.txt\n",
      "ToRCH2014_J57_SEG.txt\n",
      "ToRCH2014_J58_SEG.txt\n",
      "ToRCH2014_J59_SEG.txt\n",
      "ToRCH2014_J60_SEG.txt\n",
      "ToRCH2014_J61_SEG.txt\n",
      "ToRCH2014_J62_SEG.txt\n",
      "ToRCH2014_J63_SEG.txt\n",
      "ToRCH2014_J64_SEG.txt\n",
      "ToRCH2014_J65_SEG.txt\n",
      "ToRCH2014_J66_SEG.txt\n",
      "ToRCH2014_J67_SEG.txt\n",
      "ToRCH2014_J68_SEG.txt\n",
      "ToRCH2014_J69_SEG.txt\n",
      "ToRCH2014_J70_SEG.txt\n",
      "ToRCH2014_J71_SEG.txt\n",
      "ToRCH2014_J72_SEG.txt\n",
      "ToRCH2014_J73_SEG.txt\n",
      "ToRCH2014_J74_SEG.txt\n",
      "ToRCH2014_J75_SEG.txt\n",
      "ToRCH2014_J76_SEG.txt\n",
      "ToRCH2014_J77_SEG.txt\n",
      "ToRCH2014_J78_SEG.txt\n",
      "ToRCH2014_J79_SEG.txt\n",
      "ToRCH2014_J80_SEG.txt\n"
     ]
    }
   ],
   "source": [
    "#type J academic \n",
    "for f in files: \n",
    "    if fnmatch.fnmatch(f, 'ToRCH2014_J*.txt'):\n",
    "        print (f)"
   ]
  },
  {
   "cell_type": "code",
   "execution_count": 55,
   "metadata": {},
   "outputs": [],
   "source": [
    "academic_files=['ToRCH2014_J01_SEG.txt', 'ToRCH2014_J02_SEG.txt', 'ToRCH2014_J03_SEG.txt', 'ToRCH2014_J04_SEG.txt', 'ToRCH2014_J05_SEG.txt', 'ToRCH2014_J06_SEG.txt', 'ToRCH2014_J07_SEG.txt', 'ToRCH2014_J08_SEG.txt', 'ToRCH2014_J09_SEG.txt', 'ToRCH2014_J10_SEG.txt', 'ToRCH2014_J11_SEG.txt', 'ToRCH2014_J12_SEG.txt', 'ToRCH2014_J13_SEG.txt', 'ToRCH2014_J14_SEG.txt', 'ToRCH2014_J15_SEG.txt', 'ToRCH2014_J16_SEG.txt', 'ToRCH2014_J17_SEG.txt', 'ToRCH2014_J18_SEG.txt', 'ToRCH2014_J19_SEG.txt', 'ToRCH2014_J20_SEG.txt', 'ToRCH2014_J21_SEG.txt', 'ToRCH2014_J22_SEG.txt', 'ToRCH2014_J23_SEG.txt', 'ToRCH2014_J24_SEG.txt', 'ToRCH2014_J25_SEG.txt', 'ToRCH2014_J26_SEG.txt', 'ToRCH2014_J27_SEG.txt', 'ToRCH2014_J28_SEG.txt', 'ToRCH2014_J29_SEG.txt', 'ToRCH2014_J30_SEG.txt', 'ToRCH2014_J31_SEG.txt', 'ToRCH2014_J32_SEG.txt', 'ToRCH2014_J33_SEG.txt', 'ToRCH2014_J34_SEG.txt', 'ToRCH2014_J35_SEG.txt', 'ToRCH2014_J36_SEG.txt', 'ToRCH2014_J37_SEG.txt', 'ToRCH2014_J38_SEG.txt', 'ToRCH2014_J39_SEG.txt', 'ToRCH2014_J40_SEG.txt', 'ToRCH2014_J41_SEG.txt', 'ToRCH2014_J42_SEG.txt', 'ToRCH2014_J43_SEG.txt', 'ToRCH2014_J44_SEG.txt', 'ToRCH2014_J45_SEG.txt', 'ToRCH2014_J46_SEG.txt', 'ToRCH2014_J47_SEG.txt', 'ToRCH2014_J48_SEG.txt', 'ToRCH2014_J49_SEG.txt', 'ToRCH2014_J50_SEG.txt', 'ToRCH2014_J51_SEG.txt', 'ToRCH2014_J52_SEG.txt', 'ToRCH2014_J53_SEG.txt', 'ToRCH2014_J54_SEG.txt', 'ToRCH2014_J55_SEG.txt', 'ToRCH2014_J56_SEG.txt', 'ToRCH2014_J57_SEG.txt', 'ToRCH2014_J58_SEG.txt', 'ToRCH2014_J59_SEG.txt', 'ToRCH2014_J60_SEG.txt', 'ToRCH2014_J61_SEG.txt', 'ToRCH2014_J62_SEG.txt', 'ToRCH2014_J63_SEG.txt', 'ToRCH2014_J64_SEG.txt', 'ToRCH2014_J65_SEG.txt', 'ToRCH2014_J66_SEG.txt', 'ToRCH2014_J67_SEG.txt', 'ToRCH2014_J68_SEG.txt', 'ToRCH2014_J69_SEG.txt', 'ToRCH2014_J70_SEG.txt', 'ToRCH2014_J71_SEG.txt', 'ToRCH2014_J72_SEG.txt', 'ToRCH2014_J73_SEG.txt', 'ToRCH2014_J74_SEG.txt', 'ToRCH2014_J75_SEG.txt', 'ToRCH2014_J76_SEG.txt', 'ToRCH2014_J77_SEG.txt', 'ToRCH2014_J78_SEG.txt', 'ToRCH2014_J79_SEG.txt', 'ToRCH2014_J80_SEG.txt']"
   ]
  },
  {
   "cell_type": "code",
   "execution_count": 56,
   "metadata": {},
   "outputs": [],
   "source": [
    "academic=corpus.words(academic_files)"
   ]
  },
  {
   "cell_type": "code",
   "execution_count": 57,
   "metadata": {},
   "outputs": [
    {
     "name": "stdout",
     "output_type": "stream",
     "text": [
      "ToRCH2014_K01_SEG.txt\n",
      "ToRCH2014_K02_SEG.txt\n",
      "ToRCH2014_K03_SEG.txt\n",
      "ToRCH2014_K04_SEG.txt\n",
      "ToRCH2014_K05_SEG.txt\n",
      "ToRCH2014_K06_SEG.txt\n",
      "ToRCH2014_K07_SEG.txt\n",
      "ToRCH2014_K08_SEG.txt\n",
      "ToRCH2014_K09_SEG.txt\n",
      "ToRCH2014_K10_SEG.txt\n",
      "ToRCH2014_K11_SEG.txt\n",
      "ToRCH2014_K12_SEG.txt\n",
      "ToRCH2014_K13_SEG.txt\n",
      "ToRCH2014_K14_SEG.txt\n",
      "ToRCH2014_K15_SEG.txt\n",
      "ToRCH2014_K16_SEG.txt\n",
      "ToRCH2014_K17_SEG.txt\n",
      "ToRCH2014_K18_SEG.txt\n",
      "ToRCH2014_K19_SEG.txt\n",
      "ToRCH2014_K20_SEG.txt\n",
      "ToRCH2014_K21_SEG.txt\n",
      "ToRCH2014_K22_SEG.txt\n",
      "ToRCH2014_K23_SEG.txt\n",
      "ToRCH2014_K24_SEG.txt\n",
      "ToRCH2014_K25_SEG.txt\n",
      "ToRCH2014_K26_SEG.txt\n",
      "ToRCH2014_K27_SEG.txt\n",
      "ToRCH2014_K28_SEG.txt\n",
      "ToRCH2014_K29_SEG.txt\n"
     ]
    }
   ],
   "source": [
    "#type K general fiction \n",
    "for f in files: \n",
    "    if fnmatch.fnmatch(f, 'ToRCH2014_K*.txt'):\n",
    "        print (f)"
   ]
  },
  {
   "cell_type": "code",
   "execution_count": 58,
   "metadata": {},
   "outputs": [],
   "source": [
    "general_fiction_files=['ToRCH2014_K01_SEG.txt', 'ToRCH2014_K02_SEG.txt', 'ToRCH2014_K03_SEG.txt', 'ToRCH2014_K04_SEG.txt', 'ToRCH2014_K05_SEG.txt', 'ToRCH2014_K06_SEG.txt', 'ToRCH2014_K07_SEG.txt', 'ToRCH2014_K08_SEG.txt', 'ToRCH2014_K09_SEG.txt', 'ToRCH2014_K10_SEG.txt', 'ToRCH2014_K11_SEG.txt', 'ToRCH2014_K12_SEG.txt', 'ToRCH2014_K13_SEG.txt', 'ToRCH2014_K14_SEG.txt', 'ToRCH2014_K15_SEG.txt', 'ToRCH2014_K16_SEG.txt', 'ToRCH2014_K17_SEG.txt', 'ToRCH2014_K18_SEG.txt', 'ToRCH2014_K19_SEG.txt', 'ToRCH2014_K20_SEG.txt', 'ToRCH2014_K21_SEG.txt', 'ToRCH2014_K22_SEG.txt', 'ToRCH2014_K23_SEG.txt', 'ToRCH2014_K24_SEG.txt', 'ToRCH2014_K25_SEG.txt', 'ToRCH2014_K26_SEG.txt', 'ToRCH2014_K27_SEG.txt', 'ToRCH2014_K28_SEG.txt', 'ToRCH2014_K29_SEG.txt']"
   ]
  },
  {
   "cell_type": "code",
   "execution_count": 59,
   "metadata": {},
   "outputs": [],
   "source": [
    "general_fiction=corpus.words(general_fiction_files)"
   ]
  },
  {
   "cell_type": "code",
   "execution_count": 60,
   "metadata": {},
   "outputs": [
    {
     "name": "stdout",
     "output_type": "stream",
     "text": [
      "ToRCH2014_L01_SEG.txt\n",
      "ToRCH2014_L02_SEG.txt\n",
      "ToRCH2014_L03_SEG.txt\n",
      "ToRCH2014_L04_SEG.txt\n",
      "ToRCH2014_L05_SEG.txt\n",
      "ToRCH2014_L06_SEG.txt\n",
      "ToRCH2014_L07_SEG.txt\n",
      "ToRCH2014_L08_SEG.txt\n",
      "ToRCH2014_L09_SEG.txt\n",
      "ToRCH2014_L10_SEG.txt\n",
      "ToRCH2014_L11_SEG.txt\n",
      "ToRCH2014_L12_SEG.txt\n",
      "ToRCH2014_L13_SEG.txt\n",
      "ToRCH2014_L14_SEG.txt\n",
      "ToRCH2014_L15_SEG.txt\n",
      "ToRCH2014_L16_SEG.txt\n",
      "ToRCH2014_L17_SEG.txt\n",
      "ToRCH2014_L18_SEG.txt\n",
      "ToRCH2014_L19_SEG.txt\n",
      "ToRCH2014_L20_SEG.txt\n",
      "ToRCH2014_L21_SEG.txt\n",
      "ToRCH2014_L22_SEG.txt\n",
      "ToRCH2014_L23_SEG.txt\n",
      "ToRCH2014_L24_SEG.txt\n"
     ]
    }
   ],
   "source": [
    "#type L mystery fiction\n",
    "for f in files: \n",
    "    if fnmatch.fnmatch(f, 'ToRCH2014_L*.txt'):\n",
    "        print (f)"
   ]
  },
  {
   "cell_type": "code",
   "execution_count": 61,
   "metadata": {},
   "outputs": [],
   "source": [
    "mystery_fiction_files=['ToRCH2014_L01_SEG.txt', 'ToRCH2014_L02_SEG.txt', 'ToRCH2014_L03_SEG.txt', 'ToRCH2014_L04_SEG.txt', 'ToRCH2014_L05_SEG.txt', 'ToRCH2014_L06_SEG.txt', 'ToRCH2014_L07_SEG.txt', 'ToRCH2014_L08_SEG.txt', 'ToRCH2014_L09_SEG.txt', 'ToRCH2014_L10_SEG.txt', 'ToRCH2014_L11_SEG.txt', 'ToRCH2014_L12_SEG.txt', 'ToRCH2014_L13_SEG.txt', 'ToRCH2014_L14_SEG.txt', 'ToRCH2014_L15_SEG.txt', 'ToRCH2014_L16_SEG.txt', 'ToRCH2014_L17_SEG.txt', 'ToRCH2014_L18_SEG.txt', 'ToRCH2014_L19_SEG.txt', 'ToRCH2014_L20_SEG.txt', 'ToRCH2014_L21_SEG.txt', 'ToRCH2014_L22_SEG.txt', 'ToRCH2014_L23_SEG.txt', 'ToRCH2014_L24_SEG.txt']"
   ]
  },
  {
   "cell_type": "code",
   "execution_count": 62,
   "metadata": {},
   "outputs": [],
   "source": [
    "mystery_fiction=corpus.words(mystery_fiction_files)"
   ]
  },
  {
   "cell_type": "code",
   "execution_count": 63,
   "metadata": {},
   "outputs": [
    {
     "name": "stdout",
     "output_type": "stream",
     "text": [
      "ToRCH2014_M01_SEG.txt\n",
      "ToRCH2014_M02_SEG.txt\n",
      "ToRCH2014_M03_SEG.txt\n",
      "ToRCH2014_M04_SEG.txt\n",
      "ToRCH2014_M05_SEG.txt\n",
      "ToRCH2014_M06_SEG.txt\n"
     ]
    }
   ],
   "source": [
    "#type M science fiction\n",
    "for f in files: \n",
    "    if fnmatch.fnmatch(f, 'ToRCH2014_M*.txt'):\n",
    "        print (f)"
   ]
  },
  {
   "cell_type": "code",
   "execution_count": 64,
   "metadata": {},
   "outputs": [],
   "source": [
    "sci_fi_files=['ToRCH2014_M01_SEG.txt',\n",
    "'ToRCH2014_M02_SEG.txt',\n",
    "'ToRCH2014_M03_SEG.txt',\n",
    "'ToRCH2014_M04_SEG.txt',\n",
    "'ToRCH2014_M05_SEG.txt',\n",
    "'ToRCH2014_M06_SEG.txt']"
   ]
  },
  {
   "cell_type": "code",
   "execution_count": 65,
   "metadata": {},
   "outputs": [],
   "source": [
    "sci_fi=corpus.words(sci_fi_files)"
   ]
  },
  {
   "cell_type": "code",
   "execution_count": 66,
   "metadata": {},
   "outputs": [
    {
     "name": "stdout",
     "output_type": "stream",
     "text": [
      "ToRCH2014_N01_SEG.txt\n",
      "ToRCH2014_N02_SEG.txt\n",
      "ToRCH2014_N03_SEG.txt\n",
      "ToRCH2014_N04_SEG.txt\n",
      "ToRCH2014_N05_SEG.txt\n",
      "ToRCH2014_N06_SEG.txt\n",
      "ToRCH2014_N07_SEG.txt\n",
      "ToRCH2014_N08_SEG.txt\n",
      "ToRCH2014_N09_SEG.txt\n",
      "ToRCH2014_N10_SEG.txt\n",
      "ToRCH2014_N11_SEG.txt\n",
      "ToRCH2014_N12_SEG.txt\n",
      "ToRCH2014_N13_SEG.txt\n",
      "ToRCH2014_N14_SEG.txt\n",
      "ToRCH2014_N15_SEG.txt\n",
      "ToRCH2014_N16_SEG.txt\n",
      "ToRCH2014_N17_SEG.txt\n",
      "ToRCH2014_N18_SEG.txt\n",
      "ToRCH2014_N19_SEG.txt\n",
      "ToRCH2014_N20_SEG.txt\n",
      "ToRCH2014_N21_SEG.txt\n",
      "ToRCH2014_N22_SEG.txt\n",
      "ToRCH2014_N23_SEG.txt\n",
      "ToRCH2014_N24_SEG.txt\n",
      "ToRCH2014_N25_SEG.txt\n",
      "ToRCH2014_N26_SEG.txt\n",
      "ToRCH2014_N27_SEG.txt\n",
      "ToRCH2014_N28_SEG.txt\n",
      "ToRCH2014_N29_SEG.txt\n"
     ]
    }
   ],
   "source": [
    "#type N adventure\n",
    "for f in files: \n",
    "    if fnmatch.fnmatch(f, 'ToRCH2014_N*.txt'):\n",
    "        print (f)"
   ]
  },
  {
   "cell_type": "code",
   "execution_count": 68,
   "metadata": {},
   "outputs": [],
   "source": [
    "adventure_fiction_files=['ToRCH2014_N01_SEG.txt', 'ToRCH2014_N02_SEG.txt', 'ToRCH2014_N03_SEG.txt', 'ToRCH2014_N04_SEG.txt', 'ToRCH2014_N05_SEG.txt', 'ToRCH2014_N06_SEG.txt', 'ToRCH2014_N07_SEG.txt', 'ToRCH2014_N08_SEG.txt', 'ToRCH2014_N09_SEG.txt', 'ToRCH2014_N10_SEG.txt', 'ToRCH2014_N11_SEG.txt', 'ToRCH2014_N12_SEG.txt', 'ToRCH2014_N13_SEG.txt', 'ToRCH2014_N14_SEG.txt', 'ToRCH2014_N15_SEG.txt', 'ToRCH2014_N16_SEG.txt', 'ToRCH2014_N17_SEG.txt', 'ToRCH2014_N18_SEG.txt', 'ToRCH2014_N19_SEG.txt', 'ToRCH2014_N20_SEG.txt', 'ToRCH2014_N21_SEG.txt', 'ToRCH2014_N22_SEG.txt', 'ToRCH2014_N23_SEG.txt', 'ToRCH2014_N24_SEG.txt', 'ToRCH2014_N25_SEG.txt', 'ToRCH2014_N26_SEG.txt', 'ToRCH2014_N27_SEG.txt', 'ToRCH2014_N28_SEG.txt', 'ToRCH2014_N29_SEG.txt']"
   ]
  },
  {
   "cell_type": "code",
   "execution_count": 69,
   "metadata": {},
   "outputs": [],
   "source": [
    "adventure_fiction=corpus.words(adventure_fiction_files)"
   ]
  },
  {
   "cell_type": "code",
   "execution_count": 70,
   "metadata": {},
   "outputs": [
    {
     "name": "stdout",
     "output_type": "stream",
     "text": [
      "ToRCH2014_P01_SEG.txt\n",
      "ToRCH2014_P02_SEG.txt\n",
      "ToRCH2014_P03_SEG.txt\n",
      "ToRCH2014_P04_SEG.txt\n",
      "ToRCH2014_P05_SEG.txt\n",
      "ToRCH2014_P06_SEG.txt\n",
      "ToRCH2014_P07_SEG.txt\n",
      "ToRCH2014_P08_SEG.txt\n",
      "ToRCH2014_P09_SEG.txt\n",
      "ToRCH2014_P10_SEG.txt\n",
      "ToRCH2014_P11_SEG.txt\n",
      "ToRCH2014_P12_SEG.txt\n",
      "ToRCH2014_P13_SEG.txt\n",
      "ToRCH2014_P14_SEG.txt\n",
      "ToRCH2014_P15_SEG.txt\n",
      "ToRCH2014_P16_SEG.txt\n",
      "ToRCH2014_P17_SEG.txt\n",
      "ToRCH2014_P18_SEG.txt\n",
      "ToRCH2014_P19_SEG.txt\n",
      "ToRCH2014_P20_SEG.txt\n",
      "ToRCH2014_P21_SEG.txt\n",
      "ToRCH2014_P22_SEG.txt\n",
      "ToRCH2014_P23_SEG.txt\n",
      "ToRCH2014_P24_SEG.txt\n",
      "ToRCH2014_P25_SEG.txt\n",
      "ToRCH2014_P26_SEG.txt\n",
      "ToRCH2014_P27_SEG.txt\n",
      "ToRCH2014_P28_SEG.txt\n",
      "ToRCH2014_P29_SEG.txt\n"
     ]
    }
   ],
   "source": [
    "#type P romantic\n",
    "for f in files: \n",
    "    if fnmatch.fnmatch(f, 'ToRCH2014_P*.txt'):\n",
    "        print (f)"
   ]
  },
  {
   "cell_type": "code",
   "execution_count": 73,
   "metadata": {},
   "outputs": [],
   "source": [
    "romantic_fiction_files=['ToRCH2014_P01_SEG.txt', 'ToRCH2014_P02_SEG.txt', 'ToRCH2014_P03_SEG.txt', 'ToRCH2014_P04_SEG.txt', 'ToRCH2014_P05_SEG.txt', 'ToRCH2014_P06_SEG.txt', 'ToRCH2014_P07_SEG.txt', 'ToRCH2014_P08_SEG.txt', 'ToRCH2014_P09_SEG.txt', 'ToRCH2014_P10_SEG.txt', 'ToRCH2014_P11_SEG.txt', 'ToRCH2014_P12_SEG.txt', 'ToRCH2014_P13_SEG.txt', 'ToRCH2014_P14_SEG.txt', 'ToRCH2014_P15_SEG.txt', 'ToRCH2014_P16_SEG.txt', 'ToRCH2014_P17_SEG.txt', 'ToRCH2014_P18_SEG.txt', 'ToRCH2014_P19_SEG.txt', 'ToRCH2014_P20_SEG.txt', 'ToRCH2014_P21_SEG.txt', 'ToRCH2014_P22_SEG.txt', 'ToRCH2014_P23_SEG.txt', 'ToRCH2014_P24_SEG.txt', 'ToRCH2014_P25_SEG.txt', 'ToRCH2014_P26_SEG.txt', 'ToRCH2014_P27_SEG.txt', 'ToRCH2014_P28_SEG.txt', 'ToRCH2014_P29_SEG.txt']"
   ]
  },
  {
   "cell_type": "code",
   "execution_count": 74,
   "metadata": {},
   "outputs": [],
   "source": [
    "romantic_fiction=corpus.words(romantic_fiction_files)"
   ]
  },
  {
   "cell_type": "code",
   "execution_count": 75,
   "metadata": {},
   "outputs": [
    {
     "name": "stdout",
     "output_type": "stream",
     "text": [
      "ToRCH2014_R01_SEG.txt\n",
      "ToRCH2014_R02_SEG.txt\n",
      "ToRCH2014_R03_SEG.txt\n",
      "ToRCH2014_R04_SEG.txt\n",
      "ToRCH2014_R05_SEG.txt\n",
      "ToRCH2014_R06_SEG.txt\n",
      "ToRCH2014_R07_SEG.txt\n",
      "ToRCH2014_R08A_SEG.txt\n",
      "ToRCH2014_R08B_SEG.txt\n",
      "ToRCH2014_R09_SEG.txt\n"
     ]
    }
   ],
   "source": [
    "#type R humor\n",
    "for f in files: \n",
    "    if fnmatch.fnmatch(f, 'ToRCH2014_R*.txt'):\n",
    "        print (f)"
   ]
  },
  {
   "cell_type": "code",
   "execution_count": 76,
   "metadata": {},
   "outputs": [],
   "source": [
    "humor_files=['ToRCH2014_R01_SEG.txt', 'ToRCH2014_R02_SEG.txt', 'ToRCH2014_R03_SEG.txt', 'ToRCH2014_R04_SEG.txt', 'ToRCH2014_R05_SEG.txt', 'ToRCH2014_R06_SEG.txt', 'ToRCH2014_R07_SEG.txt', 'ToRCH2014_R08A_SEG.txt', 'ToRCH2014_R08B_SEG.txt', 'ToRCH2014_R09_SEG.txt']"
   ]
  },
  {
   "cell_type": "code",
   "execution_count": 77,
   "metadata": {},
   "outputs": [],
   "source": [
    "humor=corpus.words(humor_files)"
   ]
  },
  {
   "cell_type": "code",
   "execution_count": 82,
   "metadata": {},
   "outputs": [],
   "source": [
    "#feature 1 \n",
    "#AMP amplifiers 非常、十分、真的、特别、很、最、肯定、挺、顶、极、\n",
    "#极为、极其、极度、万分、格外、分外、更、更加、更为、尤其、太、过于、\n",
    "#老、怪、相当、颇、颇为、有点儿、有些、最为、还、越发、越加、愈加、\n",
    "#稍、稍微、稍稍、略、略略、略微、比较、较、暴、超、恶、怒、巨、粉、奇\n",
    "reportage_AMP_raw=reportage.count('非常')+reportage.count('十分')+reportage.count('真的')+reportage.count('特别')+reportage.count('很')+reportage.count('最')+reportage.count('肯定')+reportage.count('挺')+reportage.count('顶')+reportage.count('极')+reportage.count('极为')+reportage.count('极其')+reportage.count('极度')+reportage.count('万分')+reportage.count('格外')+reportage.count('分外')+reportage.count('更')+reportage.count('更加')+reportage.count('更为')+reportage.count('尤其')+reportage.count('太')+reportage.count('过于')+reportage.count('老')+reportage.count('怪')+reportage.count('相当')+reportage.count('颇')+reportage.count('颇为')+reportage.count('有点儿')+reportage.count('有些')+reportage.count('最为')+reportage.count('还')+reportage.count('越发')+reportage.count('越加')+reportage.count('愈加')+reportage.count('稍')+reportage.count('稍微')+reportage.count('稍稍')+reportage.count('略')+reportage.count('略略')+reportage.count('略微')+reportage.count('比较')+reportage.count('较')+reportage.count('暴')+reportage.count('超')+reportage.count('恶')+reportage.count('怒')+reportage.count('巨')+reportage.count('粉')+reportage.count('奇')"
   ]
  },
  {
   "cell_type": "code",
   "execution_count": 83,
   "metadata": {},
   "outputs": [],
   "source": [
    "reportage_AMP_normalized=reportage_AMP_raw / len(reportage)"
   ]
  },
  {
   "cell_type": "code",
   "execution_count": 84,
   "metadata": {},
   "outputs": [
    {
     "data": {
      "text/plain": [
       "0.0071851663511973704"
      ]
     },
     "execution_count": 84,
     "metadata": {},
     "output_type": "execute_result"
    }
   ],
   "source": [
    "reportage_AMP_normalized"
   ]
  },
  {
   "cell_type": "code",
   "execution_count": 85,
   "metadata": {},
   "outputs": [],
   "source": [
    "editorial_AMP_raw=editorial.count('非常')+editorial.count('十分')+editorial.count('真的')+editorial.count('特别')+editorial.count('很')+editorial.count('最')+editorial.count('肯定')+editorial.count('挺')+editorial.count('顶')+editorial.count('极')+editorial.count('极为')+editorial.count('极其')+editorial.count('极度')+editorial.count('万分')+editorial.count('格外')+editorial.count('分外')+editorial.count('更')+editorial.count('更加')+editorial.count('更为')+editorial.count('尤其')+editorial.count('太')+editorial.count('过于')+editorial.count('老')+editorial.count('怪')+editorial.count('相当')+editorial.count('颇')+editorial.count('颇为')+editorial.count('有点儿')+editorial.count('有些')+editorial.count('最为')+editorial.count('还')+editorial.count('越发')+editorial.count('越加')+editorial.count('愈加')+editorial.count('稍')+editorial.count('稍微')+editorial.count('稍稍')+editorial.count('略')+editorial.count('略略')+editorial.count('略微')+editorial.count('比较')+editorial.count('较')+editorial.count('暴')+editorial.count('超')+editorial.count('恶')+editorial.count('怒')+editorial.count('巨')+editorial.count('粉')+editorial.count('奇')"
   ]
  },
  {
   "cell_type": "code",
   "execution_count": 86,
   "metadata": {},
   "outputs": [],
   "source": [
    "editorial_AMP_normalized=editorial_AMP_raw / len(editorial)"
   ]
  },
  {
   "cell_type": "code",
   "execution_count": 87,
   "metadata": {},
   "outputs": [
    {
     "data": {
      "text/plain": [
       "0.008489271551139191"
      ]
     },
     "execution_count": 87,
     "metadata": {},
     "output_type": "execute_result"
    }
   ],
   "source": [
    "editorial_AMP_normalized"
   ]
  },
  {
   "cell_type": "code",
   "execution_count": 88,
   "metadata": {},
   "outputs": [
    {
     "data": {
      "text/plain": [
       "8.743331357439242"
      ]
     },
     "execution_count": 88,
     "metadata": {},
     "output_type": "execute_result"
    }
   ],
   "source": [
    "review_AMP_raw=review.count('非常')+review.count('十分')+review.count('真的')+review.count('特别')+review.count('很')+review.count('最')+review.count('肯定')+review.count('挺')+review.count('顶')+review.count('极')+review.count('极为')+review.count('极其')+review.count('极度')+review.count('万分')+review.count('格外')+review.count('分外')+review.count('更')+review.count('更加')+review.count('更为')+review.count('尤其')+review.count('太')+review.count('过于')+review.count('老')+review.count('怪')+review.count('相当')+review.count('颇')+review.count('颇为')+review.count('有点儿')+review.count('有些')+review.count('最为')+review.count('还')+review.count('越发')+review.count('越加')+review.count('愈加')+review.count('稍')+review.count('稍微')+review.count('稍稍')+review.count('略')+review.count('略略')+review.count('略微')+review.count('比较')+review.count('较')+review.count('暴')+review.count('超')+review.count('恶')+review.count('怒')+review.count('巨')+review.count('粉')+review.count('奇')\n",
    "review_AMP_normalized=review_AMP_raw / len(review)\n",
    "review_AMP_normalized * 1000\n"
   ]
  },
  {
   "cell_type": "code",
   "execution_count": 89,
   "metadata": {},
   "outputs": [
    {
     "data": {
      "text/plain": [
       "8.298655952551778"
      ]
     },
     "execution_count": 89,
     "metadata": {},
     "output_type": "execute_result"
    }
   ],
   "source": [
    "religion_AMP_raw=religion.count('非常')+religion.count('十分')+religion.count('真的')+religion.count('特别')+religion.count('很')+religion.count('最')+religion.count('肯定')+religion.count('挺')+religion.count('顶')+religion.count('极')+religion.count('极为')+religion.count('极其')+religion.count('极度')+religion.count('万分')+religion.count('格外')+religion.count('分外')+religion.count('更')+religion.count('更加')+religion.count('更为')+religion.count('尤其')+religion.count('太')+religion.count('过于')+religion.count('老')+religion.count('怪')+religion.count('相当')+religion.count('颇')+religion.count('颇为')+religion.count('有点儿')+religion.count('有些')+religion.count('最为')+religion.count('还')+religion.count('越发')+religion.count('越加')+religion.count('愈加')+religion.count('稍')+religion.count('稍微')+religion.count('稍稍')+religion.count('略')+religion.count('略略')+religion.count('略微')+religion.count('比较')+religion.count('较')+religion.count('暴')+religion.count('超')+religion.count('恶')+religion.count('怒')+religion.count('巨')+religion.count('粉')+religion.count('奇')\n",
    "religion_AMP_normalized=religion_AMP_raw / len(religion)\n",
    "religion_AMP_normalized * 1000\n"
   ]
  },
  {
   "cell_type": "code",
   "execution_count": 90,
   "metadata": {},
   "outputs": [
    {
     "data": {
      "text/plain": [
       "10.911032265957802"
      ]
     },
     "execution_count": 90,
     "metadata": {},
     "output_type": "execute_result"
    }
   ],
   "source": [
    "skills_AMP_raw=skills.count('非常')+skills.count('十分')+skills.count('真的')+skills.count('特别')+skills.count('很')+skills.count('最')+skills.count('肯定')+skills.count('挺')+skills.count('顶')+skills.count('极')+skills.count('极为')+skills.count('极其')+skills.count('极度')+skills.count('万分')+skills.count('格外')+skills.count('分外')+skills.count('更')+skills.count('更加')+skills.count('更为')+skills.count('尤其')+skills.count('太')+skills.count('过于')+skills.count('老')+skills.count('怪')+skills.count('相当')+skills.count('颇')+skills.count('颇为')+skills.count('有点儿')+skills.count('有些')+skills.count('最为')+skills.count('还')+skills.count('越发')+skills.count('越加')+skills.count('愈加')+skills.count('稍')+skills.count('稍微')+skills.count('稍稍')+skills.count('略')+skills.count('略略')+skills.count('略微')+skills.count('比较')+skills.count('较')+skills.count('暴')+skills.count('超')+skills.count('恶')+skills.count('怒')+skills.count('巨')+skills.count('粉')+skills.count('奇')\n",
    "skills_AMP_normalized=skills_AMP_raw / len(skills)\n",
    "skills_AMP_normalized * 1000\n"
   ]
  },
  {
   "cell_type": "code",
   "execution_count": 91,
   "metadata": {},
   "outputs": [
    {
     "data": {
      "text/plain": [
       "11.154906756819917"
      ]
     },
     "execution_count": 91,
     "metadata": {},
     "output_type": "execute_result"
    }
   ],
   "source": [
    "popular_AMP_raw=popular.count('非常')+popular.count('十分')+popular.count('真的')+popular.count('特别')+popular.count('很')+popular.count('最')+popular.count('肯定')+popular.count('挺')+popular.count('顶')+popular.count('极')+popular.count('极为')+popular.count('极其')+popular.count('极度')+popular.count('万分')+popular.count('格外')+popular.count('分外')+popular.count('更')+popular.count('更加')+popular.count('更为')+popular.count('尤其')+popular.count('太')+popular.count('过于')+popular.count('老')+popular.count('怪')+popular.count('相当')+popular.count('颇')+popular.count('颇为')+popular.count('有点儿')+popular.count('有些')+popular.count('最为')+popular.count('还')+popular.count('越发')+popular.count('越加')+popular.count('愈加')+popular.count('稍')+popular.count('稍微')+popular.count('稍稍')+popular.count('略')+popular.count('略略')+popular.count('略微')+popular.count('比较')+popular.count('较')+popular.count('暴')+popular.count('超')+popular.count('恶')+popular.count('怒')+popular.count('巨')+popular.count('粉')+popular.count('奇')\n",
    "popular_AMP_normalized=popular_AMP_raw / len(popular)\n",
    "popular_AMP_normalized * 1000\n"
   ]
  },
  {
   "cell_type": "code",
   "execution_count": 93,
   "metadata": {},
   "outputs": [
    {
     "data": {
      "text/plain": [
       "11.807966633758914"
      ]
     },
     "execution_count": 93,
     "metadata": {},
     "output_type": "execute_result"
    }
   ],
   "source": [
    "biography_AMP_raw=biography.count('非常')+biography.count('十分')+biography.count('真的')+biography.count('特别')+biography.count('很')+biography.count('最')+biography.count('肯定')+biography.count('挺')+biography.count('顶')+biography.count('极')+biography.count('极为')+biography.count('极其')+biography.count('极度')+biography.count('万分')+biography.count('格外')+biography.count('分外')+biography.count('更')+biography.count('更加')+biography.count('更为')+biography.count('尤其')+biography.count('太')+biography.count('过于')+biography.count('老')+biography.count('怪')+biography.count('相当')+biography.count('颇')+biography.count('颇为')+biography.count('有点儿')+biography.count('有些')+biography.count('最为')+biography.count('还')+biography.count('越发')+biography.count('越加')+biography.count('愈加')+biography.count('稍')+biography.count('稍微')+biography.count('稍稍')+biography.count('略')+biography.count('略略')+biography.count('略微')+biography.count('比较')+biography.count('较')+biography.count('暴')+biography.count('超')+biography.count('恶')+biography.count('怒')+biography.count('巨')+biography.count('粉')+biography.count('奇')\n",
    "biography_AMP_normalized=biography_AMP_raw / len(biography)\n",
    "biography_AMP_normalized * 1000\n"
   ]
  },
  {
   "cell_type": "code",
   "execution_count": 94,
   "metadata": {},
   "outputs": [
    {
     "data": {
      "text/plain": [
       "3.3493680307645657"
      ]
     },
     "execution_count": 94,
     "metadata": {},
     "output_type": "execute_result"
    }
   ],
   "source": [
    "official_AMP_raw=official.count('非常')+official.count('十分')+official.count('真的')+official.count('特别')+official.count('很')+official.count('最')+official.count('肯定')+official.count('挺')+official.count('顶')+official.count('极')+official.count('极为')+official.count('极其')+official.count('极度')+official.count('万分')+official.count('格外')+official.count('分外')+official.count('更')+official.count('更加')+official.count('更为')+official.count('尤其')+official.count('太')+official.count('过于')+official.count('老')+official.count('怪')+official.count('相当')+official.count('颇')+official.count('颇为')+official.count('有点儿')+official.count('有些')+official.count('最为')+official.count('还')+official.count('越发')+official.count('越加')+official.count('愈加')+official.count('稍')+official.count('稍微')+official.count('稍稍')+official.count('略')+official.count('略略')+official.count('略微')+official.count('比较')+official.count('较')+official.count('暴')+official.count('超')+official.count('恶')+official.count('怒')+official.count('巨')+official.count('粉')+official.count('奇')\n",
    "official_AMP_normalized=official_AMP_raw / len(official)\n",
    "official_AMP_normalized * 1000\n"
   ]
  },
  {
   "cell_type": "code",
   "execution_count": 95,
   "metadata": {},
   "outputs": [
    {
     "data": {
      "text/plain": [
       "7.402882843375256"
      ]
     },
     "execution_count": 95,
     "metadata": {},
     "output_type": "execute_result"
    }
   ],
   "source": [
    "academic_AMP_raw=academic.count('非常')+academic.count('十分')+academic.count('真的')+academic.count('特别')+academic.count('很')+academic.count('最')+academic.count('肯定')+academic.count('挺')+academic.count('顶')+academic.count('极')+academic.count('极为')+academic.count('极其')+academic.count('极度')+academic.count('万分')+academic.count('格外')+academic.count('分外')+academic.count('更')+academic.count('更加')+academic.count('更为')+academic.count('尤其')+academic.count('太')+academic.count('过于')+academic.count('老')+academic.count('怪')+academic.count('相当')+academic.count('颇')+academic.count('颇为')+academic.count('有点儿')+academic.count('有些')+academic.count('最为')+academic.count('还')+academic.count('越发')+academic.count('越加')+academic.count('愈加')+academic.count('稍')+academic.count('稍微')+academic.count('稍稍')+academic.count('略')+academic.count('略略')+academic.count('略微')+academic.count('比较')+academic.count('较')+academic.count('暴')+academic.count('超')+academic.count('恶')+academic.count('怒')+academic.count('巨')+academic.count('粉')+academic.count('奇')\n",
    "academic_AMP_normalized=academic_AMP_raw / len(academic)\n",
    "academic_AMP_normalized * 1000\n"
   ]
  },
  {
   "cell_type": "code",
   "execution_count": 96,
   "metadata": {},
   "outputs": [
    {
     "data": {
      "text/plain": [
       "11.505435472272747"
      ]
     },
     "execution_count": 96,
     "metadata": {},
     "output_type": "execute_result"
    }
   ],
   "source": [
    "general_fiction_AMP_raw=general_fiction.count('非常')+general_fiction.count('十分')+general_fiction.count('真的')+general_fiction.count('特别')+general_fiction.count('很')+general_fiction.count('最')+general_fiction.count('肯定')+general_fiction.count('挺')+general_fiction.count('顶')+general_fiction.count('极')+general_fiction.count('极为')+general_fiction.count('极其')+general_fiction.count('极度')+general_fiction.count('万分')+general_fiction.count('格外')+general_fiction.count('分外')+general_fiction.count('更')+general_fiction.count('更加')+general_fiction.count('更为')+general_fiction.count('尤其')+general_fiction.count('太')+general_fiction.count('过于')+general_fiction.count('老')+general_fiction.count('怪')+general_fiction.count('相当')+general_fiction.count('颇')+general_fiction.count('颇为')+general_fiction.count('有点儿')+general_fiction.count('有些')+general_fiction.count('最为')+general_fiction.count('还')+general_fiction.count('越发')+general_fiction.count('越加')+general_fiction.count('愈加')+general_fiction.count('稍')+general_fiction.count('稍微')+general_fiction.count('稍稍')+general_fiction.count('略')+general_fiction.count('略略')+general_fiction.count('略微')+general_fiction.count('比较')+general_fiction.count('较')+general_fiction.count('暴')+general_fiction.count('超')+general_fiction.count('恶')+general_fiction.count('怒')+general_fiction.count('巨')+general_fiction.count('粉')+general_fiction.count('奇')\n",
    "general_fiction_AMP_normalized=general_fiction_AMP_raw / len(general_fiction)\n",
    "general_fiction_AMP_normalized * 1000\n"
   ]
  },
  {
   "cell_type": "code",
   "execution_count": 97,
   "metadata": {},
   "outputs": [
    {
     "data": {
      "text/plain": [
       "12.489138027977033"
      ]
     },
     "execution_count": 97,
     "metadata": {},
     "output_type": "execute_result"
    }
   ],
   "source": [
    "mystery_fiction_AMP_raw=mystery_fiction.count('非常')+mystery_fiction.count('十分')+mystery_fiction.count('真的')+mystery_fiction.count('特别')+mystery_fiction.count('很')+mystery_fiction.count('最')+mystery_fiction.count('肯定')+mystery_fiction.count('挺')+mystery_fiction.count('顶')+mystery_fiction.count('极')+mystery_fiction.count('极为')+mystery_fiction.count('极其')+mystery_fiction.count('极度')+mystery_fiction.count('万分')+mystery_fiction.count('格外')+mystery_fiction.count('分外')+mystery_fiction.count('更')+mystery_fiction.count('更加')+mystery_fiction.count('更为')+mystery_fiction.count('尤其')+mystery_fiction.count('太')+mystery_fiction.count('过于')+mystery_fiction.count('老')+mystery_fiction.count('怪')+mystery_fiction.count('相当')+mystery_fiction.count('颇')+mystery_fiction.count('颇为')+mystery_fiction.count('有点儿')+mystery_fiction.count('有些')+mystery_fiction.count('最为')+mystery_fiction.count('还')+mystery_fiction.count('越发')+mystery_fiction.count('越加')+mystery_fiction.count('愈加')+mystery_fiction.count('稍')+mystery_fiction.count('稍微')+mystery_fiction.count('稍稍')+mystery_fiction.count('略')+mystery_fiction.count('略略')+mystery_fiction.count('略微')+mystery_fiction.count('比较')+mystery_fiction.count('较')+mystery_fiction.count('暴')+mystery_fiction.count('超')+mystery_fiction.count('恶')+mystery_fiction.count('怒')+mystery_fiction.count('巨')+mystery_fiction.count('粉')+mystery_fiction.count('奇')\n",
    "mystery_fiction_AMP_normalized=mystery_fiction_AMP_raw / len(mystery_fiction)\n",
    "mystery_fiction_AMP_normalized * 1000\n"
   ]
  },
  {
   "cell_type": "code",
   "execution_count": 98,
   "metadata": {},
   "outputs": [
    {
     "data": {
      "text/plain": [
       "8.647102880098045"
      ]
     },
     "execution_count": 98,
     "metadata": {},
     "output_type": "execute_result"
    }
   ],
   "source": [
    "sci_fi_AMP_raw=sci_fi.count('非常')+sci_fi.count('十分')+sci_fi.count('真的')+sci_fi.count('特别')+sci_fi.count('很')+sci_fi.count('最')+sci_fi.count('肯定')+sci_fi.count('挺')+sci_fi.count('顶')+sci_fi.count('极')+sci_fi.count('极为')+sci_fi.count('极其')+sci_fi.count('极度')+sci_fi.count('万分')+sci_fi.count('格外')+sci_fi.count('分外')+sci_fi.count('更')+sci_fi.count('更加')+sci_fi.count('更为')+sci_fi.count('尤其')+sci_fi.count('太')+sci_fi.count('过于')+sci_fi.count('老')+sci_fi.count('怪')+sci_fi.count('相当')+sci_fi.count('颇')+sci_fi.count('颇为')+sci_fi.count('有点儿')+sci_fi.count('有些')+sci_fi.count('最为')+sci_fi.count('还')+sci_fi.count('越发')+sci_fi.count('越加')+sci_fi.count('愈加')+sci_fi.count('稍')+sci_fi.count('稍微')+sci_fi.count('稍稍')+sci_fi.count('略')+sci_fi.count('略略')+sci_fi.count('略微')+sci_fi.count('比较')+sci_fi.count('较')+sci_fi.count('暴')+sci_fi.count('超')+sci_fi.count('恶')+sci_fi.count('怒')+sci_fi.count('巨')+sci_fi.count('粉')+sci_fi.count('奇')\n",
    "sci_fi_AMP_normalized=sci_fi_AMP_raw / len(sci_fi)\n",
    "sci_fi_AMP_normalized * 1000\n"
   ]
  },
  {
   "cell_type": "code",
   "execution_count": 99,
   "metadata": {},
   "outputs": [
    {
     "data": {
      "text/plain": [
       "11.214335970592881"
      ]
     },
     "execution_count": 99,
     "metadata": {},
     "output_type": "execute_result"
    }
   ],
   "source": [
    "adventure_fiction_AMP_raw=adventure_fiction.count('非常')+adventure_fiction.count('十分')+adventure_fiction.count('真的')+adventure_fiction.count('特别')+adventure_fiction.count('很')+adventure_fiction.count('最')+adventure_fiction.count('肯定')+adventure_fiction.count('挺')+adventure_fiction.count('顶')+adventure_fiction.count('极')+adventure_fiction.count('极为')+adventure_fiction.count('极其')+adventure_fiction.count('极度')+adventure_fiction.count('万分')+adventure_fiction.count('格外')+adventure_fiction.count('分外')+adventure_fiction.count('更')+adventure_fiction.count('更加')+adventure_fiction.count('更为')+adventure_fiction.count('尤其')+adventure_fiction.count('太')+adventure_fiction.count('过于')+adventure_fiction.count('老')+adventure_fiction.count('怪')+adventure_fiction.count('相当')+adventure_fiction.count('颇')+adventure_fiction.count('颇为')+adventure_fiction.count('有点儿')+adventure_fiction.count('有些')+adventure_fiction.count('最为')+adventure_fiction.count('还')+adventure_fiction.count('越发')+adventure_fiction.count('越加')+adventure_fiction.count('愈加')+adventure_fiction.count('稍')+adventure_fiction.count('稍微')+adventure_fiction.count('稍稍')+adventure_fiction.count('略')+adventure_fiction.count('略略')+adventure_fiction.count('略微')+adventure_fiction.count('比较')+adventure_fiction.count('较')+adventure_fiction.count('暴')+adventure_fiction.count('超')+adventure_fiction.count('恶')+adventure_fiction.count('怒')+adventure_fiction.count('巨')+adventure_fiction.count('粉')+adventure_fiction.count('奇')\n",
    "adventure_fiction_AMP_normalized=adventure_fiction_AMP_raw / len(adventure_fiction)\n",
    "adventure_fiction_AMP_normalized * 1000\n"
   ]
  },
  {
   "cell_type": "code",
   "execution_count": 100,
   "metadata": {},
   "outputs": [
    {
     "data": {
      "text/plain": [
       "11.9039203766276"
      ]
     },
     "execution_count": 100,
     "metadata": {},
     "output_type": "execute_result"
    }
   ],
   "source": [
    "romantic_fiction_AMP_raw=romantic_fiction.count('非常')+romantic_fiction.count('十分')+romantic_fiction.count('真的')+romantic_fiction.count('特别')+romantic_fiction.count('很')+romantic_fiction.count('最')+romantic_fiction.count('肯定')+romantic_fiction.count('挺')+romantic_fiction.count('顶')+romantic_fiction.count('极')+romantic_fiction.count('极为')+romantic_fiction.count('极其')+romantic_fiction.count('极度')+romantic_fiction.count('万分')+romantic_fiction.count('格外')+romantic_fiction.count('分外')+romantic_fiction.count('更')+romantic_fiction.count('更加')+romantic_fiction.count('更为')+romantic_fiction.count('尤其')+romantic_fiction.count('太')+romantic_fiction.count('过于')+romantic_fiction.count('老')+romantic_fiction.count('怪')+romantic_fiction.count('相当')+romantic_fiction.count('颇')+romantic_fiction.count('颇为')+romantic_fiction.count('有点儿')+romantic_fiction.count('有些')+romantic_fiction.count('最为')+romantic_fiction.count('还')+romantic_fiction.count('越发')+romantic_fiction.count('越加')+romantic_fiction.count('愈加')+romantic_fiction.count('稍')+romantic_fiction.count('稍微')+romantic_fiction.count('稍稍')+romantic_fiction.count('略')+romantic_fiction.count('略略')+romantic_fiction.count('略微')+romantic_fiction.count('比较')+romantic_fiction.count('较')+romantic_fiction.count('暴')+romantic_fiction.count('超')+romantic_fiction.count('恶')+romantic_fiction.count('怒')+romantic_fiction.count('巨')+romantic_fiction.count('粉')+romantic_fiction.count('奇')\n",
    "romantic_fiction_AMP_normalized=romantic_fiction_AMP_raw / len(romantic_fiction)\n",
    "romantic_fiction_AMP_normalized * 1000\n"
   ]
  },
  {
   "cell_type": "code",
   "execution_count": 101,
   "metadata": {},
   "outputs": [
    {
     "data": {
      "text/plain": [
       "12.41871387283237"
      ]
     },
     "execution_count": 101,
     "metadata": {},
     "output_type": "execute_result"
    }
   ],
   "source": [
    "humor_AMP_raw=humor.count('非常')+humor.count('十分')+humor.count('真的')+humor.count('特别')+humor.count('很')+humor.count('最')+humor.count('肯定')+humor.count('挺')+humor.count('顶')+humor.count('极')+humor.count('极为')+humor.count('极其')+humor.count('极度')+humor.count('万分')+humor.count('格外')+humor.count('分外')+humor.count('更')+humor.count('更加')+humor.count('更为')+humor.count('尤其')+humor.count('太')+humor.count('过于')+humor.count('老')+humor.count('怪')+humor.count('相当')+humor.count('颇')+humor.count('颇为')+humor.count('有点儿')+humor.count('有些')+humor.count('最为')+humor.count('还')+humor.count('越发')+humor.count('越加')+humor.count('愈加')+humor.count('稍')+humor.count('稍微')+humor.count('稍稍')+humor.count('略')+humor.count('略略')+humor.count('略微')+humor.count('比较')+humor.count('较')+humor.count('暴')+humor.count('超')+humor.count('恶')+humor.count('怒')+humor.count('巨')+humor.count('粉')+humor.count('奇')\n",
    "humor_AMP_normalized=humor_AMP_raw / len(humor)\n",
    "humor_AMP_normalized * 1000\n"
   ]
  },
  {
   "cell_type": "markdown",
   "metadata": {},
   "source": [
    "Waiting for spoken corpus"
   ]
  },
  {
   "cell_type": "code",
   "execution_count": null,
   "metadata": {},
   "outputs": [],
   "source": [
    "#feature 2 ANDC independent clause coordination\n",
    "#和、以及、而、与、并、以至、及、并且"
   ]
  },
  {
   "cell_type": "code",
   "execution_count": 102,
   "metadata": {},
   "outputs": [
    {
     "data": {
      "text/plain": [
       "16.131310563042067"
      ]
     },
     "execution_count": 102,
     "metadata": {},
     "output_type": "execute_result"
    }
   ],
   "source": [
    "reportage_ANDC_raw=reportage.count('和')+reportage.count('以及')+reportage.count('而')+reportage.count('与')+reportage.count('并')+reportage.count('以至')+reportage.count('及')+reportage.count('并且')\n",
    "reportage_ANDC_normalized=reportage_ANDC_raw / len(reportage)\n",
    "reportage_ANDC_normalized * 1000\n"
   ]
  },
  {
   "cell_type": "code",
   "execution_count": 103,
   "metadata": {},
   "outputs": [
    {
     "data": {
      "text/plain": [
       "15.802409565886094"
      ]
     },
     "execution_count": 103,
     "metadata": {},
     "output_type": "execute_result"
    }
   ],
   "source": [
    "editorial_ANDC_raw=editorial.count('和')+editorial.count('以及')+editorial.count('而')+editorial.count('与')+editorial.count('并')+editorial.count('以至')+editorial.count('及')+editorial.count('并且')\n",
    "editorial_ANDC_normalized=editorial_ANDC_raw / len(editorial)\n",
    "editorial_ANDC_normalized * 1000\n"
   ]
  },
  {
   "cell_type": "code",
   "execution_count": 104,
   "metadata": {},
   "outputs": [
    {
     "data": {
      "text/plain": [
       "19.388460778502274"
      ]
     },
     "execution_count": 104,
     "metadata": {},
     "output_type": "execute_result"
    }
   ],
   "source": [
    "review_ANDC_raw=review.count('和')+review.count('以及')+review.count('而')+review.count('与')+review.count('并')+review.count('以至')+review.count('及')+review.count('并且')\n",
    "review_ANDC_normalized=review_ANDC_raw / len(review)\n",
    "review_ANDC_normalized * 1000\n"
   ]
  },
  {
   "cell_type": "code",
   "execution_count": 105,
   "metadata": {},
   "outputs": [
    {
     "data": {
      "text/plain": [
       "16.095087769646533"
      ]
     },
     "execution_count": 105,
     "metadata": {},
     "output_type": "execute_result"
    }
   ],
   "source": [
    "religion_ANDC_raw=religion.count('和')+religion.count('以及')+religion.count('而')+religion.count('与')+religion.count('并')+religion.count('以至')+religion.count('及')+religion.count('并且')\n",
    "religion_ANDC_normalized=religion_ANDC_raw / len(religion)\n",
    "religion_ANDC_normalized * 1000\n"
   ]
  },
  {
   "cell_type": "code",
   "execution_count": 106,
   "metadata": {},
   "outputs": [
    {
     "data": {
      "text/plain": [
       "15.21538444427143"
      ]
     },
     "execution_count": 106,
     "metadata": {},
     "output_type": "execute_result"
    }
   ],
   "source": [
    "skills_ANDC_raw=skills.count('和')+skills.count('以及')+skills.count('而')+skills.count('与')+skills.count('并')+skills.count('以至')+skills.count('及')+skills.count('并且')\n",
    "skills_ANDC_normalized=skills_ANDC_raw / len(skills)\n",
    "skills_ANDC_normalized * 1000\n"
   ]
  },
  {
   "cell_type": "code",
   "execution_count": 107,
   "metadata": {},
   "outputs": [
    {
     "data": {
      "text/plain": [
       "11.661239814915794"
      ]
     },
     "execution_count": 107,
     "metadata": {},
     "output_type": "execute_result"
    }
   ],
   "source": [
    "popular_ANDC_raw=popular.count('和')+popular.count('以及')+popular.count('而')+popular.count('与')+popular.count('并')+popular.count('以至')+popular.count('及')+popular.count('并且')\n",
    "popular_ANDC_normalized=popular_ANDC_raw / len(popular)\n",
    "popular_ANDC_normalized * 1000\n"
   ]
  },
  {
   "cell_type": "code",
   "execution_count": 108,
   "metadata": {},
   "outputs": [
    {
     "data": {
      "text/plain": [
       "12.2239353972779"
      ]
     },
     "execution_count": 108,
     "metadata": {},
     "output_type": "execute_result"
    }
   ],
   "source": [
    "biography_ANDC_raw=biography.count('和')+biography.count('以及')+biography.count('而')+biography.count('与')+biography.count('并')+biography.count('以至')+biography.count('及')+biography.count('并且')\n",
    "biography_ANDC_normalized=biography_ANDC_raw / len(biography)\n",
    "biography_ANDC_normalized * 1000\n"
   ]
  },
  {
   "cell_type": "code",
   "execution_count": 109,
   "metadata": {},
   "outputs": [
    {
     "data": {
      "text/plain": [
       "25.49930393791953"
      ]
     },
     "execution_count": 109,
     "metadata": {},
     "output_type": "execute_result"
    }
   ],
   "source": [
    "official_ANDC_raw=official.count('和')+official.count('以及')+official.count('而')+official.count('与')+official.count('并')+official.count('以至')+official.count('及')+official.count('并且')\n",
    "official_ANDC_normalized=official_ANDC_raw / len(official)\n",
    "official_ANDC_normalized * 1000\n"
   ]
  },
  {
   "cell_type": "code",
   "execution_count": 110,
   "metadata": {},
   "outputs": [
    {
     "data": {
      "text/plain": [
       "26.990764668723603"
      ]
     },
     "execution_count": 110,
     "metadata": {},
     "output_type": "execute_result"
    }
   ],
   "source": [
    "academic_ANDC_raw=academic.count('和')+academic.count('以及')+academic.count('而')+academic.count('与')+academic.count('并')+academic.count('以至')+academic.count('及')+academic.count('并且')\n",
    "academic_ANDC_normalized=academic_ANDC_raw / len(academic)\n",
    "academic_ANDC_normalized * 1000\n"
   ]
  },
  {
   "cell_type": "code",
   "execution_count": 111,
   "metadata": {},
   "outputs": [
    {
     "data": {
      "text/plain": [
       "7.03579938806875"
      ]
     },
     "execution_count": 111,
     "metadata": {},
     "output_type": "execute_result"
    }
   ],
   "source": [
    "general_fiction_ANDC_raw=general_fiction.count('和')+general_fiction.count('以及')+general_fiction.count('而')+general_fiction.count('与')+general_fiction.count('并')+general_fiction.count('以至')+general_fiction.count('及')+general_fiction.count('并且')\n",
    "general_fiction_ANDC_normalized=general_fiction_ANDC_raw / len(general_fiction)\n",
    "general_fiction_ANDC_normalized * 1000\n"
   ]
  },
  {
   "cell_type": "code",
   "execution_count": 112,
   "metadata": {},
   "outputs": [
    {
     "data": {
      "text/plain": [
       "6.270126595219028"
      ]
     },
     "execution_count": 112,
     "metadata": {},
     "output_type": "execute_result"
    }
   ],
   "source": [
    "mystery_fiction_ANDC_raw=mystery_fiction.count('和')+mystery_fiction.count('以及')+mystery_fiction.count('而')+mystery_fiction.count('与')+mystery_fiction.count('并')+mystery_fiction.count('以至')+mystery_fiction.count('及')+mystery_fiction.count('并且')\n",
    "mystery_fiction_ANDC_normalized=mystery_fiction_ANDC_raw / len(mystery_fiction)\n",
    "mystery_fiction_ANDC_normalized * 1000\n"
   ]
  },
  {
   "cell_type": "code",
   "execution_count": 113,
   "metadata": {},
   "outputs": [
    {
     "data": {
      "text/plain": [
       "9.19180227411997"
      ]
     },
     "execution_count": 113,
     "metadata": {},
     "output_type": "execute_result"
    }
   ],
   "source": [
    "sci_fi_ANDC_raw=sci_fi.count('和')+sci_fi.count('以及')+sci_fi.count('而')+sci_fi.count('与')+sci_fi.count('并')+sci_fi.count('以至')+sci_fi.count('及')+sci_fi.count('并且')\n",
    "sci_fi_ANDC_normalized=sci_fi_ANDC_raw / len(sci_fi)\n",
    "sci_fi_ANDC_normalized * 1000\n"
   ]
  },
  {
   "cell_type": "code",
   "execution_count": 114,
   "metadata": {},
   "outputs": [
    {
     "data": {
      "text/plain": [
       "7.2943440116020275"
      ]
     },
     "execution_count": 114,
     "metadata": {},
     "output_type": "execute_result"
    }
   ],
   "source": [
    "adventure_fiction_ANDC_raw=adventure_fiction.count('和')+adventure_fiction.count('以及')+adventure_fiction.count('而')+adventure_fiction.count('与')+adventure_fiction.count('并')+adventure_fiction.count('以至')+adventure_fiction.count('及')+adventure_fiction.count('并且')\n",
    "adventure_fiction_ANDC_normalized=adventure_fiction_ANDC_raw / len(adventure_fiction)\n",
    "adventure_fiction_ANDC_normalized * 1000\n"
   ]
  },
  {
   "cell_type": "code",
   "execution_count": 115,
   "metadata": {},
   "outputs": [
    {
     "data": {
      "text/plain": [
       "6.418503385972601"
      ]
     },
     "execution_count": 115,
     "metadata": {},
     "output_type": "execute_result"
    }
   ],
   "source": [
    "romantic_fiction_ANDC_raw=romantic_fiction.count('和')+romantic_fiction.count('以及')+romantic_fiction.count('而')+romantic_fiction.count('与')+romantic_fiction.count('并')+romantic_fiction.count('以至')+romantic_fiction.count('及')+romantic_fiction.count('并且')\n",
    "romantic_fiction_ANDC_normalized=romantic_fiction_ANDC_raw / len(romantic_fiction)\n",
    "romantic_fiction_ANDC_normalized * 1000\n"
   ]
  },
  {
   "cell_type": "code",
   "execution_count": 116,
   "metadata": {},
   "outputs": [
    {
     "data": {
      "text/plain": [
       "4.60621387283237"
      ]
     },
     "execution_count": 116,
     "metadata": {},
     "output_type": "execute_result"
    }
   ],
   "source": [
    "humor_ANDC_raw=humor.count('和')+humor.count('以及')+humor.count('而')+humor.count('与')+humor.count('并')+humor.count('以至')+humor.count('及')+humor.count('并且')\n",
    "humor_ANDC_normalized=humor_ANDC_raw / len(humor)\n",
    "humor_ANDC_normalized * 1000\n"
   ]
  },
  {
   "cell_type": "code",
   "execution_count": null,
   "metadata": {},
   "outputs": [],
   "source": []
  }
 ],
 "metadata": {
  "kernelspec": {
   "display_name": "Python 3",
   "language": "python",
   "name": "python3"
  },
  "language_info": {
   "codemirror_mode": {
    "name": "ipython",
    "version": 3
   },
   "file_extension": ".py",
   "mimetype": "text/x-python",
   "name": "python",
   "nbconvert_exporter": "python",
   "pygments_lexer": "ipython3",
   "version": "3.6.3"
  }
 },
 "nbformat": 4,
 "nbformat_minor": 2
}
