{
 "cells": [
  {
   "cell_type": "code",
   "execution_count": 210,
   "metadata": {},
   "outputs": [
    {
     "data": {
      "text/plain": [
       "['百丽和平常一样猛地推门进屋的一刻洛枳刚收起日记拿起笔继续计算数理统计学的作业题', '。', ...]"
      ]
     },
     "execution_count": 210,
     "metadata": {},
     "output_type": "execute_result"
    }
   ],
   "source": [
    "import os\n",
    "import nltk \n",
    "from nltk.corpus import CategorizedPlaintextCorpusReader\n",
    "corpus = CategorizedPlaintextCorpusReader(\n",
    "    '/users/nannanliu/Python/SCIPPC/ToRCH2014/individual/general_fiction',\n",
    "    r'(?!\\.).*\\.txt',\n",
    "    cat_pattern=os.path.join(r'(neg|pos)', '.*',),\n",
    "    encoding='utf-8')\n",
    "corpus.words()"
   ]
  },
  {
   "cell_type": "code",
   "execution_count": 211,
   "metadata": {},
   "outputs": [],
   "source": [
    "import pandas as pd  \n",
    "df = pd.read_csv(\"/users/nannanliu/Research/MD/stats/individual/general_fiction.csv\", header=0)"
   ]
  },
  {
   "cell_type": "code",
   "execution_count": 212,
   "metadata": {},
   "outputs": [
    {
     "data": {
      "text/html": [
       "<div>\n",
       "<style scoped>\n",
       "    .dataframe tbody tr th:only-of-type {\n",
       "        vertical-align: middle;\n",
       "    }\n",
       "\n",
       "    .dataframe tbody tr th {\n",
       "        vertical-align: top;\n",
       "    }\n",
       "\n",
       "    .dataframe thead th {\n",
       "        text-align: right;\n",
       "    }\n",
       "</style>\n",
       "<table border=\"1\" class=\"dataframe\">\n",
       "  <thead>\n",
       "    <tr style=\"text-align: right;\">\n",
       "      <th></th>\n",
       "      <th>abstract</th>\n",
       "      <th>ACL</th>\n",
       "      <th>ACL_std</th>\n",
       "      <th>adversative_conj</th>\n",
       "      <th>AMP</th>\n",
       "      <th>analytic_negation</th>\n",
       "      <th>ASL</th>\n",
       "      <th>ASL_std</th>\n",
       "      <th>attributive_adjective</th>\n",
       "      <th>aux_adj</th>\n",
       "      <th>...</th>\n",
       "      <th>similie</th>\n",
       "      <th>SMP</th>\n",
       "      <th>SPP</th>\n",
       "      <th>STTR</th>\n",
       "      <th>synthectic_negation</th>\n",
       "      <th>TIME</th>\n",
       "      <th>TPP</th>\n",
       "      <th>unique</th>\n",
       "      <th>verbverb</th>\n",
       "      <th>WH</th>\n",
       "    </tr>\n",
       "  </thead>\n",
       "  <tbody>\n",
       "    <tr>\n",
       "      <th>0</th>\n",
       "      <td>23.34</td>\n",
       "      <td>8.16</td>\n",
       "      <td>5.27</td>\n",
       "      <td>1.67</td>\n",
       "      <td>15.84</td>\n",
       "      <td>12.51</td>\n",
       "      <td>23.99</td>\n",
       "      <td>16.65</td>\n",
       "      <td>20.85</td>\n",
       "      <td>8.34</td>\n",
       "      <td>...</td>\n",
       "      <td>4.17</td>\n",
       "      <td>0.42</td>\n",
       "      <td>6.67</td>\n",
       "      <td>366.82</td>\n",
       "      <td>5.42</td>\n",
       "      <td>5.84</td>\n",
       "      <td>23.34</td>\n",
       "      <td>249.27</td>\n",
       "      <td>20.85</td>\n",
       "      <td>0.00</td>\n",
       "    </tr>\n",
       "    <tr>\n",
       "      <th>1</th>\n",
       "      <td>10.76</td>\n",
       "      <td>7.75</td>\n",
       "      <td>4.76</td>\n",
       "      <td>1.24</td>\n",
       "      <td>16.97</td>\n",
       "      <td>14.01</td>\n",
       "      <td>28.81</td>\n",
       "      <td>18.68</td>\n",
       "      <td>6.60</td>\n",
       "      <td>5.36</td>\n",
       "      <td>...</td>\n",
       "      <td>4.12</td>\n",
       "      <td>0.83</td>\n",
       "      <td>6.62</td>\n",
       "      <td>298.43</td>\n",
       "      <td>2.89</td>\n",
       "      <td>3.71</td>\n",
       "      <td>37.67</td>\n",
       "      <td>183.77</td>\n",
       "      <td>16.49</td>\n",
       "      <td>2.89</td>\n",
       "    </tr>\n",
       "    <tr>\n",
       "      <th>2</th>\n",
       "      <td>17.70</td>\n",
       "      <td>6.81</td>\n",
       "      <td>3.75</td>\n",
       "      <td>1.65</td>\n",
       "      <td>12.76</td>\n",
       "      <td>16.15</td>\n",
       "      <td>33.20</td>\n",
       "      <td>20.73</td>\n",
       "      <td>6.21</td>\n",
       "      <td>4.14</td>\n",
       "      <td>...</td>\n",
       "      <td>4.55</td>\n",
       "      <td>0.41</td>\n",
       "      <td>7.00</td>\n",
       "      <td>368.46</td>\n",
       "      <td>0.83</td>\n",
       "      <td>2.48</td>\n",
       "      <td>30.88</td>\n",
       "      <td>251.96</td>\n",
       "      <td>21.95</td>\n",
       "      <td>1.24</td>\n",
       "    </tr>\n",
       "    <tr>\n",
       "      <th>3</th>\n",
       "      <td>11.51</td>\n",
       "      <td>7.23</td>\n",
       "      <td>6.33</td>\n",
       "      <td>1.28</td>\n",
       "      <td>25.58</td>\n",
       "      <td>11.98</td>\n",
       "      <td>29.08</td>\n",
       "      <td>27.66</td>\n",
       "      <td>10.27</td>\n",
       "      <td>2.99</td>\n",
       "      <td>...</td>\n",
       "      <td>1.71</td>\n",
       "      <td>0.00</td>\n",
       "      <td>2.98</td>\n",
       "      <td>369.57</td>\n",
       "      <td>1.71</td>\n",
       "      <td>4.28</td>\n",
       "      <td>25.15</td>\n",
       "      <td>252.77</td>\n",
       "      <td>21.81</td>\n",
       "      <td>2.14</td>\n",
       "    </tr>\n",
       "    <tr>\n",
       "      <th>4</th>\n",
       "      <td>39.03</td>\n",
       "      <td>7.69</td>\n",
       "      <td>3.64</td>\n",
       "      <td>2.97</td>\n",
       "      <td>21.21</td>\n",
       "      <td>17.90</td>\n",
       "      <td>24.33</td>\n",
       "      <td>12.47</td>\n",
       "      <td>2.56</td>\n",
       "      <td>2.98</td>\n",
       "      <td>...</td>\n",
       "      <td>1.28</td>\n",
       "      <td>0.42</td>\n",
       "      <td>10.18</td>\n",
       "      <td>262.62</td>\n",
       "      <td>6.82</td>\n",
       "      <td>14.91</td>\n",
       "      <td>20.36</td>\n",
       "      <td>142.55</td>\n",
       "      <td>27.27</td>\n",
       "      <td>1.70</td>\n",
       "    </tr>\n",
       "  </tbody>\n",
       "</table>\n",
       "<p>5 rows × 88 columns</p>\n",
       "</div>"
      ],
      "text/plain": [
       "   abstract   ACL  ACL_std  adversative_conj    AMP  analytic_negation    ASL  \\\n",
       "0     23.34  8.16     5.27              1.67  15.84              12.51  23.99   \n",
       "1     10.76  7.75     4.76              1.24  16.97              14.01  28.81   \n",
       "2     17.70  6.81     3.75              1.65  12.76              16.15  33.20   \n",
       "3     11.51  7.23     6.33              1.28  25.58              11.98  29.08   \n",
       "4     39.03  7.69     3.64              2.97  21.21              17.90  24.33   \n",
       "\n",
       "   ASL_std  attributive_adjective  aux_adj  ...   similie   SMP    SPP  \\\n",
       "0    16.65                  20.85     8.34  ...      4.17  0.42   6.67   \n",
       "1    18.68                   6.60     5.36  ...      4.12  0.83   6.62   \n",
       "2    20.73                   6.21     4.14  ...      4.55  0.41   7.00   \n",
       "3    27.66                  10.27     2.99  ...      1.71  0.00   2.98   \n",
       "4    12.47                   2.56     2.98  ...      1.28  0.42  10.18   \n",
       "\n",
       "     STTR  synthectic_negation   TIME    TPP  unique  verbverb    WH  \n",
       "0  366.82                 5.42   5.84  23.34  249.27     20.85  0.00  \n",
       "1  298.43                 2.89   3.71  37.67  183.77     16.49  2.89  \n",
       "2  368.46                 0.83   2.48  30.88  251.96     21.95  1.24  \n",
       "3  369.57                 1.71   4.28  25.15  252.77     21.81  2.14  \n",
       "4  262.62                 6.82  14.91  20.36  142.55     27.27  1.70  \n",
       "\n",
       "[5 rows x 88 columns]"
      ]
     },
     "execution_count": 212,
     "metadata": {},
     "output_type": "execute_result"
    }
   ],
   "source": [
    "df.head()"
   ]
  },
  {
   "cell_type": "code",
   "execution_count": 213,
   "metadata": {},
   "outputs": [],
   "source": [
    "import pynlpir\n",
    "pynlpir.open()"
   ]
  },
  {
   "cell_type": "code",
   "execution_count": 214,
   "metadata": {},
   "outputs": [
    {
     "name": "stdout",
     "output_type": "stream",
     "text": [
      "general_fiction_01.txt\n",
      "general_fiction_02.txt\n",
      "general_fiction_03.txt\n",
      "general_fiction_04.txt\n",
      "general_fiction_05.txt\n",
      "general_fiction_06.txt\n",
      "general_fiction_07.txt\n",
      "general_fiction_08.txt\n",
      "general_fiction_09.txt\n",
      "general_fiction_10.txt\n",
      "general_fiction_11.txt\n",
      "general_fiction_12.txt\n",
      "general_fiction_13.txt\n",
      "general_fiction_14.txt\n",
      "general_fiction_15.txt\n",
      "general_fiction_16.txt\n",
      "general_fiction_17.txt\n",
      "general_fiction_18.txt\n",
      "general_fiction_19.txt\n",
      "general_fiction_20.txt\n",
      "general_fiction_21.txt\n",
      "general_fiction_22.txt\n",
      "general_fiction_23.txt\n",
      "general_fiction_24.txt\n",
      "general_fiction_25.txt\n",
      "general_fiction_26.txt\n",
      "general_fiction_27.txt\n",
      "general_fiction_28.txt\n",
      "general_fiction_29.txt\n",
      "general_fiction_30.txt\n",
      "general_fiction_31.txt\n",
      "general_fiction_32.txt\n"
     ]
    }
   ],
   "source": [
    "#check if fileids are correct\n",
    "files=corpus.fileids()\n",
    "for f in files: \n",
    "    print (f)"
   ]
  },
  {
   "cell_type": "code",
   "execution_count": 215,
   "metadata": {},
   "outputs": [],
   "source": [
    "corpora=[]\n",
    "for file in files: \n",
    "    sub_corpora=corpus.raw(file)\n",
    "    corpora.append(sub_corpora)"
   ]
  },
  {
   "cell_type": "code",
   "execution_count": 216,
   "metadata": {},
   "outputs": [
    {
     "data": {
      "text/plain": [
       "32"
      ]
     },
     "execution_count": 216,
     "metadata": {},
     "output_type": "execute_result"
    }
   ],
   "source": [
    "len(corpora)"
   ]
  },
  {
   "cell_type": "code",
   "execution_count": 217,
   "metadata": {},
   "outputs": [
    {
     "name": "stderr",
     "output_type": "stream",
     "text": [
      "part of speech not recognized: 'n_newword'\n",
      "part of speech not recognized: 'mg'\n",
      "part of speech not recognized: 'mg'\n",
      "part of speech not recognized: 'mg'\n",
      "part of speech not recognized: 'mg'\n",
      "part of speech not recognized: 'mg'\n",
      "part of speech not recognized: 'mg'\n",
      "part of speech not recognized: 'mg'\n",
      "part of speech not recognized: 'mg'\n",
      "part of speech not recognized: 'mg'\n",
      "part of speech not recognized: 'mg'\n",
      "part of speech not recognized: 'mg'\n",
      "part of speech not recognized: 'mg'\n",
      "part of speech not recognized: 'mg'\n"
     ]
    }
   ],
   "source": [
    "tagged_files=[]\n",
    "for sub_corpora in corpora: \n",
    "    tagged_file=pynlpir.segment(sub_corpora, pos_tagging=True, pos_names='child')\n",
    "    tagged_files.append(tagged_file)"
   ]
  },
  {
   "cell_type": "code",
   "execution_count": 221,
   "metadata": {},
   "outputs": [],
   "source": [
    "none_list=[]\n",
    "for file in tagged_files: \n",
    "    none_list.append([s for s in file if None in s])"
   ]
  },
  {
   "cell_type": "code",
   "execution_count": 222,
   "metadata": {},
   "outputs": [
    {
     "name": "stdout",
     "output_type": "stream",
     "text": [
      "[[], [], [], [], [], [], [], [], [], [], [], [], [], [], [], [], [], [], [], [], [], [], [], [], [], [], [], [], [], [], [], []]\n"
     ]
    }
   ],
   "source": [
    "print (none_list)"
   ]
  },
  {
   "cell_type": "code",
   "execution_count": 220,
   "metadata": {},
   "outputs": [],
   "source": [
    "for j in range(32): \n",
    "    for n, i in enumerate(tagged_files[j]):\n",
    "        if i == ('\\r新华社', None):\n",
    "            tagged_files[j][n] = ('\\r新华社', 'noun-proper')\n",
    "        if i == ('新华社', None):\n",
    "            tagged_files[j][n] = ('新华社', 'noun-proper')\n",
    "        if i == ('\\r新华网', None):\n",
    "            tagged_files[j][n] = ('\\r新华网', 'noun-proper')\n",
    "        if i == ('新华网', None):\n",
    "            tagged_files[j][n] = ('新华网', 'noun-proper')\n",
    "        if i == ('中新网', None):\n",
    "            tagged_files[j][n] = ('中新网', 'noun-proper')\n",
    "        if i == ('人民网', None):\n",
    "            tagged_files[j][n] = ('人民网', 'noun-proper')\n",
    "        if i == ('\\r中国青年网', None):\n",
    "            tagged_files[j][n] = ('\\r中国青年网', 'noun-proper')\n",
    "        if i == ('中评社', None):\n",
    "            tagged_files[j][n] = ('中评社', 'noun-proper')\n",
    "        if i == ('\\r中国日报网', None):\n",
    "            tagged_files[j][n] = ('\\r中国日报网', 'noun-proper')\n",
    "        if i == ('南华早报', None):\n",
    "            tagged_files[j][n] = ('南华早报', 'noun-proper')\n",
    "        if i == ('\\r国际在线', None):\n",
    "            tagged_files[j][n] = ('\\r国际在线', 'noun-proper')\n",
    "        if i == ('新华社', None):\n",
    "            tagged_files[j][n] = ('新华社', 'noun-proper')\n",
    "        if i == ('派', None): \n",
    "            tagged_files[j][n] = ('派', 'noun-verb')\n",
    "        if i == ('网民', None): \n",
    "            tagged_files[j][n] = ('网民', 'noun')\n",
    "        if i == ('屌丝', None):\n",
    "            tagged_files[j][n] = ('屌丝', 'noun')\n",
    "        if i == ('\\r屌丝', None):\n",
    "            tagged_files[j][n] = ('\\r屌丝', 'noun')\n",
    "        if i == ('富帅', None):\n",
    "            tagged_files[j][n] = ('富帅', 'noun')\n",
    "        if i == ('解构', None): \n",
    "            tagged_files[j][n] = ('解构', 'noun-verb')\n",
    "        if i == ('身份卑微', None): \n",
    "            tagged_files[j][n] = ('身份卑微', 'adjective')\n",
    "        if i == ('\\r南方日报', None): \n",
    "            tagged_files[j][n] = ('\\r南方日报', 'noun')\n",
    "        if i == ('法新社', None):\n",
    "            tagged_files[j][n] = ('法新社', 'noun-proper')\n",
    "        if i == ('美联社', None):\n",
    "            tagged_files[j][n] = ('美联社', 'noun-proper')\n",
    "        if i == ('路透社', None):\n",
    "            tagged_files[j][n] = ('路透社', 'noun-proper')\n",
    "        if i == ('环球时报', None):\n",
    "            tagged_files[j][n] = ('环球时报', 'noun-proper')\n",
    "        if i == ('飞机', None):\n",
    "            tagged_files[j][n] = ('飞机', 'noun')\n",
    "        if i == ('甲', None): \n",
    "            tagged_files[j][n] = ('甲', 'numeral')\n",
    "        if i == ('乙', None): \n",
    "            tagged_files[j][n] = ('乙', 'numeral')\n",
    "        if i == ('丙', None): \n",
    "            tagged_files[j][n] = ('丙', 'numeral')\n",
    "        if i == ('丁', None): \n",
    "            tagged_files[j][n] = ('丁', 'numeral')\n",
    "        if i == ('辰', None): \n",
    "            tagged_files[j][n] = ('辰', 'numeral')\n",
    "        if i == ('癸', None): \n",
    "            tagged_files[j][n] = ('癸', 'numeral')  \n",
    "        if i == ('戊', None): \n",
    "            tagged_files[j][n] = ('戊', 'numeral')\n",
    "        if i == ('巳', None): \n",
    "            tagged_files[j][n] = ('巳', 'numeral')\n",
    "        if i == ('\\u3000', None): \n",
    "            tagged_files[j][n] = ('\\u3000', 'None')\n",
    "        if i == ('贴吧', None): \n",
    "            tagged_files[j][n] = ('贴吧', 'noun')  "
   ]
  },
  {
   "cell_type": "code",
   "execution_count": 845,
   "metadata": {},
   "outputs": [
    {
     "name": "stdout",
     "output_type": "stream",
     "text": [
      "[[], [], [], [], [], [], [], [('甲', None), ('乙', None)], [], [], [], [], [], [], [], [('贴吧', None), ('贴吧', None)], [], [], [], [], [], [], [], [], [('网民', None)], [], [], [], [], [], [('甲', None)], []]\n"
     ]
    }
   ],
   "source": [
    "print (none_list)"
   ]
  },
  {
   "cell_type": "code",
   "execution_count": 223,
   "metadata": {},
   "outputs": [],
   "source": [
    "#feature 5 by passives\n",
    "bypa=['被', '受', '受到', '遭受', '挨', '加以']\n",
    "def bypa(text_type): \n",
    "    def raw(text_type): \n",
    "        return text_type.count(('被', 'preposition 被'))+text_type.count(('受到', 'preposition 受到'))\\\n",
    "    +text_type.count(('遭受', 'verb'))+text_type.count(('受', 'verb'))+text_type.count(('遭', 'verb'))+text_type.count(('挨', 'verb'))\\\n",
    "    +text_type.count(('加以', 'performative verb'))\n",
    "    def normalized(text_type): \n",
    "        return raw(text_type) / len(text_type)\n",
    "    return round(normalized (text_type) * 1000, 2) "
   ]
  },
  {
   "cell_type": "code",
   "execution_count": 224,
   "metadata": {},
   "outputs": [],
   "source": [
    "bypa_result=[]\n",
    "for file in tagged_files: \n",
    "    bypa_result.append(bypa(file))\n",
    "    \n",
    "df['BYPA'] = pd.Series(bypa_result)\n",
    "df.to_csv('/users/nannanliu/Research/MD/stats/individual/general_fiction.csv')"
   ]
  },
  {
   "cell_type": "code",
   "execution_count": 225,
   "metadata": {},
   "outputs": [],
   "source": [
    "#for file in tagged_files: \n",
    "   # print (bypa(file))"
   ]
  },
  {
   "cell_type": "code",
   "execution_count": 226,
   "metadata": {},
   "outputs": [],
   "source": [
    "#feature 8 COND 条件连词、副词\n",
    "#如果……（那么）、只有……（才）、假如、除非、要是、要不是、只要、假使、假如、倘若、倘或、倘、设使、设若、如若、若\n",
    "def cond(text_type):\n",
    "    def raw(text_type): \n",
    "        return str(text_type).count('如果')+str(text_type).count('只有')\\\n",
    "    +str(text_type).count('假如')+str(text_type).count('除非')\\\n",
    "    +str(text_type).count('要是')+str(text_type).count('要不是')\\\n",
    "    +str(text_type).count('只要')+str(text_type).count('假如')\\\n",
    "    +str(text_type).count('倘若')+str(text_type).count('倘或')\\\n",
    "    +str(text_type).count('设使')+str(text_type).count('设若')\\\n",
    "    +str(text_type).count('如若')+str(text_type).count('若')\\\n",
    "    +text_type.count(('的话', 'particle 的话'))+\\\n",
    "    str(text_type).count(\"('的', 'particle 的/底'), ('时候', 'noun')\")\n",
    "    def normalized(text_type): \n",
    "        return raw(text_type) / len(text_type)\n",
    "    return round(normalized (text_type) * 1000, 2) "
   ]
  },
  {
   "cell_type": "code",
   "execution_count": 227,
   "metadata": {},
   "outputs": [],
   "source": [
    "cond_result=[]\n",
    "for file in tagged_files: \n",
    "    cond_result.append(cond(file))\n",
    "    \n",
    "df['COND'] = pd.Series(cond_result)\n",
    "df.to_csv('/users/nannanliu/Research/MD/stats/individual/general_fiction.csv')"
   ]
  },
  {
   "cell_type": "code",
   "execution_count": 228,
   "metadata": {},
   "outputs": [],
   "source": [
    "#feature 14 other conjunctions\n",
    "def other_conj(text_type):\n",
    "    def raw(text_type):\n",
    "        return str(text_type).count('conjunction')-str(text_type).count('coordinating conjunction')-text_type.count(('因为', 'conjunction'))-text_type.count(('固', 'conjunction'))-text_type.count(('所以', 'conjunction'))-text_type.count(('则', 'conjunction'))-text_type.count(('从而', 'conjunction'))-text_type.count(('故', 'conjunction'))-text_type.count(('结果', 'conjunction'))-text_type.count(('所以', 'conjunction'))-text_type.count(('为此', 'conjunction'))-text_type.count(('以至', 'conjunction'))-text_type.count(('以至于', 'conjunction'))-text_type.count(('因', 'conjunction'))-text_type.count(('因此', 'conjunction'))-text_type.count(('因而', 'conjunction'))-text_type.count(('由于', 'conjunction'))-text_type.count(('于是', 'conjunction'))-text_type.count(('之所以', 'conjunction'))-text_type.count(('致使', 'conjunction'))-text_type.count(('纵然', 'conjunction'))-text_type.count(('即使', 'conjunction'))-text_type.count(('虽然', 'conjunction'))-text_type.count(('虽说', 'conjunction'))-text_type.count(('固然', 'conjunction'))-text_type.count(('尽管', 'conjunction'))-text_type.count(('就是', 'conjunction'))-text_type.count(('纵然', 'conjunction'))-text_type.count(('即使', 'conjunction'))-text_type.count(('虽然', 'conjunction'))-text_type.count(('虽说', 'conjunction'))-text_type.count(('尽管', 'conjunction'))-text_type.count(('就是', 'conjunction'))-text_type.count(('如果', 'conjunction'))-text_type.count(('只有', 'conjunction'))-text_type.count(('假如', 'conjunction'))-text_type.count(('除非', 'conjunction'))-text_type.count(('要是', 'conjunction'))-text_type.count(('要不是', 'conjunction'))-text_type.count(('只要', 'conjunction'))-text_type.count(('假如', 'conjunction'))-text_type.count(('倘若', 'conjunction'))-text_type.count(('倘或', 'conjunction'))-text_type.count(('设使', 'conjunction'))-text_type.count(('设若', 'conjunction'))-text_type.count(('如若', 'conjunction'))-text_type.count(('若', 'conjunction'))\n",
    "    def normalized(text_type): \n",
    "        return raw(text_type) / len(text_type)\n",
    "    return round(normalized (text_type) * 1000, 2) "
   ]
  },
  {
   "cell_type": "code",
   "execution_count": 229,
   "metadata": {},
   "outputs": [],
   "source": [
    "other_conj_result=[]\n",
    "for file in tagged_files: \n",
    "    other_conj_result.append(other_conj(file))\n",
    "    \n",
    "df['other_conj'] = pd.Series(other_conj_result)\n",
    "df.to_csv('/users/nannanliu/Research/MD/stats/individual/general_fiction.csv')"
   ]
  },
  {
   "cell_type": "code",
   "execution_count": 230,
   "metadata": {},
   "outputs": [],
   "source": [
    "#feature 14 modifying adverbs\n",
    "def modify_adv(text_type): \n",
    "    def raw(text_type): \n",
    "        return text_type.count(('也', 'adverb'))+\\\n",
    "    text_type.count(('都', 'adverb'))+text_type.count(('又', 'adverb'))\\\n",
    "    +text_type.count(('才', 'adverb'))+text_type.count(('就', 'adverb'))\\\n",
    "    +text_type.count(('就是', 'adverb'))+text_type.count(('倒是', 'adverb'))\\\n",
    "    +text_type.count(('越来越', 'adverb'))+text_type.count(('一边', 'adverb'))\\\n",
    "    +text_type.count(('再', 'adverb'))+text_type.count(('甚至', 'adverb'))\\\n",
    "    +text_type.count(('连', 'particle 连'))+text_type.count(('却', 'adverb'))\\\n",
    "    +text_type.count(('原本', 'adverb'))+text_type.count(('只', 'adverb'))\\\n",
    "    +text_type.count(('毕竟', 'adverb'))+text_type.count(('仍然', 'adverb'))\\\n",
    "    +text_type.count(('反正', 'adverb'))+text_type.count(('等', 'particle 等/等等/云云'))\\\n",
    "    +text_type.count(('刚', 'adverb'))+text_type.count(('常常', 'adverb'))\\\n",
    "    +text_type.count(('已经', 'adverb'))+text_type.count(('就要', 'adverb'))\n",
    "    def normalized(text_type): \n",
    "        return raw(text_type) / len(text_type)\n",
    "    return round(normalized (text_type) * 1000, 2) "
   ]
  },
  {
   "cell_type": "code",
   "execution_count": 231,
   "metadata": {},
   "outputs": [],
   "source": [
    "modify_adv_result=[]\n",
    "for file in tagged_files: \n",
    "    modify_adv_result.append(modify_adv(file))\n",
    "    \n",
    "df['modify_adv'] = pd.Series(modify_adv_result)\n",
    "df.to_csv('/users/nannanliu/Research/MD/stats/individual/general_fiction.csv')"
   ]
  },
  {
   "cell_type": "code",
   "execution_count": 232,
   "metadata": {},
   "outputs": [],
   "source": [
    "#feature 11 demonstrative pronoun\n",
    "def demp(text_type): \n",
    "    def raw(text_type): \n",
    "        return str(text_type).count('demonstrative pronoun')\n",
    "    def normalized(text_type): \n",
    "        return raw(text_type) / len(text_type)\n",
    "    return round(normalized (text_type) * 1000, 2) "
   ]
  },
  {
   "cell_type": "code",
   "execution_count": 233,
   "metadata": {},
   "outputs": [],
   "source": [
    "demp_result=[]\n",
    "for file in tagged_files: \n",
    "    demp_result.append(demp(file))\n",
    "    \n",
    "df['DEMP'] = pd.Series(demp_result)\n",
    "df.to_csv('/users/nannanliu/Research/MD/stats/individual/general_fiction.csv')"
   ]
  },
  {
   "cell_type": "code",
   "execution_count": 234,
   "metadata": {},
   "outputs": [],
   "source": [
    "#for file in tagged_files: \n",
    "    #print (demp(file))"
   ]
  },
  {
   "cell_type": "code",
   "execution_count": 235,
   "metadata": {},
   "outputs": [],
   "source": [
    "#feature 7 Be是\n",
    "def be(text_type):\n",
    "    def raw(text_type): \n",
    "        return text_type.count(('是', 'verb 是'))\n",
    "    def normalized(text_type): \n",
    "        return raw(text_type) / len(text_type)\n",
    "    return round(normalized (text_type) * 1000, 2) "
   ]
  },
  {
   "cell_type": "code",
   "execution_count": 236,
   "metadata": {},
   "outputs": [],
   "source": [
    "be_result=[]\n",
    "for file in tagged_files: \n",
    "    be_result.append(be(file))\n",
    "    \n",
    "df['BE'] = pd.Series(be_result)\n",
    "df.to_csv('/users/nannanliu/Research/MD/stats/individual/general_fiction.csv')"
   ]
  },
  {
   "cell_type": "code",
   "execution_count": 237,
   "metadata": {},
   "outputs": [],
   "source": [
    "#for corpus in sub_corpora: \n",
    "    #print (be(corpus))"
   ]
  },
  {
   "cell_type": "code",
   "execution_count": 238,
   "metadata": {},
   "outputs": [],
   "source": [
    "#feature 15 EX有\n",
    "def ex(text_type): \n",
    "    def raw(text_type): \n",
    "        return str(text_type).count('verb 有')\n",
    "    def normalized(text_type): \n",
    "        return raw(text_type) / len(text_type)\n",
    "    return round(normalized (text_type) * 1000, 2) "
   ]
  },
  {
   "cell_type": "code",
   "execution_count": 239,
   "metadata": {},
   "outputs": [],
   "source": [
    "ex_result=[]\n",
    "for file in tagged_files: \n",
    "    ex_result.append(ex(file))\n",
    "    \n",
    "df['EX'] = pd.Series(ex_result)\n",
    "df.to_csv('/users/nannanliu/Research/MD/stats/individual/general_fiction.csv')"
   ]
  },
  {
   "cell_type": "code",
   "execution_count": 240,
   "metadata": {},
   "outputs": [
    {
     "name": "stdout",
     "output_type": "stream",
     "text": [
      "4.59\n",
      "7.42\n",
      "6.63\n",
      "11.12\n",
      "7.67\n",
      "11.25\n",
      "5.46\n",
      "3.56\n",
      "8.1\n",
      "7.86\n",
      "8.81\n",
      "3.6\n",
      "9.77\n",
      "5.76\n",
      "3.52\n",
      "10.12\n",
      "7.36\n",
      "4.94\n",
      "4.46\n",
      "8.13\n",
      "7.84\n",
      "6.95\n",
      "6.26\n",
      "6.11\n",
      "4.07\n",
      "5.48\n",
      "6.88\n",
      "4.42\n",
      "3.66\n",
      "5.97\n",
      "7.28\n",
      "3.41\n"
     ]
    }
   ],
   "source": [
    "for file in tagged_files: \n",
    "    print (ex(file))"
   ]
  },
  {
   "cell_type": "code",
   "execution_count": 241,
   "metadata": {},
   "outputs": [],
   "source": [
    "#feature 18 other personal pronouns apart from FPP, SPP, TPP\n",
    "def other_personal(text_type): \n",
    "    def raw(text_type): \n",
    "        return str(text_type).count('personal pronoun')-str(text_type).count('我')\\\n",
    "    -str(text_type).count('你')-str(text_type).count('她')-str(text_type).count('他')\\\n",
    "    -str(text_type).count('它')\n",
    "    def normalized(text_type): \n",
    "        return raw(text_type) / len(text_type)\n",
    "    return round(normalized (text_type) * 1000, 2) "
   ]
  },
  {
   "cell_type": "code",
   "execution_count": 242,
   "metadata": {},
   "outputs": [],
   "source": [
    "other_personal_result=[]\n",
    "for file in tagged_files: \n",
    "    other_personal_result.append(other_personal(file))"
   ]
  },
  {
   "cell_type": "code",
   "execution_count": 243,
   "metadata": {},
   "outputs": [],
   "source": [
    "df['other_personal'] = pd.Series(other_personal_result)\n",
    "df.to_csv('/users/nannanliu/Research/MD/stats/individual/general_fiction.csv')"
   ]
  },
  {
   "cell_type": "code",
   "execution_count": 244,
   "metadata": {},
   "outputs": [],
   "source": [
    "#for file in tagged_files: \n",
    "    #print (other_personal(file))"
   ]
  },
  {
   "cell_type": "code",
   "execution_count": 245,
   "metadata": {},
   "outputs": [],
   "source": [
    "#feature 18 other personal pronouns apart from FPP, SPP, TPP\n",
    "def interrogative(text_type): \n",
    "    def raw(text_type): \n",
    "        return str(text_type).count('interrogative pronoun')-\\\n",
    "    str(text_type).count('predicative interrogative pronoun')\n",
    "    def normalized(text_type): \n",
    "        return raw(text_type) / len(text_type)\n",
    "    return round(normalized (text_type) * 1000, 2) "
   ]
  },
  {
   "cell_type": "code",
   "execution_count": 246,
   "metadata": {},
   "outputs": [],
   "source": [
    "interrogative_result=[]\n",
    "for file in tagged_files: \n",
    "    interrogative_result.append(interrogative(file))"
   ]
  },
  {
   "cell_type": "code",
   "execution_count": 247,
   "metadata": {},
   "outputs": [],
   "source": [
    "df['interrogative'] = pd.Series(interrogative_result)\n",
    "df.to_csv('/users/nannanliu/Research/MD/stats/individual/general_fiction.csv')"
   ]
  },
  {
   "cell_type": "code",
   "execution_count": 248,
   "metadata": {},
   "outputs": [],
   "source": [
    "#for file in tagged_files: \n",
    "    #print (interrogative(file))"
   ]
  },
  {
   "cell_type": "code",
   "execution_count": 249,
   "metadata": {},
   "outputs": [],
   "source": [
    "#feature 19 all adjectives \n",
    "def jj(text_type): \n",
    "    def raw(text_type): \n",
    "        return str(text_type).count('adjective')-str(text_type).count('noun-adjective')-\\\n",
    "    str(text_type).count('auxiliary adjective')\n",
    "    def normalized(text_type): \n",
    "        return raw(text_type) / len(text_type)\n",
    "    return round(normalized (text_type) * 1000, 2) "
   ]
  },
  {
   "cell_type": "code",
   "execution_count": 250,
   "metadata": {},
   "outputs": [],
   "source": [
    "jj_result=[]\n",
    "for file in tagged_files: \n",
    "    jj_result.append(jj(file))"
   ]
  },
  {
   "cell_type": "code",
   "execution_count": 251,
   "metadata": {},
   "outputs": [],
   "source": [
    "df['JJ'] = pd.Series(jj_result)\n",
    "df.to_csv('/users/nannanliu/Research/MD/stats/individual/general_fiction.csv')"
   ]
  },
  {
   "cell_type": "code",
   "execution_count": 252,
   "metadata": {},
   "outputs": [],
   "source": [
    "#for file in tagged_files: \n",
    "    #print (jj(file))"
   ]
  },
  {
   "cell_type": "code",
   "execution_count": 253,
   "metadata": {},
   "outputs": [],
   "source": [
    "#feature 23 noun nouns, all other nouns\n",
    "#noun - noun-adjective - noun-verb - pronoun-\n",
    "#personal pronoun - predicate demonstrative pronoun \n",
    "#-demonstrative pronoun - locative demonstrative pronoun \n",
    "#- predicate interrogative pronoun\n",
    "#- interrogative pronoun (什么) - predicate demonstrative pronoun\n",
    "def noun(text_type):\n",
    "    def raw(text_type): \n",
    "        return str(text_type).count('noun')-str(text_type).count('noun-adjective')\\\n",
    "    -str(text_type).count('noun-verb')-str(text_type).count('pronoun')-\\\n",
    "    str(text_type).count('noun of locality')+str(text_type).count('noun morpheme')\\\n",
    "    +str(text_type).count('proper noun')\n",
    "    def normalized(text_type): \n",
    "        return raw(text_type) / len(text_type)\n",
    "    return round(normalized (text_type) * 1000, 2)        "
   ]
  },
  {
   "cell_type": "code",
   "execution_count": 254,
   "metadata": {},
   "outputs": [],
   "source": [
    "noun_result=[]\n",
    "for file in tagged_files: \n",
    "    noun_result.append(noun(file))"
   ]
  },
  {
   "cell_type": "code",
   "execution_count": 255,
   "metadata": {},
   "outputs": [],
   "source": [
    "df['noun'] = pd.Series(noun_result)\n",
    "#del df['NN']\n",
    "df.to_csv('/users/nannanliu/Research/MD/stats/individual/general_fiction.csv')"
   ]
  },
  {
   "cell_type": "code",
   "execution_count": 256,
   "metadata": {},
   "outputs": [],
   "source": [
    "#for file in tagged_files: \n",
    "    #print (noun(file))"
   ]
  },
  {
   "cell_type": "code",
   "execution_count": 257,
   "metadata": {},
   "outputs": [],
   "source": [
    "#feature 27 noun morpheme\n",
    "#def noun_morpheme(text_type):\n",
    "    #def raw(text_type): \n",
    "       # return str(text_type).count('noun morpheme')\n",
    "    #def normalized(text_type): \n",
    "        #return raw(text_type) / len(text_type)\n",
    "    #return round(normalized (text_type) * 1000, 2)        "
   ]
  },
  {
   "cell_type": "code",
   "execution_count": 258,
   "metadata": {},
   "outputs": [],
   "source": [
    "#noun_morpheme_result=[]\n",
    "#for file in tagged_files: \n",
    "    #noun_morpheme_result.append(noun_morpheme(file))\n",
    "    \n",
    "#df['noun_morpheme'] = pd.Series(noun_morpheme_result)\n",
    "#df.to_csv('/users/nannanliu/Research/MD/stats/individual/general_fiction.csv')"
   ]
  },
  {
   "cell_type": "code",
   "execution_count": 259,
   "metadata": {},
   "outputs": [],
   "source": [
    "#for file in tagged_files: \n",
    "    #print (noun_morpheme(file))"
   ]
  },
  {
   "cell_type": "code",
   "execution_count": 260,
   "metadata": {},
   "outputs": [],
   "source": [
    "#del df['noun_morpheme']"
   ]
  },
  {
   "cell_type": "code",
   "execution_count": 261,
   "metadata": {},
   "outputs": [],
   "source": [
    "#feature 24 nominalization NOMZ \n",
    "#noun-adjective, noun-verb\n",
    "def nomz(text_type):\n",
    "    def raw(text_type): \n",
    "        return str(text_type).count('noun-adjective')+str(text_type).count('noun-verb')\n",
    "    def normalized(text_type): \n",
    "        return raw(text_type) / len(text_type)\n",
    "    return round(normalized (text_type) * 1000, 2)        "
   ]
  },
  {
   "cell_type": "code",
   "execution_count": 262,
   "metadata": {},
   "outputs": [],
   "source": [
    "nomz_result=[]\n",
    "for file in tagged_files: \n",
    "    nomz_result.append(nomz(file))\n",
    "    \n",
    "df['NOMZ'] = pd.Series(nomz_result)\n",
    "df.to_csv('/users/nannanliu/Research/MD/stats/individual/general_fiction.csv')"
   ]
  },
  {
   "cell_type": "code",
   "execution_count": 263,
   "metadata": {},
   "outputs": [],
   "source": [
    "#for file in tagged_files: \n",
    "    #print (nomz(file))"
   ]
  },
  {
   "cell_type": "code",
   "execution_count": 264,
   "metadata": {},
   "outputs": [],
   "source": [
    "#feature 28 proper noun + organization/group name\n",
    "#def proper_noun(text_type):\n",
    "    #def raw(text_type): \n",
    "       # return str(text_type).count('proper noun')+str(text_type).count('organization/group name')\n",
    "    #def normalized(text_type): \n",
    "        #return raw(text_type) / len(text_type)\n",
    "    #return round(normalized (text_type) * 1000, 2)        "
   ]
  },
  {
   "cell_type": "code",
   "execution_count": 265,
   "metadata": {},
   "outputs": [],
   "source": [
    "#proper_noun_result=[]\n",
    "#for file in tagged_files: \n",
    "    #proper_noun_result.append(proper_noun(file))\n",
    "\n",
    "#df['proper_noun'] = pd.Series(proper_noun_result)\n",
    "#df.to_csv('/users/nannanliu/Research/MD/stats/individual/general_fiction.csv')"
   ]
  },
  {
   "cell_type": "code",
   "execution_count": 266,
   "metadata": {},
   "outputs": [],
   "source": [
    "#for file in tagged_files: \n",
    "    #print (proper_noun(file))"
   ]
  },
  {
   "cell_type": "code",
   "execution_count": 267,
   "metadata": {},
   "outputs": [],
   "source": [
    "#del df['proper_noun']"
   ]
  },
  {
   "cell_type": "code",
   "execution_count": 268,
   "metadata": {},
   "outputs": [],
   "source": [
    "#feature 26 phrasal coordinations PHC \n",
    "# same tags before and after 和、以及、与、并、及、暨\n",
    "#ICTCLAS coordinating conjunction\n",
    "def phc(text_type):\n",
    "    def raw(text_type):\n",
    "        return str(text_type).count('coordinating conjunction')\n",
    "    def normalized(text_type):                                                                                     \n",
    "        return raw(text_type) / len(text_type)\n",
    "    return round(normalized (text_type) * 1000, 2) "
   ]
  },
  {
   "cell_type": "code",
   "execution_count": 269,
   "metadata": {},
   "outputs": [],
   "source": [
    "phc_result=[]\n",
    "for file in tagged_files: \n",
    "    phc_result.append(phc(file))\n",
    "    \n",
    "df['PHC'] = pd.Series(phc_result)\n",
    "df.to_csv('/users/nannanliu/Research/MD/stats/individual/general_fiction.csv')"
   ]
  },
  {
   "cell_type": "code",
   "execution_count": 270,
   "metadata": {},
   "outputs": [],
   "source": [
    "#for file in tagged_files: \n",
    "    #print (phc(file))"
   ]
  },
  {
   "cell_type": "code",
   "execution_count": 271,
   "metadata": {},
   "outputs": [],
   "source": [
    "#feature 27 PIN propositions 介词\n",
    "#all propositions except for bpin_list=['按着', '按照', '本着', '朝着', '趁着', '出于',\\\n",
    "#           '待到', '对于', '根据', '关于', '基于', '鉴于',\\\n",
    "#           '借着', '经过', '靠着', '冒着', '面对', '面临', \\\n",
    "#           '凭借', '顺着', '随着', '通过', '为了', '围绕',\\\n",
    "#           '向着', '沿着', '依据', '针对']\n",
    "def pin(text_type):\n",
    "    def raw(text_type): \n",
    "        return str(text_type).count('preposition')-text_type.count(('按着', 'preposition'))-text_type.count(('按照', 'preposition'))-text_type.count(('本着', 'preposition'))-text_type.count(('朝着', 'preposition'))-text_type.count(('趁着', 'preposition'))-text_type.count(('出于', 'preposition'))-text_type.count(('待到', 'preposition'))-text_type.count(('对于', 'preposition'))-text_type.count(('根据', 'preposition'))-text_type.count(('关于', 'preposition'))-text_type.count(('基于', 'preposition'))-text_type.count(('鉴于', 'preposition'))-text_type.count(('借着', 'preposition'))-text_type.count(('经过', 'preposition'))-text_type.count(('靠着', 'preposition'))-text_type.count(('冒着', 'preposition'))-text_type.count(('面对', 'preposition'))-text_type.count(('面临', 'preposition'))-text_type.count(('凭借', 'preposition'))-text_type.count(('顺着', 'preposition'))-text_type.count(('随着', 'preposition'))-text_type.count(('通过', 'preposition'))-text_type.count(('为了', 'preposition'))-text_type.count(('围绕', 'preposition'))-text_type.count(('向着', 'preposition'))-text_type.count(('沿着', 'preposition'))-text_type.count(('依据', 'preposition'))-text_type.count(('针对', 'preposition')) \n",
    "    def normalized(text_type): \n",
    "        return raw(text_type) / len(text_type)\n",
    "    return round(normalized (text_type) * 1000, 2)"
   ]
  },
  {
   "cell_type": "code",
   "execution_count": 272,
   "metadata": {},
   "outputs": [],
   "source": [
    "pin_result=[]\n",
    "for file in tagged_files: \n",
    "    pin_result.append(pin(file))\n",
    "    \n",
    "df['PIN'] = pd.Series(pin_result)\n",
    "df.to_csv('/users/nannanliu/Research/MD/stats/individual/general_fiction.csv')"
   ]
  },
  {
   "cell_type": "code",
   "execution_count": 273,
   "metadata": {},
   "outputs": [],
   "source": [
    "#for file in tagged_files: \n",
    "    #print (pin(file))"
   ]
  },
  {
   "cell_type": "code",
   "execution_count": 274,
   "metadata": {},
   "outputs": [],
   "source": [
    "#feature 28 BPIN disyllabic propostions\n",
    "#按照、本着、按着、朝着、趁着、出于、待到、对于、根据、关于、基于、鉴于\n",
    "#借着、经过、靠着、冒着、面对、面临、凭借、顺着、随着、通过、为了\n",
    "#围绕、向着、沿着、依据、针对\n",
    "def bpin(text_type):\n",
    "    def raw(text_type):\n",
    "        return text_type.count(('按照', 'preposition'))+text_type.count(('本着', 'preposition'))+text_type.count(('按着', 'preposition'))+text_type.count(('朝着', 'preposition'))+text_type.count(('趁着', 'preposition'))+text_type.count(('出于', 'preposition'))+text_type.count(('待到', 'preposition'))+text_type.count(('对于', 'preposition'))+text_type.count(('根据', 'preposition'))+text_type.count(('关于', 'preposition'))+text_type.count(('基于', 'preposition'))+text_type.count(('鉴于', 'preposition'))+text_type.count(('借着', 'preposition'))+text_type.count(('经过', 'preposition'))+text_type.count(('靠着', 'preposition'))+text_type.count(('冒着', 'preposition'))+text_type.count(('面对', 'preposition'))+text_type.count(('面临', 'preposition'))+text_type.count(('凭借', 'preposition'))+text_type.count(('顺着', 'preposition'))+text_type.count(('随着', 'preposition'))+text_type.count(('通过', 'preposition'))+text_type.count(('为了', 'preposition'))+text_type.count(('围绕', 'preposition'))+text_type.count(('向着', 'preposition'))+text_type.count(('沿着', 'preposition'))+text_type.count(('依据', 'preposition'))\n",
    "    def normalized(text_type): \n",
    "        return raw(text_type) / len(text_type)\n",
    "    return round(normalized (text_type) * 1000, 2)    "
   ]
  },
  {
   "cell_type": "code",
   "execution_count": 275,
   "metadata": {},
   "outputs": [],
   "source": [
    "bpin_result=[]\n",
    "for file in tagged_files: \n",
    "    bpin_result.append(bpin(file))\n",
    "    \n",
    "df['BPIN'] = pd.Series(bpin_result)\n",
    "df.to_csv('/users/nannanliu/Research/MD/stats/individual/general_fiction.csv')"
   ]
  },
  {
   "cell_type": "code",
   "execution_count": 276,
   "metadata": {},
   "outputs": [],
   "source": [
    "#for file in tagged_files: \n",
    "    #print (bpin(file))"
   ]
  },
  {
   "cell_type": "code",
   "execution_count": 277,
   "metadata": {},
   "outputs": [],
   "source": [
    "#feature 29 place\n",
    "def place(text_type):\n",
    "    def raw(text_type): \n",
    "        return str(text_type).count('noun of locality')+str(text_type).count('locative word')+\\\n",
    "    str(text_type).count('toponym')\n",
    "    def normalized(text_type): \n",
    "        return raw(text_type) / len(text_type)\n",
    "    return round(normalized (text_type) * 1000, 2)        "
   ]
  },
  {
   "cell_type": "code",
   "execution_count": 278,
   "metadata": {},
   "outputs": [],
   "source": [
    "place_result=[]\n",
    "for file in tagged_files: \n",
    "    place_result.append(place(file))\n",
    "  \n",
    "#del df['PLACE']\n",
    "df['place'] = pd.Series(place_result)\n",
    "df.to_csv('/users/nannanliu/Research/MD/stats/individual/general_fiction.csv')"
   ]
  },
  {
   "cell_type": "code",
   "execution_count": 279,
   "metadata": {},
   "outputs": [],
   "source": [
    "#for file in tagged_files: \n",
    "    #print (place(file))"
   ]
  },
  {
   "cell_type": "code",
   "execution_count": 280,
   "metadata": {},
   "outputs": [],
   "source": [
    "#feature 31 private verbs \n",
    "#1\n",
    "def priv1(text_type):\n",
    "    def raw(text_type): \n",
    "        return text_type.count(('三思', 'verb'))+text_type.count(('三省', 'verb'))+text_type.count(('主张', 'verb'))+text_type.count(('了解', 'verb'))+text_type.count(('亲信', 'verb'))+text_type.count(('以为', 'verb'))+text_type.count(('企图', 'verb'))+text_type.count(('会意', 'verb'))+text_type.count(('伤心', 'verb'))+text_type.count(('估', 'verb'))+text_type.count(('估摸', 'verb'))+text_type.count(('估算', 'verb'))+text_type.count(('估计', 'verb'))+text_type.count(('估量', 'verb'))+text_type.count(('低估', 'verb'))+text_type.count(('体会', 'verb'))+text_type.count(('体味', 'verb'))+text_type.count(('信', 'verb'))+text_type.count(('信任', 'verb'))+text_type.count(('信赖', 'verb'))+text_type.count(('修省', 'verb'))+text_type.count(('假定', 'verb'))+text_type.count(('假想', 'verb'))+text_type.count(('允许', 'verb'))+text_type.count(('关心', 'verb'))+text_type.count(('关怀', 'verb'))+text_type.count(('内省', 'verb'))+text_type.count(('决定', 'verb'))+text_type.count(('决心', 'verb'))+text_type.count(('决意', 'verb'))+text_type.count(('决断', 'verb'))+text_type.count(('决计', 'verb'))+text_type.count(('准备', 'verb'))+text_type.count(('准许', 'verb'))+text_type.count(('凝思', 'verb'))+text_type.count(('凝想', 'verb'))+text_type.count(('凭信', 'verb'))+text_type.count(('分晓', 'verb'))+text_type.count(('切记', 'verb'))+text_type.count(('划算', 'verb'))+text_type.count(('判断', 'verb'))+text_type.count(('原谅', 'verb'))+text_type.count(('参悟', 'verb'))+text_type.count(('反对', 'verb'))+text_type.count(('反思', 'verb'))\n",
    "    def normalized(text_type): \n",
    "        return raw(text_type) / len(text_type)\n",
    "    return round(normalized (text_type) * 1000, 2)        "
   ]
  },
  {
   "cell_type": "code",
   "execution_count": 281,
   "metadata": {},
   "outputs": [],
   "source": [
    "p_1 = []\n",
    "for file in tagged_files:\n",
    "    p_1.append(priv1(file))"
   ]
  },
  {
   "cell_type": "code",
   "execution_count": 282,
   "metadata": {},
   "outputs": [],
   "source": [
    "#2\n",
    "def priv2(text_type):\n",
    "    def raw(text_type): \n",
    "        return text_type.count(('反省', 'verb'))+text_type.count(('发现', 'verb'))+text_type.count(('发觉', 'verb'))+text_type.count(('吃准', 'verb'))+text_type.count(('合计', 'verb'))+text_type.count(('合谋', 'verb'))+text_type.count(('同情', 'verb'))+text_type.count(('同意', 'verb'))+text_type.count(('否认', 'verb'))+text_type.count(('听信', 'verb'))+text_type.count(('听到', 'verb'))+text_type.count(('听见', 'verb'))+text_type.count(('哭', 'verb'))+text_type.count(('喜欢', 'verb'))+text_type.count(('喜爱', 'verb'))+text_type.count(('回味', 'verb'))+text_type.count(('回忆', 'verb'))+text_type.count(('回念', 'verb'))+text_type.count(('回想', 'verb'))+text_type.count(('回溯', 'verb'))+text_type.count(('回顾', 'verb'))+text_type.count(('图谋', 'verb'))+text_type.count(('图', 'verb'))+text_type.count(('坚信', 'verb'))+text_type.count(('多疑', 'verb'))+text_type.count(('失望', 'verb'))+text_type.count(('失身', 'verb'))+text_type.count(('妄图', 'verb'))+text_type.count(('妄断', 'verb'))+text_type.count(('宠信', 'verb'))+text_type.count(('害怕', 'verb'))+text_type.count(('察觉', 'verb'))+text_type.count(('寻思', 'verb'))+text_type.count(('尊敬', 'verb'))+text_type.count(('尊重', 'verb'))+text_type.count(('小心', 'verb'))+text_type.count(('希望', 'verb'))+text_type.count(('平静', 'verb'))+text_type.count(('幻想', 'verb'))+text_type.count(('当做', 'verb'))+text_type.count(('彻悟', 'verb'))+text_type.count(('得知', 'verb'))+text_type.count(('忆', 'verb'))+text_type.count(('忖度', 'verb'))+text_type.count(('忖量', 'verb'))+text_type.count(('忘', 'verb'))+text_type.count(('忘却', 'verb'))+text_type.count(('忘怀', 'verb'))\n",
    "    def normalized(text_type): \n",
    "        return raw(text_type) / len(text_type)\n",
    "    return round(normalized (text_type) * 1000, 2) "
   ]
  },
  {
   "cell_type": "code",
   "execution_count": 283,
   "metadata": {},
   "outputs": [],
   "source": [
    "p_2 = []\n",
    "for file in tagged_files:\n",
    "    p_2.append(priv2(file))"
   ]
  },
  {
   "cell_type": "code",
   "execution_count": 284,
   "metadata": {},
   "outputs": [],
   "source": [
    "#3\n",
    "def priv3(text_type):\n",
    "    def raw(text_type): \n",
    "        return text_type.count(('忘掉', 'verb'))+text_type.count(('忘记', 'verb'))+text_type.count(('快乐', 'verb'))+text_type.count(('念', 'verb'))+text_type.count(('忽略', 'verb'))+text_type.count(('忽视', 'verb'))+text_type.count(('怀念', 'verb'))+text_type.count(('怀想', 'verb'))+text_type.count(('怀疑', 'verb'))+text_type.count(('怕', 'verb'))+text_type.count(('思忖', 'verb'))+text_type.count(('思想', 'verb'))+text_type.count(('思索', 'verb'))+text_type.count(('思维', 'verb'))+text_type.count(('思考', 'verb'))+text_type.count(('思虑', 'verb'))+text_type.count(('思量', 'verb'))+text_type.count(('恨', 'verb'))+text_type.count(('悟', 'verb'))+text_type.count(('悬想', 'verb'))+text_type.count(('情知', 'verb'))+text_type.count(('惊恐', 'verb'))+text_type.count(('想', 'verb'))+text_type.count(('想像', 'verb'))+text_type.count(('想来', 'verb'))+text_type.count(('想见', 'verb'))+text_type.count(('想象', 'verb'))+text_type.count(('愉快', 'verb'))+text_type.count(('意会', 'verb'))+text_type.count(('意想', 'verb'))+text_type.count(('意料', 'verb'))+text_type.count(('意识', 'verb'))+text_type.count(('感到', 'verb'))+text_type.count(('感动', 'verb'))+text_type.count(('感受', 'verb'))+text_type.count(('感悟', 'verb'))+text_type.count(('感想', 'verb'))+text_type.count(('感激', 'verb'))+text_type.count(('感觉', 'verb'))+text_type.count(('感觉', 'verb'))+text_type.count(('感谢', 'verb'))+text_type.count(('愤怒', 'verb'))\n",
    "    def normalized(text_type): \n",
    "        return raw(text_type) / len(text_type)\n",
    "    return round(normalized (text_type) * 1000, 2) "
   ]
  },
  {
   "cell_type": "code",
   "execution_count": 285,
   "metadata": {},
   "outputs": [],
   "source": [
    "p_3 = []\n",
    "for file in tagged_files:\n",
    "    p_3.append(priv3(file))"
   ]
  },
  {
   "cell_type": "code",
   "execution_count": 286,
   "metadata": {},
   "outputs": [],
   "source": [
    "#4\n",
    "def priv4(text_type):\n",
    "    def raw(text_type): \n",
    "        return text_type.count(('愿意', 'verb'))+text_type.count(('懂', 'verb'))+text_type.count(('懂得', 'verb'))+text_type.count(('打算', 'verb'))+text_type.count(('承想', 'verb'))+text_type.count(('承认', 'verb'))+text_type.count(('担心', 'verb'))+text_type.count(('拥护', 'verb'))+text_type.count(('捉摸', 'verb'))+text_type.count(('掂掇', 'verb'))+text_type.count(('掂量', 'verb'))+text_type.count(('掌握', 'verb'))+text_type.count(('推度', 'verb'))+text_type.count(('推想', 'verb'))+text_type.count(('推敲', 'verb'))+text_type.count(('推断', 'verb'))+text_type.count(('推测', 'verb'))+text_type.count(('推理', 'verb'))+text_type.count(('推算', 'verb'))+text_type.count(('推见', 'verb'))+text_type.count(('措意', 'verb'))+text_type.count(('揆度', 'verb'))+text_type.count(('揣度', 'verb'))+text_type.count(('揣想', 'verb'))+text_type.count(('揣摩', 'verb'))+text_type.count(('揣摸', 'verb'))+text_type.count(('揣测', 'verb'))+text_type.count(('支持', 'verb'))+text_type.count(('放心', 'verb'))+text_type.count(('料想', 'verb'))+text_type.count(('料', 'verb'))+text_type.count(('斟酌', 'verb'))+text_type.count(('断定', 'verb'))+text_type.count(('明了', 'verb'))+text_type.count(('明察', 'verb'))+text_type.count(('明晓', 'verb'))+text_type.count(('明白', 'verb'))+text_type.count(('明知', 'verb'))+text_type.count(('明确', 'verb'))+text_type.count(('晓得', 'verb'))+text_type.count(('权衡', 'verb'))+text_type.count(('梦想', 'verb'))+text_type.count(('欢迎', 'verb'))+text_type.count(('欣赏', 'verb'))+text_type.count(('武断', 'verb'))+text_type.count(('死记', 'verb'))+text_type.count(('沉思', 'verb'))+text_type.count(('注意', 'verb'))+text_type.count(('洞察', 'verb'))+text_type.count(('洞彻', 'verb'))+text_type.count(('洞悉', 'verb'))+text_type.count(('洞晓', 'verb'))+text_type.count(('洞达', 'verb'))+text_type.count(('测度', 'verb'))+text_type.count(('浮想', 'verb'))+text_type.count(('淡忘', 'verb'))+text_type.count(('深信', 'verb'))+text_type.count(('深思', 'verb'))+text_type.count(('深省', 'verb'))+text_type.count(('深醒', 'verb'))+text_type.count(('清楚', 'verb'))+text_type.count(('清楚', 'verb'))+text_type.count(('满意', 'verb'))+text_type.count(('满足', 'verb'))+text_type.count(('激动', 'verb'))+text_type.count(('热爱', 'verb'))+text_type.count(('熟悉', 'verb'))+text_type.count(('熟知', 'verb'))+text_type.count(('熟虑', 'verb'))+text_type.count(('爱', 'verb'))+text_type.count(('爱好', 'verb'))+text_type.count(('牢记', 'verb'))+text_type.count(('犯疑', 'verb'))+text_type.count(('狂想', 'verb'))+text_type.count(('狐疑', 'verb'))+text_type.count(('猛醒', 'verb'))+text_type.count(('猜', 'verb'))+text_type.count(('猜度', 'verb'))+text_type.count(('猜忌', 'verb'))+text_type.count(('猜想', 'verb'))+text_type.count(('猜测', 'verb'))\n",
    "    def normalized(text_type): \n",
    "        return raw(text_type) / len(text_type)\n",
    "    return round(normalized (text_type) * 1000, 2) "
   ]
  },
  {
   "cell_type": "code",
   "execution_count": 287,
   "metadata": {},
   "outputs": [],
   "source": [
    "p_4 = []\n",
    "for file in tagged_files:\n",
    "    p_4.append(priv4(file))"
   ]
  },
  {
   "cell_type": "code",
   "execution_count": 288,
   "metadata": {},
   "outputs": [],
   "source": [
    "#5 \n",
    "def priv5(text_type):\n",
    "    def raw(text_type): \n",
    "        return text_type.count(('猜疑', 'verb'))+text_type.count(('玄想', 'verb'))+text_type.count(('理会', 'verb'))+text_type.count(('理解', 'verb'))+text_type.count(('琢磨', 'verb'))+text_type.count(('生气', 'verb'))+text_type.count(('生疑', 'verb'))+text_type.count(('畅想', 'verb'))+text_type.count(('留心', 'verb'))+text_type.count(('留神', 'verb'))+text_type.count(('疏忽', 'verb'))+text_type.count(('疑', 'verb'))+text_type.count(('疑心', 'verb'))+text_type.count(('疑猜', 'verb'))+text_type.count(('疑虑', 'verb'))+text_type.count(('疼', 'verb'))+text_type.count(('盘算', 'verb'))+text_type.count(('相信', 'verb'))+text_type.count(('盼望', 'verb'))+text_type.count(('省察', 'verb'))+text_type.count(('省悟', 'verb'))+text_type.count(('看', 'verb'))+text_type.count(('看到', 'verb'))+text_type.count(('看见', 'verb'))+text_type.count(('看透', 'verb'))+text_type.count(('着想', 'verb'))+text_type.count(('知', 'verb'))+text_type.count(('知悉', 'verb'))+text_type.count(('知晓', 'verb'))+text_type.count(('知道', 'verb'))+text_type.count(('确信', 'verb'))+text_type.count(('确定', 'verb'))+text_type.count(('确认', 'verb'))+text_type.count(('空想', 'verb'))+text_type.count(('立意', 'verb'))+text_type.count(('笃信', 'verb'))+text_type.count(('笑', 'verb'))+text_type.count(('答应', 'verb'))+text_type.count(('策划', 'verb'))+text_type.count(('筹划', 'verb'))+text_type.count(('筹算', 'verb'))+text_type.count(('筹谋', 'verb'))+text_type.count(('算', 'verb'))+text_type.count(('算计', 'verb'))+text_type.count(('粗估', 'verb'))+text_type.count(('约摸', 'verb'))+text_type.count(('置疑', 'verb'))+text_type.count(('考虑', 'verb'))+text_type.count(('考量', 'verb'))+text_type.count(('联想', 'verb'))+text_type.count(('腹诽', 'verb'))+text_type.count(('臆度', 'verb'))+text_type.count(('臆想', 'verb'))+text_type.count(('臆断', 'verb'))+text_type.count(('臆测', 'verb'))+text_type.count(('自信', 'verb'))+text_type.count(('自省', 'verb'))+text_type.count(('蒙', 'verb'))+text_type.count(('蓄念', 'verb'))+text_type.count(('蓄谋', 'verb'))+text_type.count(('衡量', 'verb'))+text_type.count(('裁度', 'verb'))+text_type.count(('要求', 'verb'))+text_type.count(('观察', 'verb'))+text_type.count(('觉察', 'verb'))+text_type.count(('觉得', 'verb'))+text_type.count(('觉悟', 'verb'))+text_type.count(('觉醒', 'verb'))+text_type.count(('警惕', 'verb'))+text_type.count(('警觉', 'verb'))+text_type.count(('计划', 'verb'))+text_type.count(('计算', 'verb'))+text_type.count(('计较', 'verb'))+text_type.count(('认为', 'verb'))+text_type.count(('认可', 'verb'))+text_type.count(('认同', 'verb'))+text_type.count(('认定', 'verb'))+text_type.count(('认得', 'verb'))+text_type.count(('认知', 'verb'))+text_type.count(('认识', 'verb'))\n",
    "    def normalized(text_type): \n",
    "        return raw(text_type) / len(text_type)\n",
    "    return round(normalized (text_type) * 1000, 2) "
   ]
  },
  {
   "cell_type": "code",
   "execution_count": 289,
   "metadata": {},
   "outputs": [],
   "source": [
    "p_5 = []\n",
    "for file in tagged_files:\n",
    "    p_5.append(priv5(file))"
   ]
  },
  {
   "cell_type": "code",
   "execution_count": 290,
   "metadata": {},
   "outputs": [],
   "source": [
    "#6\n",
    "def priv6(text_type):\n",
    "    def raw(text_type): \n",
    "        return text_type.count(('讨厌', 'verb'))+text_type.count(('记', 'verb'))+text_type.count(('记取', 'verb'))+text_type.count(('记得', 'verb'))+text_type.count(('记忆', 'verb'))+text_type.count(('设想', 'verb'))+text_type.count(('识', 'verb'))+text_type.count(('试图', 'verb'))+text_type.count(('试想', 'verb'))+text_type.count(('详悉', 'verb'))+text_type.count(('误会', 'verb'))+text_type.count(('误解', 'verb'))+text_type.count(('谋划', 'verb'))+text_type.count(('谋算', 'verb'))+text_type.count(('谋虑', 'verb'))+text_type.count(('赞同', 'verb'))+text_type.count(('赞成', 'verb'))+text_type.count(('走神儿', 'verb'))+text_type.count(('起疑', 'verb'))+text_type.count(('轻信', 'verb'))+text_type.count(('轻视', 'verb'))+text_type.count(('迷信', 'verb'))+text_type.count(('迷信', 'verb'))+text_type.count(('追忆', 'verb'))+text_type.count(('追怀', 'verb'))+text_type.count(('追思', 'verb'))+text_type.count(('追想', 'verb'))+text_type.count(('通彻', 'verb'))+text_type.count(('通晓', 'verb'))+text_type.count(('通', 'verb'))+text_type.count(('遐想', 'verb'))+text_type.count(('遗忘', 'verb'))+text_type.count(('遥想', 'verb'))+text_type.count(('酌情', 'verb'))+text_type.count(('酌量', 'verb'))+text_type.count(('醒', 'verb'))+text_type.count(('醒悟', 'verb'))+text_type.count(('重视', 'verb'))+text_type.count(('铭记', 'verb'))+text_type.count(('阴谋', 'verb')) +text_type.count(('顾全', 'verb'))+text_type.count(('顾及', 'verb'))+text_type.count(('预卜', 'verb'))+text_type.count(('预想', 'verb'))+text_type.count(('预感', 'verb'))+text_type.count(('预料', 'verb'))+text_type.count(('预期', 'verb'))+text_type.count(('预测', 'verb'))+text_type.count(('预知', 'verb'))+text_type.count(('预见', 'verb'))+text_type.count(('预计', 'verb'))+text_type.count(('预谋', 'verb'))+text_type.count(('领会', 'verb'))+text_type.count(('领悟', 'verb'))+text_type.count(('领略', 'verb'))+text_type.count(('高估', 'verb'))+text_type.count(('高兴', 'verb'))+text_type.count(('默认', 'verb'))\n",
    "    def normalized(text_type): \n",
    "        return raw(text_type) / len(text_type)\n",
    "    return round(normalized (text_type) * 1000, 2) "
   ]
  },
  {
   "cell_type": "code",
   "execution_count": 291,
   "metadata": {},
   "outputs": [],
   "source": [
    "p_6 = []\n",
    "for file in tagged_files:\n",
    "    p_6.append(priv6(file))"
   ]
  },
  {
   "cell_type": "code",
   "execution_count": 292,
   "metadata": {},
   "outputs": [],
   "source": [
    "random1=[sum(i) for i in zip(p_1, p_2)]\n",
    "random2=[sum(i) for i in zip(p_3, p_4)]\n",
    "random3=[sum(i) for i in zip(p_5, p_6)]\n",
    "random4=[sum(i) for i in zip(random1, random2)]\n",
    "final=[sum(i) for i in zip(random3, random4)]\n",
    "#for i in final: \n",
    "   # print (i)\n",
    "    \n",
    "df['PRIV'] = pd.Series(final)\n",
    "df.to_csv('/users/nannanliu/Research/MD/stats/individual/general_fiction.csv')"
   ]
  },
  {
   "cell_type": "code",
   "execution_count": 293,
   "metadata": {},
   "outputs": [],
   "source": [
    "#feature 32 public verb PUBV\n",
    "#表示、称、道、说、讲、质疑、认为、坦言、指出、告诉、呼吁、解释、问、建议\n",
    "def pubv(text_type):\n",
    "    def raw(text_type): \n",
    "        return text_type.count(('表示', 'verb'))+text_type.count(('称', 'verb'))+text_type.count(('道', 'verb'))+text_type.count(('说', 'verb'))+text_type.count(('讲', 'verb'))+text_type.count(('质疑', 'verb'))+text_type.count(('认为', 'verb'))+text_type.count(('坦言', 'verb'))+text_type.count(('指出', 'verb'))+text_type.count(('告诉', 'verb'))+text_type.count(('呼吁', 'verb'))+text_type.count(('解释', 'verb'))+text_type.count(('问', 'verb'))+text_type.count(('建议', 'verb'))\n",
    "    def normalized(text_type): \n",
    "        return raw(text_type) / len(text_type)\n",
    "    return round(normalized (text_type) * 1000, 2)"
   ]
  },
  {
   "cell_type": "code",
   "execution_count": 294,
   "metadata": {},
   "outputs": [],
   "source": [
    "pubv_result=[]\n",
    "for file in tagged_files: \n",
    "    pubv_result.append(pubv(file))\n",
    "    \n",
    "df['PUBV'] = pd.Series(pubv_result)\n",
    "df.to_csv('/users/nannanliu/Research/MD/stats/individual/general_fiction.csv')"
   ]
  },
  {
   "cell_type": "code",
   "execution_count": 295,
   "metadata": {},
   "outputs": [],
   "source": [
    "#for file in tagged_files: \n",
    "    #print (pubv(file))"
   ]
  },
  {
   "cell_type": "code",
   "execution_count": 296,
   "metadata": {},
   "outputs": [],
   "source": [
    "#feature 33 RB adverbs 副词\n",
    "def rb(text_type):\n",
    "    def raw(text_type): \n",
    "        return str(text_type).count('adverb')\n",
    "    def normalized(text_type): \n",
    "        return raw(text_type) / len(text_type)\n",
    "    return round(normalized (text_type) * 1000, 2)"
   ]
  },
  {
   "cell_type": "code",
   "execution_count": 297,
   "metadata": {},
   "outputs": [],
   "source": [
    "rb_result=[]\n",
    "for file in tagged_files: \n",
    "    rb_result.append(rb(file))\n",
    "    \n",
    "df['RB'] = pd.Series(rb_result)\n",
    "df.to_csv('/users/nannanliu/Research/MD/stats/individual/general_fiction.csv')"
   ]
  },
  {
   "cell_type": "code",
   "execution_count": 298,
   "metadata": {},
   "outputs": [],
   "source": [
    "#for file in tagged_files: \n",
    "    #print (rb(file))"
   ]
  },
  {
   "cell_type": "code",
   "execution_count": 299,
   "metadata": {},
   "outputs": [],
   "source": [
    "#feature 35 negation 不、别、没\n",
    "#('别', 'adverb')、('不', 'adverb')\n",
    "#('没', 'verb')、('没', 'adverb')\n",
    "def analytic_negation(text_type):\n",
    "    def raw(text_type): \n",
    "        return text_type.count(('别', 'adverb'))+text_type.count(('不', 'adverb'))+text_type.count(('没', 'verb'))+text_type.count(('没', 'adverb'))\n",
    "    def normalized(text_type): \n",
    "        return raw(text_type) / len(text_type)\n",
    "    return round(normalized (text_type) * 1000, 2)"
   ]
  },
  {
   "cell_type": "code",
   "execution_count": 300,
   "metadata": {},
   "outputs": [],
   "source": [
    "analytic_negation_result=[]\n",
    "for file in tagged_files: \n",
    "    analytic_negation_result.append(analytic_negation(file))\n",
    "    \n",
    "df['analytic_negation'] = pd.Series(analytic_negation_result)\n",
    "df.to_csv('/users/nannanliu/Research/MD/stats/individual/general_fiction.csv')"
   ]
  },
  {
   "cell_type": "code",
   "execution_count": 301,
   "metadata": {},
   "outputs": [],
   "source": [
    "#feature 36 synthectic negation 没有\n",
    "#('没有', 'adverb')、('没有', 'verb')\n",
    "def synthectic_negation(text_type):\n",
    "    def raw(text_type): \n",
    "        return text_type.count(('没有', 'adverb'))+text_type.count(('没有', 'verb'))\n",
    "    def normalized(text_type): \n",
    "        return raw(text_type) / len(text_type)\n",
    "    return round(normalized (text_type) * 1000, 2)"
   ]
  },
  {
   "cell_type": "code",
   "execution_count": 302,
   "metadata": {},
   "outputs": [],
   "source": [
    "synthectic_negation_result=[]\n",
    "for file in tagged_files: \n",
    "    synthectic_negation_result.append(synthectic_negation(file))\n",
    "\n",
    "df['synthectic_negation'] = pd.Series(synthectic_negation_result)\n",
    "#del df['negation']\n",
    "df.to_csv('/users/nannanliu/Research/MD/stats/individual/general_fiction.csv')"
   ]
  },
  {
   "cell_type": "code",
   "execution_count": 303,
   "metadata": {},
   "outputs": [],
   "source": [
    "#for file in tagged_files: \n",
    "    #print (negation(file))"
   ]
  },
  {
   "cell_type": "code",
   "execution_count": 304,
   "metadata": {},
   "outputs": [],
   "source": [
    "#feature 37 TIME time word \n",
    "def time(text_type):\n",
    "    def raw(text_type): \n",
    "        return str(text_type).count('time word')\n",
    "    def normalized(text_type): \n",
    "        return raw(text_type) / len(text_type)\n",
    "    return round(normalized (text_type) * 1000, 2)"
   ]
  },
  {
   "cell_type": "code",
   "execution_count": 305,
   "metadata": {},
   "outputs": [],
   "source": [
    "time_result=[]\n",
    "for file in tagged_files: \n",
    "    time_result.append(time(file))\n",
    "    \n",
    "df['TIME'] = pd.Series(time_result)\n",
    "df.to_csv('/users/nannanliu/Research/MD/stats/individual/general_fiction.csv')"
   ]
  },
  {
   "cell_type": "code",
   "execution_count": 306,
   "metadata": {},
   "outputs": [],
   "source": [
    "#for file in tagged_files: \n",
    "    #print (time(file))"
   ]
  },
  {
   "cell_type": "code",
   "execution_count": 307,
   "metadata": {},
   "outputs": [],
   "source": [
    "#feature 40 WH 无定代词\n",
    "#('怎么', 'predicate interrogative pronoun')、('怎么样', 'predicate interrogative pronoun')\n",
    "#('怎样', 'predicate interrogative pronoun')\n",
    "#('为什么', 'predicate interrogative pronoun')\n",
    "#('如何', 'predicate interrogative pronoun')\n",
    "#('什么样', 'predicate interrogative pronoun')\n",
    "#search for predicate interrogative pronoun\n",
    "def wh(text_type):\n",
    "    def raw(text_type):\n",
    "        return str(text_type).count('predicate interrogative pronoun')\n",
    "    def normalized(text_type):                                                                                     \n",
    "        return raw(text_type) / len(text_type)\n",
    "    return round(normalized (text_type) * 1000, 2) "
   ]
  },
  {
   "cell_type": "code",
   "execution_count": 308,
   "metadata": {},
   "outputs": [],
   "source": [
    "wh_result=[]\n",
    "for file in tagged_files: \n",
    "    wh_result.append(wh(file))\n",
    "    \n",
    "df['WH'] = pd.Series(wh_result)\n",
    "df.to_csv('/users/nannanliu/Research/MD/stats/individual/general_fiction.csv')"
   ]
  },
  {
   "cell_type": "code",
   "execution_count": 309,
   "metadata": {},
   "outputs": [],
   "source": [
    "#for file in tagged_files: \n",
    "    #print (wh(file))"
   ]
  },
  {
   "cell_type": "code",
   "execution_count": 310,
   "metadata": {},
   "outputs": [],
   "source": [
    "#feature 们 suffix\n",
    "def men(text_type):\n",
    "    def raw(text_type):\n",
    "        return text_type.count(('们', 'suffix'))\n",
    "    def normalized(text_type):                                                                                     \n",
    "        return raw(text_type) / len(text_type)\n",
    "    return round(normalized (text_type) * 1000, 2) "
   ]
  },
  {
   "cell_type": "code",
   "execution_count": 311,
   "metadata": {},
   "outputs": [],
   "source": [
    "men_result=[]\n",
    "for file in tagged_files: \n",
    "    men_result.append(men(file))\n",
    "    \n",
    "df['men_suffix'] = pd.Series(men_result)\n",
    "df.to_csv('/users/nannanliu/Research/MD/stats/individual/general_fiction.csv')"
   ]
  },
  {
   "cell_type": "code",
   "execution_count": 312,
   "metadata": {},
   "outputs": [],
   "source": [
    "#feature 41 monosyllabic verbs\n",
    "#1. convert corpora to dict # no None in values \n",
    "#2. select verbs from dict values \n",
    "#3. convert corresponding keys to list \n",
    "#4. return len(corresponding keys) == 2 or 1 / len (filtered dict)\n",
    "\n",
    "##dict would remove duplicates, not ideal\n",
    "d_list=[]\n",
    "for file in tagged_files: \n",
    "    d=dict(file)\n",
    "    d_list.append(d)"
   ]
  },
  {
   "cell_type": "code",
   "execution_count": 313,
   "metadata": {},
   "outputs": [],
   "source": [
    "#len(tagged_files[0])"
   ]
  },
  {
   "cell_type": "code",
   "execution_count": 314,
   "metadata": {},
   "outputs": [],
   "source": [
    "import re\n",
    "def mono_verbs(text): \n",
    "    verbs= {k:v for k,v in text.items() if re.match('.*verb', v)}\n",
    "    return round ((len([word for word in list(verbs.keys()) if len(word) == 1]) / len(text))*1000, 2)"
   ]
  },
  {
   "cell_type": "code",
   "execution_count": 315,
   "metadata": {},
   "outputs": [],
   "source": [
    "mono_verbs_result=[]\n",
    "for d in d_list: \n",
    "    mono_verbs_result.append(mono_verbs(d))\n",
    "    \n",
    "df['mono_verbs'] = pd.Series(mono_verbs_result)\n",
    "df.to_csv('/users/nannanliu/Research/MD/stats/individual/general_fiction.csv')"
   ]
  },
  {
   "cell_type": "code",
   "execution_count": 316,
   "metadata": {},
   "outputs": [],
   "source": [
    "#for d in d_list: \n",
    "    #print (mono_verbs(d))"
   ]
  },
  {
   "cell_type": "code",
   "execution_count": 317,
   "metadata": {},
   "outputs": [],
   "source": [
    "#feature 42 disyllabic verbs\n",
    "def di_verbs(text): \n",
    "    verbs= {k:v for k,v in text.items() if re.match('.*verb', v)}\n",
    "    return round((len([word for word in list(verbs.keys()) if len(word) == 2]) / len(text))*1000, 2)"
   ]
  },
  {
   "cell_type": "code",
   "execution_count": 318,
   "metadata": {},
   "outputs": [],
   "source": [
    "di_verbs_result=[]\n",
    "for d in d_list: \n",
    "    di_verbs_result.append(di_verbs(d))\n",
    "    \n",
    "df['di_verbs'] = pd.Series(di_verbs_result)\n",
    "df.to_csv('/users/nannanliu/Research/MD/stats/individual/general_fiction.csv')"
   ]
  },
  {
   "cell_type": "code",
   "execution_count": 319,
   "metadata": {},
   "outputs": [],
   "source": [
    "#for d in d_list: \n",
    "    #print (di_verbs(d))"
   ]
  },
  {
   "cell_type": "code",
   "execution_count": 320,
   "metadata": {},
   "outputs": [],
   "source": [
    "#feature 41 classical function words 文言文功能词\n",
    "#('所', 'particle 所')、('将', 'adverb')、('将', 'preposition')\n",
    "#('之', 'particle 之')、('于', 'preposition')、('以', 'preposition')\n",
    "def classical_func(text_type):\n",
    "    def raw(text_type): \n",
    "        return text_type.count(('所', 'particle 所'))+text_type.count(('将', 'adverb'))+text_type.count(('将', 'preposition'))+text_type.count(('之', 'particle 之'))+text_type.count(('于', 'preposition'))+text_type.count(('以', 'preposition'))\n",
    "    def normalized(text_type): \n",
    "        return raw(text_type) / len(text_type)\n",
    "    return round(normalized (text_type) * 1000, 2)"
   ]
  },
  {
   "cell_type": "code",
   "execution_count": 321,
   "metadata": {},
   "outputs": [],
   "source": [
    "classical_func_result=[]\n",
    "for file in tagged_files: \n",
    "    classical_func_result.append(classical_func(file))\n",
    "    \n",
    "df['classical_functional_words'] = pd.Series(classical_func_result)\n",
    "df.to_csv('/users/nannanliu/Research/MD/stats/individual/general_fiction.csv')"
   ]
  },
  {
   "cell_type": "code",
   "execution_count": 322,
   "metadata": {},
   "outputs": [],
   "source": [
    "#for file in tagged_files: \n",
    "    #print (classical_func(file))"
   ]
  },
  {
   "cell_type": "code",
   "execution_count": 323,
   "metadata": {},
   "outputs": [],
   "source": [
    "#feature 50 lexical density \n",
    "#(noun+verb+adjective+numeral) / total\n",
    "def lexical_density(text): \n",
    "    verbs= {k:v for k,v in text.items() if re.match('.*verb', v)}\n",
    "    nouns= {k:v for k,v in text.items() if re.match('.*noun', v)}\n",
    "    adjectives= {k:v for k,v in text.items() if re.match('.*adjective', v)}\n",
    "    numerals= {k:v for k,v in text.items() if re.match('.*numeral', v)}\n",
    "    adverbs={k:v for k,v in text.items() if re.match('.*adverb', v)}\n",
    "    pronouns={k:v for k,v in text.items() if re.match('.*pronoun', v)}\n",
    "    return round(((len(verbs)+len(nouns)+len(adjectives)+len(numerals)-len(adverbs)-len(pronouns)) / len(text))*1000, 2)"
   ]
  },
  {
   "cell_type": "code",
   "execution_count": 324,
   "metadata": {},
   "outputs": [],
   "source": [
    "lexical_density_result=[]\n",
    "for d in d_list: \n",
    "    lexical_density_result.append(lexical_density(d))\n",
    "    \n",
    "df['lexical_density'] = pd.Series(lexical_density_result)\n",
    "df.to_csv('/users/nannanliu/Research/MD/stats/individual/general_fiction.csv')"
   ]
  },
  {
   "cell_type": "code",
   "execution_count": 325,
   "metadata": {},
   "outputs": [],
   "source": [
    "#for d in d_list: \n",
    "    #print (lexical_density(d))"
   ]
  },
  {
   "cell_type": "code",
   "execution_count": 326,
   "metadata": {},
   "outputs": [],
   "source": [
    "#feature 44 performative verbs, called ``performantive verb'' in ICTCLAS\n",
    "#进行、加以、予以\n",
    "def performative_verb(text_type):\n",
    "    def raw(text_type):\n",
    "        return str(text_type).count('performative verb')\n",
    "    def normalized(text_type): \n",
    "        return raw(text_type) / len(text_type)\n",
    "    return round(normalized (text_type) * 1000, 2)"
   ]
  },
  {
   "cell_type": "code",
   "execution_count": 327,
   "metadata": {},
   "outputs": [],
   "source": [
    "performative_verb_result=[]\n",
    "for file in tagged_files: \n",
    "    performative_verb_result.append(performative_verb(file))\n",
    "    \n",
    "df['performative_verb'] = pd.Series(performative_verb_result)\n",
    "df.to_csv('/users/nannanliu/Research/MD/stats/individual/general_fiction.csv')"
   ]
  },
  {
   "cell_type": "code",
   "execution_count": 328,
   "metadata": {},
   "outputs": [],
   "source": [
    "#for file in tagged_files: \n",
    "    #print (performative_verb(file))"
   ]
  },
  {
   "cell_type": "code",
   "execution_count": 329,
   "metadata": {},
   "outputs": [],
   "source": [
    "#feature 59 intransitive verbs\n",
    "def vi(text_type):\n",
    "    def raw(text_type):\n",
    "        return str(text_type).count('intransitive verb')\n",
    "    def normalized(text_type): \n",
    "        return raw(text_type) / len(text_type)\n",
    "    return round(normalized (text_type) * 1000, 2)"
   ]
  },
  {
   "cell_type": "code",
   "execution_count": 330,
   "metadata": {},
   "outputs": [],
   "source": [
    "vi_result=[]\n",
    "for file in tagged_files: \n",
    "    vi_result.append(vi(file))\n",
    "\n",
    "df['intransitive'] = pd.Series(vi_result)\n",
    "df.to_csv('/users/nannanliu/Research/MD/stats/individual/general_fiction.csv')"
   ]
  },
  {
   "cell_type": "code",
   "execution_count": 331,
   "metadata": {},
   "outputs": [],
   "source": [
    "#for file in tagged_files: \n",
    "    #print (vi(file))"
   ]
  },
  {
   "cell_type": "code",
   "execution_count": 332,
   "metadata": {},
   "outputs": [],
   "source": [
    "#feature 60 auxiliary verbs\n",
    "#def aux_verb(text_type):\n",
    "    #def raw(text_type):\n",
    "        #return str(text_type).count('auxiliary verb')\n",
    "    #def normalized(text_type): \n",
    "        #return raw(text_type) / len(text_type)\n",
    "    #return round(normalized (text_type) * 1000, 2)"
   ]
  },
  {
   "cell_type": "code",
   "execution_count": 333,
   "metadata": {},
   "outputs": [],
   "source": [
    "#aux_verb_result=[]\n",
    "#for file in tagged_files: \n",
    "    #aux_verb_result.append(aux_verb(file))\n",
    "\n",
    "#df['aux_verb'] = pd.Series(aux_verb_result)\n",
    "#df.to_csv('/users/nannanliu/Research/MD/stats/individual/general_fiction.csv')"
   ]
  },
  {
   "cell_type": "code",
   "execution_count": 334,
   "metadata": {},
   "outputs": [],
   "source": [
    "#for file in tagged_files: \n",
    "    #print (aux_verb(file))\n",
    "#del df['aux_verb']"
   ]
  },
  {
   "cell_type": "code",
   "execution_count": 335,
   "metadata": {},
   "outputs": [],
   "source": [
    "#feature 61 auxiliary adjectives\n",
    "def aux_adj(text_type):\n",
    "    def raw(text_type):\n",
    "        return str(text_type).count('auxiliary adjective')\n",
    "    def normalized(text_type): \n",
    "        return raw(text_type) / len(text_type)\n",
    "    return round(normalized (text_type) * 1000, 2)"
   ]
  },
  {
   "cell_type": "code",
   "execution_count": 336,
   "metadata": {},
   "outputs": [],
   "source": [
    "aux_adj_result=[]\n",
    "for file in tagged_files: \n",
    "    aux_adj_result.append(aux_adj(file))\n",
    "\n",
    "df['aux_adj'] = pd.Series(aux_adj_result)\n",
    "df.to_csv('/users/nannanliu/Research/MD/stats/individual/general_fiction.csv')"
   ]
  },
  {
   "cell_type": "code",
   "execution_count": 337,
   "metadata": {},
   "outputs": [],
   "source": [
    "#for file in tagged_files: \n",
    "   # print (aux_adj(file))"
   ]
  },
  {
   "cell_type": "code",
   "execution_count": 338,
   "metadata": {},
   "outputs": [],
   "source": [
    "#feature 45 attributive adjectives \n",
    "#ICTCLAS distinguishing word\n",
    "def aa(text_type):\n",
    "    def raw(text_type):\n",
    "        return str(text_type).count('distinguishing word')\n",
    "    def normalized(text_type):                                                                                     \n",
    "        return raw(text_type) / len(text_type)\n",
    "    return round(normalized (text_type) * 1000, 2) "
   ]
  },
  {
   "cell_type": "code",
   "execution_count": 339,
   "metadata": {},
   "outputs": [],
   "source": [
    "aa_result=[]\n",
    "for file in tagged_files: \n",
    "    aa_result.append(aa(file))\n",
    "    \n",
    "df['attributive_adjective'] = pd.Series(aa_result)\n",
    "df.to_csv('/users/nannanliu/Research/MD/stats/individual/general_fiction.csv')"
   ]
  },
  {
   "cell_type": "code",
   "execution_count": 340,
   "metadata": {},
   "outputs": [],
   "source": [
    "#for file in tagged_files: \n",
    "    #print (aa(file))"
   ]
  },
  {
   "cell_type": "code",
   "execution_count": 341,
   "metadata": {},
   "outputs": [],
   "source": [
    "#feature 48 classifier 量词\n",
    "def classifier(text_type):\n",
    "    def raw(text_type): \n",
    "        return str(text_type).count('classifier')\n",
    "    def normalized(text_type): \n",
    "        return raw(text_type) / len(text_type)\n",
    "    return round(normalized (text_type) * 1000, 2)"
   ]
  },
  {
   "cell_type": "code",
   "execution_count": 342,
   "metadata": {},
   "outputs": [],
   "source": [
    "classifier_result=[]\n",
    "for file in tagged_files: \n",
    "    classifier_result.append(classifier(file))\n",
    "    \n",
    "df['classifier'] = pd.Series(classifier_result)\n",
    "df.to_csv('/users/nannanliu/Research/MD/stats/individual/general_fiction.csv')"
   ]
  },
  {
   "cell_type": "code",
   "execution_count": 343,
   "metadata": {},
   "outputs": [],
   "source": [
    "#for file in tagged_files: \n",
    "    #print (classifier(file))"
   ]
  },
  {
   "cell_type": "code",
   "execution_count": 344,
   "metadata": {},
   "outputs": [],
   "source": [
    "#feature 64 modal particles and interjections \n",
    "def particle(text_type):\n",
    "    def raw(text_type): \n",
    "        return str(text_type).count('modal particle')+str(text_type).count('interjection')\n",
    "    def normalized(text_type): \n",
    "        return raw(text_type) / len(text_type)\n",
    "    return round(normalized (text_type) * 1000, 2)"
   ]
  },
  {
   "cell_type": "code",
   "execution_count": 345,
   "metadata": {},
   "outputs": [],
   "source": [
    "particle_result=[]\n",
    "for file in tagged_files: \n",
    "    particle_result.append(particle(file))\n",
    "\n",
    "#df = pd.read_csv(\"/users/nannanliu/Research/MD/stats/individual/general_fiction.csv\", header=0)\n",
    "#del df['particles']\n",
    "df['particle'] = pd.Series(particle_result)\n",
    "df.to_csv('/users/nannanliu/Research/MD/stats/individual/general_fiction.csv')"
   ]
  },
  {
   "cell_type": "code",
   "execution_count": 346,
   "metadata": {},
   "outputs": [],
   "source": [
    "#for file in tagged_files: \n",
    "    #print (particle(file))"
   ]
  },
  {
   "cell_type": "code",
   "execution_count": 347,
   "metadata": {},
   "outputs": [],
   "source": [
    "#feature 49 modifying markers 的、地、得\n",
    "def modify_marker_di(text_type):\n",
    "    def raw(text_type):\n",
    "        return text_type.count(('地', 'particle 地'))\n",
    "    def normalized(text_type): \n",
    "        return raw(text_type) / len(text_type)\n",
    "    return round(normalized (text_type) * 1000, 2)    "
   ]
  },
  {
   "cell_type": "code",
   "execution_count": 348,
   "metadata": {},
   "outputs": [],
   "source": [
    "modify_marker_di_result=[]\n",
    "for file in tagged_files: \n",
    "    modify_marker_di_result.append(modify_marker_di(file))\n",
    "\n",
    "#del df['modifying_markers']\n",
    "df['modify_marker_di'] = pd.Series(modify_marker_di_result)\n",
    "df.to_csv('/users/nannanliu/Research/MD/stats/individual/general_fiction.csv')"
   ]
  },
  {
   "cell_type": "code",
   "execution_count": 349,
   "metadata": {},
   "outputs": [],
   "source": [
    "#for file in tagged_files: \n",
    "    #print (modify_marker_di(file))"
   ]
  },
  {
   "cell_type": "code",
   "execution_count": 350,
   "metadata": {},
   "outputs": [],
   "source": [
    "#feature 50 modifying marker '的', 'particle 的/底'\n",
    "def modify_marker_dedi(text_type):\n",
    "    def raw(text_type):\n",
    "        return text_type.count(('的', 'particle 的/底'))\n",
    "    def normalized(text_type): \n",
    "        return raw(text_type) / len(text_type)\n",
    "    return round(normalized (text_type) * 1000, 2)    "
   ]
  },
  {
   "cell_type": "code",
   "execution_count": 351,
   "metadata": {},
   "outputs": [],
   "source": [
    "modify_marker_dedi_result=[]\n",
    "for file in tagged_files: \n",
    "    modify_marker_dedi_result.append(modify_marker_dedi(file))\n",
    "\n",
    "df['modify_marker_dedi'] = pd.Series(modify_marker_dedi_result)\n",
    "df.to_csv('/users/nannanliu/Research/MD/stats/individual/general_fiction.csv')"
   ]
  },
  {
   "cell_type": "code",
   "execution_count": 352,
   "metadata": {},
   "outputs": [],
   "source": [
    "#for file in tagged_files: \n",
    "    #print (modify_marker_dedi(file))"
   ]
  },
  {
   "cell_type": "code",
   "execution_count": 353,
   "metadata": {},
   "outputs": [],
   "source": [
    "#feature 51 modifying marker '得', 'particle 得'\n",
    "def modify_marker_de(text_type):\n",
    "    def raw(text_type):\n",
    "        return text_type.count(('得', 'particle 得'))\n",
    "    def normalized(text_type): \n",
    "        return raw(text_type) / len(text_type)\n",
    "    return round(normalized (text_type) * 1000, 2)    "
   ]
  },
  {
   "cell_type": "code",
   "execution_count": 354,
   "metadata": {},
   "outputs": [],
   "source": [
    "modify_marker_de_result=[]\n",
    "for file in tagged_files: \n",
    "    modify_marker_de_result.append(modify_marker_de(file))\n",
    "\n",
    "df['modify_marker_de'] = pd.Series(modify_marker_de_result)\n",
    "df.to_csv('/users/nannanliu/Research/MD/stats/individual/general_fiction.csv')"
   ]
  },
  {
   "cell_type": "code",
   "execution_count": 355,
   "metadata": {},
   "outputs": [],
   "source": [
    "#for file in tagged_files: \n",
    "    #print (modify_marker_de(file))"
   ]
  },
  {
   "cell_type": "code",
   "execution_count": 356,
   "metadata": {},
   "outputs": [],
   "source": [
    "#feature 53 disposal markers 把\n",
    "def disposal_marker_ba(text_type):\n",
    "    def raw(text_type):\n",
    "        return text_type.count(('把', 'preposition 把'))\n",
    "    def normalized(text_type): \n",
    "        return raw(text_type) / len(text_type)\n",
    "    return round(normalized (text_type) * 1000, 2)    "
   ]
  },
  {
   "cell_type": "code",
   "execution_count": 357,
   "metadata": {},
   "outputs": [],
   "source": [
    "disposal_marker_ba_result=[]\n",
    "for file in tagged_files: \n",
    "    disposal_marker_ba_result.append(disposal_marker_ba(file))\n",
    "    \n",
    "df['disposal_marker_ba'] = pd.Series(disposal_marker_ba_result)\n",
    "#del df['disposal_marker']\n",
    "df.to_csv('/users/nannanliu/Research/MD/stats/individual/general_fiction.csv')"
   ]
  },
  {
   "cell_type": "code",
   "execution_count": 358,
   "metadata": {},
   "outputs": [],
   "source": [
    "#for file in tagged_files: \n",
    "    #print (disposal_marker_ba(file))"
   ]
  },
  {
   "cell_type": "code",
   "execution_count": 359,
   "metadata": {},
   "outputs": [],
   "source": [
    "#feature 53 disposal markers 将\n",
    "#'将', 'adverb' is will/would\n",
    "def disposal_marker_jiang(text_type):\n",
    "    def raw(text_type):\n",
    "        return text_type.count(('将', 'preposition'))\n",
    "    def normalized(text_type): \n",
    "        return raw(text_type) / len(text_type)\n",
    "    return round(normalized (text_type) * 1000, 2)    "
   ]
  },
  {
   "cell_type": "code",
   "execution_count": 360,
   "metadata": {},
   "outputs": [],
   "source": [
    "disposal_marker_jiang_result=[]\n",
    "for file in tagged_files: \n",
    "    disposal_marker_jiang_result.append(disposal_marker_jiang(file))\n",
    "    \n",
    "df['disposal_marker_jiang'] = pd.Series(disposal_marker_jiang_result)\n",
    "df.to_csv('/users/nannanliu/Research/MD/stats/individual/general_fiction.csv')"
   ]
  },
  {
   "cell_type": "code",
   "execution_count": 361,
   "metadata": {},
   "outputs": [],
   "source": [
    "#for file in tagged_files: \n",
    "    #print (disposal_marker_jiang(file))"
   ]
  },
  {
   "cell_type": "code",
   "execution_count": 362,
   "metadata": {},
   "outputs": [],
   "source": [
    "#feature 51 PEAS perfect aspect \n",
    "#('了', 'particle 了/喽')、('过', 'particle 过')\n",
    "def peas(text_type):\n",
    "    def raw(text_type):\n",
    "        return text_type.count(('了', 'particle 了/喽'))+text_type.count(('过', 'particle 过'))\n",
    "    def normalized(text_type): \n",
    "        return raw(text_type) / len(text_type)\n",
    "    return round(normalized (text_type) * 1000, 2)    "
   ]
  },
  {
   "cell_type": "code",
   "execution_count": 363,
   "metadata": {},
   "outputs": [],
   "source": [
    "peas_result=[]\n",
    "for file in tagged_files: \n",
    "    peas_result.append(peas(file))\n",
    "    \n",
    "df['PEAS'] = pd.Series(peas_result)\n",
    "df.to_csv('/users/nannanliu/Research/MD/stats/individual/general_fiction.csv')"
   ]
  },
  {
   "cell_type": "code",
   "execution_count": 364,
   "metadata": {},
   "outputs": [],
   "source": [
    "#for file in tagged_files: \n",
    "    #print (peas(file))"
   ]
  },
  {
   "cell_type": "code",
   "execution_count": 365,
   "metadata": {},
   "outputs": [],
   "source": [
    "#feature 52 imperfect aspect \n",
    "#('着', 'particle 着')\n",
    "#('在', 'preposition')、('正在', 'adverb')\n",
    "#('起来', 'directional verb')、('下去', 'directional verb')\n",
    "def imperfect(text_type):\n",
    "    def raw(text_type):\n",
    "        return text_type.count(('着', 'particle 着'))+text_type.count(('在', 'preposition'))\\\n",
    "    +text_type.count(('正在', 'adverb'))+text_type.count(('起来', 'directional verb'))+text_type.count(('下去', 'directional verb'))\n",
    "    def normalized(text_type):                                                                                \n",
    "        return raw(text_type) / len(text_type)\n",
    "    return round(normalized (text_type) * 1000, 2) "
   ]
  },
  {
   "cell_type": "code",
   "execution_count": 366,
   "metadata": {},
   "outputs": [],
   "source": [
    "imperfect_result=[]\n",
    "for file in tagged_files: \n",
    "    imperfect_result.append(imperfect(file))\n",
    "    \n",
    "df['imperfect_aspect'] = pd.Series(imperfect_result)\n",
    "df.to_csv('/users/nannanliu/Research/MD/stats/individual/general_fiction.csv')"
   ]
  },
  {
   "cell_type": "code",
   "execution_count": 367,
   "metadata": {},
   "outputs": [],
   "source": [
    "#for file in tagged_files: \n",
    "    #print (imperfect(file))"
   ]
  },
  {
   "cell_type": "code",
   "execution_count": 368,
   "metadata": {},
   "outputs": [],
   "source": [
    "#feature 72 experiential_marker ('过', 'particle 过')\n",
    "def experiential(text_type):\n",
    "    def raw(text_type):\n",
    "        return text_type.count(('过', 'particle 过'))\n",
    "    def normalized(text_type): \n",
    "        return raw(text_type) / len(text_type)\n",
    "    return round(normalized (text_type) * 1000, 2)    "
   ]
  },
  {
   "cell_type": "code",
   "execution_count": 369,
   "metadata": {},
   "outputs": [],
   "source": [
    "experiential_result=[]\n",
    "for file in tagged_files: \n",
    "    experiential_result.append(experiential(file))\n",
    "    \n",
    "df['experiential'] = pd.Series(experiential_result)\n",
    "df.to_csv('/users/nannanliu/Research/MD/stats/individual/general_fiction.csv')"
   ]
  },
  {
   "cell_type": "code",
   "execution_count": 370,
   "metadata": {},
   "outputs": [],
   "source": [
    "#for file in tagged_files: \n",
    "    #print (experiential(file))"
   ]
  },
  {
   "cell_type": "code",
   "execution_count": 371,
   "metadata": {},
   "outputs": [],
   "source": [
    "#feature 53\n",
    "#onomatopoeia\n",
    "def ono(text_type):\n",
    "    def raw(text_type):\n",
    "        return str(text_type).count('onomatopoeia')\n",
    "    def normalized(text_type): \n",
    "        return raw(text_type) / len(text_type)\n",
    "    return round(normalized (text_type) * 1000, 2)"
   ]
  },
  {
   "cell_type": "code",
   "execution_count": 372,
   "metadata": {},
   "outputs": [],
   "source": [
    "ono_result=[]\n",
    "for file in tagged_files: \n",
    "    ono_result.append(ono(file))\n",
    "    \n",
    "df['onomatopoeia'] = pd.Series(ono_result)\n",
    "df.to_csv('/users/nannanliu/Research/MD/stats/individual/general_fiction.csv')"
   ]
  },
  {
   "cell_type": "code",
   "execution_count": 373,
   "metadata": {},
   "outputs": [],
   "source": [
    "#for file in tagged_files: \n",
    "   # print (ono(file))"
   ]
  },
  {
   "cell_type": "code",
   "execution_count": 374,
   "metadata": {},
   "outputs": [],
   "source": [
    "#feature 54 descriptive words \n",
    "#ICTCLAS status word\n",
    "def descriptive(text_type):\n",
    "    def raw(text_type):\n",
    "        return str(text_type).count('status word')\n",
    "    def normalized(text_type):                                                                                     \n",
    "        return raw(text_type) / len(text_type)\n",
    "    return round(normalized (text_type) * 1000, 2) "
   ]
  },
  {
   "cell_type": "code",
   "execution_count": 375,
   "metadata": {},
   "outputs": [],
   "source": [
    "descriptive_result=[]\n",
    "for file in tagged_files: \n",
    "    descriptive_result.append(descriptive(file))\n",
    "    \n",
    "df['descriptive'] = pd.Series(descriptive_result)\n",
    "df.to_csv('/users/nannanliu/Research/MD/stats/individual/general_fiction.csv')"
   ]
  },
  {
   "cell_type": "code",
   "execution_count": 376,
   "metadata": {},
   "outputs": [],
   "source": [
    "#for file in tagged_files: \n",
    "    #print (descriptive(file))"
   ]
  },
  {
   "cell_type": "code",
   "execution_count": 377,
   "metadata": {},
   "outputs": [],
   "source": [
    "#feature 55 similie\n",
    "def similie(text_type):\n",
    "    def raw(text_type):\n",
    "        return text_type.count(('仿佛', 'adverb'))+text_type.count(('宛若', 'verb'))\\\n",
    "    +text_type.count(('如', 'verb'))+str(text_type).count(('particle 一样/一般/似的/般'))\\\n",
    "    +text_type.count(('像', 'verb'))+text_type.count(('像', 'preposition'))\n",
    "    def normalized(text_type): \n",
    "        return raw(text_type) / len(text_type)\n",
    "    return round(normalized (text_type) * 1000, 2)"
   ]
  },
  {
   "cell_type": "code",
   "execution_count": 378,
   "metadata": {},
   "outputs": [],
   "source": [
    "similie_result=[]\n",
    "for file in tagged_files: \n",
    "    similie_result.append(similie(file))\n",
    "    \n",
    "df['similie'] = pd.Series(similie_result)\n",
    "df.to_csv('/users/nannanliu/Research/MD/stats/individual/general_fiction.csv')"
   ]
  },
  {
   "cell_type": "code",
   "execution_count": 379,
   "metadata": {},
   "outputs": [],
   "source": [
    "#for file in tagged_files: \n",
    "    #print (similie(file))"
   ]
  },
  {
   "cell_type": "code",
   "execution_count": 380,
   "metadata": {},
   "outputs": [],
   "source": [
    "#feature 78 idioms\n",
    "#def phrase(text_type):\n",
    "   # def raw(text_type):\n",
    "        #return str(text_type).count('phrase')\n",
    "    #def normalized(text_type): \n",
    "        #return raw(text_type) / len(text_type)\n",
    "    #return round(normalized (text_type) * 1000, 2)"
   ]
  },
  {
   "cell_type": "code",
   "execution_count": 381,
   "metadata": {},
   "outputs": [],
   "source": [
    "#phrase_result=[]\n",
    "#for file in tagged_files: \n",
    "    #phrase_result.append(phrase(file))\n",
    "\n",
    "#del df['idioms']\n",
    "#df['phrase'] = pd.Series(phrase_result)\n",
    "#df.to_csv('/users/nannanliu/Research/MD/stats/individual/general_fiction.csv')"
   ]
  },
  {
   "cell_type": "code",
   "execution_count": 382,
   "metadata": {},
   "outputs": [],
   "source": [
    "#for file in tagged_files: \n",
    "    #print (phrase(file))\n",
    "#del df['phrase']"
   ]
  },
  {
   "cell_type": "code",
   "execution_count": 383,
   "metadata": {},
   "outputs": [],
   "source": [
    "#feature 85 numerals\n",
    "#def numeral(text_type):\n",
    "    #def raw(text_type):\n",
    "        #return str(text_type).count('numeral')\n",
    "    #def normalized(text_type): \n",
    "       # return raw(text_type) / len(text_type)\n",
    "    #return round(normalized (text_type) * 1000, 2)"
   ]
  },
  {
   "cell_type": "code",
   "execution_count": 384,
   "metadata": {},
   "outputs": [],
   "source": [
    "#numeral_result=[]\n",
    "#for file in tagged_files: \n",
    "    #numeral_result.append(numeral(file))\n",
    "    \n",
    "#df['numeral'] = pd.Series(numeral_result)\n",
    "#df.to_csv('/users/nannanliu/Research/MD/stats/individual/general_fiction.csv')"
   ]
  },
  {
   "cell_type": "code",
   "execution_count": 385,
   "metadata": {},
   "outputs": [],
   "source": [
    "#for file in tagged_files: \n",
    "    #print (numeral(file))\n",
    "#del df['numeral']"
   ]
  },
  {
   "cell_type": "code",
   "execution_count": 386,
   "metadata": {},
   "outputs": [],
   "source": [
    "#feature 86 question mark\n",
    "def question(text_type):\n",
    "    def raw(text_type):\n",
    "        return text_type.count(('？', 'question mark'))\n",
    "    def normalized(text_type): \n",
    "        return raw(text_type) / len(text_type)\n",
    "    return round(normalized (text_type) * 1000, 2)"
   ]
  },
  {
   "cell_type": "code",
   "execution_count": 387,
   "metadata": {},
   "outputs": [],
   "source": [
    "question_result=[]\n",
    "for file in tagged_files: \n",
    "    question_result.append(question(file))\n",
    "    \n",
    "df['question'] = pd.Series(question_result)\n",
    "df.to_csv('/users/nannanliu/Research/MD/stats/individual/general_fiction.csv')"
   ]
  },
  {
   "cell_type": "code",
   "execution_count": 388,
   "metadata": {},
   "outputs": [],
   "source": [
    "#for file in tagged_files: \n",
    "   # print (question(file))"
   ]
  },
  {
   "cell_type": "code",
   "execution_count": 389,
   "metadata": {},
   "outputs": [],
   "source": [
    "#feature 87 exclamation mark\n",
    "def exclamation(text_type):\n",
    "    def raw(text_type):\n",
    "        return str(text_type).count('exclamation mark')\n",
    "    def normalized(text_type): \n",
    "        return raw(text_type) / len(text_type)\n",
    "    return round(normalized (text_type) * 1000, 2)"
   ]
  },
  {
   "cell_type": "code",
   "execution_count": 390,
   "metadata": {},
   "outputs": [],
   "source": [
    "exclamation_result=[]\n",
    "for file in tagged_files: \n",
    "    exclamation_result.append(exclamation(file))\n",
    "    \n",
    "df['exclamation'] = pd.Series(exclamation_result)\n",
    "df.to_csv('/users/nannanliu/Research/MD/stats/individual/general_fiction.csv')"
   ]
  },
  {
   "cell_type": "code",
   "execution_count": 391,
   "metadata": {},
   "outputs": [],
   "source": [
    "#for file in tagged_files: \n",
    "    #print (exclamation(file))"
   ]
  },
  {
   "cell_type": "code",
   "execution_count": 392,
   "metadata": {},
   "outputs": [],
   "source": [
    "#feature 88 quotation mark\n",
    "def quote(text_type):\n",
    "    def raw(text_type):\n",
    "        return str(text_type).count('quotation mark') / 2\n",
    "    def normalized(text_type): \n",
    "        return raw(text_type) / len(text_type)\n",
    "    return round(normalized (text_type) * 1000, 2)"
   ]
  },
  {
   "cell_type": "code",
   "execution_count": 393,
   "metadata": {},
   "outputs": [],
   "source": [
    "quote_result=[]\n",
    "for file in tagged_files: \n",
    "    quote_result.append(quote(file))\n",
    "    \n",
    "df['quote'] = pd.Series(quote_result)\n",
    "df.to_csv('/users/nannanliu/Research/MD/stats/individual/general_fiction.csv')"
   ]
  },
  {
   "cell_type": "code",
   "execution_count": 394,
   "metadata": {},
   "outputs": [],
   "source": [
    "#for file in tagged_files: \n",
    "    #print (quote(file))"
   ]
  },
  {
   "cell_type": "code",
   "execution_count": 395,
   "metadata": {},
   "outputs": [],
   "source": [
    "#feature 89 dash\n",
    "def dash(text_type):\n",
    "    def raw(text_type):\n",
    "        return str(text_type).count('dash') \n",
    "    def normalized(text_type): \n",
    "        return raw(text_type) / len(text_type)\n",
    "    return round(normalized (text_type) * 1000, 2)"
   ]
  },
  {
   "cell_type": "code",
   "execution_count": 396,
   "metadata": {},
   "outputs": [],
   "source": [
    "dash_result=[]\n",
    "for file in tagged_files: \n",
    "    dash_result.append(dash(file))\n",
    "    \n",
    "df['dash'] = pd.Series(dash_result)\n",
    "df.to_csv('/users/nannanliu/Research/MD/stats/individual/general_fiction.csv')"
   ]
  },
  {
   "cell_type": "code",
   "execution_count": 397,
   "metadata": {},
   "outputs": [],
   "source": [
    "#for file in tagged_files: \n",
    "    #print (dash(file))"
   ]
  },
  {
   "cell_type": "code",
   "execution_count": 398,
   "metadata": {},
   "outputs": [],
   "source": [
    "#feature 90 book parenthesis\n",
    "def book(text_type):\n",
    "    def raw(text_type):\n",
    "        return text_type.count(('《', 'left parenthesis/bracket')) \n",
    "    def normalized(text_type): \n",
    "        return raw(text_type) / len(text_type)\n",
    "    return round(normalized (text_type) * 1000, 2)"
   ]
  },
  {
   "cell_type": "code",
   "execution_count": 399,
   "metadata": {},
   "outputs": [],
   "source": [
    "book_result=[]\n",
    "for file in tagged_files: \n",
    "    book_result.append(book(file))\n",
    "    \n",
    "df['book'] = pd.Series(book_result)\n",
    "df.to_csv('/users/nannanliu/Research/MD/stats/individual/general_fiction.csv')"
   ]
  },
  {
   "cell_type": "code",
   "execution_count": 400,
   "metadata": {},
   "outputs": [],
   "source": [
    "#for file in tagged_files: \n",
    "    #print (book(file))"
   ]
  },
  {
   "cell_type": "code",
   "execution_count": 401,
   "metadata": {},
   "outputs": [],
   "source": [
    "#feature 92 transcribed names, including toponym and personal name\n",
    "#def transcribed(text_type):\n",
    "    #def raw(text_type):\n",
    "        #return str(text_type).count('transcribed') \n",
    "    #def normalized(text_type): \n",
    "        #return raw(text_type) / len(text_type)\n",
    "    #return round(normalized (text_type) * 1000, 2)"
   ]
  },
  {
   "cell_type": "code",
   "execution_count": 402,
   "metadata": {},
   "outputs": [],
   "source": [
    "#transcribed_result=[]\n",
    "#for file in tagged_files: \n",
    "    #transcribed_result.append(transcribed(file))\n",
    "    \n",
    "#df['transcribed'] = pd.Series(transcribed_result)\n",
    "#df.to_csv('/users/nannanliu/Research/MD/stats/individual/general_fiction.csv')"
   ]
  },
  {
   "cell_type": "code",
   "execution_count": 403,
   "metadata": {},
   "outputs": [],
   "source": [
    "#for file in tagged_files: \n",
    "    #print (transcribed(file))\n",
    "#del df['transcribed']"
   ]
  },
  {
   "cell_type": "code",
   "execution_count": 404,
   "metadata": {},
   "outputs": [],
   "source": [
    "#feature 93 person names, personal name - transcribed personal names\n",
    "def person(text_type):\n",
    "    def raw(text_type):\n",
    "        return str(text_type).count('personal name')+str(text_type).count('Chinese')- str(text_type).count('transcribed personal name')\n",
    "    def normalized(text_type): \n",
    "        return raw(text_type) / len(text_type)\n",
    "    return round(normalized (text_type) * 1000, 2)"
   ]
  },
  {
   "cell_type": "code",
   "execution_count": 405,
   "metadata": {},
   "outputs": [],
   "source": [
    "person_result=[]\n",
    "for file in tagged_files: \n",
    "    person_result.append(person(file))\n",
    "    \n",
    "df['person'] = pd.Series(person_result)\n",
    "df.to_csv('/users/nannanliu/Research/MD/stats/individual/general_fiction.csv')"
   ]
  },
  {
   "cell_type": "code",
   "execution_count": 406,
   "metadata": {},
   "outputs": [],
   "source": [
    "#for file in tagged_files: \n",
    "    #print (person(file))"
   ]
  },
  {
   "cell_type": "code",
   "execution_count": 407,
   "metadata": {},
   "outputs": [],
   "source": [
    "#feature 46 noun + noun combination\n",
    "#need to plus one for the final result because \n",
    "#\"if atag pattern matches at overlapping locations, the leftmost match takes precedence\"\n",
    "#Bird et al.\n",
    "import nltk\n",
    "import re \n",
    "grammar_noun=r\"NN: {<noun.*><noun.*>}\"\n",
    "cp_noun=nltk.RegexpParser(grammar_noun) "
   ]
  },
  {
   "cell_type": "code",
   "execution_count": 408,
   "metadata": {},
   "outputs": [],
   "source": [
    "def nn(text): \n",
    "    def parse(text): \n",
    "        return cp_noun.parse(text)\n",
    "    nn_list=[]\n",
    "    for subtree in parse(text).subtrees():\n",
    "        if subtree.label() == 'NN': \n",
    "            nn_list.append(subtree.leaves())\n",
    "    return round ((len(nn_list)/len(text))*1000, 2)"
   ]
  },
  {
   "cell_type": "code",
   "execution_count": 409,
   "metadata": {},
   "outputs": [],
   "source": [
    "nn_result=[]\n",
    "for file in tagged_files: \n",
    "    nn_result.append(nn(file))\n",
    "#del df['nounnoun']   \n",
    "df['nn'] = pd.Series(nn_result)\n",
    "df.to_csv('/users/nannanliu/Research/MD/stats/individual/general_fiction.csv')"
   ]
  },
  {
   "cell_type": "code",
   "execution_count": 410,
   "metadata": {},
   "outputs": [],
   "source": [
    "#for file in tagged_files: \n",
    "    #print (nn(file))"
   ]
  },
  {
   "cell_type": "code",
   "execution_count": 411,
   "metadata": {},
   "outputs": [],
   "source": [
    "#consecutive verbs\n",
    "grammar_verb=r\"VV: {<verb.*><verb.*>}\"\n",
    "cp_verb=nltk.RegexpParser(grammar_verb)\n",
    "#feature 56 verb + verb combination\n",
    "def vv(text): \n",
    "    def parse(text): \n",
    "        return cp_verb.parse(text)\n",
    "    vv_list=[]\n",
    "    for subtree in parse(text).subtrees():\n",
    "        if subtree.label() == 'VV': \n",
    "            vv_list.append(subtree.leaves())\n",
    "    return round ((len(vv_list)/len(text))*1000, 2)"
   ]
  },
  {
   "cell_type": "code",
   "execution_count": 412,
   "metadata": {},
   "outputs": [],
   "source": [
    "vv_result=[]\n",
    "for file in tagged_files: \n",
    "    vv_result.append(vv(file))\n",
    "    \n",
    "df['verbverb'] = pd.Series(vv_result)\n",
    "df.to_csv('/users/nannanliu/Research/MD/stats/individual/general_fiction.csv')"
   ]
  },
  {
   "cell_type": "code",
   "execution_count": 413,
   "metadata": {},
   "outputs": [],
   "source": [
    "#for file in tagged_files: \n",
    "    #print (vv(file))"
   ]
  },
  {
   "cell_type": "code",
   "execution_count": 414,
   "metadata": {},
   "outputs": [],
   "source": [
    "#df.head(0)"
   ]
  },
  {
   "cell_type": "code",
   "execution_count": 415,
   "metadata": {},
   "outputs": [],
   "source": [
    "#del df['Unnamed: 0.1']"
   ]
  },
  {
   "cell_type": "code",
   "execution_count": 416,
   "metadata": {},
   "outputs": [],
   "source": [
    "#df.to_csv('/users/nannanliu/Research/MD/stats/individual/general_fiction.csv')"
   ]
  },
  {
   "cell_type": "code",
   "execution_count": 417,
   "metadata": {},
   "outputs": [],
   "source": [
    "#import pandas as pd  \n",
    "#df = pd.read_csv(\"/users/nannanliu/Research/MD/stats/individual/general_fiction.csv\", header=0)"
   ]
  },
  {
   "cell_type": "code",
   "execution_count": 418,
   "metadata": {},
   "outputs": [],
   "source": [
    "#df.drop(df.columns[0], axis=1)"
   ]
  },
  {
   "cell_type": "code",
   "execution_count": null,
   "metadata": {},
   "outputs": [],
   "source": []
  }
 ],
 "metadata": {
  "kernelspec": {
   "display_name": "Python 3",
   "language": "python",
   "name": "python3"
  },
  "language_info": {
   "codemirror_mode": {
    "name": "ipython",
    "version": 3
   },
   "file_extension": ".py",
   "mimetype": "text/x-python",
   "name": "python",
   "nbconvert_exporter": "python",
   "pygments_lexer": "ipython3",
   "version": "3.6.3"
  }
 },
 "nbformat": 4,
 "nbformat_minor": 2
}
